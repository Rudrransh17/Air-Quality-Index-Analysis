{
  "nbformat": 4,
  "nbformat_minor": 0,
  "metadata": {
    "colab": {
      "name": "air_quality_catboost.ipynb",
      "provenance": []
    },
    "kernelspec": {
      "name": "python3",
      "display_name": "Python 3"
    },
    "language_info": {
      "name": "python"
    },
    "widgets": {
      "application/vnd.jupyter.widget-state+json": {
        "3404163f1bb04035b2b54231943f0e50": {
          "model_module": "catboost-widget",
          "model_name": "CatboostWidgetModel",
          "model_module_version": "^1.0.0",
          "state": {
            "_dom_classes": [],
            "_model_module": "catboost-widget",
            "_model_module_version": "^1.0.0",
            "_model_name": "CatboostWidgetModel",
            "_view_count": null,
            "_view_module": "catboost-widget",
            "_view_module_version": "^1.0.0",
            "_view_name": "CatboostWidgetView",
            "data": {
              "catboost_info": {
                "path": "catboost_info",
                "name": "catboost_info",
                "content": {
                  "passed_iterations": 999,
                  "total_iterations": 1000,
                  "data": {
                    "iterations": [
                      {
                        "learn": [
                          113.4021298
                        ],
                        "iteration": 0,
                        "passed_time": 0.04865117476,
                        "remaining_time": 48.60252358,
                        "test": [
                          120.9296118
                        ]
                      },
                      {
                        "learn": [
                          109.1463971
                        ],
                        "iteration": 1,
                        "passed_time": 0.05107389822,
                        "remaining_time": 25.48587521,
                        "test": [
                          116.9337308
                        ]
                      },
                      {
                        "learn": [
                          105.0227322
                        ],
                        "iteration": 2,
                        "passed_time": 0.05272994788,
                        "remaining_time": 17.52391935,
                        "test": [
                          113.1887275
                        ]
                      },
                      {
                        "learn": [
                          101.1439936
                        ],
                        "iteration": 3,
                        "passed_time": 0.05438646845,
                        "remaining_time": 13.54223064,
                        "test": [
                          109.1777126
                        ]
                      },
                      {
                        "learn": [
                          97.48468199
                        ],
                        "iteration": 4,
                        "passed_time": 0.05579578448,
                        "remaining_time": 11.10336111,
                        "test": [
                          105.4318118
                        ]
                      },
                      {
                        "learn": [
                          94.13224176
                        ],
                        "iteration": 5,
                        "passed_time": 0.05729975328,
                        "remaining_time": 9.492659126,
                        "test": [
                          101.9436531
                        ]
                      },
                      {
                        "learn": [
                          90.94387618
                        ],
                        "iteration": 6,
                        "passed_time": 0.05888709993,
                        "remaining_time": 8.353555748,
                        "test": [
                          98.70483712
                        ]
                      },
                      {
                        "learn": [
                          87.94861198
                        ],
                        "iteration": 7,
                        "passed_time": 0.0606968659,
                        "remaining_time": 7.526411371,
                        "test": [
                          95.97848
                        ]
                      },
                      {
                        "learn": [
                          85.22778193
                        ],
                        "iteration": 8,
                        "passed_time": 0.06260220915,
                        "remaining_time": 6.893198808,
                        "test": [
                          93.20129599
                        ]
                      },
                      {
                        "learn": [
                          82.75408631
                        ],
                        "iteration": 9,
                        "passed_time": 0.0643714714,
                        "remaining_time": 6.372775669,
                        "test": [
                          90.4945444
                        ]
                      },
                      {
                        "learn": [
                          80.35381614
                        ],
                        "iteration": 10,
                        "passed_time": 0.06590667036,
                        "remaining_time": 5.925608817,
                        "test": [
                          88.10480573
                        ]
                      },
                      {
                        "learn": [
                          78.16454597
                        ],
                        "iteration": 11,
                        "passed_time": 0.06727987355,
                        "remaining_time": 5.539376256,
                        "test": [
                          86.39757392
                        ]
                      },
                      {
                        "learn": [
                          76.18631363
                        ],
                        "iteration": 12,
                        "passed_time": 0.06857796652,
                        "remaining_time": 5.206650228,
                        "test": [
                          84.32037914
                        ]
                      },
                      {
                        "learn": [
                          74.22452728
                        ],
                        "iteration": 13,
                        "passed_time": 0.07052840436,
                        "remaining_time": 4.967214764,
                        "test": [
                          82.59129175
                        ]
                      },
                      {
                        "learn": [
                          72.43050569
                        ],
                        "iteration": 14,
                        "passed_time": 0.07224109713,
                        "remaining_time": 4.743832045,
                        "test": [
                          80.70576417
                        ]
                      },
                      {
                        "learn": [
                          70.71082228
                        ],
                        "iteration": 15,
                        "passed_time": 0.07331258948,
                        "remaining_time": 4.508724253,
                        "test": [
                          79.23289158
                        ]
                      },
                      {
                        "learn": [
                          69.22536398
                        ],
                        "iteration": 16,
                        "passed_time": 0.0745113561,
                        "remaining_time": 4.308509591,
                        "test": [
                          77.91712237
                        ]
                      },
                      {
                        "learn": [
                          67.82444474
                        ],
                        "iteration": 17,
                        "passed_time": 0.07552923622,
                        "remaining_time": 4.120539443,
                        "test": [
                          76.7283441
                        ]
                      },
                      {
                        "learn": [
                          66.54784693
                        ],
                        "iteration": 18,
                        "passed_time": 0.0765675316,
                        "remaining_time": 3.953302553,
                        "test": [
                          75.56932476
                        ]
                      },
                      {
                        "learn": [
                          65.32996373
                        ],
                        "iteration": 19,
                        "passed_time": 0.07755348656,
                        "remaining_time": 3.800120841,
                        "test": [
                          74.52970152
                        ]
                      },
                      {
                        "learn": [
                          64.22359887
                        ],
                        "iteration": 20,
                        "passed_time": 0.07855990178,
                        "remaining_time": 3.662387802,
                        "test": [
                          73.60441197
                        ]
                      },
                      {
                        "learn": [
                          63.2475201
                        ],
                        "iteration": 21,
                        "passed_time": 0.07954615992,
                        "remaining_time": 3.536188382,
                        "test": [
                          72.81648995
                        ]
                      },
                      {
                        "learn": [
                          62.31663335
                        ],
                        "iteration": 22,
                        "passed_time": 0.08052993762,
                        "remaining_time": 3.420771698,
                        "test": [
                          72.01469838
                        ]
                      },
                      {
                        "learn": [
                          61.44928012
                        ],
                        "iteration": 23,
                        "passed_time": 0.08147277116,
                        "remaining_time": 3.313226027,
                        "test": [
                          71.27457967
                        ]
                      },
                      {
                        "learn": [
                          60.63947386
                        ],
                        "iteration": 24,
                        "passed_time": 0.0824851686,
                        "remaining_time": 3.216921575,
                        "test": [
                          70.5670529
                        ]
                      },
                      {
                        "learn": [
                          59.88277104
                        ],
                        "iteration": 25,
                        "passed_time": 0.08348976293,
                        "remaining_time": 3.127654965,
                        "test": [
                          69.96926009
                        ]
                      },
                      {
                        "learn": [
                          59.26713205
                        ],
                        "iteration": 26,
                        "passed_time": 0.08462086336,
                        "remaining_time": 3.049485187,
                        "test": [
                          69.47167336
                        ]
                      },
                      {
                        "learn": [
                          58.65129952
                        ],
                        "iteration": 27,
                        "passed_time": 0.08578639393,
                        "remaining_time": 2.978013389,
                        "test": [
                          68.94401662
                        ]
                      },
                      {
                        "learn": [
                          58.11120797
                        ],
                        "iteration": 28,
                        "passed_time": 0.08687265523,
                        "remaining_time": 2.908736146,
                        "test": [
                          68.49386505
                        ]
                      },
                      {
                        "learn": [
                          57.60665924
                        ],
                        "iteration": 29,
                        "passed_time": 0.08796721009,
                        "remaining_time": 2.844273126,
                        "test": [
                          68.00177132
                        ]
                      },
                      {
                        "learn": [
                          57.15544227
                        ],
                        "iteration": 30,
                        "passed_time": 0.08943721056,
                        "remaining_time": 2.795634098,
                        "test": [
                          67.61791913
                        ]
                      },
                      {
                        "learn": [
                          56.74103297
                        ],
                        "iteration": 31,
                        "passed_time": 0.09067177503,
                        "remaining_time": 2.742821195,
                        "test": [
                          67.30263037
                        ]
                      },
                      {
                        "learn": [
                          56.32127923
                        ],
                        "iteration": 32,
                        "passed_time": 0.09174536963,
                        "remaining_time": 2.688417346,
                        "test": [
                          66.95304876
                        ]
                      },
                      {
                        "learn": [
                          55.9424487
                        ],
                        "iteration": 33,
                        "passed_time": 0.09292538688,
                        "remaining_time": 2.640174227,
                        "test": [
                          66.64410182
                        ]
                      },
                      {
                        "learn": [
                          55.60517604
                        ],
                        "iteration": 34,
                        "passed_time": 0.09411702766,
                        "remaining_time": 2.594940906,
                        "test": [
                          66.38623145
                        ]
                      },
                      {
                        "learn": [
                          55.30781595
                        ],
                        "iteration": 35,
                        "passed_time": 0.09510948938,
                        "remaining_time": 2.546820771,
                        "test": [
                          66.02001509
                        ]
                      },
                      {
                        "learn": [
                          55.04557355
                        ],
                        "iteration": 36,
                        "passed_time": 0.09584419984,
                        "remaining_time": 2.49453958,
                        "test": [
                          65.79636403
                        ]
                      },
                      {
                        "learn": [
                          54.81230718
                        ],
                        "iteration": 37,
                        "passed_time": 0.09681670674,
                        "remaining_time": 2.450991365,
                        "test": [
                          65.49304029
                        ]
                      },
                      {
                        "learn": [
                          54.58265382
                        ],
                        "iteration": 38,
                        "passed_time": 0.09776418524,
                        "remaining_time": 2.409009795,
                        "test": [
                          65.35497862
                        ]
                      },
                      {
                        "learn": [
                          54.37877297
                        ],
                        "iteration": 39,
                        "passed_time": 0.09874211072,
                        "remaining_time": 2.369810657,
                        "test": [
                          65.08595032
                        ]
                      },
                      {
                        "learn": [
                          54.16698083
                        ],
                        "iteration": 40,
                        "passed_time": 0.09987721112,
                        "remaining_time": 2.336152328,
                        "test": [
                          64.92285547
                        ]
                      },
                      {
                        "learn": [
                          53.99036486
                        ],
                        "iteration": 41,
                        "passed_time": 0.1008325009,
                        "remaining_time": 2.29994133,
                        "test": [
                          64.8014843
                        ]
                      },
                      {
                        "learn": [
                          53.83056962
                        ],
                        "iteration": 42,
                        "passed_time": 0.1018037242,
                        "remaining_time": 2.265724745,
                        "test": [
                          64.66481307
                        ]
                      },
                      {
                        "learn": [
                          53.67588317
                        ],
                        "iteration": 43,
                        "passed_time": 0.1027237429,
                        "remaining_time": 2.231906778,
                        "test": [
                          64.5100343
                        ]
                      },
                      {
                        "learn": [
                          53.52578987
                        ],
                        "iteration": 44,
                        "passed_time": 0.1036545739,
                        "remaining_time": 2.199780401,
                        "test": [
                          64.40364282
                        ]
                      },
                      {
                        "learn": [
                          53.39457596
                        ],
                        "iteration": 45,
                        "passed_time": 0.1049235157,
                        "remaining_time": 2.176022478,
                        "test": [
                          64.26842725
                        ]
                      },
                      {
                        "learn": [
                          53.27317077
                        ],
                        "iteration": 46,
                        "passed_time": 0.1059249383,
                        "remaining_time": 2.147797153,
                        "test": [
                          64.18394437
                        ]
                      },
                      {
                        "learn": [
                          53.16903603
                        ],
                        "iteration": 47,
                        "passed_time": 0.1069039201,
                        "remaining_time": 2.120261082,
                        "test": [
                          64.10118914
                        ]
                      },
                      {
                        "learn": [
                          53.08621026
                        ],
                        "iteration": 48,
                        "passed_time": 0.1078626885,
                        "remaining_time": 2.093416669,
                        "test": [
                          64.06980691
                        ]
                      },
                      {
                        "learn": [
                          52.98632173
                        ],
                        "iteration": 49,
                        "passed_time": 0.1088849686,
                        "remaining_time": 2.068814403,
                        "test": [
                          64.01309983
                        ]
                      },
                      {
                        "learn": [
                          52.89230238
                        ],
                        "iteration": 50,
                        "passed_time": 0.1098308657,
                        "remaining_time": 2.043715521,
                        "test": [
                          63.96090351
                        ]
                      },
                      {
                        "learn": [
                          52.82047764
                        ],
                        "iteration": 51,
                        "passed_time": 0.1109645211,
                        "remaining_time": 2.022968578,
                        "test": [
                          63.92454602
                        ]
                      },
                      {
                        "learn": [
                          52.74915489
                        ],
                        "iteration": 52,
                        "passed_time": 0.1119624664,
                        "remaining_time": 2.0005369,
                        "test": [
                          63.84233805
                        ]
                      },
                      {
                        "learn": [
                          52.69200161
                        ],
                        "iteration": 53,
                        "passed_time": 0.1131613321,
                        "remaining_time": 1.982418893,
                        "test": [
                          63.79417974
                        ]
                      },
                      {
                        "learn": [
                          52.64190172
                        ],
                        "iteration": 54,
                        "passed_time": 0.1141222501,
                        "remaining_time": 1.960827751,
                        "test": [
                          63.75493932
                        ]
                      },
                      {
                        "learn": [
                          52.57014215
                        ],
                        "iteration": 55,
                        "passed_time": 0.1150909743,
                        "remaining_time": 1.940104995,
                        "test": [
                          63.72367216
                        ]
                      },
                      {
                        "learn": [
                          52.51588779
                        ],
                        "iteration": 56,
                        "passed_time": 0.1160361019,
                        "remaining_time": 1.919684984,
                        "test": [
                          63.71275822
                        ]
                      },
                      {
                        "learn": [
                          52.45354665
                        ],
                        "iteration": 57,
                        "passed_time": 0.1169947298,
                        "remaining_time": 1.900155784,
                        "test": [
                          63.6798411
                        ]
                      },
                      {
                        "learn": [
                          52.41785864
                        ],
                        "iteration": 58,
                        "passed_time": 0.1181885501,
                        "remaining_time": 1.885007215,
                        "test": [
                          63.63258314
                        ]
                      },
                      {
                        "learn": [
                          52.37782844
                        ],
                        "iteration": 59,
                        "passed_time": 0.119159657,
                        "remaining_time": 1.866834627,
                        "test": [
                          63.61248609
                        ]
                      },
                      {
                        "learn": [
                          52.3330217
                        ],
                        "iteration": 60,
                        "passed_time": 0.1201236749,
                        "remaining_time": 1.849116898,
                        "test": [
                          63.5971092
                        ]
                      },
                      {
                        "learn": [
                          52.28890565
                        ],
                        "iteration": 61,
                        "passed_time": 0.121114978,
                        "remaining_time": 1.832352409,
                        "test": [
                          63.58081106
                        ]
                      },
                      {
                        "learn": [
                          52.2601882
                        ],
                        "iteration": 62,
                        "passed_time": 0.1223561692,
                        "remaining_time": 1.819805247,
                        "test": [
                          63.56698635
                        ]
                      },
                      {
                        "learn": [
                          52.22339874
                        ],
                        "iteration": 63,
                        "passed_time": 0.1235661962,
                        "remaining_time": 1.80715562,
                        "test": [
                          63.56892561
                        ]
                      },
                      {
                        "learn": [
                          52.1902152
                        ],
                        "iteration": 64,
                        "passed_time": 0.1245488526,
                        "remaining_time": 1.791587341,
                        "test": [
                          63.55815275
                        ]
                      },
                      {
                        "learn": [
                          52.15827792
                        ],
                        "iteration": 65,
                        "passed_time": 0.1255091618,
                        "remaining_time": 1.776144806,
                        "test": [
                          63.52607208
                        ]
                      },
                      {
                        "learn": [
                          52.13700292
                        ],
                        "iteration": 66,
                        "passed_time": 0.1264583662,
                        "remaining_time": 1.760979936,
                        "test": [
                          63.50648115
                        ]
                      },
                      {
                        "learn": [
                          52.11001836
                        ],
                        "iteration": 67,
                        "passed_time": 0.1274491807,
                        "remaining_time": 1.746803477,
                        "test": [
                          63.50561943
                        ]
                      },
                      {
                        "learn": [
                          52.08948418
                        ],
                        "iteration": 68,
                        "passed_time": 0.1283971578,
                        "remaining_time": 1.732431216,
                        "test": [
                          63.49997548
                        ]
                      },
                      {
                        "learn": [
                          52.06574479
                        ],
                        "iteration": 69,
                        "passed_time": 0.1294112543,
                        "remaining_time": 1.71932095,
                        "test": [
                          63.488264
                        ]
                      },
                      {
                        "learn": [
                          52.0476593
                        ],
                        "iteration": 70,
                        "passed_time": 0.1303772118,
                        "remaining_time": 1.705921545,
                        "test": [
                          63.50467158
                        ]
                      },
                      {
                        "learn": [
                          52.02652259
                        ],
                        "iteration": 71,
                        "passed_time": 0.1313286598,
                        "remaining_time": 1.692680504,
                        "test": [
                          63.52057504
                        ]
                      },
                      {
                        "learn": [
                          52.01141526
                        ],
                        "iteration": 72,
                        "passed_time": 0.1322644029,
                        "remaining_time": 1.679576733,
                        "test": [
                          63.52510537
                        ]
                      },
                      {
                        "learn": [
                          51.9962798
                        ],
                        "iteration": 73,
                        "passed_time": 0.1332384839,
                        "remaining_time": 1.667281569,
                        "test": [
                          63.52800113
                        ]
                      },
                      {
                        "learn": [
                          51.98072125
                        ],
                        "iteration": 74,
                        "passed_time": 0.1341721866,
                        "remaining_time": 1.654790301,
                        "test": [
                          63.51478429
                        ]
                      },
                      {
                        "learn": [
                          51.96538914
                        ],
                        "iteration": 75,
                        "passed_time": 0.1361814071,
                        "remaining_time": 1.655679212,
                        "test": [
                          63.51280582
                        ]
                      },
                      {
                        "learn": [
                          51.94941582
                        ],
                        "iteration": 76,
                        "passed_time": 0.1373876023,
                        "remaining_time": 1.646866973,
                        "test": [
                          63.49580185
                        ]
                      },
                      {
                        "learn": [
                          51.9360656
                        ],
                        "iteration": 77,
                        "passed_time": 0.1384250967,
                        "remaining_time": 1.636255631,
                        "test": [
                          63.50655539
                        ]
                      },
                      {
                        "learn": [
                          51.9145477
                        ],
                        "iteration": 78,
                        "passed_time": 0.13944239,
                        "remaining_time": 1.625651155,
                        "test": [
                          63.49955265
                        ]
                      },
                      {
                        "learn": [
                          51.90721626
                        ],
                        "iteration": 79,
                        "passed_time": 0.140449728,
                        "remaining_time": 1.615171872,
                        "test": [
                          63.50977309
                        ]
                      },
                      {
                        "learn": [
                          51.89568616
                        ],
                        "iteration": 80,
                        "passed_time": 0.1414028578,
                        "remaining_time": 1.604311436,
                        "test": [
                          63.50188797
                        ]
                      },
                      {
                        "learn": [
                          51.88080973
                        ],
                        "iteration": 81,
                        "passed_time": 0.142341185,
                        "remaining_time": 1.593526925,
                        "test": [
                          63.50195661
                        ]
                      },
                      {
                        "learn": [
                          51.86913888
                        ],
                        "iteration": 82,
                        "passed_time": 0.1432825967,
                        "remaining_time": 1.58301375,
                        "test": [
                          63.51444197
                        ]
                      },
                      {
                        "learn": [
                          51.85525572
                        ],
                        "iteration": 83,
                        "passed_time": 0.1442412342,
                        "remaining_time": 1.572916316,
                        "test": [
                          63.5291361
                        ]
                      },
                      {
                        "learn": [
                          51.84317895
                        ],
                        "iteration": 84,
                        "passed_time": 0.145229536,
                        "remaining_time": 1.56335324,
                        "test": [
                          63.53955388
                        ]
                      },
                      {
                        "learn": [
                          51.83775392
                        ],
                        "iteration": 85,
                        "passed_time": 0.1462140982,
                        "remaining_time": 1.553949835,
                        "test": [
                          63.54353198
                        ]
                      },
                      {
                        "learn": [
                          51.82766112
                        ],
                        "iteration": 86,
                        "passed_time": 0.1471746511,
                        "remaining_time": 1.544488006,
                        "test": [
                          63.55141559
                        ]
                      },
                      {
                        "learn": [
                          51.8202852
                        ],
                        "iteration": 87,
                        "passed_time": 0.1481288614,
                        "remaining_time": 1.535153654,
                        "test": [
                          63.55043284
                        ]
                      },
                      {
                        "learn": [
                          51.81373105
                        ],
                        "iteration": 88,
                        "passed_time": 0.1490840675,
                        "remaining_time": 1.526017815,
                        "test": [
                          63.55724385
                        ]
                      },
                      {
                        "learn": [
                          51.80249548
                        ],
                        "iteration": 89,
                        "passed_time": 0.1503493508,
                        "remaining_time": 1.520198992,
                        "test": [
                          63.56059056
                        ]
                      },
                      {
                        "learn": [
                          51.79365533
                        ],
                        "iteration": 90,
                        "passed_time": 0.15132097,
                        "remaining_time": 1.511546832,
                        "test": [
                          63.57017689
                        ]
                      },
                      {
                        "learn": [
                          51.78459401
                        ],
                        "iteration": 91,
                        "passed_time": 0.1523127567,
                        "remaining_time": 1.503260686,
                        "test": [
                          63.58432143
                        ]
                      },
                      {
                        "learn": [
                          51.77808427
                        ],
                        "iteration": 92,
                        "passed_time": 0.1532819514,
                        "remaining_time": 1.494911074,
                        "test": [
                          63.57908847
                        ]
                      },
                      {
                        "learn": [
                          51.76864001
                        ],
                        "iteration": 93,
                        "passed_time": 0.154234618,
                        "remaining_time": 1.486559191,
                        "test": [
                          63.56927722
                        ]
                      },
                      {
                        "learn": [
                          51.76597626
                        ],
                        "iteration": 94,
                        "passed_time": 0.1551534386,
                        "remaining_time": 1.478040652,
                        "test": [
                          63.57081999
                        ]
                      },
                      {
                        "learn": [
                          51.75618932
                        ],
                        "iteration": 95,
                        "passed_time": 0.1560957212,
                        "remaining_time": 1.469901375,
                        "test": [
                          63.5637996
                        ]
                      },
                      {
                        "learn": [
                          51.7478035
                        ],
                        "iteration": 96,
                        "passed_time": 0.1570529678,
                        "remaining_time": 1.462049793,
                        "test": [
                          63.58590595
                        ]
                      },
                      {
                        "learn": [
                          51.74046259
                        ],
                        "iteration": 97,
                        "passed_time": 0.1580122153,
                        "remaining_time": 1.454357329,
                        "test": [
                          63.58457601
                        ]
                      },
                      {
                        "learn": [
                          51.72482267
                        ],
                        "iteration": 98,
                        "passed_time": 0.1589766,
                        "remaining_time": 1.446847642,
                        "test": [
                          63.6010092
                        ]
                      },
                      {
                        "learn": [
                          51.72332304
                        ],
                        "iteration": 99,
                        "passed_time": 0.1599542737,
                        "remaining_time": 1.439588463,
                        "test": [
                          63.60437576
                        ]
                      },
                      {
                        "learn": [
                          51.706127
                        ],
                        "iteration": 100,
                        "passed_time": 0.1608814364,
                        "remaining_time": 1.432004073,
                        "test": [
                          63.62114461
                        ]
                      },
                      {
                        "learn": [
                          51.70409956
                        ],
                        "iteration": 101,
                        "passed_time": 0.1614302645,
                        "remaining_time": 1.421219388,
                        "test": [
                          63.62046981
                        ]
                      },
                      {
                        "learn": [
                          51.68521289
                        ],
                        "iteration": 102,
                        "passed_time": 0.162386422,
                        "remaining_time": 1.414180782,
                        "test": [
                          63.61269802
                        ]
                      },
                      {
                        "learn": [
                          51.68044899
                        ],
                        "iteration": 103,
                        "passed_time": 0.1633280638,
                        "remaining_time": 1.407134088,
                        "test": [
                          63.61405814
                        ]
                      },
                      {
                        "learn": [
                          51.66376454
                        ],
                        "iteration": 104,
                        "passed_time": 0.1642762918,
                        "remaining_time": 1.400259821,
                        "test": [
                          63.62626618
                        ]
                      },
                      {
                        "learn": [
                          51.66075488
                        ],
                        "iteration": 105,
                        "passed_time": 0.1652511105,
                        "remaining_time": 1.39372163,
                        "test": [
                          63.636875
                        ]
                      },
                      {
                        "learn": [
                          51.65474033
                        ],
                        "iteration": 106,
                        "passed_time": 0.166206503,
                        "remaining_time": 1.387125301,
                        "test": [
                          63.6544084
                        ]
                      },
                      {
                        "learn": [
                          51.6508758
                        ],
                        "iteration": 107,
                        "passed_time": 0.1671481761,
                        "remaining_time": 1.380520121,
                        "test": [
                          63.66377184
                        ]
                      },
                      {
                        "learn": [
                          51.64523376
                        ],
                        "iteration": 108,
                        "passed_time": 0.1680905987,
                        "remaining_time": 1.374024986,
                        "test": [
                          63.66757244
                        ]
                      },
                      {
                        "learn": [
                          51.63713066
                        ],
                        "iteration": 109,
                        "passed_time": 0.1690222183,
                        "remaining_time": 1.367543403,
                        "test": [
                          63.67211481
                        ]
                      },
                      {
                        "learn": [
                          51.63366368
                        ],
                        "iteration": 110,
                        "passed_time": 0.1699528669,
                        "remaining_time": 1.361154042,
                        "test": [
                          63.69163016
                        ]
                      },
                      {
                        "learn": [
                          51.62075021
                        ],
                        "iteration": 111,
                        "passed_time": 0.1708941237,
                        "remaining_time": 1.354946266,
                        "test": [
                          63.68704407
                        ]
                      },
                      {
                        "learn": [
                          51.61043817
                        ],
                        "iteration": 112,
                        "passed_time": 0.1718236973,
                        "remaining_time": 1.348739996,
                        "test": [
                          63.68483077
                        ]
                      },
                      {
                        "learn": [
                          51.6046154
                        ],
                        "iteration": 113,
                        "passed_time": 0.1727683018,
                        "remaining_time": 1.342743117,
                        "test": [
                          63.69137007
                        ]
                      },
                      {
                        "learn": [
                          51.59721314
                        ],
                        "iteration": 114,
                        "passed_time": 0.1737297079,
                        "remaining_time": 1.336963404,
                        "test": [
                          63.70747897
                        ]
                      },
                      {
                        "learn": [
                          51.59059989
                        ],
                        "iteration": 115,
                        "passed_time": 0.1757061023,
                        "remaining_time": 1.339001676,
                        "test": [
                          63.71482187
                        ]
                      },
                      {
                        "learn": [
                          51.58724559
                        ],
                        "iteration": 116,
                        "passed_time": 0.1765774879,
                        "remaining_time": 1.33263181,
                        "test": [
                          63.73160679
                        ]
                      },
                      {
                        "learn": [
                          51.57827983
                        ],
                        "iteration": 117,
                        "passed_time": 0.1782229117,
                        "remaining_time": 1.332140747,
                        "test": [
                          63.73882359
                        ]
                      },
                      {
                        "learn": [
                          51.56537089
                        ],
                        "iteration": 118,
                        "passed_time": 0.1812912728,
                        "remaining_time": 1.342164801,
                        "test": [
                          63.7483993
                        ]
                      },
                      {
                        "learn": [
                          51.5582631
                        ],
                        "iteration": 119,
                        "passed_time": 0.1849070207,
                        "remaining_time": 1.355984818,
                        "test": [
                          63.7577266
                        ]
                      },
                      {
                        "learn": [
                          51.54102867
                        ],
                        "iteration": 120,
                        "passed_time": 0.1860760262,
                        "remaining_time": 1.351742372,
                        "test": [
                          63.77283557
                        ]
                      },
                      {
                        "learn": [
                          51.53190169
                        ],
                        "iteration": 121,
                        "passed_time": 0.1871076335,
                        "remaining_time": 1.346561493,
                        "test": [
                          63.78374868
                        ]
                      },
                      {
                        "learn": [
                          51.52249851
                        ],
                        "iteration": 122,
                        "passed_time": 0.1880941703,
                        "remaining_time": 1.341126726,
                        "test": [
                          63.78794382
                        ]
                      },
                      {
                        "learn": [
                          51.51619187
                        ],
                        "iteration": 123,
                        "passed_time": 0.1893367183,
                        "remaining_time": 1.3375723,
                        "test": [
                          63.78112877
                        ]
                      },
                      {
                        "learn": [
                          51.50593017
                        ],
                        "iteration": 124,
                        "passed_time": 0.1903266828,
                        "remaining_time": 1.332286779,
                        "test": [
                          63.79671852
                        ]
                      },
                      {
                        "learn": [
                          51.49320377
                        ],
                        "iteration": 125,
                        "passed_time": 0.1912977269,
                        "remaining_time": 1.326938201,
                        "test": [
                          63.7964967
                        ]
                      },
                      {
                        "learn": [
                          51.49027363
                        ],
                        "iteration": 126,
                        "passed_time": 0.1922883696,
                        "remaining_time": 1.321793281,
                        "test": [
                          63.80430707
                        ]
                      },
                      {
                        "learn": [
                          51.48470682
                        ],
                        "iteration": 127,
                        "passed_time": 0.1935722713,
                        "remaining_time": 1.318711098,
                        "test": [
                          63.81105165
                        ]
                      },
                      {
                        "learn": [
                          51.48181419
                        ],
                        "iteration": 128,
                        "passed_time": 0.1946438719,
                        "remaining_time": 1.314223352,
                        "test": [
                          63.80485518
                        ]
                      },
                      {
                        "learn": [
                          51.47676267
                        ],
                        "iteration": 129,
                        "passed_time": 0.1957981234,
                        "remaining_time": 1.310341288,
                        "test": [
                          63.80718031
                        ]
                      },
                      {
                        "learn": [
                          51.4681349
                        ],
                        "iteration": 130,
                        "passed_time": 0.1968329961,
                        "remaining_time": 1.305708959,
                        "test": [
                          63.8075326
                        ]
                      },
                      {
                        "learn": [
                          51.45917198
                        ],
                        "iteration": 131,
                        "passed_time": 0.1980027585,
                        "remaining_time": 1.302018139,
                        "test": [
                          63.82310749
                        ]
                      },
                      {
                        "learn": [
                          51.45071855
                        ],
                        "iteration": 132,
                        "passed_time": 0.1989909629,
                        "remaining_time": 1.297181691,
                        "test": [
                          63.82239438
                        ]
                      },
                      {
                        "learn": [
                          51.43869869
                        ],
                        "iteration": 133,
                        "passed_time": 0.1999617853,
                        "remaining_time": 1.292290344,
                        "test": [
                          63.82336774
                        ]
                      },
                      {
                        "learn": [
                          51.43292922
                        ],
                        "iteration": 134,
                        "passed_time": 0.200752303,
                        "remaining_time": 1.286301793,
                        "test": [
                          63.83578427
                        ]
                      },
                      {
                        "learn": [
                          51.42727552
                        ],
                        "iteration": 135,
                        "passed_time": 0.2017432915,
                        "remaining_time": 1.281663264,
                        "test": [
                          63.84607686
                        ]
                      },
                      {
                        "learn": [
                          51.41172231
                        ],
                        "iteration": 136,
                        "passed_time": 0.2030785578,
                        "remaining_time": 1.279246682,
                        "test": [
                          63.84633282
                        ]
                      },
                      {
                        "learn": [
                          51.40909853
                        ],
                        "iteration": 137,
                        "passed_time": 0.2040290535,
                        "remaining_time": 1.274442349,
                        "test": [
                          63.85530014
                        ]
                      },
                      {
                        "learn": [
                          51.39899732
                        ],
                        "iteration": 138,
                        "passed_time": 0.2052254106,
                        "remaining_time": 1.271216393,
                        "test": [
                          63.85189026
                        ]
                      },
                      {
                        "learn": [
                          51.38466303
                        ],
                        "iteration": 139,
                        "passed_time": 0.2064118583,
                        "remaining_time": 1.267958558,
                        "test": [
                          63.8584933
                        ]
                      },
                      {
                        "learn": [
                          51.37461066
                        ],
                        "iteration": 140,
                        "passed_time": 0.2074810493,
                        "remaining_time": 1.264015754,
                        "test": [
                          63.87639118
                        ]
                      },
                      {
                        "learn": [
                          51.35809934
                        ],
                        "iteration": 141,
                        "passed_time": 0.2084999544,
                        "remaining_time": 1.259809584,
                        "test": [
                          63.88853359
                        ]
                      },
                      {
                        "learn": [
                          51.34547723
                        ],
                        "iteration": 142,
                        "passed_time": 0.2094909239,
                        "remaining_time": 1.255480572,
                        "test": [
                          63.90656553
                        ]
                      },
                      {
                        "learn": [
                          51.33606557
                        ],
                        "iteration": 143,
                        "passed_time": 0.2104155689,
                        "remaining_time": 1.25080366,
                        "test": [
                          63.91525317
                        ]
                      },
                      {
                        "learn": [
                          51.33170734
                        ],
                        "iteration": 144,
                        "passed_time": 0.2113549148,
                        "remaining_time": 1.246265187,
                        "test": [
                          63.91329735
                        ]
                      },
                      {
                        "learn": [
                          51.32864546
                        ],
                        "iteration": 145,
                        "passed_time": 0.2123190658,
                        "remaining_time": 1.241921111,
                        "test": [
                          63.9136295
                        ]
                      },
                      {
                        "learn": [
                          51.31443842
                        ],
                        "iteration": 146,
                        "passed_time": 0.2133159184,
                        "remaining_time": 1.237812778,
                        "test": [
                          63.92212346
                        ]
                      },
                      {
                        "learn": [
                          51.30147302
                        ],
                        "iteration": 147,
                        "passed_time": 0.2143316458,
                        "remaining_time": 1.23385515,
                        "test": [
                          63.9250517
                        ]
                      },
                      {
                        "learn": [
                          51.29119478
                        ],
                        "iteration": 148,
                        "passed_time": 0.2153147399,
                        "remaining_time": 1.229750629,
                        "test": [
                          63.93223671
                        ]
                      },
                      {
                        "learn": [
                          51.2860416
                        ],
                        "iteration": 149,
                        "passed_time": 0.2169412794,
                        "remaining_time": 1.229333917,
                        "test": [
                          63.94198807
                        ]
                      },
                      {
                        "learn": [
                          51.27448383
                        ],
                        "iteration": 150,
                        "passed_time": 0.2179066582,
                        "remaining_time": 1.225183793,
                        "test": [
                          63.95212316
                        ]
                      },
                      {
                        "learn": [
                          51.2572886
                        ],
                        "iteration": 151,
                        "passed_time": 0.2191901735,
                        "remaining_time": 1.222850442,
                        "test": [
                          63.96839457
                        ]
                      },
                      {
                        "learn": [
                          51.24356954
                        ],
                        "iteration": 152,
                        "passed_time": 0.2203229499,
                        "remaining_time": 1.21969633,
                        "test": [
                          63.95829794
                        ]
                      },
                      {
                        "learn": [
                          51.22975132
                        ],
                        "iteration": 153,
                        "passed_time": 0.2213151934,
                        "remaining_time": 1.215796452,
                        "test": [
                          63.95011933
                        ]
                      },
                      {
                        "learn": [
                          51.21804736
                        ],
                        "iteration": 154,
                        "passed_time": 0.2223288472,
                        "remaining_time": 1.212050812,
                        "test": [
                          63.95131653
                        ]
                      },
                      {
                        "learn": [
                          51.204653
                        ],
                        "iteration": 155,
                        "passed_time": 0.2235196007,
                        "remaining_time": 1.209298353,
                        "test": [
                          63.9622345
                        ]
                      },
                      {
                        "learn": [
                          51.19251041
                        ],
                        "iteration": 156,
                        "passed_time": 0.224492864,
                        "remaining_time": 1.205397989,
                        "test": [
                          63.96424149
                        ]
                      },
                      {
                        "learn": [
                          51.18125431
                        ],
                        "iteration": 157,
                        "passed_time": 0.225477548,
                        "remaining_time": 1.201595541,
                        "test": [
                          63.98426431
                        ]
                      },
                      {
                        "learn": [
                          51.16385109
                        ],
                        "iteration": 158,
                        "passed_time": 0.2264248861,
                        "remaining_time": 1.197631001,
                        "test": [
                          63.9780618
                        ]
                      },
                      {
                        "learn": [
                          51.15488498
                        ],
                        "iteration": 159,
                        "passed_time": 0.2273828554,
                        "remaining_time": 1.193759991,
                        "test": [
                          63.97844393
                        ]
                      },
                      {
                        "learn": [
                          51.14722462
                        ],
                        "iteration": 160,
                        "passed_time": 0.2283426247,
                        "remaining_time": 1.189934547,
                        "test": [
                          63.98307479
                        ]
                      },
                      {
                        "learn": [
                          51.13592295
                        ],
                        "iteration": 161,
                        "passed_time": 0.2292386464,
                        "remaining_time": 1.185814726,
                        "test": [
                          63.99532384
                        ]
                      },
                      {
                        "learn": [
                          51.12070059
                        ],
                        "iteration": 162,
                        "passed_time": 0.2301709168,
                        "remaining_time": 1.181920597,
                        "test": [
                          63.99552309
                        ]
                      },
                      {
                        "learn": [
                          51.10611299
                        ],
                        "iteration": 163,
                        "passed_time": 0.2310980987,
                        "remaining_time": 1.178036649,
                        "test": [
                          64.00552996
                        ]
                      },
                      {
                        "learn": [
                          51.09622415
                        ],
                        "iteration": 164,
                        "passed_time": 0.2320299901,
                        "remaining_time": 1.174212374,
                        "test": [
                          64.01835782
                        ]
                      },
                      {
                        "learn": [
                          51.08989986
                        ],
                        "iteration": 165,
                        "passed_time": 0.2330015251,
                        "remaining_time": 1.17062212,
                        "test": [
                          64.02063746
                        ]
                      },
                      {
                        "learn": [
                          51.08077419
                        ],
                        "iteration": 166,
                        "passed_time": 0.2339639594,
                        "remaining_time": 1.167017833,
                        "test": [
                          64.02126819
                        ]
                      },
                      {
                        "learn": [
                          51.07374343
                        ],
                        "iteration": 167,
                        "passed_time": 0.234911262,
                        "remaining_time": 1.163370059,
                        "test": [
                          64.01362966
                        ]
                      },
                      {
                        "learn": [
                          51.06445138
                        ],
                        "iteration": 168,
                        "passed_time": 0.235858811,
                        "remaining_time": 1.159755455,
                        "test": [
                          64.02994973
                        ]
                      },
                      {
                        "learn": [
                          51.05660449
                        ],
                        "iteration": 169,
                        "passed_time": 0.2369316528,
                        "remaining_time": 1.156783952,
                        "test": [
                          64.05088438
                        ]
                      },
                      {
                        "learn": [
                          51.04481374
                        ],
                        "iteration": 170,
                        "passed_time": 0.2379595474,
                        "remaining_time": 1.153616753,
                        "test": [
                          64.04996582
                        ]
                      },
                      {
                        "learn": [
                          51.03690314
                        ],
                        "iteration": 171,
                        "passed_time": 0.2389107363,
                        "remaining_time": 1.150105172,
                        "test": [
                          64.04309684
                        ]
                      },
                      {
                        "learn": [
                          51.01894032
                        ],
                        "iteration": 172,
                        "passed_time": 0.2400622843,
                        "remaining_time": 1.147580977,
                        "test": [
                          64.01885605
                        ]
                      },
                      {
                        "learn": [
                          51.01261734
                        ],
                        "iteration": 173,
                        "passed_time": 0.2423522163,
                        "remaining_time": 1.150476613,
                        "test": [
                          64.01649752
                        ]
                      },
                      {
                        "learn": [
                          50.99534555
                        ],
                        "iteration": 174,
                        "passed_time": 0.2437026283,
                        "remaining_time": 1.148883819,
                        "test": [
                          64.02168157
                        ]
                      },
                      {
                        "learn": [
                          50.97208005
                        ],
                        "iteration": 175,
                        "passed_time": 0.2447358269,
                        "remaining_time": 1.145808644,
                        "test": [
                          64.00313299
                        ]
                      },
                      {
                        "learn": [
                          50.9660735
                        ],
                        "iteration": 176,
                        "passed_time": 0.245711632,
                        "remaining_time": 1.142489679,
                        "test": [
                          64.00462031
                        ]
                      },
                      {
                        "learn": [
                          50.95885676
                        ],
                        "iteration": 177,
                        "passed_time": 0.246825653,
                        "remaining_time": 1.139835319,
                        "test": [
                          64.00964044
                        ]
                      },
                      {
                        "learn": [
                          50.94681918
                        ],
                        "iteration": 178,
                        "passed_time": 0.2478051185,
                        "remaining_time": 1.136581018,
                        "test": [
                          64.00871982
                        ]
                      },
                      {
                        "learn": [
                          50.9315032
                        ],
                        "iteration": 179,
                        "passed_time": 0.2487346571,
                        "remaining_time": 1.133124549,
                        "test": [
                          64.00488511
                        ]
                      },
                      {
                        "learn": [
                          50.91678408
                        ],
                        "iteration": 180,
                        "passed_time": 0.2496860088,
                        "remaining_time": 1.129794703,
                        "test": [
                          64.00230437
                        ]
                      },
                      {
                        "learn": [
                          50.90309267
                        ],
                        "iteration": 181,
                        "passed_time": 0.2505744528,
                        "remaining_time": 1.126208255,
                        "test": [
                          64.00021735
                        ]
                      },
                      {
                        "learn": [
                          50.89167336
                        ],
                        "iteration": 182,
                        "passed_time": 0.2515121509,
                        "remaining_time": 1.122871188,
                        "test": [
                          64.00721277
                        ]
                      },
                      {
                        "learn": [
                          50.87950676
                        ],
                        "iteration": 183,
                        "passed_time": 0.2524630471,
                        "remaining_time": 1.119618731,
                        "test": [
                          64.0053655
                        ]
                      },
                      {
                        "learn": [
                          50.87291695
                        ],
                        "iteration": 184,
                        "passed_time": 0.2535125633,
                        "remaining_time": 1.116825617,
                        "test": [
                          64.01095646
                        ]
                      },
                      {
                        "learn": [
                          50.86358878
                        ],
                        "iteration": 185,
                        "passed_time": 0.2544641472,
                        "remaining_time": 1.113622666,
                        "test": [
                          64.01033186
                        ]
                      },
                      {
                        "learn": [
                          50.85418744
                        ],
                        "iteration": 186,
                        "passed_time": 0.2555527476,
                        "remaining_time": 1.111039486,
                        "test": [
                          64.0149927
                        ]
                      },
                      {
                        "learn": [
                          50.84091881
                        ],
                        "iteration": 187,
                        "passed_time": 0.2565267886,
                        "remaining_time": 1.107977406,
                        "test": [
                          64.02998306
                        ]
                      },
                      {
                        "learn": [
                          50.83336249
                        ],
                        "iteration": 188,
                        "passed_time": 0.2576508559,
                        "remaining_time": 1.105581186,
                        "test": [
                          64.04232542
                        ]
                      },
                      {
                        "learn": [
                          50.82741014
                        ],
                        "iteration": 189,
                        "passed_time": 0.258644459,
                        "remaining_time": 1.102642167,
                        "test": [
                          64.04282327
                        ]
                      },
                      {
                        "learn": [
                          50.81795373
                        ],
                        "iteration": 190,
                        "passed_time": 0.2615941657,
                        "remaining_time": 1.108008796,
                        "test": [
                          64.05642944
                        ]
                      },
                      {
                        "learn": [
                          50.81160823
                        ],
                        "iteration": 191,
                        "passed_time": 0.2627224235,
                        "remaining_time": 1.105623532,
                        "test": [
                          64.0538862
                        ]
                      },
                      {
                        "learn": [
                          50.79918419
                        ],
                        "iteration": 192,
                        "passed_time": 0.2647204722,
                        "remaining_time": 1.106888192,
                        "test": [
                          64.05538638
                        ]
                      },
                      {
                        "learn": [
                          50.7878301
                        ],
                        "iteration": 193,
                        "passed_time": 0.2677325193,
                        "remaining_time": 1.112332013,
                        "test": [
                          64.07160642
                        ]
                      },
                      {
                        "learn": [
                          50.78149286
                        ],
                        "iteration": 194,
                        "passed_time": 0.2687688152,
                        "remaining_time": 1.109532801,
                        "test": [
                          64.06734244
                        ]
                      },
                      {
                        "learn": [
                          50.76043699
                        ],
                        "iteration": 195,
                        "passed_time": 0.2698089455,
                        "remaining_time": 1.106767307,
                        "test": [
                          64.07544715
                        ]
                      },
                      {
                        "learn": [
                          50.75685741
                        ],
                        "iteration": 196,
                        "passed_time": 0.2708110253,
                        "remaining_time": 1.10386423,
                        "test": [
                          64.06967472
                        ]
                      },
                      {
                        "learn": [
                          50.7496243
                        ],
                        "iteration": 197,
                        "passed_time": 0.2718098429,
                        "remaining_time": 1.100967141,
                        "test": [
                          64.07374597
                        ]
                      },
                      {
                        "learn": [
                          50.74413557
                        ],
                        "iteration": 198,
                        "passed_time": 0.2727349862,
                        "remaining_time": 1.097792582,
                        "test": [
                          64.07980967
                        ]
                      },
                      {
                        "learn": [
                          50.72435004
                        ],
                        "iteration": 199,
                        "passed_time": 0.2736849624,
                        "remaining_time": 1.094739849,
                        "test": [
                          64.07434045
                        ]
                      },
                      {
                        "learn": [
                          50.71537319
                        ],
                        "iteration": 200,
                        "passed_time": 0.2746172155,
                        "remaining_time": 1.091637588,
                        "test": [
                          64.07359296
                        ]
                      },
                      {
                        "learn": [
                          50.69933365
                        ],
                        "iteration": 201,
                        "passed_time": 0.2755354293,
                        "remaining_time": 1.088501349,
                        "test": [
                          64.07124231
                        ]
                      },
                      {
                        "learn": [
                          50.69097961
                        ],
                        "iteration": 202,
                        "passed_time": 0.2765837,
                        "remaining_time": 1.085897581,
                        "test": [
                          64.07089599
                        ]
                      },
                      {
                        "learn": [
                          50.67621528
                        ],
                        "iteration": 203,
                        "passed_time": 0.2775483834,
                        "remaining_time": 1.082982908,
                        "test": [
                          64.08782012
                        ]
                      },
                      {
                        "learn": [
                          50.66474126
                        ],
                        "iteration": 204,
                        "passed_time": 0.2784963664,
                        "remaining_time": 1.080022494,
                        "test": [
                          64.08700178
                        ]
                      },
                      {
                        "learn": [
                          50.65954423
                        ],
                        "iteration": 205,
                        "passed_time": 0.2794736242,
                        "remaining_time": 1.077194454,
                        "test": [
                          64.08328319
                        ]
                      },
                      {
                        "learn": [
                          50.65369317
                        ],
                        "iteration": 206,
                        "passed_time": 0.2804207786,
                        "remaining_time": 1.074268973,
                        "test": [
                          64.07735548
                        ]
                      },
                      {
                        "learn": [
                          50.6491267
                        ],
                        "iteration": 207,
                        "passed_time": 0.2813928196,
                        "remaining_time": 1.071457275,
                        "test": [
                          64.07292052
                        ]
                      },
                      {
                        "learn": [
                          50.63700143
                        ],
                        "iteration": 208,
                        "passed_time": 0.282383755,
                        "remaining_time": 1.06873469,
                        "test": [
                          64.07539669
                        ]
                      },
                      {
                        "learn": [
                          50.62973101
                        ],
                        "iteration": 209,
                        "passed_time": 0.2836631195,
                        "remaining_time": 1.06711364,
                        "test": [
                          64.08072278
                        ]
                      },
                      {
                        "learn": [
                          50.62127159
                        ],
                        "iteration": 210,
                        "passed_time": 0.2846634438,
                        "remaining_time": 1.064452404,
                        "test": [
                          64.08491293
                        ]
                      },
                      {
                        "learn": [
                          50.61672876
                        ],
                        "iteration": 211,
                        "passed_time": 0.2856090819,
                        "remaining_time": 1.061603569,
                        "test": [
                          64.08321522
                        ]
                      },
                      {
                        "learn": [
                          50.60718182
                        ],
                        "iteration": 212,
                        "passed_time": 0.2865553399,
                        "remaining_time": 1.058774895,
                        "test": [
                          64.09266052
                        ]
                      },
                      {
                        "learn": [
                          50.59657339
                        ],
                        "iteration": 213,
                        "passed_time": 0.2875438967,
                        "remaining_time": 1.056119172,
                        "test": [
                          64.09657558
                        ]
                      },
                      {
                        "learn": [
                          50.59037794
                        ],
                        "iteration": 214,
                        "passed_time": 0.2884836998,
                        "remaining_time": 1.05330095,
                        "test": [
                          64.1052111
                        ]
                      },
                      {
                        "learn": [
                          50.58246068
                        ],
                        "iteration": 215,
                        "passed_time": 0.289749619,
                        "remaining_time": 1.051683802,
                        "test": [
                          64.12099449
                        ]
                      },
                      {
                        "learn": [
                          50.57540358
                        ],
                        "iteration": 216,
                        "passed_time": 0.2909537115,
                        "remaining_time": 1.049846802,
                        "test": [
                          64.12199607
                        ]
                      },
                      {
                        "learn": [
                          50.57115594
                        ],
                        "iteration": 217,
                        "passed_time": 0.2919287374,
                        "remaining_time": 1.047193911,
                        "test": [
                          64.12876253
                        ]
                      },
                      {
                        "learn": [
                          50.55798164
                        ],
                        "iteration": 218,
                        "passed_time": 0.2930297036,
                        "remaining_time": 1.045005473,
                        "test": [
                          64.12694571
                        ]
                      },
                      {
                        "learn": [
                          50.54994083
                        ],
                        "iteration": 219,
                        "passed_time": 0.2940922669,
                        "remaining_time": 1.042690765,
                        "test": [
                          64.13762597
                        ]
                      },
                      {
                        "learn": [
                          50.539465
                        ],
                        "iteration": 220,
                        "passed_time": 0.2950862609,
                        "remaining_time": 1.040145689,
                        "test": [
                          64.13751453
                        ]
                      },
                      {
                        "learn": [
                          50.53552829
                        ],
                        "iteration": 221,
                        "passed_time": 0.2960608796,
                        "remaining_time": 1.037546686,
                        "test": [
                          64.13492521
                        ]
                      },
                      {
                        "learn": [
                          50.52989667
                        ],
                        "iteration": 222,
                        "passed_time": 0.2970451787,
                        "remaining_time": 1.034995981,
                        "test": [
                          64.13552394
                        ]
                      },
                      {
                        "learn": [
                          50.52594014
                        ],
                        "iteration": 223,
                        "passed_time": 0.2979877913,
                        "remaining_time": 1.032314848,
                        "test": [
                          64.14022289
                        ]
                      },
                      {
                        "learn": [
                          50.50710549
                        ],
                        "iteration": 224,
                        "passed_time": 0.298953951,
                        "remaining_time": 1.029730276,
                        "test": [
                          64.16217702
                        ]
                      },
                      {
                        "learn": [
                          50.49998999
                        ],
                        "iteration": 225,
                        "passed_time": 0.2999130712,
                        "remaining_time": 1.027135916,
                        "test": [
                          64.17423906
                        ]
                      },
                      {
                        "learn": [
                          50.49524549
                        ],
                        "iteration": 226,
                        "passed_time": 0.3008870172,
                        "remaining_time": 1.024606451,
                        "test": [
                          64.17589124
                        ]
                      },
                      {
                        "learn": [
                          50.47885426
                        ],
                        "iteration": 227,
                        "passed_time": 0.3018668026,
                        "remaining_time": 1.022110402,
                        "test": [
                          64.16963
                        ]
                      },
                      {
                        "learn": [
                          50.46261805
                        ],
                        "iteration": 228,
                        "passed_time": 0.3030068575,
                        "remaining_time": 1.020167193,
                        "test": [
                          64.16795302
                        ]
                      },
                      {
                        "learn": [
                          50.45845823
                        ],
                        "iteration": 229,
                        "passed_time": 0.3040883916,
                        "remaining_time": 1.01803505,
                        "test": [
                          64.17192957
                        ]
                      },
                      {
                        "learn": [
                          50.44164229
                        ],
                        "iteration": 230,
                        "passed_time": 0.3051164162,
                        "remaining_time": 1.01573387,
                        "test": [
                          64.18665394
                        ]
                      },
                      {
                        "learn": [
                          50.43960701
                        ],
                        "iteration": 231,
                        "passed_time": 0.3063071279,
                        "remaining_time": 1.013982216,
                        "test": [
                          64.19305667
                        ]
                      },
                      {
                        "learn": [
                          50.42661813
                        ],
                        "iteration": 232,
                        "passed_time": 0.3072978723,
                        "remaining_time": 1.011577116,
                        "test": [
                          64.19440894
                        ]
                      },
                      {
                        "learn": [
                          50.41380699
                        ],
                        "iteration": 233,
                        "passed_time": 0.3082346187,
                        "remaining_time": 1.009007341,
                        "test": [
                          64.19886619
                        ]
                      },
                      {
                        "learn": [
                          50.41033412
                        ],
                        "iteration": 234,
                        "passed_time": 0.3092199404,
                        "remaining_time": 1.006609593,
                        "test": [
                          64.1985378
                        ]
                      },
                      {
                        "learn": [
                          50.40745723
                        ],
                        "iteration": 235,
                        "passed_time": 0.3107513622,
                        "remaining_time": 1.005991698,
                        "test": [
                          64.19880402
                        ]
                      },
                      {
                        "learn": [
                          50.39152968
                        ],
                        "iteration": 236,
                        "passed_time": 0.3121505097,
                        "remaining_time": 1.004940248,
                        "test": [
                          64.19719615
                        ]
                      },
                      {
                        "learn": [
                          50.38223258
                        ],
                        "iteration": 237,
                        "passed_time": 0.3131750643,
                        "remaining_time": 1.00268655,
                        "test": [
                          64.20064611
                        ]
                      },
                      {
                        "learn": [
                          50.36800963
                        ],
                        "iteration": 238,
                        "passed_time": 0.3142625255,
                        "remaining_time": 1.000643439,
                        "test": [
                          64.20046244
                        ]
                      },
                      {
                        "learn": [
                          50.36439594
                        ],
                        "iteration": 239,
                        "passed_time": 0.3152767171,
                        "remaining_time": 0.9983762707,
                        "test": [
                          64.19755005
                        ]
                      },
                      {
                        "learn": [
                          50.36105368
                        ],
                        "iteration": 240,
                        "passed_time": 0.3159883277,
                        "remaining_time": 0.9951665591,
                        "test": [
                          64.20099451
                        ]
                      },
                      {
                        "learn": [
                          50.34361616
                        ],
                        "iteration": 241,
                        "passed_time": 0.3169652046,
                        "remaining_time": 0.9928083681,
                        "test": [
                          64.22207659
                        ]
                      },
                      {
                        "learn": [
                          50.33961127
                        ],
                        "iteration": 242,
                        "passed_time": 0.3179602686,
                        "remaining_time": 0.9905182029,
                        "test": [
                          64.22477466
                        ]
                      },
                      {
                        "learn": [
                          50.3257236
                        ],
                        "iteration": 243,
                        "passed_time": 0.3191506494,
                        "remaining_time": 0.9888438152,
                        "test": [
                          64.2228227
                        ]
                      },
                      {
                        "learn": [
                          50.32290341
                        ],
                        "iteration": 244,
                        "passed_time": 0.3200795407,
                        "remaining_time": 0.9863675643,
                        "test": [
                          64.22290566
                        ]
                      },
                      {
                        "learn": [
                          50.31239874
                        ],
                        "iteration": 245,
                        "passed_time": 0.3210782056,
                        "remaining_time": 0.9841177521,
                        "test": [
                          64.22840248
                        ]
                      },
                      {
                        "learn": [
                          50.29754383
                        ],
                        "iteration": 246,
                        "passed_time": 0.322137413,
                        "remaining_time": 0.9820626398,
                        "test": [
                          64.22701317
                        ]
                      },
                      {
                        "learn": [
                          50.29056762
                        ],
                        "iteration": 247,
                        "passed_time": 0.3231021887,
                        "remaining_time": 0.9797292172,
                        "test": [
                          64.234505
                        ]
                      },
                      {
                        "learn": [
                          50.27374337
                        ],
                        "iteration": 248,
                        "passed_time": 0.3240517249,
                        "remaining_time": 0.9773608248,
                        "test": [
                          64.2342588
                        ]
                      },
                      {
                        "learn": [
                          50.26503279
                        ],
                        "iteration": 249,
                        "passed_time": 0.3250188754,
                        "remaining_time": 0.9750566263,
                        "test": [
                          64.22895115
                        ]
                      },
                      {
                        "learn": [
                          50.25245783
                        ],
                        "iteration": 250,
                        "passed_time": 0.3263345764,
                        "remaining_time": 0.9738031783,
                        "test": [
                          64.22871154
                        ]
                      },
                      {
                        "learn": [
                          50.24648521
                        ],
                        "iteration": 251,
                        "passed_time": 0.327253797,
                        "remaining_time": 0.9713723816,
                        "test": [
                          64.23625154
                        ]
                      },
                      {
                        "learn": [
                          50.23563399
                        ],
                        "iteration": 252,
                        "passed_time": 0.328308935,
                        "remaining_time": 0.9693548396,
                        "test": [
                          64.23671739
                        ]
                      },
                      {
                        "learn": [
                          50.23302265
                        ],
                        "iteration": 253,
                        "passed_time": 0.3293811296,
                        "remaining_time": 0.9673949711,
                        "test": [
                          64.23761046
                        ]
                      },
                      {
                        "learn": [
                          50.21197514
                        ],
                        "iteration": 254,
                        "passed_time": 0.330328139,
                        "remaining_time": 0.9650763276,
                        "test": [
                          64.23481956
                        ]
                      },
                      {
                        "learn": [
                          50.20540774
                        ],
                        "iteration": 255,
                        "passed_time": 0.3312840215,
                        "remaining_time": 0.9627941875,
                        "test": [
                          64.24813453
                        ]
                      },
                      {
                        "learn": [
                          50.19691527
                        ],
                        "iteration": 256,
                        "passed_time": 0.3322833931,
                        "remaining_time": 0.9606480977,
                        "test": [
                          64.25183823
                        ]
                      },
                      {
                        "learn": [
                          50.1905065
                        ],
                        "iteration": 257,
                        "passed_time": 0.3332428343,
                        "remaining_time": 0.9583960582,
                        "test": [
                          64.25577961
                        ]
                      },
                      {
                        "learn": [
                          50.18121836
                        ],
                        "iteration": 258,
                        "passed_time": 0.334182241,
                        "remaining_time": 0.9560966818,
                        "test": [
                          64.25095498
                        ]
                      },
                      {
                        "learn": [
                          50.17296165
                        ],
                        "iteration": 259,
                        "passed_time": 0.3351042634,
                        "remaining_time": 0.9537582881,
                        "test": [
                          64.2618143
                        ]
                      },
                      {
                        "learn": [
                          50.16557733
                        ],
                        "iteration": 260,
                        "passed_time": 0.336032872,
                        "remaining_time": 0.9514493963,
                        "test": [
                          64.2689794
                        ]
                      },
                      {
                        "learn": [
                          50.14604325
                        ],
                        "iteration": 261,
                        "passed_time": 0.3369630571,
                        "remaining_time": 0.9491554814,
                        "test": [
                          64.26656367
                        ]
                      },
                      {
                        "learn": [
                          50.14282627
                        ],
                        "iteration": 262,
                        "passed_time": 0.3378843708,
                        "remaining_time": 0.9468470771,
                        "test": [
                          64.26565344
                        ]
                      },
                      {
                        "learn": [
                          50.13863232
                        ],
                        "iteration": 263,
                        "passed_time": 0.3388085291,
                        "remaining_time": 0.9445571113,
                        "test": [
                          64.27662472
                        ]
                      },
                      {
                        "learn": [
                          50.12794345
                        ],
                        "iteration": 264,
                        "passed_time": 0.3398766351,
                        "remaining_time": 0.9426767048,
                        "test": [
                          64.27741026
                        ]
                      },
                      {
                        "learn": [
                          50.12084965
                        ],
                        "iteration": 265,
                        "passed_time": 0.3409371184,
                        "remaining_time": 0.9407813719,
                        "test": [
                          64.27829937
                        ]
                      },
                      {
                        "learn": [
                          50.1189084
                        ],
                        "iteration": 266,
                        "passed_time": 0.3419139753,
                        "remaining_time": 0.9386627112,
                        "test": [
                          64.27639102
                        ]
                      },
                      {
                        "learn": [
                          50.09978245
                        ],
                        "iteration": 267,
                        "passed_time": 0.3428833045,
                        "remaining_time": 0.9365320108,
                        "test": [
                          64.27388511
                        ]
                      },
                      {
                        "learn": [
                          50.08389981
                        ],
                        "iteration": 268,
                        "passed_time": 0.3438799457,
                        "remaining_time": 0.9344841648,
                        "test": [
                          64.27669617
                        ]
                      },
                      {
                        "learn": [
                          50.0741762
                        ],
                        "iteration": 269,
                        "passed_time": 0.3448435395,
                        "remaining_time": 0.932354755,
                        "test": [
                          64.27389625
                        ]
                      },
                      {
                        "learn": [
                          50.06009346
                        ],
                        "iteration": 270,
                        "passed_time": 0.3458098419,
                        "remaining_time": 0.9302412353,
                        "test": [
                          64.28267097
                        ]
                      },
                      {
                        "learn": [
                          50.05848898
                        ],
                        "iteration": 271,
                        "passed_time": 0.3467430674,
                        "remaining_time": 0.9280476215,
                        "test": [
                          64.28075674
                        ]
                      },
                      {
                        "learn": [
                          50.05198762
                        ],
                        "iteration": 272,
                        "passed_time": 0.3476648466,
                        "remaining_time": 0.9258327599,
                        "test": [
                          64.28724946
                        ]
                      },
                      {
                        "learn": [
                          50.03671349
                        ],
                        "iteration": 273,
                        "passed_time": 0.3485935084,
                        "remaining_time": 0.9236455734,
                        "test": [
                          64.2873903
                        ]
                      },
                      {
                        "learn": [
                          50.03047974
                        ],
                        "iteration": 274,
                        "passed_time": 0.3495272557,
                        "remaining_time": 0.9214809468,
                        "test": [
                          64.29011384
                        ]
                      },
                      {
                        "learn": [
                          50.02003927
                        ],
                        "iteration": 275,
                        "passed_time": 0.3504763292,
                        "remaining_time": 0.9193654431,
                        "test": [
                          64.29231133
                        ]
                      },
                      {
                        "learn": [
                          50.00708471
                        ],
                        "iteration": 276,
                        "passed_time": 0.3514221768,
                        "remaining_time": 0.9172499415,
                        "test": [
                          64.3030282
                        ]
                      },
                      {
                        "learn": [
                          49.99186278
                        ],
                        "iteration": 277,
                        "passed_time": 0.3523437205,
                        "remaining_time": 0.9150797345,
                        "test": [
                          64.29309901
                        ]
                      },
                      {
                        "learn": [
                          49.98840473
                        ],
                        "iteration": 278,
                        "passed_time": 0.3534820895,
                        "remaining_time": 0.9134788047,
                        "test": [
                          64.2873975
                        ]
                      },
                      {
                        "learn": [
                          49.98353095
                        ],
                        "iteration": 279,
                        "passed_time": 0.3545119477,
                        "remaining_time": 0.9116021512,
                        "test": [
                          64.28619602
                        ]
                      },
                      {
                        "learn": [
                          49.97349639
                        ],
                        "iteration": 280,
                        "passed_time": 0.3555043821,
                        "remaining_time": 0.9096357678,
                        "test": [
                          64.28568515
                        ]
                      },
                      {
                        "learn": [
                          49.96809281
                        ],
                        "iteration": 281,
                        "passed_time": 0.356685383,
                        "remaining_time": 0.9081564007,
                        "test": [
                          64.29089814
                        ]
                      },
                      {
                        "learn": [
                          49.96774471
                        ],
                        "iteration": 282,
                        "passed_time": 0.3589494584,
                        "remaining_time": 0.9094231861,
                        "test": [
                          64.29223584
                        ]
                      },
                      {
                        "learn": [
                          49.95957905
                        ],
                        "iteration": 283,
                        "passed_time": 0.3606933959,
                        "remaining_time": 0.9093537727,
                        "test": [
                          64.28802422
                        ]
                      },
                      {
                        "learn": [
                          49.94469052
                        ],
                        "iteration": 284,
                        "passed_time": 0.3616632001,
                        "remaining_time": 0.9073304844,
                        "test": [
                          64.30203779
                        ]
                      },
                      {
                        "learn": [
                          49.93088244
                        ],
                        "iteration": 285,
                        "passed_time": 0.362730032,
                        "remaining_time": 0.9055567932,
                        "test": [
                          64.30132442
                        ]
                      },
                      {
                        "learn": [
                          49.92747832
                        ],
                        "iteration": 286,
                        "passed_time": 0.3638386667,
                        "remaining_time": 0.9038918794,
                        "test": [
                          64.30369204
                        ]
                      },
                      {
                        "learn": [
                          49.9249249
                        ],
                        "iteration": 287,
                        "passed_time": 0.3648110986,
                        "remaining_time": 0.901894105,
                        "test": [
                          64.30059092
                        ]
                      },
                      {
                        "learn": [
                          49.91972885
                        ],
                        "iteration": 288,
                        "passed_time": 0.3697545237,
                        "remaining_time": 0.9096728941,
                        "test": [
                          64.30441621
                        ]
                      },
                      {
                        "learn": [
                          49.91721467
                        ],
                        "iteration": 289,
                        "passed_time": 0.370926147,
                        "remaining_time": 0.9081295323,
                        "test": [
                          64.31418836
                        ]
                      },
                      {
                        "learn": [
                          49.90251263
                        ],
                        "iteration": 290,
                        "passed_time": 0.3719476321,
                        "remaining_time": 0.9062229249,
                        "test": [
                          64.33402776
                        ]
                      },
                      {
                        "learn": [
                          49.89007617
                        ],
                        "iteration": 291,
                        "passed_time": 0.3729840856,
                        "remaining_time": 0.9043586734,
                        "test": [
                          64.32304837
                        ]
                      },
                      {
                        "learn": [
                          49.88350917
                        ],
                        "iteration": 292,
                        "passed_time": 0.3739659088,
                        "remaining_time": 0.902368251,
                        "test": [
                          64.33687197
                        ]
                      },
                      {
                        "learn": [
                          49.87796885
                        ],
                        "iteration": 293,
                        "passed_time": 0.3749207518,
                        "remaining_time": 0.9003199006,
                        "test": [
                          64.34167103
                        ]
                      },
                      {
                        "learn": [
                          49.87635961
                        ],
                        "iteration": 294,
                        "passed_time": 0.3758902942,
                        "remaining_time": 0.8983140929,
                        "test": [
                          64.33981247
                        ]
                      },
                      {
                        "learn": [
                          49.87122614
                        ],
                        "iteration": 295,
                        "passed_time": 0.3768687356,
                        "remaining_time": 0.8963364522,
                        "test": [
                          64.34415039
                        ]
                      },
                      {
                        "learn": [
                          49.85927747
                        ],
                        "iteration": 296,
                        "passed_time": 0.3778161909,
                        "remaining_time": 0.8942921959,
                        "test": [
                          64.34945801
                        ]
                      },
                      {
                        "learn": [
                          49.84715097
                        ],
                        "iteration": 297,
                        "passed_time": 0.3787435787,
                        "remaining_time": 0.8922080276,
                        "test": [
                          64.34751511
                        ]
                      },
                      {
                        "learn": [
                          49.84236966
                        ],
                        "iteration": 298,
                        "passed_time": 0.3797058893,
                        "remaining_time": 0.8902134729,
                        "test": [
                          64.35145032
                        ]
                      },
                      {
                        "learn": [
                          49.82957761
                        ],
                        "iteration": 299,
                        "passed_time": 0.3806245149,
                        "remaining_time": 0.888123868,
                        "test": [
                          64.35122746
                        ]
                      },
                      {
                        "learn": [
                          49.82123386
                        ],
                        "iteration": 300,
                        "passed_time": 0.3816072889,
                        "remaining_time": 0.8861910132,
                        "test": [
                          64.35108265
                        ]
                      },
                      {
                        "learn": [
                          49.81759084
                        ],
                        "iteration": 301,
                        "passed_time": 0.3825425003,
                        "remaining_time": 0.8841545205,
                        "test": [
                          64.34648131
                        ]
                      },
                      {
                        "learn": [
                          49.8048329
                        ],
                        "iteration": 302,
                        "passed_time": 0.3835004187,
                        "remaining_time": 0.8821775308,
                        "test": [
                          64.35327495
                        ]
                      },
                      {
                        "learn": [
                          49.79302004
                        ],
                        "iteration": 303,
                        "passed_time": 0.3845685856,
                        "remaining_time": 0.8804596565,
                        "test": [
                          64.35294626
                        ]
                      },
                      {
                        "learn": [
                          49.77918616
                        ],
                        "iteration": 304,
                        "passed_time": 0.3855461334,
                        "remaining_time": 0.8785395498,
                        "test": [
                          64.34422
                        ]
                      },
                      {
                        "learn": [
                          49.76600035
                        ],
                        "iteration": 305,
                        "passed_time": 0.3865164816,
                        "remaining_time": 0.8766092754,
                        "test": [
                          64.36348371
                        ]
                      },
                      {
                        "learn": [
                          49.7614561
                        ],
                        "iteration": 306,
                        "passed_time": 0.3874815395,
                        "remaining_time": 0.8746733124,
                        "test": [
                          64.37626818
                        ]
                      },
                      {
                        "learn": [
                          49.7504475
                        ],
                        "iteration": 307,
                        "passed_time": 0.3884491033,
                        "remaining_time": 0.872749284,
                        "test": [
                          64.37614022
                        ]
                      },
                      {
                        "learn": [
                          49.74042043
                        ],
                        "iteration": 308,
                        "passed_time": 0.3894063517,
                        "remaining_time": 0.8708083787,
                        "test": [
                          64.37740727
                        ]
                      },
                      {
                        "learn": [
                          49.73137068
                        ],
                        "iteration": 309,
                        "passed_time": 0.3903371503,
                        "remaining_time": 0.8688149475,
                        "test": [
                          64.37857815
                        ]
                      },
                      {
                        "learn": [
                          49.7268216
                        ],
                        "iteration": 310,
                        "passed_time": 0.3912471787,
                        "remaining_time": 0.8667823349,
                        "test": [
                          64.38678581
                        ]
                      },
                      {
                        "learn": [
                          49.72377453
                        ],
                        "iteration": 311,
                        "passed_time": 0.3921988467,
                        "remaining_time": 0.864848739,
                        "test": [
                          64.3912642
                        ]
                      },
                      {
                        "learn": [
                          49.71661347
                        ],
                        "iteration": 312,
                        "passed_time": 0.3931857367,
                        "remaining_time": 0.8629987256,
                        "test": [
                          64.3913857
                        ]
                      },
                      {
                        "learn": [
                          49.70280117
                        ],
                        "iteration": 313,
                        "passed_time": 0.394120063,
                        "remaining_time": 0.8610393734,
                        "test": [
                          64.3897443
                        ]
                      },
                      {
                        "learn": [
                          49.69902366
                        ],
                        "iteration": 314,
                        "passed_time": 0.3950619316,
                        "remaining_time": 0.8591029306,
                        "test": [
                          64.3951037
                        ]
                      },
                      {
                        "learn": [
                          49.69324288
                        ],
                        "iteration": 315,
                        "passed_time": 0.3960322258,
                        "remaining_time": 0.8572343115,
                        "test": [
                          64.39937374
                        ]
                      },
                      {
                        "learn": [
                          49.68389856
                        ],
                        "iteration": 316,
                        "passed_time": 0.3973332669,
                        "remaining_time": 0.8560839788,
                        "test": [
                          64.40060762
                        ]
                      },
                      {
                        "learn": [
                          49.68230851
                        ],
                        "iteration": 317,
                        "passed_time": 0.3982824763,
                        "remaining_time": 0.854178141,
                        "test": [
                          64.399552
                        ]
                      },
                      {
                        "learn": [
                          49.67589233
                        ],
                        "iteration": 318,
                        "passed_time": 0.3992396679,
                        "remaining_time": 0.8522953411,
                        "test": [
                          64.40446044
                        ]
                      },
                      {
                        "learn": [
                          49.67339947
                        ],
                        "iteration": 319,
                        "passed_time": 0.4002229619,
                        "remaining_time": 0.8504737941,
                        "test": [
                          64.40544647
                        ]
                      },
                      {
                        "learn": [
                          49.67126513
                        ],
                        "iteration": 320,
                        "passed_time": 0.4011470375,
                        "remaining_time": 0.848532207,
                        "test": [
                          64.40572809
                        ]
                      },
                      {
                        "learn": [
                          49.66652534
                        ],
                        "iteration": 321,
                        "passed_time": 0.4020582795,
                        "remaining_time": 0.8465699177,
                        "test": [
                          64.41455493
                        ]
                      },
                      {
                        "learn": [
                          49.66209218
                        ],
                        "iteration": 322,
                        "passed_time": 0.403057358,
                        "remaining_time": 0.8447982394,
                        "test": [
                          64.41884055
                        ]
                      },
                      {
                        "learn": [
                          49.65749793
                        ],
                        "iteration": 323,
                        "passed_time": 0.4040602182,
                        "remaining_time": 0.8430392207,
                        "test": [
                          64.42515275
                        ]
                      },
                      {
                        "learn": [
                          49.65328902
                        ],
                        "iteration": 324,
                        "passed_time": 0.4050444873,
                        "remaining_time": 0.8412462428,
                        "test": [
                          64.42391788
                        ]
                      },
                      {
                        "learn": [
                          49.64594889
                        ],
                        "iteration": 325,
                        "passed_time": 0.4060225478,
                        "remaining_time": 0.8394453902,
                        "test": [
                          64.41835721
                        ]
                      },
                      {
                        "learn": [
                          49.63500689
                        ],
                        "iteration": 326,
                        "passed_time": 0.4069902033,
                        "remaining_time": 0.8376281555,
                        "test": [
                          64.41611958
                        ]
                      },
                      {
                        "learn": [
                          49.63317004
                        ],
                        "iteration": 327,
                        "passed_time": 0.4079367769,
                        "remaining_time": 0.8357729087,
                        "test": [
                          64.41890496
                        ]
                      },
                      {
                        "learn": [
                          49.63173666
                        ],
                        "iteration": 328,
                        "passed_time": 0.408912331,
                        "remaining_time": 0.8339822921,
                        "test": [
                          64.41773178
                        ]
                      },
                      {
                        "learn": [
                          49.62716304
                        ],
                        "iteration": 329,
                        "passed_time": 0.4098737994,
                        "remaining_time": 0.8321680169,
                        "test": [
                          64.41889445
                        ]
                      },
                      {
                        "learn": [
                          49.62112844
                        ],
                        "iteration": 330,
                        "passed_time": 0.4108343096,
                        "remaining_time": 0.830356958,
                        "test": [
                          64.4212258
                        ]
                      },
                      {
                        "learn": [
                          49.61686658
                        ],
                        "iteration": 331,
                        "passed_time": 0.4117638641,
                        "remaining_time": 0.8284887387,
                        "test": [
                          64.42255073
                        ]
                      },
                      {
                        "learn": [
                          49.61291124
                        ],
                        "iteration": 332,
                        "passed_time": 0.4126734748,
                        "remaining_time": 0.8265862093,
                        "test": [
                          64.43168605
                        ]
                      },
                      {
                        "learn": [
                          49.61018569
                        ],
                        "iteration": 333,
                        "passed_time": 0.4136007907,
                        "remaining_time": 0.82472493,
                        "test": [
                          64.43295366
                        ]
                      },
                      {
                        "learn": [
                          49.60147383
                        ],
                        "iteration": 334,
                        "passed_time": 0.4145468688,
                        "remaining_time": 0.8229064709,
                        "test": [
                          64.43414172
                        ]
                      },
                      {
                        "learn": [
                          49.59628796
                        ],
                        "iteration": 335,
                        "passed_time": 0.4156421487,
                        "remaining_time": 0.8213880557,
                        "test": [
                          64.43888474
                        ]
                      },
                      {
                        "learn": [
                          49.58557376
                        ],
                        "iteration": 336,
                        "passed_time": 0.4167042879,
                        "remaining_time": 0.8198069522,
                        "test": [
                          64.44433022
                        ]
                      },
                      {
                        "learn": [
                          49.57626846
                        ],
                        "iteration": 337,
                        "passed_time": 0.417687897,
                        "remaining_time": 0.8180751118,
                        "test": [
                          64.45251298
                        ]
                      },
                      {
                        "learn": [
                          49.57275209
                        ],
                        "iteration": 338,
                        "passed_time": 0.4186638607,
                        "remaining_time": 0.8163327785,
                        "test": [
                          64.45174968
                        ]
                      },
                      {
                        "learn": [
                          49.57063502
                        ],
                        "iteration": 339,
                        "passed_time": 0.4196360267,
                        "remaining_time": 0.8145875811,
                        "test": [
                          64.45019609
                        ]
                      },
                      {
                        "learn": [
                          49.56691724
                        ],
                        "iteration": 340,
                        "passed_time": 0.4206282652,
                        "remaining_time": 0.812885709,
                        "test": [
                          64.46198412
                        ]
                      },
                      {
                        "learn": [
                          49.56515414
                        ],
                        "iteration": 341,
                        "passed_time": 0.4215424463,
                        "remaining_time": 0.811037806,
                        "test": [
                          64.46207347
                        ]
                      },
                      {
                        "learn": [
                          49.56235
                        ],
                        "iteration": 342,
                        "passed_time": 0.422474999,
                        "remaining_time": 0.8092305374,
                        "test": [
                          64.46955146
                        ]
                      },
                      {
                        "learn": [
                          49.55083257
                        ],
                        "iteration": 343,
                        "passed_time": 0.4234543804,
                        "remaining_time": 0.8075176556,
                        "test": [
                          64.48796409
                        ]
                      },
                      {
                        "learn": [
                          49.54946894
                        ],
                        "iteration": 344,
                        "passed_time": 0.4244136165,
                        "remaining_time": 0.8057707791,
                        "test": [
                          64.48689462
                        ]
                      },
                      {
                        "learn": [
                          49.53959529
                        ],
                        "iteration": 345,
                        "passed_time": 0.4260353319,
                        "remaining_time": 0.8052806563,
                        "test": [
                          64.48531256
                        ]
                      },
                      {
                        "learn": [
                          49.52674549
                        ],
                        "iteration": 346,
                        "passed_time": 0.4271989198,
                        "remaining_time": 0.8039218865,
                        "test": [
                          64.47866795
                        ]
                      },
                      {
                        "learn": [
                          49.52635762
                        ],
                        "iteration": 347,
                        "passed_time": 0.4282705762,
                        "remaining_time": 0.8023919991,
                        "test": [
                          64.47746426
                        ]
                      },
                      {
                        "learn": [
                          49.5179168
                        ],
                        "iteration": 348,
                        "passed_time": 0.429461672,
                        "remaining_time": 0.8010875314,
                        "test": [
                          64.47949218
                        ]
                      },
                      {
                        "learn": [
                          49.51617838
                        ],
                        "iteration": 349,
                        "passed_time": 0.43050712,
                        "remaining_time": 0.7995132229,
                        "test": [
                          64.47745733
                        ]
                      },
                      {
                        "learn": [
                          49.50712221
                        ],
                        "iteration": 350,
                        "passed_time": 0.4316608875,
                        "remaining_time": 0.7981422108,
                        "test": [
                          64.48688598
                        ]
                      },
                      {
                        "learn": [
                          49.50403747
                        ],
                        "iteration": 351,
                        "passed_time": 0.4326850835,
                        "remaining_time": 0.7965339037,
                        "test": [
                          64.49249655
                        ]
                      },
                      {
                        "learn": [
                          49.50139134
                        ],
                        "iteration": 352,
                        "passed_time": 0.4336536068,
                        "remaining_time": 0.7948268657,
                        "test": [
                          64.49301483
                        ]
                      },
                      {
                        "learn": [
                          49.4986374
                        ],
                        "iteration": 353,
                        "passed_time": 0.4346003539,
                        "remaining_time": 0.7930842617,
                        "test": [
                          64.50076238
                        ]
                      },
                      {
                        "learn": [
                          49.49498055
                        ],
                        "iteration": 354,
                        "passed_time": 0.4357325821,
                        "remaining_time": 0.7916831421,
                        "test": [
                          64.50153561
                        ]
                      },
                      {
                        "learn": [
                          49.48320964
                        ],
                        "iteration": 355,
                        "passed_time": 0.4368877814,
                        "remaining_time": 0.7903250877,
                        "test": [
                          64.51495352
                        ]
                      },
                      {
                        "learn": [
                          49.47099296
                        ],
                        "iteration": 356,
                        "passed_time": 0.4379264845,
                        "remaining_time": 0.788758346,
                        "test": [
                          64.52425706
                        ]
                      },
                      {
                        "learn": [
                          49.46454695
                        ],
                        "iteration": 357,
                        "passed_time": 0.4389277152,
                        "remaining_time": 0.7871273552,
                        "test": [
                          64.52778004
                        ]
                      },
                      {
                        "learn": [
                          49.46327557
                        ],
                        "iteration": 358,
                        "passed_time": 0.4399153279,
                        "remaining_time": 0.7854755576,
                        "test": [
                          64.52731941
                        ]
                      },
                      {
                        "learn": [
                          49.45159893
                        ],
                        "iteration": 359,
                        "passed_time": 0.4408534878,
                        "remaining_time": 0.7837395339,
                        "test": [
                          64.52545604
                        ]
                      },
                      {
                        "learn": [
                          49.44822298
                        ],
                        "iteration": 360,
                        "passed_time": 0.4418323688,
                        "remaining_time": 0.7820800101,
                        "test": [
                          64.53456964
                        ]
                      },
                      {
                        "learn": [
                          49.44144872
                        ],
                        "iteration": 361,
                        "passed_time": 0.4427775023,
                        "remaining_time": 0.7803647692,
                        "test": [
                          64.5364755
                        ]
                      },
                      {
                        "learn": [
                          49.42923796
                        ],
                        "iteration": 362,
                        "passed_time": 0.4437240353,
                        "remaining_time": 0.7786562273,
                        "test": [
                          64.53360285
                        ]
                      },
                      {
                        "learn": [
                          49.42706221
                        ],
                        "iteration": 363,
                        "passed_time": 0.4447080912,
                        "remaining_time": 0.7770174341,
                        "test": [
                          64.53833747
                        ]
                      },
                      {
                        "learn": [
                          49.42486527
                        ],
                        "iteration": 364,
                        "passed_time": 0.4456365144,
                        "remaining_time": 0.7752854429,
                        "test": [
                          64.53528192
                        ]
                      },
                      {
                        "learn": [
                          49.41621424
                        ],
                        "iteration": 365,
                        "passed_time": 0.4466135731,
                        "remaining_time": 0.7736420911,
                        "test": [
                          64.5351216
                        ]
                      },
                      {
                        "learn": [
                          49.40561534
                        ],
                        "iteration": 366,
                        "passed_time": 0.4475767551,
                        "remaining_time": 0.7719784359,
                        "test": [
                          64.52818433
                        ]
                      },
                      {
                        "learn": [
                          49.404422
                        ],
                        "iteration": 367,
                        "passed_time": 0.448562991,
                        "remaining_time": 0.7703581801,
                        "test": [
                          64.52784009
                        ]
                      },
                      {
                        "learn": [
                          49.39373172
                        ],
                        "iteration": 368,
                        "passed_time": 0.4495516468,
                        "remaining_time": 0.768745499,
                        "test": [
                          64.54064458
                        ]
                      },
                      {
                        "learn": [
                          49.38509681
                        ],
                        "iteration": 369,
                        "passed_time": 0.450591419,
                        "remaining_time": 0.7672232269,
                        "test": [
                          64.54340184
                        ]
                      },
                      {
                        "learn": [
                          49.38303112
                        ],
                        "iteration": 370,
                        "passed_time": 0.4515723422,
                        "remaining_time": 0.7656037823,
                        "test": [
                          64.54121726
                        ]
                      },
                      {
                        "learn": [
                          49.38246267
                        ],
                        "iteration": 371,
                        "passed_time": 0.452526912,
                        "remaining_time": 0.7639432815,
                        "test": [
                          64.54159743
                        ]
                      },
                      {
                        "learn": [
                          49.37559889
                        ],
                        "iteration": 372,
                        "passed_time": 0.4534565633,
                        "remaining_time": 0.7622446789,
                        "test": [
                          64.54168985
                        ]
                      },
                      {
                        "learn": [
                          49.36489836
                        ],
                        "iteration": 373,
                        "passed_time": 0.4543803757,
                        "remaining_time": 0.7605404149,
                        "test": [
                          64.5412161
                        ]
                      },
                      {
                        "learn": [
                          49.35696831
                        ],
                        "iteration": 374,
                        "passed_time": 0.4552933541,
                        "remaining_time": 0.7588222568,
                        "test": [
                          64.55002747
                        ]
                      },
                      {
                        "learn": [
                          49.34767375
                        ],
                        "iteration": 375,
                        "passed_time": 0.4562608696,
                        "remaining_time": 0.75719889,
                        "test": [
                          64.56098655
                        ]
                      },
                      {
                        "learn": [
                          49.34145523
                        ],
                        "iteration": 376,
                        "passed_time": 0.4572122295,
                        "remaining_time": 0.7555523049,
                        "test": [
                          64.56498289
                        ]
                      },
                      {
                        "learn": [
                          49.34036274
                        ],
                        "iteration": 377,
                        "passed_time": 0.4581290301,
                        "remaining_time": 0.7538525309,
                        "test": [
                          64.56836685
                        ]
                      },
                      {
                        "learn": [
                          49.33160739
                        ],
                        "iteration": 378,
                        "passed_time": 0.4590909493,
                        "remaining_time": 0.7522308167,
                        "test": [
                          64.57717244
                        ]
                      },
                      {
                        "learn": [
                          49.32932569
                        ],
                        "iteration": 379,
                        "passed_time": 0.4600383406,
                        "remaining_time": 0.7505888714,
                        "test": [
                          64.5809491
                        ]
                      },
                      {
                        "learn": [
                          49.32163839
                        ],
                        "iteration": 380,
                        "passed_time": 0.4609726937,
                        "remaining_time": 0.7489293895,
                        "test": [
                          64.58541025
                        ]
                      },
                      {
                        "learn": [
                          49.3166637
                        ],
                        "iteration": 381,
                        "passed_time": 0.461906371,
                        "remaining_time": 0.7472726106,
                        "test": [
                          64.5893392
                        ]
                      },
                      {
                        "learn": [
                          49.31518375
                        ],
                        "iteration": 382,
                        "passed_time": 0.462847915,
                        "remaining_time": 0.7456322808,
                        "test": [
                          64.58788022
                        ]
                      },
                      {
                        "learn": [
                          49.31379568
                        ],
                        "iteration": 383,
                        "passed_time": 0.4638167751,
                        "remaining_time": 0.7440394101,
                        "test": [
                          64.5866989
                        ]
                      },
                      {
                        "learn": [
                          49.3046743
                        ],
                        "iteration": 384,
                        "passed_time": 0.4647327012,
                        "remaining_time": 0.7423652239,
                        "test": [
                          64.58635219
                        ]
                      },
                      {
                        "learn": [
                          49.3024623
                        ],
                        "iteration": 385,
                        "passed_time": 0.4659779701,
                        "remaining_time": 0.7412188436,
                        "test": [
                          64.59519218
                        ]
                      },
                      {
                        "learn": [
                          49.29993952
                        ],
                        "iteration": 386,
                        "passed_time": 0.4670786599,
                        "remaining_time": 0.7398429419,
                        "test": [
                          64.5989937
                        ]
                      },
                      {
                        "learn": [
                          49.29202015
                        ],
                        "iteration": 387,
                        "passed_time": 0.4683205543,
                        "remaining_time": 0.7386911836,
                        "test": [
                          64.59766355
                        ]
                      },
                      {
                        "learn": [
                          49.28609545
                        ],
                        "iteration": 388,
                        "passed_time": 0.4693334858,
                        "remaining_time": 0.7371793312,
                        "test": [
                          64.6016332
                        ]
                      },
                      {
                        "learn": [
                          49.27598668
                        ],
                        "iteration": 389,
                        "passed_time": 0.4703030932,
                        "remaining_time": 0.735602274,
                        "test": [
                          64.61026899
                        ]
                      },
                      {
                        "learn": [
                          49.27564466
                        ],
                        "iteration": 390,
                        "passed_time": 0.4711337923,
                        "remaining_time": 0.7338119681,
                        "test": [
                          64.61141888
                        ]
                      },
                      {
                        "learn": [
                          49.27410697
                        ],
                        "iteration": 391,
                        "passed_time": 0.4720700545,
                        "remaining_time": 0.7321902887,
                        "test": [
                          64.61035947
                        ]
                      },
                      {
                        "learn": [
                          49.27177182
                        ],
                        "iteration": 392,
                        "passed_time": 0.4727678358,
                        "remaining_time": 0.7302037566,
                        "test": [
                          64.61124208
                        ]
                      },
                      {
                        "learn": [
                          49.26400707
                        ],
                        "iteration": 393,
                        "passed_time": 0.4738404281,
                        "remaining_time": 0.7288002524,
                        "test": [
                          64.61286063
                        ]
                      },
                      {
                        "learn": [
                          49.25918832
                        ],
                        "iteration": 394,
                        "passed_time": 0.4751535505,
                        "remaining_time": 0.7277668306,
                        "test": [
                          64.61538862
                        ]
                      },
                      {
                        "learn": [
                          49.25399
                        ],
                        "iteration": 395,
                        "passed_time": 0.4764364459,
                        "remaining_time": 0.7266858923,
                        "test": [
                          64.62680999
                        ]
                      },
                      {
                        "learn": [
                          49.25297999
                        ],
                        "iteration": 396,
                        "passed_time": 0.4778085137,
                        "remaining_time": 0.7257393797,
                        "test": [
                          64.62643118
                        ]
                      },
                      {
                        "learn": [
                          49.24624476
                        ],
                        "iteration": 397,
                        "passed_time": 0.4787772311,
                        "remaining_time": 0.7241806359,
                        "test": [
                          64.63117058
                        ]
                      },
                      {
                        "learn": [
                          49.24309509
                        ],
                        "iteration": 398,
                        "passed_time": 0.4797564806,
                        "remaining_time": 0.7226407139,
                        "test": [
                          64.63457825
                        ]
                      },
                      {
                        "learn": [
                          49.24278971
                        ],
                        "iteration": 399,
                        "passed_time": 0.4806932619,
                        "remaining_time": 0.7210398929,
                        "test": [
                          64.63571884
                        ]
                      },
                      {
                        "learn": [
                          49.23707818
                        ],
                        "iteration": 400,
                        "passed_time": 0.4816574585,
                        "remaining_time": 0.7194833357,
                        "test": [
                          64.63643895
                        ]
                      },
                      {
                        "learn": [
                          49.23484506
                        ],
                        "iteration": 401,
                        "passed_time": 0.4826728386,
                        "remaining_time": 0.7180058644,
                        "test": [
                          64.63890852
                        ]
                      },
                      {
                        "learn": [
                          49.22634353
                        ],
                        "iteration": 402,
                        "passed_time": 0.483584312,
                        "remaining_time": 0.7163767599,
                        "test": [
                          64.63866398
                        ]
                      },
                      {
                        "learn": [
                          49.21523697
                        ],
                        "iteration": 403,
                        "passed_time": 0.4844948663,
                        "remaining_time": 0.7147498522,
                        "test": [
                          64.64350391
                        ]
                      },
                      {
                        "learn": [
                          49.21430562
                        ],
                        "iteration": 404,
                        "passed_time": 0.4854261926,
                        "remaining_time": 0.7131569991,
                        "test": [
                          64.6462628
                        ]
                      },
                      {
                        "learn": [
                          49.20780935
                        ],
                        "iteration": 405,
                        "passed_time": 0.486395995,
                        "remaining_time": 0.7116236971,
                        "test": [
                          64.64574463
                        ]
                      },
                      {
                        "learn": [
                          49.2066294
                        ],
                        "iteration": 406,
                        "passed_time": 0.4873878272,
                        "remaining_time": 0.7101252617,
                        "test": [
                          64.64577623
                        ]
                      },
                      {
                        "learn": [
                          49.19894307
                        ],
                        "iteration": 407,
                        "passed_time": 0.4894349187,
                        "remaining_time": 0.7101604702,
                        "test": [
                          64.64386671
                        ]
                      },
                      {
                        "learn": [
                          49.19529093
                        ],
                        "iteration": 408,
                        "passed_time": 0.49027438,
                        "remaining_time": 0.7084404855,
                        "test": [
                          64.65543419
                        ]
                      },
                      {
                        "learn": [
                          49.19286222
                        ],
                        "iteration": 409,
                        "passed_time": 0.4934690954,
                        "remaining_time": 0.7101140641,
                        "test": [
                          64.66009264
                        ]
                      },
                      {
                        "learn": [
                          49.18954792
                        ],
                        "iteration": 410,
                        "passed_time": 0.4944876532,
                        "remaining_time": 0.708645323,
                        "test": [
                          64.66552019
                        ]
                      },
                      {
                        "learn": [
                          49.18229619
                        ],
                        "iteration": 411,
                        "passed_time": 0.4954821786,
                        "remaining_time": 0.7071444684,
                        "test": [
                          64.66891116
                        ]
                      },
                      {
                        "learn": [
                          49.17465178
                        ],
                        "iteration": 412,
                        "passed_time": 0.4964798443,
                        "remaining_time": 0.7056505293,
                        "test": [
                          64.66908836
                        ]
                      },
                      {
                        "learn": [
                          49.17298111
                        ],
                        "iteration": 413,
                        "passed_time": 0.4974289874,
                        "remaining_time": 0.7040903058,
                        "test": [
                          64.6761628
                        ]
                      },
                      {
                        "learn": [
                          49.16815502
                        ],
                        "iteration": 414,
                        "passed_time": 0.4984067719,
                        "remaining_time": 0.7025734014,
                        "test": [
                          64.68448256
                        ]
                      },
                      {
                        "learn": [
                          49.16273124
                        ],
                        "iteration": 415,
                        "passed_time": 0.4993828474,
                        "remaining_time": 0.7010566897,
                        "test": [
                          64.68538152
                        ]
                      },
                      {
                        "learn": [
                          49.15327585
                        ],
                        "iteration": 416,
                        "passed_time": 0.5003029798,
                        "remaining_time": 0.6994643579,
                        "test": [
                          64.67543236
                        ]
                      },
                      {
                        "learn": [
                          49.15069342
                        ],
                        "iteration": 417,
                        "passed_time": 0.5012900839,
                        "remaining_time": 0.69796849,
                        "test": [
                          64.67517056
                        ]
                      },
                      {
                        "learn": [
                          49.14830809
                        ],
                        "iteration": 418,
                        "passed_time": 0.5022258111,
                        "remaining_time": 0.6964038097,
                        "test": [
                          64.67886988
                        ]
                      },
                      {
                        "learn": [
                          49.14110266
                        ],
                        "iteration": 419,
                        "passed_time": 0.503294788,
                        "remaining_time": 0.6950261358,
                        "test": [
                          64.67931569
                        ]
                      },
                      {
                        "learn": [
                          49.13795759
                        ],
                        "iteration": 420,
                        "passed_time": 0.5042507855,
                        "remaining_time": 0.6934945483,
                        "test": [
                          64.68095016
                        ]
                      },
                      {
                        "learn": [
                          49.13714028
                        ],
                        "iteration": 421,
                        "passed_time": 0.5051871909,
                        "remaining_time": 0.6919388539,
                        "test": [
                          64.67981335
                        ]
                      },
                      {
                        "learn": [
                          49.13072718
                        ],
                        "iteration": 422,
                        "passed_time": 0.5061303236,
                        "remaining_time": 0.6903952641,
                        "test": [
                          64.68121852
                        ]
                      },
                      {
                        "learn": [
                          49.12944156
                        ],
                        "iteration": 423,
                        "passed_time": 0.507079747,
                        "remaining_time": 0.6888630526,
                        "test": [
                          64.68483699
                        ]
                      },
                      {
                        "learn": [
                          49.12268812
                        ],
                        "iteration": 424,
                        "passed_time": 0.5081562466,
                        "remaining_time": 0.6875055101,
                        "test": [
                          64.68827614
                        ]
                      },
                      {
                        "learn": [
                          49.11640568
                        ],
                        "iteration": 425,
                        "passed_time": 0.5090951106,
                        "remaining_time": 0.6859638345,
                        "test": [
                          64.69174943
                        ]
                      },
                      {
                        "learn": [
                          49.11436518
                        ],
                        "iteration": 426,
                        "passed_time": 0.5101699498,
                        "remaining_time": 0.6846074502,
                        "test": [
                          64.69469697
                        ]
                      },
                      {
                        "learn": [
                          49.10916458
                        ],
                        "iteration": 427,
                        "passed_time": 0.5114084383,
                        "remaining_time": 0.6834710904,
                        "test": [
                          64.69488617
                        ]
                      },
                      {
                        "learn": [
                          49.10218225
                        ],
                        "iteration": 428,
                        "passed_time": 0.5124331897,
                        "remaining_time": 0.68204977,
                        "test": [
                          64.70169864
                        ]
                      },
                      {
                        "learn": [
                          49.10041361
                        ],
                        "iteration": 429,
                        "passed_time": 0.513390924,
                        "remaining_time": 0.6805414574,
                        "test": [
                          64.70177214
                        ]
                      },
                      {
                        "learn": [
                          49.09658349
                        ],
                        "iteration": 430,
                        "passed_time": 0.5143590182,
                        "remaining_time": 0.6790493768,
                        "test": [
                          64.70373053
                        ]
                      },
                      {
                        "learn": [
                          49.08762055
                        ],
                        "iteration": 431,
                        "passed_time": 0.5153900646,
                        "remaining_time": 0.6776424923,
                        "test": [
                          64.70330601
                        ]
                      },
                      {
                        "learn": [
                          49.08009285
                        ],
                        "iteration": 432,
                        "passed_time": 0.5163260468,
                        "remaining_time": 0.6761128604,
                        "test": [
                          64.70539996
                        ]
                      },
                      {
                        "learn": [
                          49.07583185
                        ],
                        "iteration": 433,
                        "passed_time": 0.517556205,
                        "remaining_time": 0.674969613,
                        "test": [
                          64.70171119
                        ]
                      },
                      {
                        "learn": [
                          49.07175923
                        ],
                        "iteration": 434,
                        "passed_time": 0.5185458054,
                        "remaining_time": 0.6735135173,
                        "test": [
                          64.71287301
                        ]
                      },
                      {
                        "learn": [
                          49.06295613
                        ],
                        "iteration": 435,
                        "passed_time": 0.519524714,
                        "remaining_time": 0.672045731,
                        "test": [
                          64.72253407
                        ]
                      },
                      {
                        "learn": [
                          49.05605546
                        ],
                        "iteration": 436,
                        "passed_time": 0.5204809106,
                        "remaining_time": 0.6705509215,
                        "test": [
                          64.73238694
                        ]
                      },
                      {
                        "learn": [
                          49.05541554
                        ],
                        "iteration": 437,
                        "passed_time": 0.5214545725,
                        "remaining_time": 0.6690809812,
                        "test": [
                          64.73213377
                        ]
                      },
                      {
                        "learn": [
                          49.05003444
                        ],
                        "iteration": 438,
                        "passed_time": 0.522399266,
                        "remaining_time": 0.667576283,
                        "test": [
                          64.73367706
                        ]
                      },
                      {
                        "learn": [
                          49.04670534
                        ],
                        "iteration": 439,
                        "passed_time": 0.5233356383,
                        "remaining_time": 0.6660635396,
                        "test": [
                          64.74137528
                        ]
                      },
                      {
                        "learn": [
                          49.03926408
                        ],
                        "iteration": 440,
                        "passed_time": 0.5242462107,
                        "remaining_time": 0.664520707,
                        "test": [
                          64.74550255
                        ]
                      },
                      {
                        "learn": [
                          49.02996289
                        ],
                        "iteration": 441,
                        "passed_time": 0.5252002864,
                        "remaining_time": 0.6630356557,
                        "test": [
                          64.7617876
                        ]
                      },
                      {
                        "learn": [
                          49.02846855
                        ],
                        "iteration": 442,
                        "passed_time": 0.5261241947,
                        "remaining_time": 0.661515071,
                        "test": [
                          64.7624282
                        ]
                      },
                      {
                        "learn": [
                          49.02772301
                        ],
                        "iteration": 443,
                        "passed_time": 0.5270546293,
                        "remaining_time": 0.6600053466,
                        "test": [
                          64.7627645
                        ]
                      },
                      {
                        "learn": [
                          49.02742017
                        ],
                        "iteration": 444,
                        "passed_time": 0.5281126154,
                        "remaining_time": 0.6586573068,
                        "test": [
                          64.76279531
                        ]
                      },
                      {
                        "learn": [
                          49.02208244
                        ],
                        "iteration": 445,
                        "passed_time": 0.5292605707,
                        "remaining_time": 0.6574223232,
                        "test": [
                          64.77203558
                        ]
                      },
                      {
                        "learn": [
                          49.01967298
                        ],
                        "iteration": 446,
                        "passed_time": 0.5302716345,
                        "remaining_time": 0.6560183755,
                        "test": [
                          64.77365481
                        ]
                      },
                      {
                        "learn": [
                          49.01428421
                        ],
                        "iteration": 447,
                        "passed_time": 0.5312434955,
                        "remaining_time": 0.6545678783,
                        "test": [
                          64.77510068
                        ]
                      },
                      {
                        "learn": [
                          49.00688319
                        ],
                        "iteration": 448,
                        "passed_time": 0.5321855254,
                        "remaining_time": 0.6530829053,
                        "test": [
                          64.77890095
                        ]
                      },
                      {
                        "learn": [
                          49.00247111
                        ],
                        "iteration": 449,
                        "passed_time": 0.5331069887,
                        "remaining_time": 0.6515752084,
                        "test": [
                          64.78399567
                        ]
                      },
                      {
                        "learn": [
                          49.00171923
                        ],
                        "iteration": 450,
                        "passed_time": 0.5340906268,
                        "remaining_time": 0.6501457963,
                        "test": [
                          64.78332747
                        ]
                      },
                      {
                        "learn": [
                          48.99425213
                        ],
                        "iteration": 451,
                        "passed_time": 0.5350914594,
                        "remaining_time": 0.6487392029,
                        "test": [
                          64.78787464
                        ]
                      },
                      {
                        "learn": [
                          48.98703346
                        ],
                        "iteration": 452,
                        "passed_time": 0.5360898915,
                        "remaining_time": 0.6473315025,
                        "test": [
                          64.78796622
                        ]
                      },
                      {
                        "learn": [
                          48.98375749
                        ],
                        "iteration": 453,
                        "passed_time": 0.5370642393,
                        "remaining_time": 0.6458966402,
                        "test": [
                          64.79290822
                        ]
                      },
                      {
                        "learn": [
                          48.97515684
                        ],
                        "iteration": 454,
                        "passed_time": 0.5423425636,
                        "remaining_time": 0.6496191146,
                        "test": [
                          64.80864389
                        ]
                      },
                      {
                        "learn": [
                          48.97447591
                        ],
                        "iteration": 455,
                        "passed_time": 0.5432195886,
                        "remaining_time": 0.648051439,
                        "test": [
                          64.80808613
                        ]
                      },
                      {
                        "learn": [
                          48.96437586
                        ],
                        "iteration": 456,
                        "passed_time": 0.5440097272,
                        "remaining_time": 0.646383549,
                        "test": [
                          64.80181659
                        ]
                      },
                      {
                        "learn": [
                          48.96375171
                        ],
                        "iteration": 457,
                        "passed_time": 0.5449113916,
                        "remaining_time": 0.6448514721,
                        "test": [
                          64.80124971
                        ]
                      },
                      {
                        "learn": [
                          48.95777367
                        ],
                        "iteration": 458,
                        "passed_time": 0.5476931322,
                        "remaining_time": 0.6455380926,
                        "test": [
                          64.79450358
                        ]
                      },
                      {
                        "learn": [
                          48.94943921
                        ],
                        "iteration": 459,
                        "passed_time": 0.5487050919,
                        "remaining_time": 0.6441320644,
                        "test": [
                          64.80284884
                        ]
                      },
                      {
                        "learn": [
                          48.94494897
                        ],
                        "iteration": 460,
                        "passed_time": 0.5497078285,
                        "remaining_time": 0.6427169622,
                        "test": [
                          64.80370462
                        ]
                      },
                      {
                        "learn": [
                          48.94424418
                        ],
                        "iteration": 461,
                        "passed_time": 0.5506813663,
                        "remaining_time": 0.641269643,
                        "test": [
                          64.80328532
                        ]
                      },
                      {
                        "learn": [
                          48.94352908
                        ],
                        "iteration": 462,
                        "passed_time": 0.55160953,
                        "remaining_time": 0.6397717443,
                        "test": [
                          64.80570124
                        ]
                      },
                      {
                        "learn": [
                          48.94126572
                        ],
                        "iteration": 463,
                        "passed_time": 0.552546804,
                        "remaining_time": 0.6382868253,
                        "test": [
                          64.81247941
                        ]
                      },
                      {
                        "learn": [
                          48.93320328
                        ],
                        "iteration": 464,
                        "passed_time": 0.5534604092,
                        "remaining_time": 0.6367770299,
                        "test": [
                          64.80439646
                        ]
                      },
                      {
                        "learn": [
                          48.93283776
                        ],
                        "iteration": 465,
                        "passed_time": 0.5544078795,
                        "remaining_time": 0.6353086001,
                        "test": [
                          64.80553832
                        ]
                      },
                      {
                        "learn": [
                          48.93166098
                        ],
                        "iteration": 466,
                        "passed_time": 0.5553214747,
                        "remaining_time": 0.6338037388,
                        "test": [
                          64.80580615
                        ]
                      },
                      {
                        "learn": [
                          48.92722499
                        ],
                        "iteration": 467,
                        "passed_time": 0.5562461338,
                        "remaining_time": 0.6323139812,
                        "test": [
                          64.80125771
                        ]
                      },
                      {
                        "learn": [
                          48.92410551
                        ],
                        "iteration": 468,
                        "passed_time": 0.5572021714,
                        "remaining_time": 0.6308621599,
                        "test": [
                          64.80809493
                        ]
                      },
                      {
                        "learn": [
                          48.91659247
                        ],
                        "iteration": 469,
                        "passed_time": 0.5581773941,
                        "remaining_time": 0.6294340828,
                        "test": [
                          64.817764
                        ]
                      },
                      {
                        "learn": [
                          48.91460774
                        ],
                        "iteration": 470,
                        "passed_time": 0.5591425302,
                        "remaining_time": 0.6279965997,
                        "test": [
                          64.82229325
                        ]
                      },
                      {
                        "learn": [
                          48.91068192
                        ],
                        "iteration": 471,
                        "passed_time": 0.5601175571,
                        "remaining_time": 0.6265721825,
                        "test": [
                          64.82315528
                        ]
                      },
                      {
                        "learn": [
                          48.90769729
                        ],
                        "iteration": 472,
                        "passed_time": 0.5610772205,
                        "remaining_time": 0.6251325479,
                        "test": [
                          64.8245458
                        ]
                      },
                      {
                        "learn": [
                          48.89998616
                        ],
                        "iteration": 473,
                        "passed_time": 0.5621956351,
                        "remaining_time": 0.6238711056,
                        "test": [
                          64.82872962
                        ]
                      },
                      {
                        "learn": [
                          48.89650272
                        ],
                        "iteration": 474,
                        "passed_time": 0.5631912072,
                        "remaining_time": 0.6224744922,
                        "test": [
                          64.83059328
                        ]
                      },
                      {
                        "learn": [
                          48.89497683
                        ],
                        "iteration": 475,
                        "passed_time": 0.5641819581,
                        "remaining_time": 0.6210742563,
                        "test": [
                          64.83402709
                        ]
                      },
                      {
                        "learn": [
                          48.88885693
                        ],
                        "iteration": 476,
                        "passed_time": 0.5651550122,
                        "remaining_time": 0.6196563342,
                        "test": [
                          64.83077629
                        ]
                      },
                      {
                        "learn": [
                          48.88303774
                        ],
                        "iteration": 477,
                        "passed_time": 0.5661073389,
                        "remaining_time": 0.6182176378,
                        "test": [
                          64.84358495
                        ]
                      },
                      {
                        "learn": [
                          48.87382556
                        ],
                        "iteration": 478,
                        "passed_time": 0.5670966224,
                        "remaining_time": 0.6168211697,
                        "test": [
                          64.84354768
                        ]
                      },
                      {
                        "learn": [
                          48.87196607
                        ],
                        "iteration": 479,
                        "passed_time": 0.5680552017,
                        "remaining_time": 0.6153931352,
                        "test": [
                          64.84309544
                        ]
                      },
                      {
                        "learn": [
                          48.87184998
                        ],
                        "iteration": 480,
                        "passed_time": 0.5690075815,
                        "remaining_time": 0.6139603634,
                        "test": [
                          64.84321944
                        ]
                      },
                      {
                        "learn": [
                          48.86815743
                        ],
                        "iteration": 481,
                        "passed_time": 0.5699247544,
                        "remaining_time": 0.6124917485,
                        "test": [
                          64.84397031
                        ]
                      },
                      {
                        "learn": [
                          48.86274413
                        ],
                        "iteration": 482,
                        "passed_time": 0.5708504576,
                        "remaining_time": 0.6110345478,
                        "test": [
                          64.84722402
                        ]
                      },
                      {
                        "learn": [
                          48.86053604
                        ],
                        "iteration": 483,
                        "passed_time": 0.5718026766,
                        "remaining_time": 0.6096078122,
                        "test": [
                          64.84641499
                        ]
                      },
                      {
                        "learn": [
                          48.85440997
                        ],
                        "iteration": 484,
                        "passed_time": 0.5727261007,
                        "remaining_time": 0.6081524575,
                        "test": [
                          64.8501273
                        ]
                      },
                      {
                        "learn": [
                          48.84706717
                        ],
                        "iteration": 485,
                        "passed_time": 0.5736464581,
                        "remaining_time": 0.6066960483,
                        "test": [
                          64.84113904
                        ]
                      },
                      {
                        "learn": [
                          48.83958342
                        ],
                        "iteration": 486,
                        "passed_time": 0.5745489225,
                        "remaining_time": 0.6052229923,
                        "test": [
                          64.84588224
                        ]
                      },
                      {
                        "learn": [
                          48.83674443
                        ],
                        "iteration": 487,
                        "passed_time": 0.575492576,
                        "remaining_time": 0.6037954896,
                        "test": [
                          64.8547027
                        ]
                      },
                      {
                        "learn": [
                          48.83365492
                        ],
                        "iteration": 488,
                        "passed_time": 0.5764173211,
                        "remaining_time": 0.6023502067,
                        "test": [
                          64.86287246
                        ]
                      },
                      {
                        "learn": [
                          48.83030432
                        ],
                        "iteration": 489,
                        "passed_time": 0.5773489397,
                        "remaining_time": 0.6009142026,
                        "test": [
                          64.86566354
                        ]
                      },
                      {
                        "learn": [
                          48.82373431
                        ],
                        "iteration": 490,
                        "passed_time": 0.5782996645,
                        "remaining_time": 0.5995000596,
                        "test": [
                          64.87498728
                        ]
                      },
                      {
                        "learn": [
                          48.81888515
                        ],
                        "iteration": 491,
                        "passed_time": 0.5792510416,
                        "remaining_time": 0.5980884739,
                        "test": [
                          64.87497319
                        ]
                      },
                      {
                        "learn": [
                          48.81563294
                        ],
                        "iteration": 492,
                        "passed_time": 0.5801781244,
                        "remaining_time": 0.596653771,
                        "test": [
                          64.88190767
                        ]
                      },
                      {
                        "learn": [
                          48.81541327
                        ],
                        "iteration": 493,
                        "passed_time": 0.5813795501,
                        "remaining_time": 0.5955021303,
                        "test": [
                          64.88208385
                        ]
                      },
                      {
                        "learn": [
                          48.80783503
                        ],
                        "iteration": 494,
                        "passed_time": 0.5823909612,
                        "remaining_time": 0.5941564352,
                        "test": [
                          64.89692232
                        ]
                      },
                      {
                        "learn": [
                          48.79970437
                        ],
                        "iteration": 495,
                        "passed_time": 0.5833412878,
                        "remaining_time": 0.5927500183,
                        "test": [
                          64.89171806
                        ]
                      },
                      {
                        "learn": [
                          48.79908507
                        ],
                        "iteration": 496,
                        "passed_time": 0.5843266069,
                        "remaining_time": 0.5913808516,
                        "test": [
                          64.89161179
                        ]
                      },
                      {
                        "learn": [
                          48.79838183
                        ],
                        "iteration": 497,
                        "passed_time": 0.5852969734,
                        "remaining_time": 0.5899981539,
                        "test": [
                          64.89002495
                        ]
                      },
                      {
                        "learn": [
                          48.79633399
                        ],
                        "iteration": 498,
                        "passed_time": 0.5862639867,
                        "remaining_time": 0.5886137421,
                        "test": [
                          64.89010647
                        ]
                      },
                      {
                        "learn": [
                          48.79203014
                        ],
                        "iteration": 499,
                        "passed_time": 0.5873381022,
                        "remaining_time": 0.5873381022,
                        "test": [
                          64.89126814
                        ]
                      },
                      {
                        "learn": [
                          48.78627881
                        ],
                        "iteration": 500,
                        "passed_time": 0.5882745444,
                        "remaining_time": 0.585926143,
                        "test": [
                          64.89106561
                        ]
                      },
                      {
                        "learn": [
                          48.78232264
                        ],
                        "iteration": 501,
                        "passed_time": 0.5892322278,
                        "remaining_time": 0.5845371503,
                        "test": [
                          64.89359939
                        ]
                      },
                      {
                        "learn": [
                          48.77654131
                        ],
                        "iteration": 502,
                        "passed_time": 0.5901616365,
                        "remaining_time": 0.583121935,
                        "test": [
                          64.89075794
                        ]
                      },
                      {
                        "learn": [
                          48.77485681
                        ],
                        "iteration": 503,
                        "passed_time": 0.5911067677,
                        "remaining_time": 0.5817241206,
                        "test": [
                          64.89344774
                        ]
                      },
                      {
                        "learn": [
                          48.76784571
                        ],
                        "iteration": 504,
                        "passed_time": 0.5920742774,
                        "remaining_time": 0.5803500343,
                        "test": [
                          64.90765654
                        ]
                      },
                      {
                        "learn": [
                          48.76175158
                        ],
                        "iteration": 505,
                        "passed_time": 0.5930696923,
                        "remaining_time": 0.5790047984,
                        "test": [
                          64.91660406
                        ]
                      },
                      {
                        "learn": [
                          48.75783188
                        ],
                        "iteration": 506,
                        "passed_time": 0.5941441296,
                        "remaining_time": 0.5777377828,
                        "test": [
                          64.92004616
                        ]
                      },
                      {
                        "learn": [
                          48.75308344
                        ],
                        "iteration": 507,
                        "passed_time": 0.5951721201,
                        "remaining_time": 0.5764265415,
                        "test": [
                          64.92497236
                        ]
                      },
                      {
                        "learn": [
                          48.75103784
                        ],
                        "iteration": 508,
                        "passed_time": 0.5961744958,
                        "remaining_time": 0.5750917042,
                        "test": [
                          64.92807789
                        ]
                      },
                      {
                        "learn": [
                          48.75043287
                        ],
                        "iteration": 509,
                        "passed_time": 0.5971129634,
                        "remaining_time": 0.5736967688,
                        "test": [
                          64.92893455
                        ]
                      },
                      {
                        "learn": [
                          48.74961905
                        ],
                        "iteration": 510,
                        "passed_time": 0.598117661,
                        "remaining_time": 0.5723669984,
                        "test": [
                          64.92855641
                        ]
                      },
                      {
                        "learn": [
                          48.74371262
                        ],
                        "iteration": 511,
                        "passed_time": 0.5994594367,
                        "remaining_time": 0.5713597756,
                        "test": [
                          64.93254402
                        ]
                      },
                      {
                        "learn": [
                          48.73871498
                        ],
                        "iteration": 512,
                        "passed_time": 0.6006957689,
                        "remaining_time": 0.570251149,
                        "test": [
                          64.93323707
                        ]
                      },
                      {
                        "learn": [
                          48.73291234
                        ],
                        "iteration": 513,
                        "passed_time": 0.6020517991,
                        "remaining_time": 0.569255203,
                        "test": [
                          64.9278943
                        ]
                      },
                      {
                        "learn": [
                          48.72949877
                        ],
                        "iteration": 514,
                        "passed_time": 0.6033250077,
                        "remaining_time": 0.5681798616,
                        "test": [
                          64.93136998
                        ]
                      },
                      {
                        "learn": [
                          48.7240466
                        ],
                        "iteration": 515,
                        "passed_time": 0.6043237294,
                        "remaining_time": 0.5668462888,
                        "test": [
                          64.93029551
                        ]
                      },
                      {
                        "learn": [
                          48.72317043
                        ],
                        "iteration": 516,
                        "passed_time": 0.6058579802,
                        "remaining_time": 0.5660143219,
                        "test": [
                          64.92978665
                        ]
                      },
                      {
                        "learn": [
                          48.72272708
                        ],
                        "iteration": 517,
                        "passed_time": 0.6071216798,
                        "remaining_time": 0.5649278951,
                        "test": [
                          64.92850217
                        ]
                      },
                      {
                        "learn": [
                          48.72001597
                        ],
                        "iteration": 518,
                        "passed_time": 0.6083652669,
                        "remaining_time": 0.5638221453,
                        "test": [
                          64.9333864
                        ]
                      },
                      {
                        "learn": [
                          48.71508945
                        ],
                        "iteration": 519,
                        "passed_time": 0.6098565527,
                        "remaining_time": 0.5629445102,
                        "test": [
                          64.93247143
                        ]
                      },
                      {
                        "learn": [
                          48.71127201
                        ],
                        "iteration": 520,
                        "passed_time": 0.6110710982,
                        "remaining_time": 0.5618100884,
                        "test": [
                          64.93727241
                        ]
                      },
                      {
                        "learn": [
                          48.70948043
                        ],
                        "iteration": 521,
                        "passed_time": 0.6121832266,
                        "remaining_time": 0.5605815753,
                        "test": [
                          64.94080631
                        ]
                      },
                      {
                        "learn": [
                          48.70918001
                        ],
                        "iteration": 522,
                        "passed_time": 0.6132357191,
                        "remaining_time": 0.5592991166,
                        "test": [
                          64.94143604
                        ]
                      },
                      {
                        "learn": [
                          48.70371797
                        ],
                        "iteration": 523,
                        "passed_time": 0.6142427302,
                        "remaining_time": 0.5579762206,
                        "test": [
                          64.94456534
                        ]
                      },
                      {
                        "learn": [
                          48.69861472
                        ],
                        "iteration": 524,
                        "passed_time": 0.6152419419,
                        "remaining_time": 0.5566474712,
                        "test": [
                          64.94852702
                        ]
                      },
                      {
                        "learn": [
                          48.69063339
                        ],
                        "iteration": 525,
                        "passed_time": 0.616251043,
                        "remaining_time": 0.5553288866,
                        "test": [
                          64.94493941
                        ]
                      },
                      {
                        "learn": [
                          48.68812205
                        ],
                        "iteration": 526,
                        "passed_time": 0.6174866179,
                        "remaining_time": 0.5542147443,
                        "test": [
                          64.9478438
                        ]
                      },
                      {
                        "learn": [
                          48.68366183
                        ],
                        "iteration": 527,
                        "passed_time": 0.6186174606,
                        "remaining_time": 0.5530065178,
                        "test": [
                          64.95199925
                        ]
                      },
                      {
                        "learn": [
                          48.68346749
                        ],
                        "iteration": 528,
                        "passed_time": 0.619752981,
                        "remaining_time": 0.5518027487,
                        "test": [
                          64.95221011
                        ]
                      },
                      {
                        "learn": [
                          48.67642776
                        ],
                        "iteration": 529,
                        "passed_time": 0.6207625166,
                        "remaining_time": 0.5504875147,
                        "test": [
                          64.94775217
                        ]
                      },
                      {
                        "learn": [
                          48.67454931
                        ],
                        "iteration": 530,
                        "passed_time": 0.6217804681,
                        "remaining_time": 0.5491808654,
                        "test": [
                          64.94605012
                        ]
                      },
                      {
                        "learn": [
                          48.66840806
                        ],
                        "iteration": 531,
                        "passed_time": 0.6228150249,
                        "remaining_time": 0.5478899091,
                        "test": [
                          64.95750011
                        ]
                      },
                      {
                        "learn": [
                          48.66169136
                        ],
                        "iteration": 532,
                        "passed_time": 0.6237971444,
                        "remaining_time": 0.5465539708,
                        "test": [
                          64.95801124
                        ]
                      },
                      {
                        "learn": [
                          48.65709833
                        ],
                        "iteration": 533,
                        "passed_time": 0.624779249,
                        "remaining_time": 0.5452193446,
                        "test": [
                          64.95782288
                        ]
                      },
                      {
                        "learn": [
                          48.65425587
                        ],
                        "iteration": 534,
                        "passed_time": 0.6257318911,
                        "remaining_time": 0.5438604287,
                        "test": [
                          64.96165968
                        ]
                      },
                      {
                        "learn": [
                          48.65164697
                        ],
                        "iteration": 535,
                        "passed_time": 0.6267569047,
                        "remaining_time": 0.5425656787,
                        "test": [
                          64.96775933
                        ]
                      },
                      {
                        "learn": [
                          48.64753847
                        ],
                        "iteration": 536,
                        "passed_time": 0.6280492719,
                        "remaining_time": 0.5415024448,
                        "test": [
                          64.96871009
                        ]
                      },
                      {
                        "learn": [
                          48.64498914
                        ],
                        "iteration": 537,
                        "passed_time": 0.6290577598,
                        "remaining_time": 0.5401945818,
                        "test": [
                          64.97654659
                        ]
                      },
                      {
                        "learn": [
                          48.63938879
                        ],
                        "iteration": 538,
                        "passed_time": 0.6300815417,
                        "remaining_time": 0.5389009104,
                        "test": [
                          64.97365726
                        ]
                      },
                      {
                        "learn": [
                          48.63506981
                        ],
                        "iteration": 539,
                        "passed_time": 0.6310608553,
                        "remaining_time": 0.5375703582,
                        "test": [
                          64.97487757
                        ]
                      },
                      {
                        "learn": [
                          48.63265847
                        ],
                        "iteration": 540,
                        "passed_time": 0.6320272559,
                        "remaining_time": 0.5362301487,
                        "test": [
                          64.98161499
                        ]
                      },
                      {
                        "learn": [
                          48.62915069
                        ],
                        "iteration": 541,
                        "passed_time": 0.6329711094,
                        "remaining_time": 0.5348722659,
                        "test": [
                          64.98053925
                        ]
                      },
                      {
                        "learn": [
                          48.62686303
                        ],
                        "iteration": 542,
                        "passed_time": 0.6339320996,
                        "remaining_time": 0.5335303306,
                        "test": [
                          64.9879575
                        ]
                      },
                      {
                        "learn": [
                          48.62356866
                        ],
                        "iteration": 543,
                        "passed_time": 0.6351722441,
                        "remaining_time": 0.5324237928,
                        "test": [
                          64.98754514
                        ]
                      },
                      {
                        "learn": [
                          48.62188197
                        ],
                        "iteration": 544,
                        "passed_time": 0.6363178466,
                        "remaining_time": 0.5312378353,
                        "test": [
                          64.99620952
                        ]
                      },
                      {
                        "learn": [
                          48.61734225
                        ],
                        "iteration": 545,
                        "passed_time": 0.6376963293,
                        "remaining_time": 0.5302456658,
                        "test": [
                          64.99705901
                        ]
                      },
                      {
                        "learn": [
                          48.61703845
                        ],
                        "iteration": 546,
                        "passed_time": 0.639364927,
                        "remaining_time": 0.5294923436,
                        "test": [
                          64.99677559
                        ]
                      },
                      {
                        "learn": [
                          48.61178992
                        ],
                        "iteration": 547,
                        "passed_time": 0.640940312,
                        "remaining_time": 0.5286587975,
                        "test": [
                          65.00528681
                        ]
                      },
                      {
                        "learn": [
                          48.60567924
                        ],
                        "iteration": 548,
                        "passed_time": 0.6421960799,
                        "remaining_time": 0.5275599855,
                        "test": [
                          65.01864934
                        ]
                      },
                      {
                        "learn": [
                          48.60138518
                        ],
                        "iteration": 549,
                        "passed_time": 0.6432151741,
                        "remaining_time": 0.5262669606,
                        "test": [
                          65.02321636
                        ]
                      },
                      {
                        "learn": [
                          48.59687352
                        ],
                        "iteration": 550,
                        "passed_time": 0.6442264361,
                        "remaining_time": 0.5249685477,
                        "test": [
                          65.02295939
                        ]
                      },
                      {
                        "learn": [
                          48.59239763
                        ],
                        "iteration": 551,
                        "passed_time": 0.6452440603,
                        "remaining_time": 0.5236763388,
                        "test": [
                          65.02278691
                        ]
                      },
                      {
                        "learn": [
                          48.59041542
                        ],
                        "iteration": 552,
                        "passed_time": 0.6464286184,
                        "remaining_time": 0.5225200586,
                        "test": [
                          65.02678577
                        ]
                      },
                      {
                        "learn": [
                          48.58852556
                        ],
                        "iteration": 553,
                        "passed_time": 0.647592949,
                        "remaining_time": 0.5213473921,
                        "test": [
                          65.03187314
                        ]
                      },
                      {
                        "learn": [
                          48.58641375
                        ],
                        "iteration": 554,
                        "passed_time": 0.6489015473,
                        "remaining_time": 0.5202904298,
                        "test": [
                          65.036017
                        ]
                      },
                      {
                        "learn": [
                          48.58154865
                        ],
                        "iteration": 555,
                        "passed_time": 0.64993975,
                        "remaining_time": 0.5190166349,
                        "test": [
                          65.04068408
                        ]
                      },
                      {
                        "learn": [
                          48.57794501
                        ],
                        "iteration": 556,
                        "passed_time": 0.65092346,
                        "remaining_time": 0.5177003461,
                        "test": [
                          65.04247122
                        ]
                      },
                      {
                        "learn": [
                          48.5728446
                        ],
                        "iteration": 557,
                        "passed_time": 0.6519214648,
                        "remaining_time": 0.5163965725,
                        "test": [
                          65.04873783
                        ]
                      },
                      {
                        "learn": [
                          48.56842828
                        ],
                        "iteration": 558,
                        "passed_time": 0.6528701469,
                        "remaining_time": 0.5150549817,
                        "test": [
                          65.05254855
                        ]
                      },
                      {
                        "learn": [
                          48.56677174
                        ],
                        "iteration": 559,
                        "passed_time": 0.6538690445,
                        "remaining_time": 0.5137542492,
                        "test": [
                          65.0571667
                        ]
                      },
                      {
                        "learn": [
                          48.56371798
                        ],
                        "iteration": 560,
                        "passed_time": 0.6546406728,
                        "remaining_time": 0.5122767475,
                        "test": [
                          65.05834323
                        ]
                      },
                      {
                        "learn": [
                          48.56056942
                        ],
                        "iteration": 561,
                        "passed_time": 0.6558388358,
                        "remaining_time": 0.5111341816,
                        "test": [
                          65.05820247
                        ]
                      },
                      {
                        "learn": [
                          48.55685658
                        ],
                        "iteration": 562,
                        "passed_time": 0.656799096,
                        "remaining_time": 0.5098067583,
                        "test": [
                          65.06569218
                        ]
                      },
                      {
                        "learn": [
                          48.55264398
                        ],
                        "iteration": 563,
                        "passed_time": 0.6581743551,
                        "remaining_time": 0.5088014518,
                        "test": [
                          65.07050108
                        ]
                      },
                      {
                        "learn": [
                          48.54849911
                        ],
                        "iteration": 564,
                        "passed_time": 0.6591476142,
                        "remaining_time": 0.5074853313,
                        "test": [
                          65.0743466
                        ]
                      },
                      {
                        "learn": [
                          48.54704942
                        ],
                        "iteration": 565,
                        "passed_time": 0.6602250374,
                        "remaining_time": 0.5062502937,
                        "test": [
                          65.07798135
                        ]
                      },
                      {
                        "learn": [
                          48.54465311
                        ],
                        "iteration": 566,
                        "passed_time": 0.6613662418,
                        "remaining_time": 0.5050645198,
                        "test": [
                          65.08427891
                        ]
                      },
                      {
                        "learn": [
                          48.54086231
                        ],
                        "iteration": 567,
                        "passed_time": 0.6623975541,
                        "remaining_time": 0.5037953228,
                        "test": [
                          65.08935535
                        ]
                      },
                      {
                        "learn": [
                          48.53633339
                        ],
                        "iteration": 568,
                        "passed_time": 0.6633888227,
                        "remaining_time": 0.5024966302,
                        "test": [
                          65.09929303
                        ]
                      },
                      {
                        "learn": [
                          48.53270384
                        ],
                        "iteration": 569,
                        "passed_time": 0.6643572369,
                        "remaining_time": 0.5011817752,
                        "test": [
                          65.10240928
                        ]
                      },
                      {
                        "learn": [
                          48.53058249
                        ],
                        "iteration": 570,
                        "passed_time": 0.6653402741,
                        "remaining_time": 0.4998791201,
                        "test": [
                          65.10333325
                        ]
                      },
                      {
                        "learn": [
                          48.52437111
                        ],
                        "iteration": 571,
                        "passed_time": 0.6663059279,
                        "remaining_time": 0.4985645754,
                        "test": [
                          65.09799775
                        ]
                      },
                      {
                        "learn": [
                          48.51996281
                        ],
                        "iteration": 572,
                        "passed_time": 0.6672801212,
                        "remaining_time": 0.4972576121,
                        "test": [
                          65.10235834
                        ]
                      },
                      {
                        "learn": [
                          48.51630543
                        ],
                        "iteration": 573,
                        "passed_time": 0.6682405254,
                        "remaining_time": 0.4959415746,
                        "test": [
                          65.10189987
                        ]
                      },
                      {
                        "learn": [
                          48.51347034
                        ],
                        "iteration": 574,
                        "passed_time": 0.6692027993,
                        "remaining_time": 0.494628156,
                        "test": [
                          65.10734182
                        ]
                      },
                      {
                        "learn": [
                          48.50974008
                        ],
                        "iteration": 575,
                        "passed_time": 0.6703909369,
                        "remaining_time": 0.4934822174,
                        "test": [
                          65.10306888
                        ]
                      },
                      {
                        "learn": [
                          48.50552934
                        ],
                        "iteration": 576,
                        "passed_time": 0.6714222519,
                        "remaining_time": 0.4922211656,
                        "test": [
                          65.10703699
                        ]
                      },
                      {
                        "learn": [
                          48.50273615
                        ],
                        "iteration": 577,
                        "passed_time": 0.6724578282,
                        "remaining_time": 0.4909640199,
                        "test": [
                          65.10591685
                        ]
                      },
                      {
                        "learn": [
                          48.50068438
                        ],
                        "iteration": 578,
                        "passed_time": 0.673432106,
                        "remaining_time": 0.4896630684,
                        "test": [
                          65.10510547
                        ]
                      },
                      {
                        "learn": [
                          48.49906928
                        ],
                        "iteration": 579,
                        "passed_time": 0.6745437493,
                        "remaining_time": 0.488462715,
                        "test": [
                          65.10369078
                        ]
                      },
                      {
                        "learn": [
                          48.49814496
                        ],
                        "iteration": 580,
                        "passed_time": 0.6756818142,
                        "remaining_time": 0.4872817215,
                        "test": [
                          65.10672645
                        ]
                      },
                      {
                        "learn": [
                          48.49492882
                        ],
                        "iteration": 581,
                        "passed_time": 0.6764442254,
                        "remaining_time": 0.4858310759,
                        "test": [
                          65.10663537
                        ]
                      },
                      {
                        "learn": [
                          48.49052794
                        ],
                        "iteration": 582,
                        "passed_time": 0.6772182036,
                        "remaining_time": 0.484391065,
                        "test": [
                          65.10367796
                        ]
                      },
                      {
                        "learn": [
                          48.4872805
                        ],
                        "iteration": 583,
                        "passed_time": 0.6779862129,
                        "remaining_time": 0.4829490832,
                        "test": [
                          65.10875659
                        ]
                      },
                      {
                        "learn": [
                          48.48676094
                        ],
                        "iteration": 584,
                        "passed_time": 0.6787300674,
                        "remaining_time": 0.48149227,
                        "test": [
                          65.10878358
                        ]
                      },
                      {
                        "learn": [
                          48.48496827
                        ],
                        "iteration": 585,
                        "passed_time": 0.6795081151,
                        "remaining_time": 0.4800620472,
                        "test": [
                          65.11663752
                        ]
                      },
                      {
                        "learn": [
                          48.48177986
                        ],
                        "iteration": 586,
                        "passed_time": 0.6803370088,
                        "remaining_time": 0.4786698205,
                        "test": [
                          65.11828859
                        ]
                      },
                      {
                        "learn": [
                          48.47700154
                        ],
                        "iteration": 587,
                        "passed_time": 0.6811039754,
                        "remaining_time": 0.4772361188,
                        "test": [
                          65.12441786
                        ]
                      },
                      {
                        "learn": [
                          48.47257869
                        ],
                        "iteration": 588,
                        "passed_time": 0.6818496857,
                        "remaining_time": 0.4757898486,
                        "test": [
                          65.12386457
                        ]
                      },
                      {
                        "learn": [
                          48.47234902
                        ],
                        "iteration": 589,
                        "passed_time": 0.6826028588,
                        "remaining_time": 0.4743511391,
                        "test": [
                          65.12498645
                        ]
                      },
                      {
                        "learn": [
                          48.4709986
                        ],
                        "iteration": 590,
                        "passed_time": 0.683729501,
                        "remaining_time": 0.473173208,
                        "test": [
                          65.12673955
                        ]
                      },
                      {
                        "learn": [
                          48.46962772
                        ],
                        "iteration": 591,
                        "passed_time": 0.6846098388,
                        "remaining_time": 0.4718256997,
                        "test": [
                          65.13129819
                        ]
                      },
                      {
                        "learn": [
                          48.46818951
                        ],
                        "iteration": 592,
                        "passed_time": 0.6855623068,
                        "remaining_time": 0.470529273,
                        "test": [
                          65.13433322
                        ]
                      },
                      {
                        "learn": [
                          48.46403948
                        ],
                        "iteration": 593,
                        "passed_time": 0.6863619817,
                        "remaining_time": 0.46912957,
                        "test": [
                          65.12999774
                        ]
                      },
                      {
                        "learn": [
                          48.46143101
                        ],
                        "iteration": 594,
                        "passed_time": 0.6871017875,
                        "remaining_time": 0.4676911327,
                        "test": [
                          65.13451754
                        ]
                      },
                      {
                        "learn": [
                          48.4583939
                        ],
                        "iteration": 595,
                        "passed_time": 0.68791844,
                        "remaining_time": 0.4663071304,
                        "test": [
                          65.13155383
                        ]
                      },
                      {
                        "learn": [
                          48.45680242
                        ],
                        "iteration": 596,
                        "passed_time": 0.6886703557,
                        "remaining_time": 0.4648813289,
                        "test": [
                          65.13039077
                        ]
                      },
                      {
                        "learn": [
                          48.45470429
                        ],
                        "iteration": 597,
                        "passed_time": 0.6894409618,
                        "remaining_time": 0.4634703455,
                        "test": [
                          65.13623609
                        ]
                      },
                      {
                        "learn": [
                          48.45307355
                        ],
                        "iteration": 598,
                        "passed_time": 0.6903403898,
                        "remaining_time": 0.4621477401,
                        "test": [
                          65.14905717
                        ]
                      },
                      {
                        "learn": [
                          48.45095547
                        ],
                        "iteration": 599,
                        "passed_time": 0.6911904024,
                        "remaining_time": 0.4607936016,
                        "test": [
                          65.15259111
                        ]
                      },
                      {
                        "learn": [
                          48.4465684
                        ],
                        "iteration": 600,
                        "passed_time": 0.691979411,
                        "remaining_time": 0.4594006406,
                        "test": [
                          65.1553573
                        ]
                      },
                      {
                        "learn": [
                          48.44509554
                        ],
                        "iteration": 601,
                        "passed_time": 0.6929855503,
                        "remaining_time": 0.4581532376,
                        "test": [
                          65.15423111
                        ]
                      },
                      {
                        "learn": [
                          48.44023762
                        ],
                        "iteration": 602,
                        "passed_time": 0.6942863364,
                        "remaining_time": 0.4571006228,
                        "test": [
                          65.16637736
                        ]
                      },
                      {
                        "learn": [
                          48.43739483
                        ],
                        "iteration": 603,
                        "passed_time": 0.6954239495,
                        "remaining_time": 0.4559402053,
                        "test": [
                          65.17036324
                        ]
                      },
                      {
                        "learn": [
                          48.43164725
                        ],
                        "iteration": 604,
                        "passed_time": 0.6964216812,
                        "remaining_time": 0.4546885357,
                        "test": [
                          65.17085585
                        ]
                      },
                      {
                        "learn": [
                          48.42985718
                        ],
                        "iteration": 605,
                        "passed_time": 0.6974106757,
                        "remaining_time": 0.4534320235,
                        "test": [
                          65.17708601
                        ]
                      },
                      {
                        "learn": [
                          48.42841023
                        ],
                        "iteration": 606,
                        "passed_time": 0.6983710318,
                        "remaining_time": 0.4521578509,
                        "test": [
                          65.1744054
                        ]
                      },
                      {
                        "learn": [
                          48.42423645
                        ],
                        "iteration": 607,
                        "passed_time": 0.6993401619,
                        "remaining_time": 0.4508903675,
                        "test": [
                          65.17458588
                        ]
                      },
                      {
                        "learn": [
                          48.42386426
                        ],
                        "iteration": 608,
                        "passed_time": 0.700297663,
                        "remaining_time": 0.4496163978,
                        "test": [
                          65.17445766
                        ]
                      },
                      {
                        "learn": [
                          48.42101233
                        ],
                        "iteration": 609,
                        "passed_time": 0.7012762753,
                        "remaining_time": 0.4483569629,
                        "test": [
                          65.17413101
                        ]
                      },
                      {
                        "learn": [
                          48.41704394
                        ],
                        "iteration": 610,
                        "passed_time": 0.7023025622,
                        "remaining_time": 0.4471287998,
                        "test": [
                          65.18180528
                        ]
                      },
                      {
                        "learn": [
                          48.41396717
                        ],
                        "iteration": 611,
                        "passed_time": 0.7032668341,
                        "remaining_time": 0.4458619798,
                        "test": [
                          65.1790522
                        ]
                      },
                      {
                        "learn": [
                          48.41379627
                        ],
                        "iteration": 612,
                        "passed_time": 0.7046102435,
                        "remaining_time": 0.4448355045,
                        "test": [
                          65.17938699
                        ]
                      },
                      {
                        "learn": [
                          48.40852261
                        ],
                        "iteration": 613,
                        "passed_time": 0.7057473734,
                        "remaining_time": 0.4436783162,
                        "test": [
                          65.18017775
                        ]
                      },
                      {
                        "learn": [
                          48.40534781
                        ],
                        "iteration": 614,
                        "passed_time": 0.7068544718,
                        "remaining_time": 0.4425023929,
                        "test": [
                          65.18134223
                        ]
                      },
                      {
                        "learn": [
                          48.40060688
                        ],
                        "iteration": 615,
                        "passed_time": 0.7078235069,
                        "remaining_time": 0.4412406277,
                        "test": [
                          65.1820344
                        ]
                      },
                      {
                        "learn": [
                          48.39792835
                        ],
                        "iteration": 616,
                        "passed_time": 0.7091328675,
                        "remaining_time": 0.4401910669,
                        "test": [
                          65.19371391
                        ]
                      },
                      {
                        "learn": [
                          48.39365929
                        ],
                        "iteration": 617,
                        "passed_time": 0.7102757669,
                        "remaining_time": 0.4390377718,
                        "test": [
                          65.19731389
                        ]
                      },
                      {
                        "learn": [
                          48.39129426
                        ],
                        "iteration": 618,
                        "passed_time": 0.7112611819,
                        "remaining_time": 0.4377875772,
                        "test": [
                          65.20038306
                        ]
                      },
                      {
                        "learn": [
                          48.38763066
                        ],
                        "iteration": 619,
                        "passed_time": 0.7122532182,
                        "remaining_time": 0.436542295,
                        "test": [
                          65.20251108
                        ]
                      },
                      {
                        "learn": [
                          48.38416825
                        ],
                        "iteration": 620,
                        "passed_time": 0.7135548743,
                        "remaining_time": 0.4354867912,
                        "test": [
                          65.19783754
                        ]
                      },
                      {
                        "learn": [
                          48.38011746
                        ],
                        "iteration": 621,
                        "passed_time": 0.7145309602,
                        "remaining_time": 0.4342326414,
                        "test": [
                          65.19861268
                        ]
                      },
                      {
                        "learn": [
                          48.37907257
                        ],
                        "iteration": 622,
                        "passed_time": 0.7155372627,
                        "remaining_time": 0.4329976694,
                        "test": [
                          65.20185197
                        ]
                      },
                      {
                        "learn": [
                          48.37445698
                        ],
                        "iteration": 623,
                        "passed_time": 0.7177221116,
                        "remaining_time": 0.4324735801,
                        "test": [
                          65.19714713
                        ]
                      },
                      {
                        "learn": [
                          48.37190537
                        ],
                        "iteration": 624,
                        "passed_time": 0.7187437967,
                        "remaining_time": 0.431246278,
                        "test": [
                          65.19969933
                        ]
                      },
                      {
                        "learn": [
                          48.3704619
                        ],
                        "iteration": 625,
                        "passed_time": 0.7196574746,
                        "remaining_time": 0.4299551046,
                        "test": [
                          65.20499829
                        ]
                      },
                      {
                        "learn": [
                          48.36535479
                        ],
                        "iteration": 626,
                        "passed_time": 0.7260211329,
                        "remaining_time": 0.4319073087,
                        "test": [
                          65.2091955
                        ]
                      },
                      {
                        "learn": [
                          48.36060755
                        ],
                        "iteration": 627,
                        "passed_time": 0.7272319917,
                        "remaining_time": 0.4307807339,
                        "test": [
                          65.20718954
                        ]
                      },
                      {
                        "learn": [
                          48.35971649
                        ],
                        "iteration": 628,
                        "passed_time": 0.7286157334,
                        "remaining_time": 0.4297558618,
                        "test": [
                          65.20780264
                        ]
                      },
                      {
                        "learn": [
                          48.35534844
                        ],
                        "iteration": 629,
                        "passed_time": 0.730098176,
                        "remaining_time": 0.4287878177,
                        "test": [
                          65.21942049
                        ]
                      },
                      {
                        "learn": [
                          48.35414414
                        ],
                        "iteration": 630,
                        "passed_time": 0.7313196488,
                        "remaining_time": 0.4276655316,
                        "test": [
                          65.22209197
                        ]
                      },
                      {
                        "learn": [
                          48.3506287
                        ],
                        "iteration": 631,
                        "passed_time": 0.7329790321,
                        "remaining_time": 0.4267979174,
                        "test": [
                          65.22071435
                        ]
                      },
                      {
                        "learn": [
                          48.34774936
                        ],
                        "iteration": 632,
                        "passed_time": 0.734317206,
                        "remaining_time": 0.4257415713,
                        "test": [
                          65.21978213
                        ]
                      },
                      {
                        "learn": [
                          48.34385937
                        ],
                        "iteration": 633,
                        "passed_time": 0.7358223998,
                        "remaining_time": 0.4247807545,
                        "test": [
                          65.22572159
                        ]
                      },
                      {
                        "learn": [
                          48.33911041
                        ],
                        "iteration": 634,
                        "passed_time": 0.7374922775,
                        "remaining_time": 0.4239128839,
                        "test": [
                          65.22267307
                        ]
                      },
                      {
                        "learn": [
                          48.3349918
                        ],
                        "iteration": 635,
                        "passed_time": 0.7396080234,
                        "remaining_time": 0.4232976738,
                        "test": [
                          65.2260376
                        ]
                      },
                      {
                        "learn": [
                          48.3346043
                        ],
                        "iteration": 636,
                        "passed_time": 0.7411772784,
                        "remaining_time": 0.4223663298,
                        "test": [
                          65.22584378
                        ]
                      },
                      {
                        "learn": [
                          48.33146755
                        ],
                        "iteration": 637,
                        "passed_time": 0.7423848063,
                        "remaining_time": 0.4212277428,
                        "test": [
                          65.22265433
                        ]
                      },
                      {
                        "learn": [
                          48.3280541
                        ],
                        "iteration": 638,
                        "passed_time": 0.7441281256,
                        "remaining_time": 0.4203916328,
                        "test": [
                          65.22299593
                        ]
                      },
                      {
                        "learn": [
                          48.32380943
                        ],
                        "iteration": 639,
                        "passed_time": 0.7459413829,
                        "remaining_time": 0.4195920279,
                        "test": [
                          65.2214678
                        ]
                      },
                      {
                        "learn": [
                          48.31994075
                        ],
                        "iteration": 640,
                        "passed_time": 0.750017132,
                        "remaining_time": 0.4200563968,
                        "test": [
                          65.22144662
                        ]
                      },
                      {
                        "learn": [
                          48.31654498
                        ],
                        "iteration": 641,
                        "passed_time": 0.7517503273,
                        "remaining_time": 0.4192003383,
                        "test": [
                          65.21984042
                        ]
                      },
                      {
                        "learn": [
                          48.31250385
                        ],
                        "iteration": 642,
                        "passed_time": 0.7528368668,
                        "remaining_time": 0.4179825217,
                        "test": [
                          65.23116313
                        ]
                      },
                      {
                        "learn": [
                          48.31200403
                        ],
                        "iteration": 643,
                        "passed_time": 0.7563669659,
                        "remaining_time": 0.4181159004,
                        "test": [
                          65.2311004
                        ]
                      },
                      {
                        "learn": [
                          48.31047063
                        ],
                        "iteration": 644,
                        "passed_time": 0.7705549199,
                        "remaining_time": 0.4241038706,
                        "test": [
                          65.23768365
                        ]
                      },
                      {
                        "learn": [
                          48.3069402
                        ],
                        "iteration": 645,
                        "passed_time": 0.7723748348,
                        "remaining_time": 0.4232518445,
                        "test": [
                          65.23927043
                        ]
                      },
                      {
                        "learn": [
                          48.30486206
                        ],
                        "iteration": 646,
                        "passed_time": 0.7776728994,
                        "remaining_time": 0.4242944876,
                        "test": [
                          65.23942057
                        ]
                      },
                      {
                        "learn": [
                          48.30407823
                        ],
                        "iteration": 647,
                        "passed_time": 0.7803339484,
                        "remaining_time": 0.4238851078,
                        "test": [
                          65.24538301
                        ]
                      },
                      {
                        "learn": [
                          48.30079421
                        ],
                        "iteration": 648,
                        "passed_time": 0.7860324256,
                        "remaining_time": 0.4251115276,
                        "test": [
                          65.24695152
                        ]
                      },
                      {
                        "learn": [
                          48.29809782
                        ],
                        "iteration": 649,
                        "passed_time": 0.7869637733,
                        "remaining_time": 0.4237497241,
                        "test": [
                          65.25295947
                        ]
                      },
                      {
                        "learn": [
                          48.29566039
                        ],
                        "iteration": 650,
                        "passed_time": 0.7968042944,
                        "remaining_time": 0.4271654359,
                        "test": [
                          65.25289187
                        ]
                      },
                      {
                        "learn": [
                          48.29283495
                        ],
                        "iteration": 651,
                        "passed_time": 0.7982573846,
                        "remaining_time": 0.4260637574,
                        "test": [
                          65.25083634
                        ]
                      },
                      {
                        "learn": [
                          48.29066454
                        ],
                        "iteration": 652,
                        "passed_time": 0.7991410233,
                        "remaining_time": 0.4246583998,
                        "test": [
                          65.25550577
                        ]
                      },
                      {
                        "learn": [
                          48.28851594
                        ],
                        "iteration": 653,
                        "passed_time": 0.8001974303,
                        "remaining_time": 0.4233460411,
                        "test": [
                          65.25668461
                        ]
                      },
                      {
                        "learn": [
                          48.28549301
                        ],
                        "iteration": 654,
                        "passed_time": 0.8034579124,
                        "remaining_time": 0.4231953889,
                        "test": [
                          65.25706041
                        ]
                      },
                      {
                        "learn": [
                          48.28509142
                        ],
                        "iteration": 655,
                        "passed_time": 0.8044098635,
                        "remaining_time": 0.4218246845,
                        "test": [
                          65.25632294
                        ]
                      },
                      {
                        "learn": [
                          48.28244666
                        ],
                        "iteration": 656,
                        "passed_time": 0.8121412433,
                        "remaining_time": 0.4239945912,
                        "test": [
                          65.25459938
                        ]
                      },
                      {
                        "learn": [
                          48.28049724
                        ],
                        "iteration": 657,
                        "passed_time": 0.8145916515,
                        "remaining_time": 0.4233895818,
                        "test": [
                          65.26037351
                        ]
                      },
                      {
                        "learn": [
                          48.28014881
                        ],
                        "iteration": 658,
                        "passed_time": 0.8177678116,
                        "remaining_time": 0.4231545125,
                        "test": [
                          65.25958863
                        ]
                      },
                      {
                        "learn": [
                          48.27894325
                        ],
                        "iteration": 659,
                        "passed_time": 0.8186226969,
                        "remaining_time": 0.4217147226,
                        "test": [
                          65.26584384
                        ]
                      },
                      {
                        "learn": [
                          48.27705606
                        ],
                        "iteration": 660,
                        "passed_time": 0.8239945871,
                        "remaining_time": 0.4225932905,
                        "test": [
                          65.26715221
                        ]
                      },
                      {
                        "learn": [
                          48.27449633
                        ],
                        "iteration": 661,
                        "passed_time": 0.8249501073,
                        "remaining_time": 0.4211980911,
                        "test": [
                          65.27080581
                        ]
                      },
                      {
                        "learn": [
                          48.27300889
                        ],
                        "iteration": 662,
                        "passed_time": 0.8258193761,
                        "remaining_time": 0.4197603767,
                        "test": [
                          65.27233156
                        ]
                      },
                      {
                        "learn": [
                          48.27136378
                        ],
                        "iteration": 663,
                        "passed_time": 0.8303905124,
                        "remaining_time": 0.4201976087,
                        "test": [
                          65.26770842
                        ]
                      },
                      {
                        "learn": [
                          48.27017471
                        ],
                        "iteration": 664,
                        "passed_time": 0.8313257696,
                        "remaining_time": 0.4187881697,
                        "test": [
                          65.26796202
                        ]
                      },
                      {
                        "learn": [
                          48.26788611
                        ],
                        "iteration": 665,
                        "passed_time": 0.8347435934,
                        "remaining_time": 0.4186251655,
                        "test": [
                          65.27012398
                        ]
                      },
                      {
                        "learn": [
                          48.2650692
                        ],
                        "iteration": 666,
                        "passed_time": 0.8412719371,
                        "remaining_time": 0.4200053299,
                        "test": [
                          65.27368213
                        ]
                      },
                      {
                        "learn": [
                          48.2615204
                        ],
                        "iteration": 667,
                        "passed_time": 0.842093924,
                        "remaining_time": 0.4185257227,
                        "test": [
                          65.27469978
                        ]
                      },
                      {
                        "learn": [
                          48.26065874
                        ],
                        "iteration": 668,
                        "passed_time": 0.8428909221,
                        "remaining_time": 0.4170357178,
                        "test": [
                          65.27523687
                        ]
                      },
                      {
                        "learn": [
                          48.25740106
                        ],
                        "iteration": 669,
                        "passed_time": 0.8531964266,
                        "remaining_time": 0.4202310758,
                        "test": [
                          65.27568726
                        ]
                      },
                      {
                        "learn": [
                          48.25448746
                        ],
                        "iteration": 670,
                        "passed_time": 0.8853051678,
                        "remaining_time": 0.4340766024,
                        "test": [
                          65.27657113
                        ]
                      },
                      {
                        "learn": [
                          48.24713151
                        ],
                        "iteration": 671,
                        "passed_time": 0.8923742118,
                        "remaining_time": 0.4355636034,
                        "test": [
                          65.28345108
                        ]
                      },
                      {
                        "learn": [
                          48.24621445
                        ],
                        "iteration": 672,
                        "passed_time": 0.8932640022,
                        "remaining_time": 0.4340227767,
                        "test": [
                          65.28457383
                        ]
                      },
                      {
                        "learn": [
                          48.24547903
                        ],
                        "iteration": 673,
                        "passed_time": 0.8944926636,
                        "remaining_time": 0.4326477868,
                        "test": [
                          65.28633936
                        ]
                      },
                      {
                        "learn": [
                          48.24485296
                        ],
                        "iteration": 674,
                        "passed_time": 0.9021221402,
                        "remaining_time": 0.4343551045,
                        "test": [
                          65.28850042
                        ]
                      },
                      {
                        "learn": [
                          48.2439007
                        ],
                        "iteration": 675,
                        "passed_time": 0.9242808976,
                        "remaining_time": 0.4429985367,
                        "test": [
                          65.29084782
                        ]
                      },
                      {
                        "learn": [
                          48.24191306
                        ],
                        "iteration": 676,
                        "passed_time": 0.925213664,
                        "remaining_time": 0.441423949,
                        "test": [
                          65.29180042
                        ]
                      },
                      {
                        "learn": [
                          48.24092287
                        ],
                        "iteration": 677,
                        "passed_time": 0.926231365,
                        "remaining_time": 0.4398915922,
                        "test": [
                          65.29554552
                        ]
                      },
                      {
                        "learn": [
                          48.23704168
                        ],
                        "iteration": 678,
                        "passed_time": 0.933364218,
                        "remaining_time": 0.4412517143,
                        "test": [
                          65.29246254
                        ]
                      },
                      {
                        "learn": [
                          48.23664026
                        ],
                        "iteration": 679,
                        "passed_time": 0.9360851092,
                        "remaining_time": 0.4405106396,
                        "test": [
                          65.29282784
                        ]
                      },
                      {
                        "learn": [
                          48.23434991
                        ],
                        "iteration": 680,
                        "passed_time": 0.9370422817,
                        "remaining_time": 0.4389375739,
                        "test": [
                          65.29120607
                        ]
                      },
                      {
                        "learn": [
                          48.23114108
                        ],
                        "iteration": 681,
                        "passed_time": 0.9378599468,
                        "remaining_time": 0.4373012655,
                        "test": [
                          65.29683594
                        ]
                      },
                      {
                        "learn": [
                          48.23074558
                        ],
                        "iteration": 682,
                        "passed_time": 0.9385607499,
                        "remaining_time": 0.4356131152,
                        "test": [
                          65.29623753
                        ]
                      },
                      {
                        "learn": [
                          48.22935421
                        ],
                        "iteration": 683,
                        "passed_time": 0.9392795487,
                        "remaining_time": 0.4339361658,
                        "test": [
                          65.30324927
                        ]
                      },
                      {
                        "learn": [
                          48.22780303
                        ],
                        "iteration": 684,
                        "passed_time": 0.9400284322,
                        "remaining_time": 0.4322758484,
                        "test": [
                          65.31189838
                        ]
                      },
                      {
                        "learn": [
                          48.22770853
                        ],
                        "iteration": 685,
                        "passed_time": 0.9407870624,
                        "remaining_time": 0.4306226496,
                        "test": [
                          65.31191563
                        ]
                      },
                      {
                        "learn": [
                          48.22445484
                        ],
                        "iteration": 686,
                        "passed_time": 0.946765542,
                        "remaining_time": 0.4313502397,
                        "test": [
                          65.31523232
                        ]
                      },
                      {
                        "learn": [
                          48.22116318
                        ],
                        "iteration": 687,
                        "passed_time": 0.9477117424,
                        "remaining_time": 0.4297762553,
                        "test": [
                          65.32565466
                        ]
                      },
                      {
                        "learn": [
                          48.22050468
                        ],
                        "iteration": 688,
                        "passed_time": 0.9484984274,
                        "remaining_time": 0.4281320913,
                        "test": [
                          65.32669996
                        ]
                      },
                      {
                        "learn": [
                          48.21712544
                        ],
                        "iteration": 689,
                        "passed_time": 0.9594809029,
                        "remaining_time": 0.4310711303,
                        "test": [
                          65.32706183
                        ]
                      },
                      {
                        "learn": [
                          48.21366661
                        ],
                        "iteration": 690,
                        "passed_time": 0.9605279936,
                        "remaining_time": 0.4295269899,
                        "test": [
                          65.33450983
                        ]
                      },
                      {
                        "learn": [
                          48.21091224
                        ],
                        "iteration": 691,
                        "passed_time": 0.9665614955,
                        "remaining_time": 0.4302036714,
                        "test": [
                          65.3354536
                        ]
                      },
                      {
                        "learn": [
                          48.20794942
                        ],
                        "iteration": 692,
                        "passed_time": 0.9679062448,
                        "remaining_time": 0.4287838632,
                        "test": [
                          65.33404452
                        ]
                      },
                      {
                        "learn": [
                          48.20561052
                        ],
                        "iteration": 693,
                        "passed_time": 0.9748096336,
                        "remaining_time": 0.4298151987,
                        "test": [
                          65.33298489
                        ]
                      },
                      {
                        "learn": [
                          48.20379365
                        ],
                        "iteration": 694,
                        "passed_time": 0.9856417428,
                        "remaining_time": 0.4325478152,
                        "test": [
                          65.34095031
                        ]
                      },
                      {
                        "learn": [
                          48.20147868
                        ],
                        "iteration": 695,
                        "passed_time": 0.9875914543,
                        "remaining_time": 0.4313617846,
                        "test": [
                          65.34270701
                        ]
                      },
                      {
                        "learn": [
                          48.19851737
                        ],
                        "iteration": 696,
                        "passed_time": 0.9893641161,
                        "remaining_time": 0.4300965956,
                        "test": [
                          65.34388907
                        ]
                      },
                      {
                        "learn": [
                          48.198161
                        ],
                        "iteration": 697,
                        "passed_time": 0.9901942643,
                        "remaining_time": 0.4284221602,
                        "test": [
                          65.34411234
                        ]
                      },
                      {
                        "learn": [
                          48.19732204
                        ],
                        "iteration": 698,
                        "passed_time": 0.9909607276,
                        "remaining_time": 0.4267227168,
                        "test": [
                          65.34374116
                        ]
                      },
                      {
                        "learn": [
                          48.19702685
                        ],
                        "iteration": 699,
                        "passed_time": 0.9917802805,
                        "remaining_time": 0.4250486916,
                        "test": [
                          65.34333921
                        ]
                      },
                      {
                        "learn": [
                          48.19449058
                        ],
                        "iteration": 700,
                        "passed_time": 0.9925747918,
                        "remaining_time": 0.4233664233,
                        "test": [
                          65.3448217
                        ]
                      },
                      {
                        "learn": [
                          48.19183039
                        ],
                        "iteration": 701,
                        "passed_time": 0.9933372529,
                        "remaining_time": 0.4216730789,
                        "test": [
                          65.34350714
                        ]
                      },
                      {
                        "learn": [
                          48.19019602
                        ],
                        "iteration": 702,
                        "passed_time": 0.9941641284,
                        "remaining_time": 0.4200095962,
                        "test": [
                          65.34137623
                        ]
                      },
                      {
                        "learn": [
                          48.18989732
                        ],
                        "iteration": 703,
                        "passed_time": 0.9950274495,
                        "remaining_time": 0.418363814,
                        "test": [
                          65.34169248
                        ]
                      },
                      {
                        "learn": [
                          48.18968514
                        ],
                        "iteration": 704,
                        "passed_time": 0.9959741616,
                        "remaining_time": 0.4167551457,
                        "test": [
                          65.34231898
                        ]
                      },
                      {
                        "learn": [
                          48.18580725
                        ],
                        "iteration": 705,
                        "passed_time": 0.9967403773,
                        "remaining_time": 0.4150731883,
                        "test": [
                          65.34519465
                        ]
                      },
                      {
                        "learn": [
                          48.18560186
                        ],
                        "iteration": 706,
                        "passed_time": 0.9975271813,
                        "remaining_time": 0.4134023538,
                        "test": [
                          65.34510198
                        ]
                      },
                      {
                        "learn": [
                          48.18485378
                        ],
                        "iteration": 707,
                        "passed_time": 0.998274464,
                        "remaining_time": 0.4117177168,
                        "test": [
                          65.34631436
                        ]
                      },
                      {
                        "learn": [
                          48.18187656
                        ],
                        "iteration": 708,
                        "passed_time": 0.9990106935,
                        "remaining_time": 0.4100311873,
                        "test": [
                          65.34426923
                        ]
                      },
                      {
                        "learn": [
                          48.17909509
                        ],
                        "iteration": 709,
                        "passed_time": 0.9998989835,
                        "remaining_time": 0.408409444,
                        "test": [
                          65.34894623
                        ]
                      },
                      {
                        "learn": [
                          48.17828014
                        ],
                        "iteration": 710,
                        "passed_time": 1.000805181,
                        "remaining_time": 0.4067970426,
                        "test": [
                          65.35249677
                        ]
                      },
                      {
                        "learn": [
                          48.17821572
                        ],
                        "iteration": 711,
                        "passed_time": 1.001555948,
                        "remaining_time": 0.4051237541,
                        "test": [
                          65.35291649
                        ]
                      },
                      {
                        "learn": [
                          48.17235241
                        ],
                        "iteration": 712,
                        "passed_time": 1.002327622,
                        "remaining_time": 0.4034614691,
                        "test": [
                          65.3542176
                        ]
                      },
                      {
                        "learn": [
                          48.17158276
                        ],
                        "iteration": 713,
                        "passed_time": 1.003251854,
                        "remaining_time": 0.4018627874,
                        "test": [
                          65.35655012
                        ]
                      },
                      {
                        "learn": [
                          48.17114459
                        ],
                        "iteration": 714,
                        "passed_time": 1.004140461,
                        "remaining_time": 0.4002517921,
                        "test": [
                          65.35644115
                        ]
                      },
                      {
                        "learn": [
                          48.169254
                        ],
                        "iteration": 715,
                        "passed_time": 1.005003873,
                        "remaining_time": 0.398632821,
                        "test": [
                          65.35703908
                        ]
                      },
                      {
                        "learn": [
                          48.16542293
                        ],
                        "iteration": 716,
                        "passed_time": 1.005752867,
                        "remaining_time": 0.3969707969,
                        "test": [
                          65.36128522
                        ]
                      },
                      {
                        "learn": [
                          48.16233963
                        ],
                        "iteration": 717,
                        "passed_time": 1.006664069,
                        "remaining_time": 0.3953750243,
                        "test": [
                          65.36414565
                        ]
                      },
                      {
                        "learn": [
                          48.16225958
                        ],
                        "iteration": 718,
                        "passed_time": 1.007537295,
                        "remaining_time": 0.393766314,
                        "test": [
                          65.36416461
                        ]
                      },
                      {
                        "learn": [
                          48.15956476
                        ],
                        "iteration": 719,
                        "passed_time": 1.008295239,
                        "remaining_time": 0.3921148151,
                        "test": [
                          65.36450607
                        ]
                      },
                      {
                        "learn": [
                          48.15374034
                        ],
                        "iteration": 720,
                        "passed_time": 1.009056312,
                        "remaining_time": 0.3904670055,
                        "test": [
                          65.36851761
                        ]
                      },
                      {
                        "learn": [
                          48.15267105
                        ],
                        "iteration": 721,
                        "passed_time": 1.009826496,
                        "remaining_time": 0.3888251607,
                        "test": [
                          65.36790306
                        ]
                      },
                      {
                        "learn": [
                          48.15053353
                        ],
                        "iteration": 722,
                        "passed_time": 1.01096203,
                        "remaining_time": 0.3873257015,
                        "test": [
                          65.3685373
                        ]
                      },
                      {
                        "learn": [
                          48.14917559
                        ],
                        "iteration": 723,
                        "passed_time": 1.011778907,
                        "remaining_time": 0.3857057712,
                        "test": [
                          65.3684663
                        ]
                      },
                      {
                        "learn": [
                          48.14629438
                        ],
                        "iteration": 724,
                        "passed_time": 1.012636391,
                        "remaining_time": 0.3841034586,
                        "test": [
                          65.37408143
                        ]
                      },
                      {
                        "learn": [
                          48.14591374
                        ],
                        "iteration": 725,
                        "passed_time": 1.013467258,
                        "remaining_time": 0.3824931526,
                        "test": [
                          65.37550519
                        ]
                      },
                      {
                        "learn": [
                          48.14350665
                        ],
                        "iteration": 726,
                        "passed_time": 1.01429513,
                        "remaining_time": 0.3808838657,
                        "test": [
                          65.37215187
                        ]
                      },
                      {
                        "learn": [
                          48.14273995
                        ],
                        "iteration": 727,
                        "passed_time": 1.015061112,
                        "remaining_time": 0.3792536023,
                        "test": [
                          65.37289121
                        ]
                      },
                      {
                        "learn": [
                          48.1396964
                        ],
                        "iteration": 728,
                        "passed_time": 1.015793048,
                        "remaining_time": 0.3776130534,
                        "test": [
                          65.37397775
                        ]
                      },
                      {
                        "learn": [
                          48.13778937
                        ],
                        "iteration": 729,
                        "passed_time": 1.016516688,
                        "remaining_time": 0.3759719258,
                        "test": [
                          65.37653705
                        ]
                      },
                      {
                        "learn": [
                          48.13580232
                        ],
                        "iteration": 730,
                        "passed_time": 1.017290576,
                        "remaining_time": 0.3743517987,
                        "test": [
                          65.38024291
                        ]
                      },
                      {
                        "learn": [
                          48.13214889
                        ],
                        "iteration": 731,
                        "passed_time": 1.018061388,
                        "remaining_time": 0.3727328579,
                        "test": [
                          65.37928992
                        ]
                      },
                      {
                        "learn": [
                          48.1301309
                        ],
                        "iteration": 732,
                        "passed_time": 1.018826876,
                        "remaining_time": 0.3711142917,
                        "test": [
                          65.38230291
                        ]
                      },
                      {
                        "learn": [
                          48.12868928
                        ],
                        "iteration": 733,
                        "passed_time": 1.019750316,
                        "remaining_time": 0.3695552918,
                        "test": [
                          65.39170345
                        ]
                      },
                      {
                        "learn": [
                          48.12624232
                        ],
                        "iteration": 734,
                        "passed_time": 1.020610662,
                        "remaining_time": 0.3679752727,
                        "test": [
                          65.3926865
                        ]
                      },
                      {
                        "learn": [
                          48.12540686
                        ],
                        "iteration": 735,
                        "passed_time": 1.021451322,
                        "remaining_time": 0.3663901483,
                        "test": [
                          65.39443096
                        ]
                      },
                      {
                        "learn": [
                          48.1244878
                        ],
                        "iteration": 736,
                        "passed_time": 1.022290296,
                        "remaining_time": 0.3648064421,
                        "test": [
                          65.39394526
                        ]
                      },
                      {
                        "learn": [
                          48.12366925
                        ],
                        "iteration": 737,
                        "passed_time": 1.023044955,
                        "remaining_time": 0.3631948214,
                        "test": [
                          65.39161445
                        ]
                      },
                      {
                        "learn": [
                          48.12256457
                        ],
                        "iteration": 738,
                        "passed_time": 1.023811815,
                        "remaining_time": 0.361589829,
                        "test": [
                          65.39714849
                        ]
                      },
                      {
                        "learn": [
                          48.12174258
                        ],
                        "iteration": 739,
                        "passed_time": 1.024570858,
                        "remaining_time": 0.3599843555,
                        "test": [
                          65.39765938
                        ]
                      },
                      {
                        "learn": [
                          48.12049359
                        ],
                        "iteration": 740,
                        "passed_time": 1.025450152,
                        "remaining_time": 0.3584231976,
                        "test": [
                          65.40046111
                        ]
                      },
                      {
                        "learn": [
                          48.119467
                        ],
                        "iteration": 741,
                        "passed_time": 1.026457758,
                        "remaining_time": 0.3569084928,
                        "test": [
                          65.4081983
                        ]
                      },
                      {
                        "learn": [
                          48.11776529
                        ],
                        "iteration": 742,
                        "passed_time": 1.027255878,
                        "remaining_time": 0.3553226927,
                        "test": [
                          65.41567297
                        ]
                      },
                      {
                        "learn": [
                          48.11657263
                        ],
                        "iteration": 743,
                        "passed_time": 1.028027132,
                        "remaining_time": 0.3537297657,
                        "test": [
                          65.41119189
                        ]
                      },
                      {
                        "learn": [
                          48.1165039
                        ],
                        "iteration": 744,
                        "passed_time": 1.028843248,
                        "remaining_time": 0.3521544003,
                        "test": [
                          65.41119252
                        ]
                      },
                      {
                        "learn": [
                          48.11443267
                        ],
                        "iteration": 745,
                        "passed_time": 1.029659509,
                        "remaining_time": 0.3505811196,
                        "test": [
                          65.41046345
                        ]
                      },
                      {
                        "learn": [
                          48.11218565
                        ],
                        "iteration": 746,
                        "passed_time": 1.030487133,
                        "remaining_time": 0.3490137145,
                        "test": [
                          65.41045489
                        ]
                      },
                      {
                        "learn": [
                          48.11065035
                        ],
                        "iteration": 747,
                        "passed_time": 1.031452023,
                        "remaining_time": 0.3474945318,
                        "test": [
                          65.41678164
                        ]
                      },
                      {
                        "learn": [
                          48.11015577
                        ],
                        "iteration": 748,
                        "passed_time": 1.032265484,
                        "remaining_time": 0.3459260833,
                        "test": [
                          65.4181922
                        ]
                      },
                      {
                        "learn": [
                          48.10986925
                        ],
                        "iteration": 749,
                        "passed_time": 1.033054929,
                        "remaining_time": 0.3443516432,
                        "test": [
                          65.41822716
                        ]
                      },
                      {
                        "learn": [
                          48.10939816
                        ],
                        "iteration": 750,
                        "passed_time": 1.033787077,
                        "remaining_time": 0.3427602959,
                        "test": [
                          65.41771112
                        ]
                      },
                      {
                        "learn": [
                          48.10932486
                        ],
                        "iteration": 751,
                        "passed_time": 1.034536534,
                        "remaining_time": 0.341176942,
                        "test": [
                          65.41823526
                        ]
                      },
                      {
                        "learn": [
                          48.1064507
                        ],
                        "iteration": 752,
                        "passed_time": 1.035267595,
                        "remaining_time": 0.339589769,
                        "test": [
                          65.42141441
                        ]
                      },
                      {
                        "learn": [
                          48.10574152
                        ],
                        "iteration": 753,
                        "passed_time": 1.036010656,
                        "remaining_time": 0.3380087816,
                        "test": [
                          65.42124197
                        ]
                      },
                      {
                        "learn": [
                          48.10349766
                        ],
                        "iteration": 754,
                        "passed_time": 1.037698808,
                        "remaining_time": 0.3367366992,
                        "test": [
                          65.42807972
                        ]
                      },
                      {
                        "learn": [
                          48.1032599
                        ],
                        "iteration": 755,
                        "passed_time": 1.038517606,
                        "remaining_time": 0.3351829309,
                        "test": [
                          65.42853529
                        ]
                      },
                      {
                        "learn": [
                          48.10223429
                        ],
                        "iteration": 756,
                        "passed_time": 1.039450951,
                        "remaining_time": 0.3336678747,
                        "test": [
                          65.43378614
                        ]
                      },
                      {
                        "learn": [
                          48.10050858
                        ],
                        "iteration": 757,
                        "passed_time": 1.040315922,
                        "remaining_time": 0.332132524,
                        "test": [
                          65.43079665
                        ]
                      },
                      {
                        "learn": [
                          48.09751543
                        ],
                        "iteration": 758,
                        "passed_time": 1.041117659,
                        "remaining_time": 0.3305788614,
                        "test": [
                          65.42793352
                        ]
                      },
                      {
                        "learn": [
                          48.09675175
                        ],
                        "iteration": 759,
                        "passed_time": 1.041914082,
                        "remaining_time": 0.3290254996,
                        "test": [
                          65.42936982
                        ]
                      },
                      {
                        "learn": [
                          48.0955881
                        ],
                        "iteration": 760,
                        "passed_time": 1.042706779,
                        "remaining_time": 0.3274729568,
                        "test": [
                          65.42885602
                        ]
                      },
                      {
                        "learn": [
                          48.09482728
                        ],
                        "iteration": 761,
                        "passed_time": 1.043463854,
                        "remaining_time": 0.3259112825,
                        "test": [
                          65.43021241
                        ]
                      },
                      {
                        "learn": [
                          48.09216347
                        ],
                        "iteration": 762,
                        "passed_time": 1.04421559,
                        "remaining_time": 0.3243500587,
                        "test": [
                          65.43066836
                        ]
                      },
                      {
                        "learn": [
                          48.08990435
                        ],
                        "iteration": 763,
                        "passed_time": 1.044996954,
                        "remaining_time": 0.3228001062,
                        "test": [
                          65.43544199
                        ]
                      },
                      {
                        "learn": [
                          48.08809814
                        ],
                        "iteration": 764,
                        "passed_time": 1.04578611,
                        "remaining_time": 0.3212545566,
                        "test": [
                          65.43692881
                        ]
                      },
                      {
                        "learn": [
                          48.08804845
                        ],
                        "iteration": 765,
                        "passed_time": 1.046775703,
                        "remaining_time": 0.3197722122,
                        "test": [
                          65.43725172
                        ]
                      },
                      {
                        "learn": [
                          48.0863148
                        ],
                        "iteration": 766,
                        "passed_time": 1.047571791,
                        "remaining_time": 0.3182323695,
                        "test": [
                          65.43767428
                        ]
                      },
                      {
                        "learn": [
                          48.0819349
                        ],
                        "iteration": 767,
                        "passed_time": 1.048407462,
                        "remaining_time": 0.3167064209,
                        "test": [
                          65.4308758
                        ]
                      },
                      {
                        "learn": [
                          48.08013435
                        ],
                        "iteration": 768,
                        "passed_time": 1.049256427,
                        "remaining_time": 0.3151862608,
                        "test": [
                          65.4308484
                        ]
                      },
                      {
                        "learn": [
                          48.07515602
                        ],
                        "iteration": 769,
                        "passed_time": 1.050038642,
                        "remaining_time": 0.3136479061,
                        "test": [
                          65.43237231
                        ]
                      },
                      {
                        "learn": [
                          48.07044787
                        ],
                        "iteration": 770,
                        "passed_time": 1.050791643,
                        "remaining_time": 0.3121028356,
                        "test": [
                          65.43681676
                        ]
                      },
                      {
                        "learn": [
                          48.06838825
                        ],
                        "iteration": 771,
                        "passed_time": 1.051516518,
                        "remaining_time": 0.3105515105,
                        "test": [
                          65.43760005
                        ]
                      },
                      {
                        "learn": [
                          48.06815558
                        ],
                        "iteration": 772,
                        "passed_time": 1.05238985,
                        "remaining_time": 0.3090459198,
                        "test": [
                          65.4376001
                        ]
                      },
                      {
                        "learn": [
                          48.0655557
                        ],
                        "iteration": 773,
                        "passed_time": 1.053124363,
                        "remaining_time": 0.307501429,
                        "test": [
                          65.4377278
                        ]
                      },
                      {
                        "learn": [
                          48.06477329
                        ],
                        "iteration": 774,
                        "passed_time": 1.053870982,
                        "remaining_time": 0.3059625431,
                        "test": [
                          65.44302788
                        ]
                      },
                      {
                        "learn": [
                          48.06357908
                        ],
                        "iteration": 775,
                        "passed_time": 1.054608533,
                        "remaining_time": 0.3044230817,
                        "test": [
                          65.44792748
                        ]
                      },
                      {
                        "learn": [
                          48.06188367
                        ],
                        "iteration": 776,
                        "passed_time": 1.05542664,
                        "remaining_time": 0.3029088039,
                        "test": [
                          65.44973766
                        ]
                      },
                      {
                        "learn": [
                          48.05915245
                        ],
                        "iteration": 777,
                        "passed_time": 1.05623897,
                        "remaining_time": 0.3013946676,
                        "test": [
                          65.45144995
                        ]
                      },
                      {
                        "learn": [
                          48.05875442
                        ],
                        "iteration": 778,
                        "passed_time": 1.057146985,
                        "remaining_time": 0.2999094785,
                        "test": [
                          65.45346247
                        ]
                      },
                      {
                        "learn": [
                          48.05778133
                        ],
                        "iteration": 779,
                        "passed_time": 1.057976544,
                        "remaining_time": 0.2984036405,
                        "test": [
                          65.45607042
                        ]
                      },
                      {
                        "learn": [
                          48.05625896
                        ],
                        "iteration": 780,
                        "passed_time": 1.058856263,
                        "remaining_time": 0.2969135999,
                        "test": [
                          65.45858464
                        ]
                      },
                      {
                        "learn": [
                          48.05543867
                        ],
                        "iteration": 781,
                        "passed_time": 1.059686386,
                        "remaining_time": 0.2954112943,
                        "test": [
                          65.46143411
                        ]
                      },
                      {
                        "learn": [
                          48.05533134
                        ],
                        "iteration": 782,
                        "passed_time": 1.060494383,
                        "remaining_time": 0.2939045737,
                        "test": [
                          65.46171114
                        ]
                      },
                      {
                        "learn": [
                          48.05463031
                        ],
                        "iteration": 783,
                        "passed_time": 1.061255466,
                        "remaining_time": 0.2923867099,
                        "test": [
                          65.45985421
                        ]
                      },
                      {
                        "learn": [
                          48.05335976
                        ],
                        "iteration": 784,
                        "passed_time": 1.062045497,
                        "remaining_time": 0.2908787031,
                        "test": [
                          65.46533984
                        ]
                      },
                      {
                        "learn": [
                          48.05320706
                        ],
                        "iteration": 785,
                        "passed_time": 1.062817228,
                        "remaining_time": 0.2893675405,
                        "test": [
                          65.46495081
                        ]
                      },
                      {
                        "learn": [
                          48.05046444
                        ],
                        "iteration": 786,
                        "passed_time": 1.063564113,
                        "remaining_time": 0.2878515324,
                        "test": [
                          65.46845605
                        ]
                      },
                      {
                        "learn": [
                          48.04970019
                        ],
                        "iteration": 787,
                        "passed_time": 1.064331554,
                        "remaining_time": 0.286343007,
                        "test": [
                          65.46934026
                        ]
                      },
                      {
                        "learn": [
                          48.04574428
                        ],
                        "iteration": 788,
                        "passed_time": 1.065185079,
                        "remaining_time": 0.284859381,
                        "test": [
                          65.46969362
                        ]
                      },
                      {
                        "learn": [
                          48.04474654
                        ],
                        "iteration": 789,
                        "passed_time": 1.065988693,
                        "remaining_time": 0.283364083,
                        "test": [
                          65.47149731
                        ]
                      },
                      {
                        "learn": [
                          48.0442333
                        ],
                        "iteration": 790,
                        "passed_time": 1.066854479,
                        "remaining_time": 0.281886961,
                        "test": [
                          65.47187835
                        ]
                      },
                      {
                        "learn": [
                          48.04227191
                        ],
                        "iteration": 791,
                        "passed_time": 1.068956144,
                        "remaining_time": 0.2807359571,
                        "test": [
                          65.47224199
                        ]
                      },
                      {
                        "learn": [
                          48.04126937
                        ],
                        "iteration": 792,
                        "passed_time": 1.070823844,
                        "remaining_time": 0.2795214826,
                        "test": [
                          65.47409712
                        ]
                      },
                      {
                        "learn": [
                          48.03888349
                        ],
                        "iteration": 793,
                        "passed_time": 1.073934997,
                        "remaining_time": 0.2786279714,
                        "test": [
                          65.48029397
                        ]
                      },
                      {
                        "learn": [
                          48.03833856
                        ],
                        "iteration": 794,
                        "passed_time": 1.075798137,
                        "remaining_time": 0.2774070667,
                        "test": [
                          65.48089064
                        ]
                      },
                      {
                        "learn": [
                          48.0356046
                        ],
                        "iteration": 795,
                        "passed_time": 1.077713848,
                        "remaining_time": 0.2761980212,
                        "test": [
                          65.48176704
                        ]
                      },
                      {
                        "learn": [
                          48.03255982
                        ],
                        "iteration": 796,
                        "passed_time": 1.079621533,
                        "remaining_time": 0.2749851584,
                        "test": [
                          65.48320678
                        ]
                      },
                      {
                        "learn": [
                          48.02897365
                        ],
                        "iteration": 797,
                        "passed_time": 1.081518902,
                        "remaining_time": 0.2737679427,
                        "test": [
                          65.4783426
                        ]
                      },
                      {
                        "learn": [
                          48.02455584
                        ],
                        "iteration": 798,
                        "passed_time": 1.083494965,
                        "remaining_time": 0.272568821,
                        "test": [
                          65.48018202
                        ]
                      },
                      {
                        "learn": [
                          48.02050899
                        ],
                        "iteration": 799,
                        "passed_time": 1.085336556,
                        "remaining_time": 0.2713341389,
                        "test": [
                          65.48282169
                        ]
                      },
                      {
                        "learn": [
                          48.01630167
                        ],
                        "iteration": 800,
                        "passed_time": 1.087313966,
                        "remaining_time": 0.2701316844,
                        "test": [
                          65.47752675
                        ]
                      },
                      {
                        "learn": [
                          48.01613978
                        ],
                        "iteration": 801,
                        "passed_time": 1.089111353,
                        "remaining_time": 0.2688828527,
                        "test": [
                          65.47791934
                        ]
                      },
                      {
                        "learn": [
                          48.01298654
                        ],
                        "iteration": 802,
                        "passed_time": 1.090907691,
                        "remaining_time": 0.2676323974,
                        "test": [
                          65.47695479
                        ]
                      },
                      {
                        "learn": [
                          48.0129232
                        ],
                        "iteration": 803,
                        "passed_time": 1.092757155,
                        "remaining_time": 0.2663935353,
                        "test": [
                          65.47704804
                        ]
                      },
                      {
                        "learn": [
                          48.00991688
                        ],
                        "iteration": 804,
                        "passed_time": 1.094646861,
                        "remaining_time": 0.2651629043,
                        "test": [
                          65.47816613
                        ]
                      },
                      {
                        "learn": [
                          48.00848004
                        ],
                        "iteration": 805,
                        "passed_time": 1.096614278,
                        "remaining_time": 0.2639493422,
                        "test": [
                          65.48050676
                        ]
                      },
                      {
                        "learn": [
                          48.00644952
                        ],
                        "iteration": 806,
                        "passed_time": 1.098532291,
                        "remaining_time": 0.2627220969,
                        "test": [
                          65.48653119
                        ]
                      },
                      {
                        "learn": [
                          48.00365968
                        ],
                        "iteration": 807,
                        "passed_time": 1.100380992,
                        "remaining_time": 0.2614766713,
                        "test": [
                          65.48455285
                        ]
                      },
                      {
                        "learn": [
                          48.00250794
                        ],
                        "iteration": 808,
                        "passed_time": 1.10233003,
                        "remaining_time": 0.2602534433,
                        "test": [
                          65.49099726
                        ]
                      },
                      {
                        "learn": [
                          48.00249003
                        ],
                        "iteration": 809,
                        "passed_time": 1.104292937,
                        "remaining_time": 0.2590316766,
                        "test": [
                          65.49079875
                        ]
                      },
                      {
                        "learn": [
                          48.00172657
                        ],
                        "iteration": 810,
                        "passed_time": 1.108495426,
                        "remaining_time": 0.2583300068,
                        "test": [
                          65.49058986
                        ]
                      },
                      {
                        "learn": [
                          48.00002935
                        ],
                        "iteration": 811,
                        "passed_time": 1.109280497,
                        "remaining_time": 0.2568284895,
                        "test": [
                          65.49411119
                        ]
                      },
                      {
                        "learn": [
                          47.99731462
                        ],
                        "iteration": 812,
                        "passed_time": 1.11004471,
                        "remaining_time": 0.255323937,
                        "test": [
                          65.49302879
                        ]
                      },
                      {
                        "learn": [
                          47.99479017
                        ],
                        "iteration": 813,
                        "passed_time": 1.110848379,
                        "remaining_time": 0.2538302192,
                        "test": [
                          65.49863857
                        ]
                      },
                      {
                        "learn": [
                          47.9924149
                        ],
                        "iteration": 814,
                        "passed_time": 1.111617237,
                        "remaining_time": 0.2523302931,
                        "test": [
                          65.50925665
                        ]
                      },
                      {
                        "learn": [
                          47.99179941
                        ],
                        "iteration": 815,
                        "passed_time": 1.112382094,
                        "remaining_time": 0.2508312565,
                        "test": [
                          65.51052505
                        ]
                      },
                      {
                        "learn": [
                          47.99177767
                        ],
                        "iteration": 816,
                        "passed_time": 1.113145475,
                        "remaining_time": 0.2493336866,
                        "test": [
                          65.51038079
                        ]
                      },
                      {
                        "learn": [
                          47.9886313
                        ],
                        "iteration": 817,
                        "passed_time": 1.113864781,
                        "remaining_time": 0.2478281053,
                        "test": [
                          65.50918629
                        ]
                      },
                      {
                        "learn": [
                          47.98637756
                        ],
                        "iteration": 818,
                        "passed_time": 1.114596222,
                        "remaining_time": 0.2463271261,
                        "test": [
                          65.50824367
                        ]
                      },
                      {
                        "learn": [
                          47.98520403
                        ],
                        "iteration": 819,
                        "passed_time": 1.11534222,
                        "remaining_time": 0.244831219,
                        "test": [
                          65.50776107
                        ]
                      },
                      {
                        "learn": [
                          47.98231861
                        ],
                        "iteration": 820,
                        "passed_time": 1.116110901,
                        "remaining_time": 0.2433420843,
                        "test": [
                          65.50944655
                        ]
                      },
                      {
                        "learn": [
                          47.98190637
                        ],
                        "iteration": 821,
                        "passed_time": 1.116820124,
                        "remaining_time": 0.2418418273,
                        "test": [
                          65.51225943
                        ]
                      },
                      {
                        "learn": [
                          47.98022522
                        ],
                        "iteration": 822,
                        "passed_time": 1.117671092,
                        "remaining_time": 0.2403739772,
                        "test": [
                          65.51812409
                        ]
                      },
                      {
                        "learn": [
                          47.97734025
                        ],
                        "iteration": 823,
                        "passed_time": 1.118645537,
                        "remaining_time": 0.2389339981,
                        "test": [
                          65.51785115
                        ]
                      },
                      {
                        "learn": [
                          47.97545333
                        ],
                        "iteration": 824,
                        "passed_time": 1.11966656,
                        "remaining_time": 0.2375050279,
                        "test": [
                          65.51462767
                        ]
                      },
                      {
                        "learn": [
                          47.97447212
                        ],
                        "iteration": 825,
                        "passed_time": 1.120791049,
                        "remaining_time": 0.2360988407,
                        "test": [
                          65.51670755
                        ]
                      },
                      {
                        "learn": [
                          47.9730226
                        ],
                        "iteration": 826,
                        "passed_time": 1.121912703,
                        "remaining_time": 0.234692742,
                        "test": [
                          65.52073164
                        ]
                      },
                      {
                        "learn": [
                          47.9727513
                        ],
                        "iteration": 827,
                        "passed_time": 1.122990399,
                        "remaining_time": 0.2332781988,
                        "test": [
                          65.5212168
                        ]
                      },
                      {
                        "learn": [
                          47.96880991
                        ],
                        "iteration": 828,
                        "passed_time": 1.124004121,
                        "remaining_time": 0.2318512722,
                        "test": [
                          65.52487296
                        ]
                      },
                      {
                        "learn": [
                          47.96645364
                        ],
                        "iteration": 829,
                        "passed_time": 1.125003482,
                        "remaining_time": 0.2304224,
                        "test": [
                          65.532286
                        ]
                      },
                      {
                        "learn": [
                          47.96466374
                        ],
                        "iteration": 830,
                        "passed_time": 1.126001991,
                        "remaining_time": 0.2289943881,
                        "test": [
                          65.52961287
                        ]
                      },
                      {
                        "learn": [
                          47.96355392
                        ],
                        "iteration": 831,
                        "passed_time": 1.127139878,
                        "remaining_time": 0.2275955524,
                        "test": [
                          65.53296644
                        ]
                      },
                      {
                        "learn": [
                          47.96134356
                        ],
                        "iteration": 832,
                        "passed_time": 1.12812892,
                        "remaining_time": 0.2261675026,
                        "test": [
                          65.54327792
                        ]
                      },
                      {
                        "learn": [
                          47.96000484
                        ],
                        "iteration": 833,
                        "passed_time": 1.129076881,
                        "remaining_time": 0.2247323289,
                        "test": [
                          65.5440964
                        ]
                      },
                      {
                        "learn": [
                          47.95886935
                        ],
                        "iteration": 834,
                        "passed_time": 1.130021112,
                        "remaining_time": 0.223297585,
                        "test": [
                          65.54889608
                        ]
                      },
                      {
                        "learn": [
                          47.95821968
                        ],
                        "iteration": 835,
                        "passed_time": 1.131000522,
                        "remaining_time": 0.2218709157,
                        "test": [
                          65.55382327
                        ]
                      },
                      {
                        "learn": [
                          47.95581586
                        ],
                        "iteration": 836,
                        "passed_time": 1.131930031,
                        "remaining_time": 0.2204355975,
                        "test": [
                          65.55108588
                        ]
                      },
                      {
                        "learn": [
                          47.9529119
                        ],
                        "iteration": 837,
                        "passed_time": 1.132849473,
                        "remaining_time": 0.2189995401,
                        "test": [
                          65.55029315
                        ]
                      },
                      {
                        "learn": [
                          47.95181216
                        ],
                        "iteration": 838,
                        "passed_time": 1.133753615,
                        "remaining_time": 0.2175617784,
                        "test": [
                          65.5495602
                        ]
                      },
                      {
                        "learn": [
                          47.95046194
                        ],
                        "iteration": 839,
                        "passed_time": 1.134670012,
                        "remaining_time": 0.2161276214,
                        "test": [
                          65.55080176
                        ]
                      },
                      {
                        "learn": [
                          47.94880652
                        ],
                        "iteration": 840,
                        "passed_time": 1.135625135,
                        "remaining_time": 0.2147020172,
                        "test": [
                          65.54989426
                        ]
                      },
                      {
                        "learn": [
                          47.9446616
                        ],
                        "iteration": 841,
                        "passed_time": 1.137575576,
                        "remaining_time": 0.2134643004,
                        "test": [
                          65.5560414
                        ]
                      },
                      {
                        "learn": [
                          47.94364957
                        ],
                        "iteration": 842,
                        "passed_time": 1.138793956,
                        "remaining_time": 0.2120885541,
                        "test": [
                          65.55545855
                        ]
                      },
                      {
                        "learn": [
                          47.94149582
                        ],
                        "iteration": 843,
                        "passed_time": 1.139785548,
                        "remaining_time": 0.2106712625,
                        "test": [
                          65.55658202
                        ]
                      },
                      {
                        "learn": [
                          47.94071739
                        ],
                        "iteration": 844,
                        "passed_time": 1.140887372,
                        "remaining_time": 0.2092751985,
                        "test": [
                          65.55629532
                        ]
                      },
                      {
                        "learn": [
                          47.93889143
                        ],
                        "iteration": 845,
                        "passed_time": 1.142007912,
                        "remaining_time": 0.2078832369,
                        "test": [
                          65.5544865
                        ]
                      },
                      {
                        "learn": [
                          47.93836189
                        ],
                        "iteration": 846,
                        "passed_time": 1.1430205,
                        "remaining_time": 0.2064724162,
                        "test": [
                          65.55550589
                        ]
                      },
                      {
                        "learn": [
                          47.9376404
                        ],
                        "iteration": 847,
                        "passed_time": 1.143966841,
                        "remaining_time": 0.2050506602,
                        "test": [
                          65.5586497
                        ]
                      },
                      {
                        "learn": [
                          47.93540713
                        ],
                        "iteration": 848,
                        "passed_time": 1.144936522,
                        "remaining_time": 0.2036341752,
                        "test": [
                          65.55566395
                        ]
                      },
                      {
                        "learn": [
                          47.93519209
                        ],
                        "iteration": 849,
                        "passed_time": 1.145913816,
                        "remaining_time": 0.2022200852,
                        "test": [
                          65.55524827
                        ]
                      },
                      {
                        "learn": [
                          47.93455903
                        ],
                        "iteration": 850,
                        "passed_time": 1.147036388,
                        "remaining_time": 0.200832458,
                        "test": [
                          65.55561613
                        ]
                      },
                      {
                        "learn": [
                          47.93384057
                        ],
                        "iteration": 851,
                        "passed_time": 1.148101647,
                        "remaining_time": 0.1994354973,
                        "test": [
                          65.55690196
                        ]
                      },
                      {
                        "learn": [
                          47.93091802
                        ],
                        "iteration": 852,
                        "passed_time": 1.149092313,
                        "remaining_time": 0.1980264596,
                        "test": [
                          65.55502647
                        ]
                      },
                      {
                        "learn": [
                          47.92964447
                        ],
                        "iteration": 853,
                        "passed_time": 1.150282339,
                        "remaining_time": 0.1966524841,
                        "test": [
                          65.56457871
                        ]
                      },
                      {
                        "learn": [
                          47.92799233
                        ],
                        "iteration": 854,
                        "passed_time": 1.151705432,
                        "remaining_time": 0.1953184651,
                        "test": [
                          65.57193282
                        ]
                      },
                      {
                        "learn": [
                          47.92601062
                        ],
                        "iteration": 855,
                        "passed_time": 1.152667751,
                        "remaining_time": 0.1939067245,
                        "test": [
                          65.57243288
                        ]
                      },
                      {
                        "learn": [
                          47.92554725
                        ],
                        "iteration": 856,
                        "passed_time": 1.153486766,
                        "remaining_time": 0.1924721208,
                        "test": [
                          65.57186553
                        ]
                      },
                      {
                        "learn": [
                          47.92264044
                        ],
                        "iteration": 857,
                        "passed_time": 1.154203196,
                        "remaining_time": 0.1910219741,
                        "test": [
                          65.5664912
                        ]
                      },
                      {
                        "learn": [
                          47.92223419
                        ],
                        "iteration": 858,
                        "passed_time": 1.155019144,
                        "remaining_time": 0.1895898712,
                        "test": [
                          65.56642597
                        ]
                      },
                      {
                        "learn": [
                          47.91911075
                        ],
                        "iteration": 859,
                        "passed_time": 1.156288511,
                        "remaining_time": 0.1882330134,
                        "test": [
                          65.56892457
                        ]
                      },
                      {
                        "learn": [
                          47.91741455
                        ],
                        "iteration": 860,
                        "passed_time": 1.157967474,
                        "remaining_time": 0.1869424841,
                        "test": [
                          65.56525137
                        ]
                      },
                      {
                        "learn": [
                          47.91514846
                        ],
                        "iteration": 861,
                        "passed_time": 1.158815915,
                        "remaining_time": 0.1855180932,
                        "test": [
                          65.56592324
                        ]
                      },
                      {
                        "learn": [
                          47.91261892
                        ],
                        "iteration": 862,
                        "passed_time": 1.159573537,
                        "remaining_time": 0.1840806194,
                        "test": [
                          65.56443629
                        ]
                      },
                      {
                        "learn": [
                          47.91172527
                        ],
                        "iteration": 863,
                        "passed_time": 1.160326247,
                        "remaining_time": 0.1826439463,
                        "test": [
                          65.57041087
                        ]
                      },
                      {
                        "learn": [
                          47.90962592
                        ],
                        "iteration": 864,
                        "passed_time": 1.161094085,
                        "remaining_time": 0.1812112155,
                        "test": [
                          65.57312733
                        ]
                      },
                      {
                        "learn": [
                          47.9084113
                        ],
                        "iteration": 865,
                        "passed_time": 1.16182992,
                        "remaining_time": 0.1797750684,
                        "test": [
                          65.57395532
                        ]
                      },
                      {
                        "learn": [
                          47.90762264
                        ],
                        "iteration": 866,
                        "passed_time": 1.162535097,
                        "remaining_time": 0.1783358338,
                        "test": [
                          65.57871976
                        ]
                      },
                      {
                        "learn": [
                          47.90726133
                        ],
                        "iteration": 867,
                        "passed_time": 1.163298205,
                        "remaining_time": 0.1769071003,
                        "test": [
                          65.57959254
                        ]
                      },
                      {
                        "learn": [
                          47.90532464
                        ],
                        "iteration": 868,
                        "passed_time": 1.164141643,
                        "remaining_time": 0.1754920083,
                        "test": [
                          65.58022203
                        ]
                      },
                      {
                        "learn": [
                          47.90401
                        ],
                        "iteration": 869,
                        "passed_time": 1.164965447,
                        "remaining_time": 0.1740752966,
                        "test": [
                          65.57994362
                        ]
                      },
                      {
                        "learn": [
                          47.90174501
                        ],
                        "iteration": 870,
                        "passed_time": 1.165726826,
                        "remaining_time": 0.172650701,
                        "test": [
                          65.57828045
                        ]
                      },
                      {
                        "learn": [
                          47.90091684
                        ],
                        "iteration": 871,
                        "passed_time": 1.166467484,
                        "remaining_time": 0.1712245847,
                        "test": [
                          65.582929
                        ]
                      },
                      {
                        "learn": [
                          47.89859489
                        ],
                        "iteration": 872,
                        "passed_time": 1.167312913,
                        "remaining_time": 0.1698152807,
                        "test": [
                          65.58592961
                        ]
                      },
                      {
                        "learn": [
                          47.89691487
                        ],
                        "iteration": 873,
                        "passed_time": 1.16814809,
                        "remaining_time": 0.1684057888,
                        "test": [
                          65.58876504
                        ]
                      },
                      {
                        "learn": [
                          47.89442131
                        ],
                        "iteration": 874,
                        "passed_time": 1.169036432,
                        "remaining_time": 0.1670052045,
                        "test": [
                          65.59279268
                        ]
                      },
                      {
                        "learn": [
                          47.89113377
                        ],
                        "iteration": 875,
                        "passed_time": 1.170048515,
                        "remaining_time": 0.1656233058,
                        "test": [
                          65.59614123
                        ]
                      },
                      {
                        "learn": [
                          47.88988731
                        ],
                        "iteration": 876,
                        "passed_time": 1.170818894,
                        "remaining_time": 0.1642083511,
                        "test": [
                          65.59852738
                        ]
                      },
                      {
                        "learn": [
                          47.88821775
                        ],
                        "iteration": 877,
                        "passed_time": 1.171679572,
                        "remaining_time": 0.1628074121,
                        "test": [
                          65.59970185
                        ]
                      },
                      {
                        "learn": [
                          47.88818221
                        ],
                        "iteration": 878,
                        "passed_time": 1.172246727,
                        "remaining_time": 0.1613672969,
                        "test": [
                          65.59954291
                        ]
                      },
                      {
                        "learn": [
                          47.88637549
                        ],
                        "iteration": 879,
                        "passed_time": 1.172985821,
                        "remaining_time": 0.1599526119,
                        "test": [
                          65.60048783
                        ]
                      },
                      {
                        "learn": [
                          47.88618803
                        ],
                        "iteration": 880,
                        "passed_time": 1.17374535,
                        "remaining_time": 0.158542221,
                        "test": [
                          65.60207152
                        ]
                      },
                      {
                        "learn": [
                          47.88594555
                        ],
                        "iteration": 881,
                        "passed_time": 1.174627419,
                        "remaining_time": 0.1571497,
                        "test": [
                          65.60249134
                        ]
                      },
                      {
                        "learn": [
                          47.88473848
                        ],
                        "iteration": 882,
                        "passed_time": 1.175394525,
                        "remaining_time": 0.1557431023,
                        "test": [
                          65.6058376
                        ]
                      },
                      {
                        "learn": [
                          47.88266111
                        ],
                        "iteration": 883,
                        "passed_time": 1.176164207,
                        "remaining_time": 0.1543382896,
                        "test": [
                          65.6107903
                        ]
                      },
                      {
                        "learn": [
                          47.88139461
                        ],
                        "iteration": 884,
                        "passed_time": 1.177041596,
                        "remaining_time": 0.152948908,
                        "test": [
                          65.61259652
                        ]
                      },
                      {
                        "learn": [
                          47.88002899
                        ],
                        "iteration": 885,
                        "passed_time": 1.178220367,
                        "remaining_time": 0.1515994603,
                        "test": [
                          65.61431217
                        ]
                      },
                      {
                        "learn": [
                          47.87887605
                        ],
                        "iteration": 886,
                        "passed_time": 1.179228102,
                        "remaining_time": 0.1502286082,
                        "test": [
                          65.61711548
                        ]
                      },
                      {
                        "learn": [
                          47.8784341
                        ],
                        "iteration": 887,
                        "passed_time": 1.18019108,
                        "remaining_time": 0.148852929,
                        "test": [
                          65.61919969
                        ]
                      },
                      {
                        "learn": [
                          47.87702249
                        ],
                        "iteration": 888,
                        "passed_time": 1.18116501,
                        "remaining_time": 0.1474795456,
                        "test": [
                          65.62222185
                        ]
                      },
                      {
                        "learn": [
                          47.87599755
                        ],
                        "iteration": 889,
                        "passed_time": 1.182106291,
                        "remaining_time": 0.1461030248,
                        "test": [
                          65.62584599
                        ]
                      },
                      {
                        "learn": [
                          47.87520338
                        ],
                        "iteration": 890,
                        "passed_time": 1.183339772,
                        "remaining_time": 0.1447632269,
                        "test": [
                          65.62566654
                        ]
                      },
                      {
                        "learn": [
                          47.87517023
                        ],
                        "iteration": 891,
                        "passed_time": 1.184502933,
                        "remaining_time": 0.1434151533,
                        "test": [
                          65.62550732
                        ]
                      },
                      {
                        "learn": [
                          47.87455784
                        ],
                        "iteration": 892,
                        "passed_time": 1.185507612,
                        "remaining_time": 0.1420485045,
                        "test": [
                          65.62693216
                        ]
                      },
                      {
                        "learn": [
                          47.87419681
                        ],
                        "iteration": 893,
                        "passed_time": 1.186519203,
                        "remaining_time": 0.1406834849,
                        "test": [
                          65.62610467
                        ]
                      },
                      {
                        "learn": [
                          47.87388064
                        ],
                        "iteration": 894,
                        "passed_time": 1.187495523,
                        "remaining_time": 0.1393151173,
                        "test": [
                          65.62647952
                        ]
                      },
                      {
                        "learn": [
                          47.87381251
                        ],
                        "iteration": 895,
                        "passed_time": 1.188506294,
                        "remaining_time": 0.1379516234,
                        "test": [
                          65.62676615
                        ]
                      },
                      {
                        "learn": [
                          47.87237209
                        ],
                        "iteration": 896,
                        "passed_time": 1.189756121,
                        "remaining_time": 0.1366163661,
                        "test": [
                          65.62823408
                        ]
                      },
                      {
                        "learn": [
                          47.87180062
                        ],
                        "iteration": 897,
                        "passed_time": 1.190740911,
                        "remaining_time": 0.1352511947,
                        "test": [
                          65.63083275
                        ]
                      },
                      {
                        "learn": [
                          47.87101442
                        ],
                        "iteration": 898,
                        "passed_time": 1.191654176,
                        "remaining_time": 0.133878834,
                        "test": [
                          65.63186767
                        ]
                      },
                      {
                        "learn": [
                          47.86891551
                        ],
                        "iteration": 899,
                        "passed_time": 1.192769769,
                        "remaining_time": 0.1325299744,
                        "test": [
                          65.62974466
                        ]
                      },
                      {
                        "learn": [
                          47.86795605
                        ],
                        "iteration": 900,
                        "passed_time": 1.193796441,
                        "remaining_time": 0.131171862,
                        "test": [
                          65.62743449
                        ]
                      },
                      {
                        "learn": [
                          47.86773047
                        ],
                        "iteration": 901,
                        "passed_time": 1.195084259,
                        "remaining_time": 0.1298428574,
                        "test": [
                          65.62731131
                        ]
                      },
                      {
                        "learn": [
                          47.86484996
                        ],
                        "iteration": 902,
                        "passed_time": 1.196054835,
                        "remaining_time": 0.128479866,
                        "test": [
                          65.62497413
                        ]
                      },
                      {
                        "learn": [
                          47.86480821
                        ],
                        "iteration": 903,
                        "passed_time": 1.197012881,
                        "remaining_time": 0.1271164121,
                        "test": [
                          65.62518174
                        ]
                      },
                      {
                        "learn": [
                          47.86476618
                        ],
                        "iteration": 904,
                        "passed_time": 1.197983966,
                        "remaining_time": 0.1257552229,
                        "test": [
                          65.62499304
                        ]
                      },
                      {
                        "learn": [
                          47.86455432
                        ],
                        "iteration": 905,
                        "passed_time": 1.198899229,
                        "remaining_time": 0.1243891032,
                        "test": [
                          65.62476836
                        ]
                      },
                      {
                        "learn": [
                          47.8642773
                        ],
                        "iteration": 906,
                        "passed_time": 1.199870864,
                        "remaining_time": 0.1230297578,
                        "test": [
                          65.62582801
                        ]
                      },
                      {
                        "learn": [
                          47.86379873
                        ],
                        "iteration": 907,
                        "passed_time": 1.200854921,
                        "remaining_time": 0.121672525,
                        "test": [
                          65.62513313
                        ]
                      },
                      {
                        "learn": [
                          47.86195496
                        ],
                        "iteration": 908,
                        "passed_time": 1.201788003,
                        "remaining_time": 0.1203110102,
                        "test": [
                          65.62513196
                        ]
                      },
                      {
                        "learn": [
                          47.86070555
                        ],
                        "iteration": 909,
                        "passed_time": 1.202753668,
                        "remaining_time": 0.1189536595,
                        "test": [
                          65.62627292
                        ]
                      },
                      {
                        "learn": [
                          47.85846999
                        ],
                        "iteration": 910,
                        "passed_time": 1.203708448,
                        "remaining_time": 0.1175961052,
                        "test": [
                          65.6286519
                        ]
                      },
                      {
                        "learn": [
                          47.85665556
                        ],
                        "iteration": 911,
                        "passed_time": 1.204900297,
                        "remaining_time": 0.1162623094,
                        "test": [
                          65.62961618
                        ]
                      },
                      {
                        "learn": [
                          47.85615447
                        ],
                        "iteration": 912,
                        "passed_time": 1.205892494,
                        "remaining_time": 0.1149097996,
                        "test": [
                          65.62801201
                        ]
                      },
                      {
                        "learn": [
                          47.85386255
                        ],
                        "iteration": 913,
                        "passed_time": 1.206897098,
                        "remaining_time": 0.1135592455,
                        "test": [
                          65.62939816
                        ]
                      },
                      {
                        "learn": [
                          47.8520086
                        ],
                        "iteration": 914,
                        "passed_time": 1.207884086,
                        "remaining_time": 0.1122078113,
                        "test": [
                          65.63263238
                        ]
                      },
                      {
                        "learn": [
                          47.84916384
                        ],
                        "iteration": 915,
                        "passed_time": 1.208862474,
                        "remaining_time": 0.1108563841,
                        "test": [
                          65.63525664
                        ]
                      },
                      {
                        "learn": [
                          47.84850001
                        ],
                        "iteration": 916,
                        "passed_time": 1.209845289,
                        "remaining_time": 0.1095061712,
                        "test": [
                          65.64163003
                        ]
                      },
                      {
                        "learn": [
                          47.84610062
                        ],
                        "iteration": 917,
                        "passed_time": 1.210863463,
                        "remaining_time": 0.1081599172,
                        "test": [
                          65.65041703
                        ]
                      },
                      {
                        "learn": [
                          47.84517746
                        ],
                        "iteration": 918,
                        "passed_time": 1.211837371,
                        "remaining_time": 0.1068104756,
                        "test": [
                          65.65400523
                        ]
                      },
                      {
                        "learn": [
                          47.84381773
                        ],
                        "iteration": 919,
                        "passed_time": 1.212857716,
                        "remaining_time": 0.1054658883,
                        "test": [
                          65.6546053
                        ]
                      },
                      {
                        "learn": [
                          47.84286144
                        ],
                        "iteration": 920,
                        "passed_time": 1.213803958,
                        "remaining_time": 0.1041156489,
                        "test": [
                          65.65791916
                        ]
                      },
                      {
                        "learn": [
                          47.84272861
                        ],
                        "iteration": 921,
                        "passed_time": 1.214776487,
                        "remaining_time": 0.1027685097,
                        "test": [
                          65.6573119
                        ]
                      },
                      {
                        "learn": [
                          47.84089747
                        ],
                        "iteration": 922,
                        "passed_time": 1.215727293,
                        "remaining_time": 0.10142037,
                        "test": [
                          65.65790861
                        ]
                      },
                      {
                        "learn": [
                          47.83890253
                        ],
                        "iteration": 923,
                        "passed_time": 1.216741183,
                        "remaining_time": 0.1000782791,
                        "test": [
                          65.65797256
                        ]
                      },
                      {
                        "learn": [
                          47.83688611
                        ],
                        "iteration": 924,
                        "passed_time": 1.219158253,
                        "remaining_time": 0.09885066918,
                        "test": [
                          65.66555339
                        ]
                      },
                      {
                        "learn": [
                          47.83652229
                        ],
                        "iteration": 925,
                        "passed_time": 1.220643135,
                        "remaining_time": 0.09754599566,
                        "test": [
                          65.66939006
                        ]
                      },
                      {
                        "learn": [
                          47.83572433
                        ],
                        "iteration": 926,
                        "passed_time": 1.221566115,
                        "remaining_time": 0.09619668432,
                        "test": [
                          65.6733905
                        ]
                      },
                      {
                        "learn": [
                          47.83533045
                        ],
                        "iteration": 927,
                        "passed_time": 1.222483239,
                        "remaining_time": 0.09484783749,
                        "test": [
                          65.6738999
                        ]
                      },
                      {
                        "learn": [
                          47.83479978
                        ],
                        "iteration": 928,
                        "passed_time": 1.223309545,
                        "remaining_time": 0.0934929792,
                        "test": [
                          65.67732831
                        ]
                      },
                      {
                        "learn": [
                          47.83283493
                        ],
                        "iteration": 929,
                        "passed_time": 1.228941715,
                        "remaining_time": 0.09250098929,
                        "test": [
                          65.67741472
                        ]
                      },
                      {
                        "learn": [
                          47.83265961
                        ],
                        "iteration": 930,
                        "passed_time": 1.235089078,
                        "remaining_time": 0.09153721415,
                        "test": [
                          65.67508262
                        ]
                      },
                      {
                        "learn": [
                          47.83124381
                        ],
                        "iteration": 931,
                        "passed_time": 1.237180204,
                        "remaining_time": 0.09026636685,
                        "test": [
                          65.67618615
                        ]
                      },
                      {
                        "learn": [
                          47.82970805
                        ],
                        "iteration": 932,
                        "passed_time": 1.239464572,
                        "remaining_time": 0.0890076381,
                        "test": [
                          65.67832452
                        ]
                      },
                      {
                        "learn": [
                          47.82967436
                        ],
                        "iteration": 933,
                        "passed_time": 1.241190648,
                        "remaining_time": 0.08770726208,
                        "test": [
                          65.67874858
                        ]
                      },
                      {
                        "learn": [
                          47.82886145
                        ],
                        "iteration": 934,
                        "passed_time": 1.242429069,
                        "remaining_time": 0.08637207428,
                        "test": [
                          65.6851135
                        ]
                      },
                      {
                        "learn": [
                          47.82883514
                        ],
                        "iteration": 935,
                        "passed_time": 1.24349998,
                        "remaining_time": 0.08502563962,
                        "test": [
                          65.68527982
                        ]
                      },
                      {
                        "learn": [
                          47.82815514
                        ],
                        "iteration": 936,
                        "passed_time": 1.244547939,
                        "remaining_time": 0.08367824992,
                        "test": [
                          65.68689306
                        ]
                      },
                      {
                        "learn": [
                          47.82685895
                        ],
                        "iteration": 937,
                        "passed_time": 1.245545002,
                        "remaining_time": 0.08232813449,
                        "test": [
                          65.68697325
                        ]
                      },
                      {
                        "learn": [
                          47.82600112
                        ],
                        "iteration": 938,
                        "passed_time": 1.246506161,
                        "remaining_time": 0.08097643859,
                        "test": [
                          65.69198858
                        ]
                      },
                      {
                        "learn": [
                          47.8249205
                        ],
                        "iteration": 939,
                        "passed_time": 1.247498026,
                        "remaining_time": 0.07962753355,
                        "test": [
                          65.69523221
                        ]
                      },
                      {
                        "learn": [
                          47.82447979
                        ],
                        "iteration": 940,
                        "passed_time": 1.248443143,
                        "remaining_time": 0.07827645638,
                        "test": [
                          65.69611494
                        ]
                      },
                      {
                        "learn": [
                          47.82343286
                        ],
                        "iteration": 941,
                        "passed_time": 1.249379672,
                        "remaining_time": 0.07692571231,
                        "test": [
                          65.69691689
                        ]
                      },
                      {
                        "learn": [
                          47.82262591
                        ],
                        "iteration": 942,
                        "passed_time": 1.250313063,
                        "remaining_time": 0.07557565703,
                        "test": [
                          65.69615754
                        ]
                      },
                      {
                        "learn": [
                          47.81957284
                        ],
                        "iteration": 943,
                        "passed_time": 1.251296253,
                        "remaining_time": 0.07422943872,
                        "test": [
                          65.69217164
                        ]
                      },
                      {
                        "learn": [
                          47.81811046
                        ],
                        "iteration": 944,
                        "passed_time": 1.25226007,
                        "remaining_time": 0.0728828612,
                        "test": [
                          65.69311452
                        ]
                      },
                      {
                        "learn": [
                          47.81693965
                        ],
                        "iteration": 945,
                        "passed_time": 1.253254609,
                        "remaining_time": 0.07153884659,
                        "test": [
                          65.69326781
                        ]
                      },
                      {
                        "learn": [
                          47.81677507
                        ],
                        "iteration": 946,
                        "passed_time": 1.25421575,
                        "remaining_time": 0.07019370089,
                        "test": [
                          65.6929385
                        ]
                      },
                      {
                        "learn": [
                          47.81580435
                        ],
                        "iteration": 947,
                        "passed_time": 1.255163666,
                        "remaining_time": 0.06884863991,
                        "test": [
                          65.69340558
                        ]
                      },
                      {
                        "learn": [
                          47.81550997
                        ],
                        "iteration": 948,
                        "passed_time": 1.256129989,
                        "remaining_time": 0.06750540512,
                        "test": [
                          65.69513011
                        ]
                      },
                      {
                        "learn": [
                          47.81388848
                        ],
                        "iteration": 949,
                        "passed_time": 1.257091385,
                        "remaining_time": 0.0661627045,
                        "test": [
                          65.69652415
                        ]
                      },
                      {
                        "learn": [
                          47.81205361
                        ],
                        "iteration": 950,
                        "passed_time": 1.258054412,
                        "remaining_time": 0.06482088976,
                        "test": [
                          65.69748658
                        ]
                      },
                      {
                        "learn": [
                          47.80995009
                        ],
                        "iteration": 951,
                        "passed_time": 1.258995703,
                        "remaining_time": 0.06347877495,
                        "test": [
                          65.70130046
                        ]
                      },
                      {
                        "learn": [
                          47.80950777
                        ],
                        "iteration": 952,
                        "passed_time": 1.259962538,
                        "remaining_time": 0.06213876105,
                        "test": [
                          65.70313344
                        ]
                      },
                      {
                        "learn": [
                          47.80852145
                        ],
                        "iteration": 953,
                        "passed_time": 1.261233207,
                        "remaining_time": 0.06081417977,
                        "test": [
                          65.70494773
                        ]
                      },
                      {
                        "learn": [
                          47.80704802
                        ],
                        "iteration": 954,
                        "passed_time": 1.262213086,
                        "remaining_time": 0.0594760093,
                        "test": [
                          65.70778943
                        ]
                      },
                      {
                        "learn": [
                          47.80626256
                        ],
                        "iteration": 955,
                        "passed_time": 1.26317636,
                        "remaining_time": 0.0581378241,
                        "test": [
                          65.71113654
                        ]
                      },
                      {
                        "learn": [
                          47.80482336
                        ],
                        "iteration": 956,
                        "passed_time": 1.264161817,
                        "remaining_time": 0.05680141916,
                        "test": [
                          65.71294659
                        ]
                      },
                      {
                        "learn": [
                          47.80465778
                        ],
                        "iteration": 957,
                        "passed_time": 1.265254309,
                        "remaining_time": 0.05547043945,
                        "test": [
                          65.71366708
                        ]
                      },
                      {
                        "learn": [
                          47.80446534
                        ],
                        "iteration": 958,
                        "passed_time": 1.26632089,
                        "remaining_time": 0.05413884933,
                        "test": [
                          65.71395623
                        ]
                      },
                      {
                        "learn": [
                          47.80286542
                        ],
                        "iteration": 959,
                        "passed_time": 1.267309909,
                        "remaining_time": 0.05280457954,
                        "test": [
                          65.71472931
                        ]
                      },
                      {
                        "learn": [
                          47.80148211
                        ],
                        "iteration": 960,
                        "passed_time": 1.268304149,
                        "remaining_time": 0.05147124019,
                        "test": [
                          65.72158991
                        ]
                      },
                      {
                        "learn": [
                          47.80004163
                        ],
                        "iteration": 961,
                        "passed_time": 1.269296512,
                        "remaining_time": 0.05013853167,
                        "test": [
                          65.72095975
                        ]
                      },
                      {
                        "learn": [
                          47.79819848
                        ],
                        "iteration": 962,
                        "passed_time": 1.270347408,
                        "remaining_time": 0.0488087789,
                        "test": [
                          65.71828448
                        ]
                      },
                      {
                        "learn": [
                          47.79777023
                        ],
                        "iteration": 963,
                        "passed_time": 1.271343807,
                        "remaining_time": 0.04747756954,
                        "test": [
                          65.71898356
                        ]
                      },
                      {
                        "learn": [
                          47.79543996
                        ],
                        "iteration": 964,
                        "passed_time": 1.272294407,
                        "remaining_time": 0.04614539301,
                        "test": [
                          65.72294899
                        ]
                      },
                      {
                        "learn": [
                          47.79426779
                        ],
                        "iteration": 965,
                        "passed_time": 1.273230555,
                        "remaining_time": 0.04481349778,
                        "test": [
                          65.72522399
                        ]
                      },
                      {
                        "learn": [
                          47.79298392
                        ],
                        "iteration": 966,
                        "passed_time": 1.27417995,
                        "remaining_time": 0.04348287317,
                        "test": [
                          65.72675361
                        ]
                      },
                      {
                        "learn": [
                          47.79243909
                        ],
                        "iteration": 967,
                        "passed_time": 1.275137249,
                        "remaining_time": 0.04215329748,
                        "test": [
                          65.72632573
                        ]
                      },
                      {
                        "learn": [
                          47.79069462
                        ],
                        "iteration": 968,
                        "passed_time": 1.276096181,
                        "remaining_time": 0.04082454242,
                        "test": [
                          65.7297734
                        ]
                      },
                      {
                        "learn": [
                          47.7886561
                        ],
                        "iteration": 969,
                        "passed_time": 1.277067222,
                        "remaining_time": 0.03949692438,
                        "test": [
                          65.72965656
                        ]
                      },
                      {
                        "learn": [
                          47.78748977
                        ],
                        "iteration": 970,
                        "passed_time": 1.278049156,
                        "remaining_time": 0.03817036615,
                        "test": [
                          65.73263417
                        ]
                      },
                      {
                        "learn": [
                          47.78552928
                        ],
                        "iteration": 971,
                        "passed_time": 1.278983904,
                        "remaining_time": 0.03684315771,
                        "test": [
                          65.73403174
                        ]
                      },
                      {
                        "learn": [
                          47.78356847
                        ],
                        "iteration": 972,
                        "passed_time": 1.279947331,
                        "remaining_time": 0.03551755182,
                        "test": [
                          65.73693591
                        ]
                      },
                      {
                        "learn": [
                          47.78355545
                        ],
                        "iteration": 973,
                        "passed_time": 1.281004626,
                        "remaining_time": 0.03419519536,
                        "test": [
                          65.73704898
                        ]
                      },
                      {
                        "learn": [
                          47.78242433
                        ],
                        "iteration": 974,
                        "passed_time": 1.281950865,
                        "remaining_time": 0.03287053499,
                        "test": [
                          65.73662339
                        ]
                      },
                      {
                        "learn": [
                          47.78090541
                        ],
                        "iteration": 975,
                        "passed_time": 1.282959964,
                        "remaining_time": 0.03154819582,
                        "test": [
                          65.74563212
                        ]
                      },
                      {
                        "learn": [
                          47.77886075
                        ],
                        "iteration": 976,
                        "passed_time": 1.283907657,
                        "remaining_time": 0.03022505232,
                        "test": [
                          65.74530952
                        ]
                      },
                      {
                        "learn": [
                          47.77701901
                        ],
                        "iteration": 977,
                        "passed_time": 1.284837979,
                        "remaining_time": 0.02890228583,
                        "test": [
                          65.74429186
                        ]
                      },
                      {
                        "learn": [
                          47.77696774
                        ],
                        "iteration": 978,
                        "passed_time": 1.285778639,
                        "remaining_time": 0.02758054282,
                        "test": [
                          65.74487756
                        ]
                      },
                      {
                        "learn": [
                          47.7766819
                        ],
                        "iteration": 979,
                        "passed_time": 1.28673045,
                        "remaining_time": 0.0262598051,
                        "test": [
                          65.74472341
                        ]
                      },
                      {
                        "learn": [
                          47.77576487
                        ],
                        "iteration": 980,
                        "passed_time": 1.287665283,
                        "remaining_time": 0.0249394907,
                        "test": [
                          65.74436371
                        ]
                      },
                      {
                        "learn": [
                          47.77562531
                        ],
                        "iteration": 981,
                        "passed_time": 1.288627375,
                        "remaining_time": 0.02362046105,
                        "test": [
                          65.74366746
                        ]
                      },
                      {
                        "learn": [
                          47.77392689
                        ],
                        "iteration": 982,
                        "passed_time": 1.289572718,
                        "remaining_time": 0.02230186796,
                        "test": [
                          65.74279661
                        ]
                      },
                      {
                        "learn": [
                          47.77174741
                        ],
                        "iteration": 983,
                        "passed_time": 1.29054048,
                        "remaining_time": 0.02098439805,
                        "test": [
                          65.74562545
                        ]
                      },
                      {
                        "learn": [
                          47.77155958
                        ],
                        "iteration": 984,
                        "passed_time": 1.29147625,
                        "remaining_time": 0.01966715102,
                        "test": [
                          65.74559049
                        ]
                      },
                      {
                        "learn": [
                          47.7715363
                        ],
                        "iteration": 985,
                        "passed_time": 1.292439845,
                        "remaining_time": 0.01835107285,
                        "test": [
                          65.74470711
                        ]
                      },
                      {
                        "learn": [
                          47.7711145
                        ],
                        "iteration": 986,
                        "passed_time": 1.293390163,
                        "remaining_time": 0.01703553407,
                        "test": [
                          65.74440089
                        ]
                      },
                      {
                        "learn": [
                          47.77090766
                        ],
                        "iteration": 987,
                        "passed_time": 1.294341185,
                        "remaining_time": 0.01572074314,
                        "test": [
                          65.74492263
                        ]
                      },
                      {
                        "learn": [
                          47.76995572
                        ],
                        "iteration": 988,
                        "passed_time": 1.295300437,
                        "remaining_time": 0.01440677938,
                        "test": [
                          65.75071782
                        ]
                      },
                      {
                        "learn": [
                          47.76828154
                        ],
                        "iteration": 989,
                        "passed_time": 1.296256758,
                        "remaining_time": 0.01309350261,
                        "test": [
                          65.75541046
                        ]
                      },
                      {
                        "learn": [
                          47.7681849
                        ],
                        "iteration": 990,
                        "passed_time": 1.297203782,
                        "remaining_time": 0.01178086179,
                        "test": [
                          65.75618311
                        ]
                      },
                      {
                        "learn": [
                          47.76817101
                        ],
                        "iteration": 991,
                        "passed_time": 1.29813825,
                        "remaining_time": 0.01046885686,
                        "test": [
                          65.75664784
                        ]
                      },
                      {
                        "learn": [
                          47.76798886
                        ],
                        "iteration": 992,
                        "passed_time": 1.299025923,
                        "remaining_time": 0.00915728244,
                        "test": [
                          65.75695552
                        ]
                      },
                      {
                        "learn": [
                          47.76603263
                        ],
                        "iteration": 993,
                        "passed_time": 1.299970386,
                        "remaining_time": 0.007846903738,
                        "test": [
                          65.76069988
                        ]
                      },
                      {
                        "learn": [
                          47.76534069
                        ],
                        "iteration": 994,
                        "passed_time": 1.300904585,
                        "remaining_time": 0.006537208968,
                        "test": [
                          65.75996687
                        ]
                      },
                      {
                        "learn": [
                          47.7650995
                        ],
                        "iteration": 995,
                        "passed_time": 1.301855133,
                        "remaining_time": 0.005228333866,
                        "test": [
                          65.75975974
                        ]
                      },
                      {
                        "learn": [
                          47.76321232
                        ],
                        "iteration": 996,
                        "passed_time": 1.302781399,
                        "remaining_time": 0.003920104512,
                        "test": [
                          65.76074574
                        ]
                      },
                      {
                        "learn": [
                          47.76246776
                        ],
                        "iteration": 997,
                        "passed_time": 1.303570821,
                        "remaining_time": 0.002612366375,
                        "test": [
                          65.76553271
                        ]
                      },
                      {
                        "learn": [
                          47.76130912
                        ],
                        "iteration": 998,
                        "passed_time": 1.304562233,
                        "remaining_time": 0.001305868101,
                        "test": [
                          65.76498063
                        ]
                      },
                      {
                        "learn": [
                          47.76121931
                        ],
                        "iteration": 999,
                        "passed_time": 1.305518796,
                        "remaining_time": 0,
                        "test": [
                          65.76499056
                        ]
                      }
                    ],
                    "meta": {
                      "test_sets": [
                        "test"
                      ],
                      "test_metrics": [
                        {
                          "best_value": "Min",
                          "name": "RMSE"
                        }
                      ],
                      "learn_metrics": [
                        {
                          "best_value": "Min",
                          "name": "RMSE"
                        }
                      ],
                      "launch_mode": "Train",
                      "parameters": "",
                      "iteration_count": 1000,
                      "learn_sets": [
                        "learn"
                      ],
                      "name": "experiment"
                    }
                  }
                }
              }
            },
            "layout": "IPY_MODEL_5f8894ad72d4496e831aeb4d1dc14c0e"
          }
        }
      }
    }
  },
  "cells": [
    {
      "cell_type": "code",
      "execution_count": 1,
      "metadata": {
        "id": "DxNh3KZq1ZcT"
      },
      "outputs": [],
      "source": [
        "import numpy as np  \n",
        "import pandas as pd\n",
        "import matplotlib.pyplot as plt \n",
        "import seaborn as sns\n",
        "from sklearn import metrics\n",
        "import math\n",
        "import json\n",
        "from math import floor\n",
        "from sklearn.metrics import r2_score"
      ]
    },
    {
      "cell_type": "code",
      "source": [
        "!pip install catboost"
      ],
      "metadata": {
        "colab": {
          "base_uri": "https://localhost:8080/"
        },
        "id": "WwA5-L6LdMhL",
        "outputId": "cb7b1e98-59ab-4724-a16d-2881dc4e0edc"
      },
      "execution_count": 2,
      "outputs": [
        {
          "output_type": "stream",
          "name": "stdout",
          "text": [
            "Collecting catboost\n",
            "  Downloading catboost-1.0.5-cp37-none-manylinux1_x86_64.whl (76.6 MB)\n",
            "\u001b[K     |████████████████████████████████| 76.6 MB 1.2 MB/s \n",
            "\u001b[?25hRequirement already satisfied: graphviz in /usr/local/lib/python3.7/dist-packages (from catboost) (0.10.1)\n",
            "Requirement already satisfied: plotly in /usr/local/lib/python3.7/dist-packages (from catboost) (5.5.0)\n",
            "Requirement already satisfied: pandas>=0.24.0 in /usr/local/lib/python3.7/dist-packages (from catboost) (1.3.5)\n",
            "Requirement already satisfied: scipy in /usr/local/lib/python3.7/dist-packages (from catboost) (1.4.1)\n",
            "Requirement already satisfied: numpy>=1.16.0 in /usr/local/lib/python3.7/dist-packages (from catboost) (1.21.6)\n",
            "Requirement already satisfied: six in /usr/local/lib/python3.7/dist-packages (from catboost) (1.15.0)\n",
            "Requirement already satisfied: matplotlib in /usr/local/lib/python3.7/dist-packages (from catboost) (3.2.2)\n",
            "Requirement already satisfied: pytz>=2017.3 in /usr/local/lib/python3.7/dist-packages (from pandas>=0.24.0->catboost) (2022.1)\n",
            "Requirement already satisfied: python-dateutil>=2.7.3 in /usr/local/lib/python3.7/dist-packages (from pandas>=0.24.0->catboost) (2.8.2)\n",
            "Requirement already satisfied: cycler>=0.10 in /usr/local/lib/python3.7/dist-packages (from matplotlib->catboost) (0.11.0)\n",
            "Requirement already satisfied: pyparsing!=2.0.4,!=2.1.2,!=2.1.6,>=2.0.1 in /usr/local/lib/python3.7/dist-packages (from matplotlib->catboost) (3.0.8)\n",
            "Requirement already satisfied: kiwisolver>=1.0.1 in /usr/local/lib/python3.7/dist-packages (from matplotlib->catboost) (1.4.2)\n",
            "Requirement already satisfied: typing-extensions in /usr/local/lib/python3.7/dist-packages (from kiwisolver>=1.0.1->matplotlib->catboost) (4.1.1)\n",
            "Requirement already satisfied: tenacity>=6.2.0 in /usr/local/lib/python3.7/dist-packages (from plotly->catboost) (8.0.1)\n",
            "Installing collected packages: catboost\n",
            "Successfully installed catboost-1.0.5\n"
          ]
        }
      ]
    },
    {
      "cell_type": "code",
      "source": [
        "dataset = pd.read_csv('/content/AQI_delhi.csv')"
      ],
      "metadata": {
        "id": "PpHYHVH02GLL"
      },
      "execution_count": 3,
      "outputs": []
    },
    {
      "cell_type": "code",
      "source": [
        "dataset.head()"
      ],
      "metadata": {
        "colab": {
          "base_uri": "https://localhost:8080/",
          "height": 206
        },
        "id": "261E3dgi3Ese",
        "outputId": "00bf9803-e86a-4917-e439-8f3ce17c438d"
      },
      "execution_count": 4,
      "outputs": [
        {
          "output_type": "execute_result",
          "data": {
            "text/plain": [
              "         Date  Delhi\n",
              "0  2015-01-01  472.0\n",
              "1  2015-01-02  454.0\n",
              "2  2015-01-03  143.0\n",
              "3  2015-01-04  319.0\n",
              "4  2015-01-05  325.0"
            ],
            "text/html": [
              "\n",
              "  <div id=\"df-e8252191-bca0-404b-9e47-9b08bb0cbb3d\">\n",
              "    <div class=\"colab-df-container\">\n",
              "      <div>\n",
              "<style scoped>\n",
              "    .dataframe tbody tr th:only-of-type {\n",
              "        vertical-align: middle;\n",
              "    }\n",
              "\n",
              "    .dataframe tbody tr th {\n",
              "        vertical-align: top;\n",
              "    }\n",
              "\n",
              "    .dataframe thead th {\n",
              "        text-align: right;\n",
              "    }\n",
              "</style>\n",
              "<table border=\"1\" class=\"dataframe\">\n",
              "  <thead>\n",
              "    <tr style=\"text-align: right;\">\n",
              "      <th></th>\n",
              "      <th>Date</th>\n",
              "      <th>Delhi</th>\n",
              "    </tr>\n",
              "  </thead>\n",
              "  <tbody>\n",
              "    <tr>\n",
              "      <th>0</th>\n",
              "      <td>2015-01-01</td>\n",
              "      <td>472.0</td>\n",
              "    </tr>\n",
              "    <tr>\n",
              "      <th>1</th>\n",
              "      <td>2015-01-02</td>\n",
              "      <td>454.0</td>\n",
              "    </tr>\n",
              "    <tr>\n",
              "      <th>2</th>\n",
              "      <td>2015-01-03</td>\n",
              "      <td>143.0</td>\n",
              "    </tr>\n",
              "    <tr>\n",
              "      <th>3</th>\n",
              "      <td>2015-01-04</td>\n",
              "      <td>319.0</td>\n",
              "    </tr>\n",
              "    <tr>\n",
              "      <th>4</th>\n",
              "      <td>2015-01-05</td>\n",
              "      <td>325.0</td>\n",
              "    </tr>\n",
              "  </tbody>\n",
              "</table>\n",
              "</div>\n",
              "      <button class=\"colab-df-convert\" onclick=\"convertToInteractive('df-e8252191-bca0-404b-9e47-9b08bb0cbb3d')\"\n",
              "              title=\"Convert this dataframe to an interactive table.\"\n",
              "              style=\"display:none;\">\n",
              "        \n",
              "  <svg xmlns=\"http://www.w3.org/2000/svg\" height=\"24px\"viewBox=\"0 0 24 24\"\n",
              "       width=\"24px\">\n",
              "    <path d=\"M0 0h24v24H0V0z\" fill=\"none\"/>\n",
              "    <path d=\"M18.56 5.44l.94 2.06.94-2.06 2.06-.94-2.06-.94-.94-2.06-.94 2.06-2.06.94zm-11 1L8.5 8.5l.94-2.06 2.06-.94-2.06-.94L8.5 2.5l-.94 2.06-2.06.94zm10 10l.94 2.06.94-2.06 2.06-.94-2.06-.94-.94-2.06-.94 2.06-2.06.94z\"/><path d=\"M17.41 7.96l-1.37-1.37c-.4-.4-.92-.59-1.43-.59-.52 0-1.04.2-1.43.59L10.3 9.45l-7.72 7.72c-.78.78-.78 2.05 0 2.83L4 21.41c.39.39.9.59 1.41.59.51 0 1.02-.2 1.41-.59l7.78-7.78 2.81-2.81c.8-.78.8-2.07 0-2.86zM5.41 20L4 18.59l7.72-7.72 1.47 1.35L5.41 20z\"/>\n",
              "  </svg>\n",
              "      </button>\n",
              "      \n",
              "  <style>\n",
              "    .colab-df-container {\n",
              "      display:flex;\n",
              "      flex-wrap:wrap;\n",
              "      gap: 12px;\n",
              "    }\n",
              "\n",
              "    .colab-df-convert {\n",
              "      background-color: #E8F0FE;\n",
              "      border: none;\n",
              "      border-radius: 50%;\n",
              "      cursor: pointer;\n",
              "      display: none;\n",
              "      fill: #1967D2;\n",
              "      height: 32px;\n",
              "      padding: 0 0 0 0;\n",
              "      width: 32px;\n",
              "    }\n",
              "\n",
              "    .colab-df-convert:hover {\n",
              "      background-color: #E2EBFA;\n",
              "      box-shadow: 0px 1px 2px rgba(60, 64, 67, 0.3), 0px 1px 3px 1px rgba(60, 64, 67, 0.15);\n",
              "      fill: #174EA6;\n",
              "    }\n",
              "\n",
              "    [theme=dark] .colab-df-convert {\n",
              "      background-color: #3B4455;\n",
              "      fill: #D2E3FC;\n",
              "    }\n",
              "\n",
              "    [theme=dark] .colab-df-convert:hover {\n",
              "      background-color: #434B5C;\n",
              "      box-shadow: 0px 1px 3px 1px rgba(0, 0, 0, 0.15);\n",
              "      filter: drop-shadow(0px 1px 2px rgba(0, 0, 0, 0.3));\n",
              "      fill: #FFFFFF;\n",
              "    }\n",
              "  </style>\n",
              "\n",
              "      <script>\n",
              "        const buttonEl =\n",
              "          document.querySelector('#df-e8252191-bca0-404b-9e47-9b08bb0cbb3d button.colab-df-convert');\n",
              "        buttonEl.style.display =\n",
              "          google.colab.kernel.accessAllowed ? 'block' : 'none';\n",
              "\n",
              "        async function convertToInteractive(key) {\n",
              "          const element = document.querySelector('#df-e8252191-bca0-404b-9e47-9b08bb0cbb3d');\n",
              "          const dataTable =\n",
              "            await google.colab.kernel.invokeFunction('convertToInteractive',\n",
              "                                                     [key], {});\n",
              "          if (!dataTable) return;\n",
              "\n",
              "          const docLinkHtml = 'Like what you see? Visit the ' +\n",
              "            '<a target=\"_blank\" href=https://colab.research.google.com/notebooks/data_table.ipynb>data table notebook</a>'\n",
              "            + ' to learn more about interactive tables.';\n",
              "          element.innerHTML = '';\n",
              "          dataTable['output_type'] = 'display_data';\n",
              "          await google.colab.output.renderOutput(dataTable, element);\n",
              "          const docLink = document.createElement('div');\n",
              "          docLink.innerHTML = docLinkHtml;\n",
              "          element.appendChild(docLink);\n",
              "        }\n",
              "      </script>\n",
              "    </div>\n",
              "  </div>\n",
              "  "
            ]
          },
          "metadata": {},
          "execution_count": 4
        }
      ]
    },
    {
      "cell_type": "code",
      "source": [
        "aqi_arr = dataset['Delhi'].to_numpy()\n",
        "print(aqi_arr)"
      ],
      "metadata": {
        "colab": {
          "base_uri": "https://localhost:8080/"
        },
        "id": "r2U0U0Mz3RJ2",
        "outputId": "9a8c6c8e-b136-46e1-b1c2-95585f94f590"
      },
      "execution_count": 5,
      "outputs": [
        {
          "output_type": "stream",
          "name": "stdout",
          "text": [
            "[472. 454. 143. ... 233. 114. 101.]\n"
          ]
        }
      ]
    },
    {
      "cell_type": "code",
      "source": [
        "lengths=[0.7, 0.3]          \n",
        "lookback=1                      \n",
        "\n",
        "print(len(aqi_arr))\n",
        "\n",
        "aqi_len=len(aqi_arr)\n",
        "lim=[floor(aqi_len*lengths[0]),\n",
        "     floor(aqi_len*(lengths[0]+lengths[1]))]\n",
        "\n",
        "TrainingData=aqi_arr[:lim[0]]\n",
        "TestData=aqi_arr[lim[0]:lim[1]]\n",
        "\n",
        "fig, axs = plt.subplots(2)\n",
        "axs[0].plot(TrainingData)\n",
        "axs[0].set_title('Training Data')\n",
        "axs[1].plot(TestData)\n",
        "axs[1].set_title('Testing Data')\n",
        "\n",
        "Xtrain,Ytrain=[],[]\n",
        "Xtest,Ytest=[],[]\n",
        "\n",
        "\n",
        "Xtraining=TrainingData[:-1]\n",
        "Ytraining=TrainingData[1:]\n",
        "for i in range(len(Xtraining)-lookback+1):\n",
        "  Xtrain.append(Xtraining[i:i+lookback])\n",
        "  Ytrain.append(Ytraining[i+lookback-1])\n",
        "\n",
        "Xtesting=TestData[:-1]\n",
        "Ytesting=TestData[1:]\n",
        "for i in range(len(Xtesting)-lookback+1):\n",
        "  Xtest.append(Xtesting[i:i+lookback])\n",
        "  Ytest.append(Ytesting[i+lookback-1])\n",
        "\n",
        "Xtrain=np.array(Xtrain)\n",
        "Ytrain=np.array(Ytrain)\n",
        "Xtest=np.array(Xtest)\n",
        "Ytest=np.array(Ytest)"
      ],
      "metadata": {
        "colab": {
          "base_uri": "https://localhost:8080/",
          "height": 300
        },
        "id": "1xsS5UG146HM",
        "outputId": "27974126-4635-4ad0-cf93-88b1fece5af8"
      },
      "execution_count": 6,
      "outputs": [
        {
          "output_type": "stream",
          "name": "stdout",
          "text": [
            "2009\n"
          ]
        },
        {
          "output_type": "display_data",
          "data": {
            "text/plain": [
              "<Figure size 432x288 with 2 Axes>"
            ],
            "image/png": "[encoded data removed]"
          },
          "metadata": {
            "needs_background": "light"
          }
        }
      ]
    },
    {
      "cell_type": "code",
      "source": [
        "from sklearn.preprocessing import StandardScaler\n",
        "sc = StandardScaler()\n",
        "sc_X_train=sc.fit_transform(Xtrain)\n",
        "sc_X_test=sc.fit_transform(Xtest)\n"
      ],
      "metadata": {
        "id": "m75hZ7pu60YC"
      },
      "execution_count": 7,
      "outputs": []
    },
    {
      "cell_type": "code",
      "source": [
        "from catboost import CatBoostRegressor\n",
        "reg_catm= CatBoostRegressor(loss_function='RMSE')\n",
        "reg_catm.fit(sc_X_train, Ytrain,eval_set=(sc_X_test, Ytest),plot=True)"
      ],
      "metadata": {
        "colab": {
          "base_uri": "https://localhost:8080/",
          "height": 1000,
          "referenced_widgets": [
            "3404163f1bb04035b2b54231943f0e50"
          ]
        },
        "id": "Ep8KHDeQ85-A",
        "outputId": "5473d19b-000d-42b3-8400-0b2b5f4254ae"
      },
      "execution_count": 8,
      "outputs": [
        {
          "output_type": "display_data",
          "data": {
            "text/plain": [
              "MetricVisualizer(layout=Layout(align_self='stretch', height='500px'))"
            ],
            "application/vnd.jupyter.widget-view+json": {
              "version_major": 2,
              "version_minor": 0,
              "model_id": "3404163f1bb04035b2b54231943f0e50"
            }
          },
          "metadata": {}
        },
        {
          "output_type": "stream",
          "name": "stdout",
          "text": [
            "Learning rate set to 0.053713\n",
            "0:\tlearn: 113.4021298\ttest: 120.9296118\tbest: 120.9296118 (0)\ttotal: 48.7ms\tremaining: 48.6s\n",
            "1:\tlearn: 109.1463971\ttest: 116.9337308\tbest: 116.9337308 (1)\ttotal: 51.1ms\tremaining: 25.5s\n",
            "2:\tlearn: 105.0227322\ttest: 113.1887275\tbest: 113.1887275 (2)\ttotal: 52.7ms\tremaining: 17.5s\n",
            "3:\tlearn: 101.1439936\ttest: 109.1777126\tbest: 109.1777126 (3)\ttotal: 54.4ms\tremaining: 13.5s\n",
            "4:\tlearn: 97.4846820\ttest: 105.4318118\tbest: 105.4318118 (4)\ttotal: 55.8ms\tremaining: 11.1s\n",
            "5:\tlearn: 94.1322418\ttest: 101.9436531\tbest: 101.9436531 (5)\ttotal: 57.3ms\tremaining: 9.49s\n",
            "6:\tlearn: 90.9438762\ttest: 98.7048371\tbest: 98.7048371 (6)\ttotal: 58.9ms\tremaining: 8.35s\n",
            "7:\tlearn: 87.9486120\ttest: 95.9784800\tbest: 95.9784800 (7)\ttotal: 60.7ms\tremaining: 7.53s\n",
            "8:\tlearn: 85.2277819\ttest: 93.2012960\tbest: 93.2012960 (8)\ttotal: 62.6ms\tremaining: 6.89s\n",
            "9:\tlearn: 82.7540863\ttest: 90.4945444\tbest: 90.4945444 (9)\ttotal: 64.4ms\tremaining: 6.37s\n",
            "10:\tlearn: 80.3538161\ttest: 88.1048057\tbest: 88.1048057 (10)\ttotal: 65.9ms\tremaining: 5.92s\n",
            "11:\tlearn: 78.1645460\ttest: 86.3975739\tbest: 86.3975739 (11)\ttotal: 67.3ms\tremaining: 5.54s\n",
            "12:\tlearn: 76.1863136\ttest: 84.3203791\tbest: 84.3203791 (12)\ttotal: 68.6ms\tremaining: 5.21s\n",
            "13:\tlearn: 74.2245273\ttest: 82.5912918\tbest: 82.5912918 (13)\ttotal: 70.5ms\tremaining: 4.97s\n",
            "14:\tlearn: 72.4305057\ttest: 80.7057642\tbest: 80.7057642 (14)\ttotal: 72.2ms\tremaining: 4.74s\n",
            "15:\tlearn: 70.7108223\ttest: 79.2328916\tbest: 79.2328916 (15)\ttotal: 73.3ms\tremaining: 4.51s\n",
            "16:\tlearn: 69.2253640\ttest: 77.9171224\tbest: 77.9171224 (16)\ttotal: 74.5ms\tremaining: 4.31s\n",
            "17:\tlearn: 67.8244447\ttest: 76.7283441\tbest: 76.7283441 (17)\ttotal: 75.5ms\tremaining: 4.12s\n",
            "18:\tlearn: 66.5478469\ttest: 75.5693248\tbest: 75.5693248 (18)\ttotal: 76.6ms\tremaining: 3.95s\n",
            "19:\tlearn: 65.3299637\ttest: 74.5297015\tbest: 74.5297015 (19)\ttotal: 77.6ms\tremaining: 3.8s\n",
            "20:\tlearn: 64.2235989\ttest: 73.6044120\tbest: 73.6044120 (20)\ttotal: 78.6ms\tremaining: 3.66s\n",
            "21:\tlearn: 63.2475201\ttest: 72.8164900\tbest: 72.8164900 (21)\ttotal: 79.5ms\tremaining: 3.54s\n",
            "22:\tlearn: 62.3166333\ttest: 72.0146984\tbest: 72.0146984 (22)\ttotal: 80.5ms\tremaining: 3.42s\n",
            "23:\tlearn: 61.4492801\ttest: 71.2745797\tbest: 71.2745797 (23)\ttotal: 81.5ms\tremaining: 3.31s\n",
            "24:\tlearn: 60.6394739\ttest: 70.5670529\tbest: 70.5670529 (24)\ttotal: 82.5ms\tremaining: 3.22s\n",
            "25:\tlearn: 59.8827710\ttest: 69.9692601\tbest: 69.9692601 (25)\ttotal: 83.5ms\tremaining: 3.13s\n",
            "26:\tlearn: 59.2671320\ttest: 69.4716734\tbest: 69.4716734 (26)\ttotal: 84.6ms\tremaining: 3.05s\n",
            "27:\tlearn: 58.6512995\ttest: 68.9440166\tbest: 68.9440166 (27)\ttotal: 85.8ms\tremaining: 2.98s\n",
            "28:\tlearn: 58.1112080\ttest: 68.4938651\tbest: 68.4938651 (28)\ttotal: 86.9ms\tremaining: 2.91s\n",
            "29:\tlearn: 57.6066592\ttest: 68.0017713\tbest: 68.0017713 (29)\ttotal: 88ms\tremaining: 2.84s\n",
            "30:\tlearn: 57.1554423\ttest: 67.6179191\tbest: 67.6179191 (30)\ttotal: 89.4ms\tremaining: 2.79s\n",
            "31:\tlearn: 56.7410330\ttest: 67.3026304\tbest: 67.3026304 (31)\ttotal: 90.7ms\tremaining: 2.74s\n",
            "32:\tlearn: 56.3212792\ttest: 66.9530488\tbest: 66.9530488 (32)\ttotal: 91.7ms\tremaining: 2.69s\n",
            "33:\tlearn: 55.9424487\ttest: 66.6441018\tbest: 66.6441018 (33)\ttotal: 92.9ms\tremaining: 2.64s\n",
            "34:\tlearn: 55.6051760\ttest: 66.3862314\tbest: 66.3862314 (34)\ttotal: 94.1ms\tremaining: 2.59s\n",
            "35:\tlearn: 55.3078159\ttest: 66.0200151\tbest: 66.0200151 (35)\ttotal: 95.1ms\tremaining: 2.55s\n",
            "36:\tlearn: 55.0455735\ttest: 65.7963640\tbest: 65.7963640 (36)\ttotal: 95.8ms\tremaining: 2.49s\n",
            "37:\tlearn: 54.8123072\ttest: 65.4930403\tbest: 65.4930403 (37)\ttotal: 96.8ms\tremaining: 2.45s\n",
            "38:\tlearn: 54.5826538\ttest: 65.3549786\tbest: 65.3549786 (38)\ttotal: 97.8ms\tremaining: 2.41s\n",
            "39:\tlearn: 54.3787730\ttest: 65.0859503\tbest: 65.0859503 (39)\ttotal: 98.7ms\tremaining: 2.37s\n",
            "40:\tlearn: 54.1669808\ttest: 64.9228555\tbest: 64.9228555 (40)\ttotal: 99.9ms\tremaining: 2.34s\n",
            "41:\tlearn: 53.9903649\ttest: 64.8014843\tbest: 64.8014843 (41)\ttotal: 101ms\tremaining: 2.3s\n",
            "42:\tlearn: 53.8305696\ttest: 64.6648131\tbest: 64.6648131 (42)\ttotal: 102ms\tremaining: 2.27s\n",
            "43:\tlearn: 53.6758832\ttest: 64.5100343\tbest: 64.5100343 (43)\ttotal: 103ms\tremaining: 2.23s\n",
            "44:\tlearn: 53.5257899\ttest: 64.4036428\tbest: 64.4036428 (44)\ttotal: 104ms\tremaining: 2.2s\n",
            "45:\tlearn: 53.3945760\ttest: 64.2684272\tbest: 64.2684272 (45)\ttotal: 105ms\tremaining: 2.18s\n",
            "46:\tlearn: 53.2731708\ttest: 64.1839444\tbest: 64.1839444 (46)\ttotal: 106ms\tremaining: 2.15s\n",
            "47:\tlearn: 53.1690360\ttest: 64.1011891\tbest: 64.1011891 (47)\ttotal: 107ms\tremaining: 2.12s\n",
            "48:\tlearn: 53.0862103\ttest: 64.0698069\tbest: 64.0698069 (48)\ttotal: 108ms\tremaining: 2.09s\n",
            "49:\tlearn: 52.9863217\ttest: 64.0130998\tbest: 64.0130998 (49)\ttotal: 109ms\tremaining: 2.07s\n",
            "50:\tlearn: 52.8923024\ttest: 63.9609035\tbest: 63.9609035 (50)\ttotal: 110ms\tremaining: 2.04s\n",
            "51:\tlearn: 52.8204776\ttest: 63.9245460\tbest: 63.9245460 (51)\ttotal: 111ms\tremaining: 2.02s\n",
            "52:\tlearn: 52.7491549\ttest: 63.8423381\tbest: 63.8423381 (52)\ttotal: 112ms\tremaining: 2s\n",
            "53:\tlearn: 52.6920016\ttest: 63.7941797\tbest: 63.7941797 (53)\ttotal: 113ms\tremaining: 1.98s\n",
            "54:\tlearn: 52.6419017\ttest: 63.7549393\tbest: 63.7549393 (54)\ttotal: 114ms\tremaining: 1.96s\n",
            "55:\tlearn: 52.5701422\ttest: 63.7236722\tbest: 63.7236722 (55)\ttotal: 115ms\tremaining: 1.94s\n",
            "56:\tlearn: 52.5158878\ttest: 63.7127582\tbest: 63.7127582 (56)\ttotal: 116ms\tremaining: 1.92s\n",
            "57:\tlearn: 52.4535466\ttest: 63.6798411\tbest: 63.6798411 (57)\ttotal: 117ms\tremaining: 1.9s\n",
            "58:\tlearn: 52.4178586\ttest: 63.6325831\tbest: 63.6325831 (58)\ttotal: 118ms\tremaining: 1.89s\n",
            "59:\tlearn: 52.3778284\ttest: 63.6124861\tbest: 63.6124861 (59)\ttotal: 119ms\tremaining: 1.87s\n",
            "60:\tlearn: 52.3330217\ttest: 63.5971092\tbest: 63.5971092 (60)\ttotal: 120ms\tremaining: 1.85s\n",
            "61:\tlearn: 52.2889056\ttest: 63.5808111\tbest: 63.5808111 (61)\ttotal: 121ms\tremaining: 1.83s\n",
            "62:\tlearn: 52.2601882\ttest: 63.5669864\tbest: 63.5669864 (62)\ttotal: 122ms\tremaining: 1.82s\n",
            "63:\tlearn: 52.2233987\ttest: 63.5689256\tbest: 63.5669864 (62)\ttotal: 124ms\tremaining: 1.81s\n",
            "64:\tlearn: 52.1902152\ttest: 63.5581528\tbest: 63.5581528 (64)\ttotal: 125ms\tremaining: 1.79s\n",
            "65:\tlearn: 52.1582779\ttest: 63.5260721\tbest: 63.5260721 (65)\ttotal: 126ms\tremaining: 1.78s\n",
            "66:\tlearn: 52.1370029\ttest: 63.5064811\tbest: 63.5064811 (66)\ttotal: 126ms\tremaining: 1.76s\n",
            "67:\tlearn: 52.1100184\ttest: 63.5056194\tbest: 63.5056194 (67)\ttotal: 127ms\tremaining: 1.75s\n",
            "68:\tlearn: 52.0894842\ttest: 63.4999755\tbest: 63.4999755 (68)\ttotal: 128ms\tremaining: 1.73s\n",
            "69:\tlearn: 52.0657448\ttest: 63.4882640\tbest: 63.4882640 (69)\ttotal: 129ms\tremaining: 1.72s\n",
            "70:\tlearn: 52.0476593\ttest: 63.5046716\tbest: 63.4882640 (69)\ttotal: 130ms\tremaining: 1.71s\n",
            "71:\tlearn: 52.0265226\ttest: 63.5205750\tbest: 63.4882640 (69)\ttotal: 131ms\tremaining: 1.69s\n",
            "72:\tlearn: 52.0114153\ttest: 63.5251054\tbest: 63.4882640 (69)\ttotal: 132ms\tremaining: 1.68s\n",
            "73:\tlearn: 51.9962798\ttest: 63.5280011\tbest: 63.4882640 (69)\ttotal: 133ms\tremaining: 1.67s\n",
            "74:\tlearn: 51.9807213\ttest: 63.5147843\tbest: 63.4882640 (69)\ttotal: 134ms\tremaining: 1.65s\n",
            "75:\tlearn: 51.9653891\ttest: 63.5128058\tbest: 63.4882640 (69)\ttotal: 136ms\tremaining: 1.66s\n",
            "76:\tlearn: 51.9494158\ttest: 63.4958019\tbest: 63.4882640 (69)\ttotal: 137ms\tremaining: 1.65s\n",
            "77:\tlearn: 51.9360656\ttest: 63.5065554\tbest: 63.4882640 (69)\ttotal: 138ms\tremaining: 1.64s\n",
            "78:\tlearn: 51.9145477\ttest: 63.4995526\tbest: 63.4882640 (69)\ttotal: 139ms\tremaining: 1.63s\n",
            "79:\tlearn: 51.9072163\ttest: 63.5097731\tbest: 63.4882640 (69)\ttotal: 140ms\tremaining: 1.61s\n",
            "80:\tlearn: 51.8956862\ttest: 63.5018880\tbest: 63.4882640 (69)\ttotal: 141ms\tremaining: 1.6s\n",
            "81:\tlearn: 51.8808097\ttest: 63.5019566\tbest: 63.4882640 (69)\ttotal: 142ms\tremaining: 1.59s\n",
            "82:\tlearn: 51.8691389\ttest: 63.5144420\tbest: 63.4882640 (69)\ttotal: 143ms\tremaining: 1.58s\n",
            "83:\tlearn: 51.8552557\ttest: 63.5291361\tbest: 63.4882640 (69)\ttotal: 144ms\tremaining: 1.57s\n",
            "84:\tlearn: 51.8431789\ttest: 63.5395539\tbest: 63.4882640 (69)\ttotal: 145ms\tremaining: 1.56s\n",
            "85:\tlearn: 51.8377539\ttest: 63.5435320\tbest: 63.4882640 (69)\ttotal: 146ms\tremaining: 1.55s\n",
            "86:\tlearn: 51.8276611\ttest: 63.5514156\tbest: 63.4882640 (69)\ttotal: 147ms\tremaining: 1.54s\n",
            "87:\tlearn: 51.8202852\ttest: 63.5504328\tbest: 63.4882640 (69)\ttotal: 148ms\tremaining: 1.53s\n",
            "88:\tlearn: 51.8137311\ttest: 63.5572438\tbest: 63.4882640 (69)\ttotal: 149ms\tremaining: 1.53s\n",
            "89:\tlearn: 51.8024955\ttest: 63.5605906\tbest: 63.4882640 (69)\ttotal: 150ms\tremaining: 1.52s\n",
            "90:\tlearn: 51.7936553\ttest: 63.5701769\tbest: 63.4882640 (69)\ttotal: 151ms\tremaining: 1.51s\n",
            "91:\tlearn: 51.7845940\ttest: 63.5843214\tbest: 63.4882640 (69)\ttotal: 152ms\tremaining: 1.5s\n",
            "92:\tlearn: 51.7780843\ttest: 63.5790885\tbest: 63.4882640 (69)\ttotal: 153ms\tremaining: 1.49s\n",
            "93:\tlearn: 51.7686400\ttest: 63.5692772\tbest: 63.4882640 (69)\ttotal: 154ms\tremaining: 1.49s\n",
            "94:\tlearn: 51.7659763\ttest: 63.5708200\tbest: 63.4882640 (69)\ttotal: 155ms\tremaining: 1.48s\n",
            "95:\tlearn: 51.7561893\ttest: 63.5637996\tbest: 63.4882640 (69)\ttotal: 156ms\tremaining: 1.47s\n",
            "96:\tlearn: 51.7478035\ttest: 63.5859060\tbest: 63.4882640 (69)\ttotal: 157ms\tremaining: 1.46s\n",
            "97:\tlearn: 51.7404626\ttest: 63.5845760\tbest: 63.4882640 (69)\ttotal: 158ms\tremaining: 1.45s\n",
            "98:\tlearn: 51.7248227\ttest: 63.6010092\tbest: 63.4882640 (69)\ttotal: 159ms\tremaining: 1.45s\n",
            "99:\tlearn: 51.7233230\ttest: 63.6043758\tbest: 63.4882640 (69)\ttotal: 160ms\tremaining: 1.44s\n",
            "100:\tlearn: 51.7061270\ttest: 63.6211446\tbest: 63.4882640 (69)\ttotal: 161ms\tremaining: 1.43s\n",
            "101:\tlearn: 51.7040996\ttest: 63.6204698\tbest: 63.4882640 (69)\ttotal: 161ms\tremaining: 1.42s\n",
            "102:\tlearn: 51.6852129\ttest: 63.6126980\tbest: 63.4882640 (69)\ttotal: 162ms\tremaining: 1.41s\n",
            "103:\tlearn: 51.6804490\ttest: 63.6140581\tbest: 63.4882640 (69)\ttotal: 163ms\tremaining: 1.41s\n",
            "104:\tlearn: 51.6637645\ttest: 63.6262662\tbest: 63.4882640 (69)\ttotal: 164ms\tremaining: 1.4s\n",
            "105:\tlearn: 51.6607549\ttest: 63.6368750\tbest: 63.4882640 (69)\ttotal: 165ms\tremaining: 1.39s\n",
            "106:\tlearn: 51.6547403\ttest: 63.6544084\tbest: 63.4882640 (69)\ttotal: 166ms\tremaining: 1.39s\n",
            "107:\tlearn: 51.6508758\ttest: 63.6637718\tbest: 63.4882640 (69)\ttotal: 167ms\tremaining: 1.38s\n",
            "108:\tlearn: 51.6452338\ttest: 63.6675724\tbest: 63.4882640 (69)\ttotal: 168ms\tremaining: 1.37s\n",
            "109:\tlearn: 51.6371307\ttest: 63.6721148\tbest: 63.4882640 (69)\ttotal: 169ms\tremaining: 1.37s\n",
            "110:\tlearn: 51.6336637\ttest: 63.6916302\tbest: 63.4882640 (69)\ttotal: 170ms\tremaining: 1.36s\n",
            "111:\tlearn: 51.6207502\ttest: 63.6870441\tbest: 63.4882640 (69)\ttotal: 171ms\tremaining: 1.35s\n",
            "112:\tlearn: 51.6104382\ttest: 63.6848308\tbest: 63.4882640 (69)\ttotal: 172ms\tremaining: 1.35s\n",
            "113:\tlearn: 51.6046154\ttest: 63.6913701\tbest: 63.4882640 (69)\ttotal: 173ms\tremaining: 1.34s\n",
            "114:\tlearn: 51.5972131\ttest: 63.7074790\tbest: 63.4882640 (69)\ttotal: 174ms\tremaining: 1.34s\n",
            "115:\tlearn: 51.5905999\ttest: 63.7148219\tbest: 63.4882640 (69)\ttotal: 176ms\tremaining: 1.34s\n",
            "116:\tlearn: 51.5872456\ttest: 63.7316068\tbest: 63.4882640 (69)\ttotal: 177ms\tremaining: 1.33s\n",
            "117:\tlearn: 51.5782798\ttest: 63.7388236\tbest: 63.4882640 (69)\ttotal: 178ms\tremaining: 1.33s\n",
            "118:\tlearn: 51.5653709\ttest: 63.7483993\tbest: 63.4882640 (69)\ttotal: 181ms\tremaining: 1.34s\n",
            "119:\tlearn: 51.5582631\ttest: 63.7577266\tbest: 63.4882640 (69)\ttotal: 185ms\tremaining: 1.35s\n",
            "120:\tlearn: 51.5410287\ttest: 63.7728356\tbest: 63.4882640 (69)\ttotal: 186ms\tremaining: 1.35s\n",
            "121:\tlearn: 51.5319017\ttest: 63.7837487\tbest: 63.4882640 (69)\ttotal: 187ms\tremaining: 1.35s\n",
            "122:\tlearn: 51.5224985\ttest: 63.7879438\tbest: 63.4882640 (69)\ttotal: 188ms\tremaining: 1.34s\n",
            "123:\tlearn: 51.5161919\ttest: 63.7811288\tbest: 63.4882640 (69)\ttotal: 189ms\tremaining: 1.34s\n",
            "124:\tlearn: 51.5059302\ttest: 63.7967185\tbest: 63.4882640 (69)\ttotal: 190ms\tremaining: 1.33s\n",
            "125:\tlearn: 51.4932038\ttest: 63.7964967\tbest: 63.4882640 (69)\ttotal: 191ms\tremaining: 1.33s\n",
            "126:\tlearn: 51.4902736\ttest: 63.8043071\tbest: 63.4882640 (69)\ttotal: 192ms\tremaining: 1.32s\n",
            "127:\tlearn: 51.4847068\ttest: 63.8110517\tbest: 63.4882640 (69)\ttotal: 194ms\tremaining: 1.32s\n",
            "128:\tlearn: 51.4818142\ttest: 63.8048552\tbest: 63.4882640 (69)\ttotal: 195ms\tremaining: 1.31s\n",
            "129:\tlearn: 51.4767627\ttest: 63.8071803\tbest: 63.4882640 (69)\ttotal: 196ms\tremaining: 1.31s\n",
            "130:\tlearn: 51.4681349\ttest: 63.8075326\tbest: 63.4882640 (69)\ttotal: 197ms\tremaining: 1.3s\n",
            "131:\tlearn: 51.4591720\ttest: 63.8231075\tbest: 63.4882640 (69)\ttotal: 198ms\tremaining: 1.3s\n",
            "132:\tlearn: 51.4507185\ttest: 63.8223944\tbest: 63.4882640 (69)\ttotal: 199ms\tremaining: 1.3s\n",
            "133:\tlearn: 51.4386987\ttest: 63.8233677\tbest: 63.4882640 (69)\ttotal: 200ms\tremaining: 1.29s\n",
            "134:\tlearn: 51.4329292\ttest: 63.8357843\tbest: 63.4882640 (69)\ttotal: 201ms\tremaining: 1.29s\n",
            "135:\tlearn: 51.4272755\ttest: 63.8460769\tbest: 63.4882640 (69)\ttotal: 202ms\tremaining: 1.28s\n",
            "136:\tlearn: 51.4117223\ttest: 63.8463328\tbest: 63.4882640 (69)\ttotal: 203ms\tremaining: 1.28s\n",
            "137:\tlearn: 51.4090985\ttest: 63.8553001\tbest: 63.4882640 (69)\ttotal: 204ms\tremaining: 1.27s\n",
            "138:\tlearn: 51.3989973\ttest: 63.8518903\tbest: 63.4882640 (69)\ttotal: 205ms\tremaining: 1.27s\n",
            "139:\tlearn: 51.3846630\ttest: 63.8584933\tbest: 63.4882640 (69)\ttotal: 206ms\tremaining: 1.27s\n",
            "140:\tlearn: 51.3746107\ttest: 63.8763912\tbest: 63.4882640 (69)\ttotal: 207ms\tremaining: 1.26s\n",
            "141:\tlearn: 51.3580993\ttest: 63.8885336\tbest: 63.4882640 (69)\ttotal: 208ms\tremaining: 1.26s\n",
            "142:\tlearn: 51.3454772\ttest: 63.9065655\tbest: 63.4882640 (69)\ttotal: 209ms\tremaining: 1.25s\n",
            "143:\tlearn: 51.3360656\ttest: 63.9152532\tbest: 63.4882640 (69)\ttotal: 210ms\tremaining: 1.25s\n",
            "144:\tlearn: 51.3317073\ttest: 63.9132973\tbest: 63.4882640 (69)\ttotal: 211ms\tremaining: 1.25s\n",
            "145:\tlearn: 51.3286455\ttest: 63.9136295\tbest: 63.4882640 (69)\ttotal: 212ms\tremaining: 1.24s\n",
            "146:\tlearn: 51.3144384\ttest: 63.9221235\tbest: 63.4882640 (69)\ttotal: 213ms\tremaining: 1.24s\n",
            "147:\tlearn: 51.3014730\ttest: 63.9250517\tbest: 63.4882640 (69)\ttotal: 214ms\tremaining: 1.23s\n",
            "148:\tlearn: 51.2911948\ttest: 63.9322367\tbest: 63.4882640 (69)\ttotal: 215ms\tremaining: 1.23s\n",
            "149:\tlearn: 51.2860416\ttest: 63.9419881\tbest: 63.4882640 (69)\ttotal: 217ms\tremaining: 1.23s\n",
            "150:\tlearn: 51.2744838\ttest: 63.9521232\tbest: 63.4882640 (69)\ttotal: 218ms\tremaining: 1.23s\n",
            "151:\tlearn: 51.2572886\ttest: 63.9683946\tbest: 63.4882640 (69)\ttotal: 219ms\tremaining: 1.22s\n",
            "152:\tlearn: 51.2435695\ttest: 63.9582979\tbest: 63.4882640 (69)\ttotal: 220ms\tremaining: 1.22s\n",
            "153:\tlearn: 51.2297513\ttest: 63.9501193\tbest: 63.4882640 (69)\ttotal: 221ms\tremaining: 1.22s\n",
            "154:\tlearn: 51.2180474\ttest: 63.9513165\tbest: 63.4882640 (69)\ttotal: 222ms\tremaining: 1.21s\n",
            "155:\tlearn: 51.2046530\ttest: 63.9622345\tbest: 63.4882640 (69)\ttotal: 224ms\tremaining: 1.21s\n",
            "156:\tlearn: 51.1925104\ttest: 63.9642415\tbest: 63.4882640 (69)\ttotal: 224ms\tremaining: 1.21s\n",
            "157:\tlearn: 51.1812543\ttest: 63.9842643\tbest: 63.4882640 (69)\ttotal: 225ms\tremaining: 1.2s\n",
            "158:\tlearn: 51.1638511\ttest: 63.9780618\tbest: 63.4882640 (69)\ttotal: 226ms\tremaining: 1.2s\n",
            "159:\tlearn: 51.1548850\ttest: 63.9784439\tbest: 63.4882640 (69)\ttotal: 227ms\tremaining: 1.19s\n",
            "160:\tlearn: 51.1472246\ttest: 63.9830748\tbest: 63.4882640 (69)\ttotal: 228ms\tremaining: 1.19s\n",
            "161:\tlearn: 51.1359229\ttest: 63.9953238\tbest: 63.4882640 (69)\ttotal: 229ms\tremaining: 1.19s\n",
            "162:\tlearn: 51.1207006\ttest: 63.9955231\tbest: 63.4882640 (69)\ttotal: 230ms\tremaining: 1.18s\n",
            "163:\tlearn: 51.1061130\ttest: 64.0055300\tbest: 63.4882640 (69)\ttotal: 231ms\tremaining: 1.18s\n",
            "164:\tlearn: 51.0962242\ttest: 64.0183578\tbest: 63.4882640 (69)\ttotal: 232ms\tremaining: 1.17s\n",
            "165:\tlearn: 51.0898999\ttest: 64.0206375\tbest: 63.4882640 (69)\ttotal: 233ms\tremaining: 1.17s\n",
            "166:\tlearn: 51.0807742\ttest: 64.0212682\tbest: 63.4882640 (69)\ttotal: 234ms\tremaining: 1.17s\n",
            "167:\tlearn: 51.0737434\ttest: 64.0136297\tbest: 63.4882640 (69)\ttotal: 235ms\tremaining: 1.16s\n",
            "168:\tlearn: 51.0644514\ttest: 64.0299497\tbest: 63.4882640 (69)\ttotal: 236ms\tremaining: 1.16s\n",
            "169:\tlearn: 51.0566045\ttest: 64.0508844\tbest: 63.4882640 (69)\ttotal: 237ms\tremaining: 1.16s\n",
            "170:\tlearn: 51.0448137\ttest: 64.0499658\tbest: 63.4882640 (69)\ttotal: 238ms\tremaining: 1.15s\n",
            "171:\tlearn: 51.0369031\ttest: 64.0430968\tbest: 63.4882640 (69)\ttotal: 239ms\tremaining: 1.15s\n",
            "172:\tlearn: 51.0189403\ttest: 64.0188560\tbest: 63.4882640 (69)\ttotal: 240ms\tremaining: 1.15s\n",
            "173:\tlearn: 51.0126173\ttest: 64.0164975\tbest: 63.4882640 (69)\ttotal: 242ms\tremaining: 1.15s\n",
            "174:\tlearn: 50.9953455\ttest: 64.0216816\tbest: 63.4882640 (69)\ttotal: 244ms\tremaining: 1.15s\n",
            "175:\tlearn: 50.9720800\ttest: 64.0031330\tbest: 63.4882640 (69)\ttotal: 245ms\tremaining: 1.15s\n",
            "176:\tlearn: 50.9660735\ttest: 64.0046203\tbest: 63.4882640 (69)\ttotal: 246ms\tremaining: 1.14s\n",
            "177:\tlearn: 50.9588568\ttest: 64.0096404\tbest: 63.4882640 (69)\ttotal: 247ms\tremaining: 1.14s\n",
            "178:\tlearn: 50.9468192\ttest: 64.0087198\tbest: 63.4882640 (69)\ttotal: 248ms\tremaining: 1.14s\n",
            "179:\tlearn: 50.9315032\ttest: 64.0048851\tbest: 63.4882640 (69)\ttotal: 249ms\tremaining: 1.13s\n",
            "180:\tlearn: 50.9167841\ttest: 64.0023044\tbest: 63.4882640 (69)\ttotal: 250ms\tremaining: 1.13s\n",
            "181:\tlearn: 50.9030927\ttest: 64.0002174\tbest: 63.4882640 (69)\ttotal: 251ms\tremaining: 1.13s\n",
            "182:\tlearn: 50.8916734\ttest: 64.0072128\tbest: 63.4882640 (69)\ttotal: 252ms\tremaining: 1.12s\n",
            "183:\tlearn: 50.8795068\ttest: 64.0053655\tbest: 63.4882640 (69)\ttotal: 252ms\tremaining: 1.12s\n",
            "184:\tlearn: 50.8729169\ttest: 64.0109565\tbest: 63.4882640 (69)\ttotal: 254ms\tremaining: 1.12s\n",
            "185:\tlearn: 50.8635888\ttest: 64.0103319\tbest: 63.4882640 (69)\ttotal: 254ms\tremaining: 1.11s\n",
            "186:\tlearn: 50.8541874\ttest: 64.0149927\tbest: 63.4882640 (69)\ttotal: 256ms\tremaining: 1.11s\n",
            "187:\tlearn: 50.8409188\ttest: 64.0299831\tbest: 63.4882640 (69)\ttotal: 257ms\tremaining: 1.11s\n",
            "188:\tlearn: 50.8333625\ttest: 64.0423254\tbest: 63.4882640 (69)\ttotal: 258ms\tremaining: 1.1s\n",
            "189:\tlearn: 50.8274101\ttest: 64.0428233\tbest: 63.4882640 (69)\ttotal: 259ms\tremaining: 1.1s\n",
            "190:\tlearn: 50.8179537\ttest: 64.0564294\tbest: 63.4882640 (69)\ttotal: 262ms\tremaining: 1.11s\n",
            "191:\tlearn: 50.8116082\ttest: 64.0538862\tbest: 63.4882640 (69)\ttotal: 263ms\tremaining: 1.1s\n",
            "192:\tlearn: 50.7991842\ttest: 64.0553864\tbest: 63.4882640 (69)\ttotal: 265ms\tremaining: 1.11s\n",
            "193:\tlearn: 50.7878301\ttest: 64.0716064\tbest: 63.4882640 (69)\ttotal: 268ms\tremaining: 1.11s\n",
            "194:\tlearn: 50.7814929\ttest: 64.0673424\tbest: 63.4882640 (69)\ttotal: 269ms\tremaining: 1.11s\n",
            "195:\tlearn: 50.7604370\ttest: 64.0754471\tbest: 63.4882640 (69)\ttotal: 270ms\tremaining: 1.11s\n",
            "196:\tlearn: 50.7568574\ttest: 64.0696747\tbest: 63.4882640 (69)\ttotal: 271ms\tremaining: 1.1s\n",
            "197:\tlearn: 50.7496243\ttest: 64.0737460\tbest: 63.4882640 (69)\ttotal: 272ms\tremaining: 1.1s\n",
            "198:\tlearn: 50.7441356\ttest: 64.0798097\tbest: 63.4882640 (69)\ttotal: 273ms\tremaining: 1.1s\n",
            "199:\tlearn: 50.7243500\ttest: 64.0743404\tbest: 63.4882640 (69)\ttotal: 274ms\tremaining: 1.09s\n",
            "200:\tlearn: 50.7153732\ttest: 64.0735930\tbest: 63.4882640 (69)\ttotal: 275ms\tremaining: 1.09s\n",
            "201:\tlearn: 50.6993336\ttest: 64.0712423\tbest: 63.4882640 (69)\ttotal: 276ms\tremaining: 1.09s\n",
            "202:\tlearn: 50.6909796\ttest: 64.0708960\tbest: 63.4882640 (69)\ttotal: 277ms\tremaining: 1.08s\n",
            "203:\tlearn: 50.6762153\ttest: 64.0878201\tbest: 63.4882640 (69)\ttotal: 278ms\tremaining: 1.08s\n",
            "204:\tlearn: 50.6647413\ttest: 64.0870018\tbest: 63.4882640 (69)\ttotal: 278ms\tremaining: 1.08s\n",
            "205:\tlearn: 50.6595442\ttest: 64.0832832\tbest: 63.4882640 (69)\ttotal: 279ms\tremaining: 1.08s\n",
            "206:\tlearn: 50.6536932\ttest: 64.0773555\tbest: 63.4882640 (69)\ttotal: 280ms\tremaining: 1.07s\n",
            "207:\tlearn: 50.6491267\ttest: 64.0729205\tbest: 63.4882640 (69)\ttotal: 281ms\tremaining: 1.07s\n",
            "208:\tlearn: 50.6370014\ttest: 64.0753967\tbest: 63.4882640 (69)\ttotal: 282ms\tremaining: 1.07s\n",
            "209:\tlearn: 50.6297310\ttest: 64.0807228\tbest: 63.4882640 (69)\ttotal: 284ms\tremaining: 1.07s\n",
            "210:\tlearn: 50.6212716\ttest: 64.0849129\tbest: 63.4882640 (69)\ttotal: 285ms\tremaining: 1.06s\n",
            "211:\tlearn: 50.6167288\ttest: 64.0832152\tbest: 63.4882640 (69)\ttotal: 286ms\tremaining: 1.06s\n",
            "212:\tlearn: 50.6071818\ttest: 64.0926605\tbest: 63.4882640 (69)\ttotal: 287ms\tremaining: 1.06s\n",
            "213:\tlearn: 50.5965734\ttest: 64.0965756\tbest: 63.4882640 (69)\ttotal: 288ms\tremaining: 1.06s\n",
            "214:\tlearn: 50.5903779\ttest: 64.1052111\tbest: 63.4882640 (69)\ttotal: 288ms\tremaining: 1.05s\n",
            "215:\tlearn: 50.5824607\ttest: 64.1209945\tbest: 63.4882640 (69)\ttotal: 290ms\tremaining: 1.05s\n",
            "216:\tlearn: 50.5754036\ttest: 64.1219961\tbest: 63.4882640 (69)\ttotal: 291ms\tremaining: 1.05s\n",
            "217:\tlearn: 50.5711559\ttest: 64.1287625\tbest: 63.4882640 (69)\ttotal: 292ms\tremaining: 1.05s\n",
            "218:\tlearn: 50.5579816\ttest: 64.1269457\tbest: 63.4882640 (69)\ttotal: 293ms\tremaining: 1.04s\n",
            "219:\tlearn: 50.5499408\ttest: 64.1376260\tbest: 63.4882640 (69)\ttotal: 294ms\tremaining: 1.04s\n",
            "220:\tlearn: 50.5394650\ttest: 64.1375145\tbest: 63.4882640 (69)\ttotal: 295ms\tremaining: 1.04s\n",
            "221:\tlearn: 50.5355283\ttest: 64.1349252\tbest: 63.4882640 (69)\ttotal: 296ms\tremaining: 1.04s\n",
            "222:\tlearn: 50.5298967\ttest: 64.1355239\tbest: 63.4882640 (69)\ttotal: 297ms\tremaining: 1.03s\n",
            "223:\tlearn: 50.5259401\ttest: 64.1402229\tbest: 63.4882640 (69)\ttotal: 298ms\tremaining: 1.03s\n",
            "224:\tlearn: 50.5071055\ttest: 64.1621770\tbest: 63.4882640 (69)\ttotal: 299ms\tremaining: 1.03s\n",
            "225:\tlearn: 50.4999900\ttest: 64.1742391\tbest: 63.4882640 (69)\ttotal: 300ms\tremaining: 1.03s\n",
            "226:\tlearn: 50.4952455\ttest: 64.1758912\tbest: 63.4882640 (69)\ttotal: 301ms\tremaining: 1.02s\n",
            "227:\tlearn: 50.4788543\ttest: 64.1696300\tbest: 63.4882640 (69)\ttotal: 302ms\tremaining: 1.02s\n",
            "228:\tlearn: 50.4626180\ttest: 64.1679530\tbest: 63.4882640 (69)\ttotal: 303ms\tremaining: 1.02s\n",
            "229:\tlearn: 50.4584582\ttest: 64.1719296\tbest: 63.4882640 (69)\ttotal: 304ms\tremaining: 1.02s\n",
            "230:\tlearn: 50.4416423\ttest: 64.1866539\tbest: 63.4882640 (69)\ttotal: 305ms\tremaining: 1.01s\n",
            "231:\tlearn: 50.4396070\ttest: 64.1930567\tbest: 63.4882640 (69)\ttotal: 306ms\tremaining: 1.01s\n",
            "232:\tlearn: 50.4266181\ttest: 64.1944089\tbest: 63.4882640 (69)\ttotal: 307ms\tremaining: 1.01s\n",
            "233:\tlearn: 50.4138070\ttest: 64.1988662\tbest: 63.4882640 (69)\ttotal: 308ms\tremaining: 1.01s\n",
            "234:\tlearn: 50.4103341\ttest: 64.1985378\tbest: 63.4882640 (69)\ttotal: 309ms\tremaining: 1.01s\n",
            "235:\tlearn: 50.4074572\ttest: 64.1988040\tbest: 63.4882640 (69)\ttotal: 311ms\tremaining: 1s\n",
            "236:\tlearn: 50.3915297\ttest: 64.1971961\tbest: 63.4882640 (69)\ttotal: 312ms\tremaining: 1s\n",
            "237:\tlearn: 50.3822326\ttest: 64.2006461\tbest: 63.4882640 (69)\ttotal: 313ms\tremaining: 1s\n",
            "238:\tlearn: 50.3680096\ttest: 64.2004624\tbest: 63.4882640 (69)\ttotal: 314ms\tremaining: 1s\n",
            "239:\tlearn: 50.3643959\ttest: 64.1975500\tbest: 63.4882640 (69)\ttotal: 315ms\tremaining: 998ms\n",
            "240:\tlearn: 50.3610537\ttest: 64.2009945\tbest: 63.4882640 (69)\ttotal: 316ms\tremaining: 995ms\n",
            "241:\tlearn: 50.3436162\ttest: 64.2220766\tbest: 63.4882640 (69)\ttotal: 317ms\tremaining: 993ms\n",
            "242:\tlearn: 50.3396113\ttest: 64.2247747\tbest: 63.4882640 (69)\ttotal: 318ms\tremaining: 991ms\n",
            "243:\tlearn: 50.3257236\ttest: 64.2228227\tbest: 63.4882640 (69)\ttotal: 319ms\tremaining: 989ms\n",
            "244:\tlearn: 50.3229034\ttest: 64.2229057\tbest: 63.4882640 (69)\ttotal: 320ms\tremaining: 986ms\n",
            "245:\tlearn: 50.3123987\ttest: 64.2284025\tbest: 63.4882640 (69)\ttotal: 321ms\tremaining: 984ms\n",
            "246:\tlearn: 50.2975438\ttest: 64.2270132\tbest: 63.4882640 (69)\ttotal: 322ms\tremaining: 982ms\n",
            "247:\tlearn: 50.2905676\ttest: 64.2345050\tbest: 63.4882640 (69)\ttotal: 323ms\tremaining: 980ms\n",
            "248:\tlearn: 50.2737434\ttest: 64.2342588\tbest: 63.4882640 (69)\ttotal: 324ms\tremaining: 977ms\n",
            "249:\tlearn: 50.2650328\ttest: 64.2289512\tbest: 63.4882640 (69)\ttotal: 325ms\tremaining: 975ms\n",
            "250:\tlearn: 50.2524578\ttest: 64.2287115\tbest: 63.4882640 (69)\ttotal: 326ms\tremaining: 974ms\n",
            "251:\tlearn: 50.2464852\ttest: 64.2362515\tbest: 63.4882640 (69)\ttotal: 327ms\tremaining: 971ms\n",
            "252:\tlearn: 50.2356340\ttest: 64.2367174\tbest: 63.4882640 (69)\ttotal: 328ms\tremaining: 969ms\n",
            "253:\tlearn: 50.2330226\ttest: 64.2376105\tbest: 63.4882640 (69)\ttotal: 329ms\tremaining: 967ms\n",
            "254:\tlearn: 50.2119751\ttest: 64.2348196\tbest: 63.4882640 (69)\ttotal: 330ms\tremaining: 965ms\n",
            "255:\tlearn: 50.2054077\ttest: 64.2481345\tbest: 63.4882640 (69)\ttotal: 331ms\tremaining: 963ms\n",
            "256:\tlearn: 50.1969153\ttest: 64.2518382\tbest: 63.4882640 (69)\ttotal: 332ms\tremaining: 961ms\n",
            "257:\tlearn: 50.1905065\ttest: 64.2557796\tbest: 63.4882640 (69)\ttotal: 333ms\tremaining: 958ms\n",
            "258:\tlearn: 50.1812184\ttest: 64.2509550\tbest: 63.4882640 (69)\ttotal: 334ms\tremaining: 956ms\n",
            "259:\tlearn: 50.1729617\ttest: 64.2618143\tbest: 63.4882640 (69)\ttotal: 335ms\tremaining: 954ms\n",
            "260:\tlearn: 50.1655773\ttest: 64.2689794\tbest: 63.4882640 (69)\ttotal: 336ms\tremaining: 951ms\n",
            "261:\tlearn: 50.1460432\ttest: 64.2665637\tbest: 63.4882640 (69)\ttotal: 337ms\tremaining: 949ms\n",
            "262:\tlearn: 50.1428263\ttest: 64.2656534\tbest: 63.4882640 (69)\ttotal: 338ms\tremaining: 947ms\n",
            "263:\tlearn: 50.1386323\ttest: 64.2766247\tbest: 63.4882640 (69)\ttotal: 339ms\tremaining: 945ms\n",
            "264:\tlearn: 50.1279435\ttest: 64.2774103\tbest: 63.4882640 (69)\ttotal: 340ms\tremaining: 943ms\n",
            "265:\tlearn: 50.1208496\ttest: 64.2782994\tbest: 63.4882640 (69)\ttotal: 341ms\tremaining: 941ms\n",
            "266:\tlearn: 50.1189084\ttest: 64.2763910\tbest: 63.4882640 (69)\ttotal: 342ms\tremaining: 939ms\n",
            "267:\tlearn: 50.0997825\ttest: 64.2738851\tbest: 63.4882640 (69)\ttotal: 343ms\tremaining: 937ms\n",
            "268:\tlearn: 50.0838998\ttest: 64.2766962\tbest: 63.4882640 (69)\ttotal: 344ms\tremaining: 934ms\n",
            "269:\tlearn: 50.0741762\ttest: 64.2738962\tbest: 63.4882640 (69)\ttotal: 345ms\tremaining: 932ms\n",
            "270:\tlearn: 50.0600935\ttest: 64.2826710\tbest: 63.4882640 (69)\ttotal: 346ms\tremaining: 930ms\n",
            "271:\tlearn: 50.0584890\ttest: 64.2807567\tbest: 63.4882640 (69)\ttotal: 347ms\tremaining: 928ms\n",
            "272:\tlearn: 50.0519876\ttest: 64.2872495\tbest: 63.4882640 (69)\ttotal: 348ms\tremaining: 926ms\n",
            "273:\tlearn: 50.0367135\ttest: 64.2873903\tbest: 63.4882640 (69)\ttotal: 349ms\tremaining: 924ms\n",
            "274:\tlearn: 50.0304797\ttest: 64.2901138\tbest: 63.4882640 (69)\ttotal: 350ms\tremaining: 921ms\n",
            "275:\tlearn: 50.0200393\ttest: 64.2923113\tbest: 63.4882640 (69)\ttotal: 350ms\tremaining: 919ms\n",
            "276:\tlearn: 50.0070847\ttest: 64.3030282\tbest: 63.4882640 (69)\ttotal: 351ms\tremaining: 917ms\n",
            "277:\tlearn: 49.9918628\ttest: 64.2930990\tbest: 63.4882640 (69)\ttotal: 352ms\tremaining: 915ms\n",
            "278:\tlearn: 49.9884047\ttest: 64.2873975\tbest: 63.4882640 (69)\ttotal: 353ms\tremaining: 913ms\n",
            "279:\tlearn: 49.9835309\ttest: 64.2861960\tbest: 63.4882640 (69)\ttotal: 355ms\tremaining: 912ms\n",
            "280:\tlearn: 49.9734964\ttest: 64.2856851\tbest: 63.4882640 (69)\ttotal: 356ms\tremaining: 910ms\n",
            "281:\tlearn: 49.9680928\ttest: 64.2908981\tbest: 63.4882640 (69)\ttotal: 357ms\tremaining: 908ms\n",
            "282:\tlearn: 49.9677447\ttest: 64.2922358\tbest: 63.4882640 (69)\ttotal: 359ms\tremaining: 909ms\n",
            "283:\tlearn: 49.9595790\ttest: 64.2880242\tbest: 63.4882640 (69)\ttotal: 361ms\tremaining: 909ms\n",
            "284:\tlearn: 49.9446905\ttest: 64.3020378\tbest: 63.4882640 (69)\ttotal: 362ms\tremaining: 907ms\n",
            "285:\tlearn: 49.9308824\ttest: 64.3013244\tbest: 63.4882640 (69)\ttotal: 363ms\tremaining: 906ms\n",
            "286:\tlearn: 49.9274783\ttest: 64.3036920\tbest: 63.4882640 (69)\ttotal: 364ms\tremaining: 904ms\n",
            "287:\tlearn: 49.9249249\ttest: 64.3005909\tbest: 63.4882640 (69)\ttotal: 365ms\tremaining: 902ms\n",
            "288:\tlearn: 49.9197289\ttest: 64.3044162\tbest: 63.4882640 (69)\ttotal: 370ms\tremaining: 910ms\n",
            "289:\tlearn: 49.9172147\ttest: 64.3141884\tbest: 63.4882640 (69)\ttotal: 371ms\tremaining: 908ms\n",
            "290:\tlearn: 49.9025126\ttest: 64.3340278\tbest: 63.4882640 (69)\ttotal: 372ms\tremaining: 906ms\n",
            "291:\tlearn: 49.8900762\ttest: 64.3230484\tbest: 63.4882640 (69)\ttotal: 373ms\tremaining: 904ms\n",
            "292:\tlearn: 49.8835092\ttest: 64.3368720\tbest: 63.4882640 (69)\ttotal: 374ms\tremaining: 902ms\n",
            "293:\tlearn: 49.8779688\ttest: 64.3416710\tbest: 63.4882640 (69)\ttotal: 375ms\tremaining: 900ms\n",
            "294:\tlearn: 49.8763596\ttest: 64.3398125\tbest: 63.4882640 (69)\ttotal: 376ms\tremaining: 898ms\n",
            "295:\tlearn: 49.8712261\ttest: 64.3441504\tbest: 63.4882640 (69)\ttotal: 377ms\tremaining: 896ms\n",
            "296:\tlearn: 49.8592775\ttest: 64.3494580\tbest: 63.4882640 (69)\ttotal: 378ms\tremaining: 894ms\n",
            "297:\tlearn: 49.8471510\ttest: 64.3475151\tbest: 63.4882640 (69)\ttotal: 379ms\tremaining: 892ms\n",
            "298:\tlearn: 49.8423697\ttest: 64.3514503\tbest: 63.4882640 (69)\ttotal: 380ms\tremaining: 890ms\n",
            "299:\tlearn: 49.8295776\ttest: 64.3512275\tbest: 63.4882640 (69)\ttotal: 381ms\tremaining: 888ms\n",
            "300:\tlearn: 49.8212339\ttest: 64.3510826\tbest: 63.4882640 (69)\ttotal: 382ms\tremaining: 886ms\n",
            "301:\tlearn: 49.8175908\ttest: 64.3464813\tbest: 63.4882640 (69)\ttotal: 383ms\tremaining: 884ms\n",
            "302:\tlearn: 49.8048329\ttest: 64.3532750\tbest: 63.4882640 (69)\ttotal: 384ms\tremaining: 882ms\n",
            "303:\tlearn: 49.7930200\ttest: 64.3529463\tbest: 63.4882640 (69)\ttotal: 385ms\tremaining: 880ms\n",
            "304:\tlearn: 49.7791862\ttest: 64.3442200\tbest: 63.4882640 (69)\ttotal: 386ms\tremaining: 879ms\n",
            "305:\tlearn: 49.7660004\ttest: 64.3634837\tbest: 63.4882640 (69)\ttotal: 387ms\tremaining: 877ms\n",
            "306:\tlearn: 49.7614561\ttest: 64.3762682\tbest: 63.4882640 (69)\ttotal: 387ms\tremaining: 875ms\n",
            "307:\tlearn: 49.7504475\ttest: 64.3761402\tbest: 63.4882640 (69)\ttotal: 388ms\tremaining: 873ms\n",
            "308:\tlearn: 49.7404204\ttest: 64.3774073\tbest: 63.4882640 (69)\ttotal: 389ms\tremaining: 871ms\n",
            "309:\tlearn: 49.7313707\ttest: 64.3785781\tbest: 63.4882640 (69)\ttotal: 390ms\tremaining: 869ms\n",
            "310:\tlearn: 49.7268216\ttest: 64.3867858\tbest: 63.4882640 (69)\ttotal: 391ms\tremaining: 867ms\n",
            "311:\tlearn: 49.7237745\ttest: 64.3912642\tbest: 63.4882640 (69)\ttotal: 392ms\tremaining: 865ms\n",
            "312:\tlearn: 49.7166135\ttest: 64.3913857\tbest: 63.4882640 (69)\ttotal: 393ms\tremaining: 863ms\n",
            "313:\tlearn: 49.7028012\ttest: 64.3897443\tbest: 63.4882640 (69)\ttotal: 394ms\tremaining: 861ms\n",
            "314:\tlearn: 49.6990237\ttest: 64.3951037\tbest: 63.4882640 (69)\ttotal: 395ms\tremaining: 859ms\n",
            "315:\tlearn: 49.6932429\ttest: 64.3993737\tbest: 63.4882640 (69)\ttotal: 396ms\tremaining: 857ms\n",
            "316:\tlearn: 49.6838986\ttest: 64.4006076\tbest: 63.4882640 (69)\ttotal: 397ms\tremaining: 856ms\n",
            "317:\tlearn: 49.6823085\ttest: 64.3995520\tbest: 63.4882640 (69)\ttotal: 398ms\tremaining: 854ms\n",
            "318:\tlearn: 49.6758923\ttest: 64.4044604\tbest: 63.4882640 (69)\ttotal: 399ms\tremaining: 852ms\n",
            "319:\tlearn: 49.6733995\ttest: 64.4054465\tbest: 63.4882640 (69)\ttotal: 400ms\tremaining: 850ms\n",
            "320:\tlearn: 49.6712651\ttest: 64.4057281\tbest: 63.4882640 (69)\ttotal: 401ms\tremaining: 849ms\n",
            "321:\tlearn: 49.6665253\ttest: 64.4145549\tbest: 63.4882640 (69)\ttotal: 402ms\tremaining: 847ms\n",
            "322:\tlearn: 49.6620922\ttest: 64.4188405\tbest: 63.4882640 (69)\ttotal: 403ms\tremaining: 845ms\n",
            "323:\tlearn: 49.6574979\ttest: 64.4251528\tbest: 63.4882640 (69)\ttotal: 404ms\tremaining: 843ms\n",
            "324:\tlearn: 49.6532890\ttest: 64.4239179\tbest: 63.4882640 (69)\ttotal: 405ms\tremaining: 841ms\n",
            "325:\tlearn: 49.6459489\ttest: 64.4183572\tbest: 63.4882640 (69)\ttotal: 406ms\tremaining: 839ms\n",
            "326:\tlearn: 49.6350069\ttest: 64.4161196\tbest: 63.4882640 (69)\ttotal: 407ms\tremaining: 838ms\n",
            "327:\tlearn: 49.6331700\ttest: 64.4189050\tbest: 63.4882640 (69)\ttotal: 408ms\tremaining: 836ms\n",
            "328:\tlearn: 49.6317367\ttest: 64.4177318\tbest: 63.4882640 (69)\ttotal: 409ms\tremaining: 834ms\n",
            "329:\tlearn: 49.6271630\ttest: 64.4188945\tbest: 63.4882640 (69)\ttotal: 410ms\tremaining: 832ms\n",
            "330:\tlearn: 49.6211284\ttest: 64.4212258\tbest: 63.4882640 (69)\ttotal: 411ms\tremaining: 830ms\n",
            "331:\tlearn: 49.6168666\ttest: 64.4225507\tbest: 63.4882640 (69)\ttotal: 412ms\tremaining: 828ms\n",
            "332:\tlearn: 49.6129112\ttest: 64.4316861\tbest: 63.4882640 (69)\ttotal: 413ms\tremaining: 827ms\n",
            "333:\tlearn: 49.6101857\ttest: 64.4329537\tbest: 63.4882640 (69)\ttotal: 414ms\tremaining: 825ms\n",
            "334:\tlearn: 49.6014738\ttest: 64.4341417\tbest: 63.4882640 (69)\ttotal: 415ms\tremaining: 823ms\n",
            "335:\tlearn: 49.5962880\ttest: 64.4388847\tbest: 63.4882640 (69)\ttotal: 416ms\tremaining: 821ms\n",
            "336:\tlearn: 49.5855738\ttest: 64.4443302\tbest: 63.4882640 (69)\ttotal: 417ms\tremaining: 820ms\n",
            "337:\tlearn: 49.5762685\ttest: 64.4525130\tbest: 63.4882640 (69)\ttotal: 418ms\tremaining: 818ms\n",
            "338:\tlearn: 49.5727521\ttest: 64.4517497\tbest: 63.4882640 (69)\ttotal: 419ms\tremaining: 816ms\n",
            "339:\tlearn: 49.5706350\ttest: 64.4501961\tbest: 63.4882640 (69)\ttotal: 420ms\tremaining: 815ms\n",
            "340:\tlearn: 49.5669172\ttest: 64.4619841\tbest: 63.4882640 (69)\ttotal: 421ms\tremaining: 813ms\n",
            "341:\tlearn: 49.5651541\ttest: 64.4620735\tbest: 63.4882640 (69)\ttotal: 422ms\tremaining: 811ms\n",
            "342:\tlearn: 49.5623500\ttest: 64.4695515\tbest: 63.4882640 (69)\ttotal: 422ms\tremaining: 809ms\n",
            "343:\tlearn: 49.5508326\ttest: 64.4879641\tbest: 63.4882640 (69)\ttotal: 423ms\tremaining: 808ms\n",
            "344:\tlearn: 49.5494689\ttest: 64.4868946\tbest: 63.4882640 (69)\ttotal: 424ms\tremaining: 806ms\n",
            "345:\tlearn: 49.5395953\ttest: 64.4853126\tbest: 63.4882640 (69)\ttotal: 426ms\tremaining: 805ms\n",
            "346:\tlearn: 49.5267455\ttest: 64.4786680\tbest: 63.4882640 (69)\ttotal: 427ms\tremaining: 804ms\n",
            "347:\tlearn: 49.5263576\ttest: 64.4774643\tbest: 63.4882640 (69)\ttotal: 428ms\tremaining: 802ms\n",
            "348:\tlearn: 49.5179168\ttest: 64.4794922\tbest: 63.4882640 (69)\ttotal: 429ms\tremaining: 801ms\n",
            "349:\tlearn: 49.5161784\ttest: 64.4774573\tbest: 63.4882640 (69)\ttotal: 431ms\tremaining: 800ms\n",
            "350:\tlearn: 49.5071222\ttest: 64.4868860\tbest: 63.4882640 (69)\ttotal: 432ms\tremaining: 798ms\n",
            "351:\tlearn: 49.5040375\ttest: 64.4924966\tbest: 63.4882640 (69)\ttotal: 433ms\tremaining: 797ms\n",
            "352:\tlearn: 49.5013913\ttest: 64.4930148\tbest: 63.4882640 (69)\ttotal: 434ms\tremaining: 795ms\n",
            "353:\tlearn: 49.4986374\ttest: 64.5007624\tbest: 63.4882640 (69)\ttotal: 435ms\tremaining: 793ms\n",
            "354:\tlearn: 49.4949806\ttest: 64.5015356\tbest: 63.4882640 (69)\ttotal: 436ms\tremaining: 792ms\n",
            "355:\tlearn: 49.4832096\ttest: 64.5149535\tbest: 63.4882640 (69)\ttotal: 437ms\tremaining: 790ms\n",
            "356:\tlearn: 49.4709930\ttest: 64.5242571\tbest: 63.4882640 (69)\ttotal: 438ms\tremaining: 789ms\n",
            "357:\tlearn: 49.4645470\ttest: 64.5277800\tbest: 63.4882640 (69)\ttotal: 439ms\tremaining: 787ms\n",
            "358:\tlearn: 49.4632756\ttest: 64.5273194\tbest: 63.4882640 (69)\ttotal: 440ms\tremaining: 785ms\n",
            "359:\tlearn: 49.4515989\ttest: 64.5254560\tbest: 63.4882640 (69)\ttotal: 441ms\tremaining: 784ms\n",
            "360:\tlearn: 49.4482230\ttest: 64.5345696\tbest: 63.4882640 (69)\ttotal: 442ms\tremaining: 782ms\n",
            "361:\tlearn: 49.4414487\ttest: 64.5364755\tbest: 63.4882640 (69)\ttotal: 443ms\tremaining: 780ms\n",
            "362:\tlearn: 49.4292380\ttest: 64.5336028\tbest: 63.4882640 (69)\ttotal: 444ms\tremaining: 779ms\n",
            "363:\tlearn: 49.4270622\ttest: 64.5383375\tbest: 63.4882640 (69)\ttotal: 445ms\tremaining: 777ms\n",
            "364:\tlearn: 49.4248653\ttest: 64.5352819\tbest: 63.4882640 (69)\ttotal: 446ms\tremaining: 775ms\n",
            "365:\tlearn: 49.4162142\ttest: 64.5351216\tbest: 63.4882640 (69)\ttotal: 447ms\tremaining: 774ms\n",
            "366:\tlearn: 49.4056153\ttest: 64.5281843\tbest: 63.4882640 (69)\ttotal: 448ms\tremaining: 772ms\n",
            "367:\tlearn: 49.4044220\ttest: 64.5278401\tbest: 63.4882640 (69)\ttotal: 449ms\tremaining: 770ms\n",
            "368:\tlearn: 49.3937317\ttest: 64.5406446\tbest: 63.4882640 (69)\ttotal: 450ms\tremaining: 769ms\n",
            "369:\tlearn: 49.3850968\ttest: 64.5434018\tbest: 63.4882640 (69)\ttotal: 451ms\tremaining: 767ms\n",
            "370:\tlearn: 49.3830311\ttest: 64.5412173\tbest: 63.4882640 (69)\ttotal: 452ms\tremaining: 766ms\n",
            "371:\tlearn: 49.3824627\ttest: 64.5415974\tbest: 63.4882640 (69)\ttotal: 453ms\tremaining: 764ms\n",
            "372:\tlearn: 49.3755989\ttest: 64.5416898\tbest: 63.4882640 (69)\ttotal: 453ms\tremaining: 762ms\n",
            "373:\tlearn: 49.3648984\ttest: 64.5412161\tbest: 63.4882640 (69)\ttotal: 454ms\tremaining: 761ms\n",
            "374:\tlearn: 49.3569683\ttest: 64.5500275\tbest: 63.4882640 (69)\ttotal: 455ms\tremaining: 759ms\n",
            "375:\tlearn: 49.3476737\ttest: 64.5609866\tbest: 63.4882640 (69)\ttotal: 456ms\tremaining: 757ms\n",
            "376:\tlearn: 49.3414552\ttest: 64.5649829\tbest: 63.4882640 (69)\ttotal: 457ms\tremaining: 756ms\n",
            "377:\tlearn: 49.3403627\ttest: 64.5683669\tbest: 63.4882640 (69)\ttotal: 458ms\tremaining: 754ms\n",
            "378:\tlearn: 49.3316074\ttest: 64.5771724\tbest: 63.4882640 (69)\ttotal: 459ms\tremaining: 752ms\n",
            "379:\tlearn: 49.3293257\ttest: 64.5809491\tbest: 63.4882640 (69)\ttotal: 460ms\tremaining: 751ms\n",
            "380:\tlearn: 49.3216384\ttest: 64.5854102\tbest: 63.4882640 (69)\ttotal: 461ms\tremaining: 749ms\n",
            "381:\tlearn: 49.3166637\ttest: 64.5893392\tbest: 63.4882640 (69)\ttotal: 462ms\tremaining: 747ms\n",
            "382:\tlearn: 49.3151838\ttest: 64.5878802\tbest: 63.4882640 (69)\ttotal: 463ms\tremaining: 746ms\n",
            "383:\tlearn: 49.3137957\ttest: 64.5866989\tbest: 63.4882640 (69)\ttotal: 464ms\tremaining: 744ms\n",
            "384:\tlearn: 49.3046743\ttest: 64.5863522\tbest: 63.4882640 (69)\ttotal: 465ms\tremaining: 742ms\n",
            "385:\tlearn: 49.3024623\ttest: 64.5951922\tbest: 63.4882640 (69)\ttotal: 466ms\tremaining: 741ms\n",
            "386:\tlearn: 49.2999395\ttest: 64.5989937\tbest: 63.4882640 (69)\ttotal: 467ms\tremaining: 740ms\n",
            "387:\tlearn: 49.2920201\ttest: 64.5976636\tbest: 63.4882640 (69)\ttotal: 468ms\tremaining: 739ms\n",
            "388:\tlearn: 49.2860955\ttest: 64.6016332\tbest: 63.4882640 (69)\ttotal: 469ms\tremaining: 737ms\n",
            "389:\tlearn: 49.2759867\ttest: 64.6102690\tbest: 63.4882640 (69)\ttotal: 470ms\tremaining: 736ms\n",
            "390:\tlearn: 49.2756447\ttest: 64.6114189\tbest: 63.4882640 (69)\ttotal: 471ms\tremaining: 734ms\n",
            "391:\tlearn: 49.2741070\ttest: 64.6103595\tbest: 63.4882640 (69)\ttotal: 472ms\tremaining: 732ms\n",
            "392:\tlearn: 49.2717718\ttest: 64.6112421\tbest: 63.4882640 (69)\ttotal: 473ms\tremaining: 730ms\n",
            "393:\tlearn: 49.2640071\ttest: 64.6128606\tbest: 63.4882640 (69)\ttotal: 474ms\tremaining: 729ms\n",
            "394:\tlearn: 49.2591883\ttest: 64.6153886\tbest: 63.4882640 (69)\ttotal: 475ms\tremaining: 728ms\n",
            "395:\tlearn: 49.2539900\ttest: 64.6268100\tbest: 63.4882640 (69)\ttotal: 476ms\tremaining: 727ms\n",
            "396:\tlearn: 49.2529800\ttest: 64.6264312\tbest: 63.4882640 (69)\ttotal: 478ms\tremaining: 726ms\n",
            "397:\tlearn: 49.2462448\ttest: 64.6311706\tbest: 63.4882640 (69)\ttotal: 479ms\tremaining: 724ms\n",
            "398:\tlearn: 49.2430951\ttest: 64.6345783\tbest: 63.4882640 (69)\ttotal: 480ms\tremaining: 723ms\n",
            "399:\tlearn: 49.2427897\ttest: 64.6357188\tbest: 63.4882640 (69)\ttotal: 481ms\tremaining: 721ms\n",
            "400:\tlearn: 49.2370782\ttest: 64.6364389\tbest: 63.4882640 (69)\ttotal: 482ms\tremaining: 719ms\n",
            "401:\tlearn: 49.2348451\ttest: 64.6389085\tbest: 63.4882640 (69)\ttotal: 483ms\tremaining: 718ms\n",
            "402:\tlearn: 49.2263435\ttest: 64.6386640\tbest: 63.4882640 (69)\ttotal: 484ms\tremaining: 716ms\n",
            "403:\tlearn: 49.2152370\ttest: 64.6435039\tbest: 63.4882640 (69)\ttotal: 484ms\tremaining: 715ms\n",
            "404:\tlearn: 49.2143056\ttest: 64.6462628\tbest: 63.4882640 (69)\ttotal: 485ms\tremaining: 713ms\n",
            "405:\tlearn: 49.2078093\ttest: 64.6457446\tbest: 63.4882640 (69)\ttotal: 486ms\tremaining: 712ms\n",
            "406:\tlearn: 49.2066294\ttest: 64.6457762\tbest: 63.4882640 (69)\ttotal: 487ms\tremaining: 710ms\n",
            "407:\tlearn: 49.1989431\ttest: 64.6438667\tbest: 63.4882640 (69)\ttotal: 489ms\tremaining: 710ms\n",
            "408:\tlearn: 49.1952909\ttest: 64.6554342\tbest: 63.4882640 (69)\ttotal: 490ms\tremaining: 708ms\n",
            "409:\tlearn: 49.1928622\ttest: 64.6600926\tbest: 63.4882640 (69)\ttotal: 493ms\tremaining: 710ms\n",
            "410:\tlearn: 49.1895479\ttest: 64.6655202\tbest: 63.4882640 (69)\ttotal: 494ms\tremaining: 709ms\n",
            "411:\tlearn: 49.1822962\ttest: 64.6689112\tbest: 63.4882640 (69)\ttotal: 495ms\tremaining: 707ms\n",
            "412:\tlearn: 49.1746518\ttest: 64.6690884\tbest: 63.4882640 (69)\ttotal: 496ms\tremaining: 706ms\n",
            "413:\tlearn: 49.1729811\ttest: 64.6761628\tbest: 63.4882640 (69)\ttotal: 497ms\tremaining: 704ms\n",
            "414:\tlearn: 49.1681550\ttest: 64.6844826\tbest: 63.4882640 (69)\ttotal: 498ms\tremaining: 703ms\n",
            "415:\tlearn: 49.1627312\ttest: 64.6853815\tbest: 63.4882640 (69)\ttotal: 499ms\tremaining: 701ms\n",
            "416:\tlearn: 49.1532758\ttest: 64.6754324\tbest: 63.4882640 (69)\ttotal: 500ms\tremaining: 699ms\n",
            "417:\tlearn: 49.1506934\ttest: 64.6751706\tbest: 63.4882640 (69)\ttotal: 501ms\tremaining: 698ms\n",
            "418:\tlearn: 49.1483081\ttest: 64.6788699\tbest: 63.4882640 (69)\ttotal: 502ms\tremaining: 696ms\n",
            "419:\tlearn: 49.1411027\ttest: 64.6793157\tbest: 63.4882640 (69)\ttotal: 503ms\tremaining: 695ms\n",
            "420:\tlearn: 49.1379576\ttest: 64.6809502\tbest: 63.4882640 (69)\ttotal: 504ms\tremaining: 693ms\n",
            "421:\tlearn: 49.1371403\ttest: 64.6798134\tbest: 63.4882640 (69)\ttotal: 505ms\tremaining: 692ms\n",
            "422:\tlearn: 49.1307272\ttest: 64.6812185\tbest: 63.4882640 (69)\ttotal: 506ms\tremaining: 690ms\n",
            "423:\tlearn: 49.1294416\ttest: 64.6848370\tbest: 63.4882640 (69)\ttotal: 507ms\tremaining: 689ms\n",
            "424:\tlearn: 49.1226881\ttest: 64.6882761\tbest: 63.4882640 (69)\ttotal: 508ms\tremaining: 688ms\n",
            "425:\tlearn: 49.1164057\ttest: 64.6917494\tbest: 63.4882640 (69)\ttotal: 509ms\tremaining: 686ms\n",
            "426:\tlearn: 49.1143652\ttest: 64.6946970\tbest: 63.4882640 (69)\ttotal: 510ms\tremaining: 685ms\n",
            "427:\tlearn: 49.1091646\ttest: 64.6948862\tbest: 63.4882640 (69)\ttotal: 511ms\tremaining: 683ms\n",
            "428:\tlearn: 49.1021822\ttest: 64.7016986\tbest: 63.4882640 (69)\ttotal: 512ms\tremaining: 682ms\n",
            "429:\tlearn: 49.1004136\ttest: 64.7017721\tbest: 63.4882640 (69)\ttotal: 513ms\tremaining: 681ms\n",
            "430:\tlearn: 49.0965835\ttest: 64.7037305\tbest: 63.4882640 (69)\ttotal: 514ms\tremaining: 679ms\n",
            "431:\tlearn: 49.0876205\ttest: 64.7033060\tbest: 63.4882640 (69)\ttotal: 515ms\tremaining: 678ms\n",
            "432:\tlearn: 49.0800929\ttest: 64.7054000\tbest: 63.4882640 (69)\ttotal: 516ms\tremaining: 676ms\n",
            "433:\tlearn: 49.0758318\ttest: 64.7017112\tbest: 63.4882640 (69)\ttotal: 518ms\tremaining: 675ms\n",
            "434:\tlearn: 49.0717592\ttest: 64.7128730\tbest: 63.4882640 (69)\ttotal: 519ms\tremaining: 674ms\n",
            "435:\tlearn: 49.0629561\ttest: 64.7225341\tbest: 63.4882640 (69)\ttotal: 520ms\tremaining: 672ms\n",
            "436:\tlearn: 49.0560555\ttest: 64.7323869\tbest: 63.4882640 (69)\ttotal: 520ms\tremaining: 671ms\n",
            "437:\tlearn: 49.0554155\ttest: 64.7321338\tbest: 63.4882640 (69)\ttotal: 521ms\tremaining: 669ms\n",
            "438:\tlearn: 49.0500344\ttest: 64.7336771\tbest: 63.4882640 (69)\ttotal: 522ms\tremaining: 668ms\n",
            "439:\tlearn: 49.0467053\ttest: 64.7413753\tbest: 63.4882640 (69)\ttotal: 523ms\tremaining: 666ms\n",
            "440:\tlearn: 49.0392641\ttest: 64.7455026\tbest: 63.4882640 (69)\ttotal: 524ms\tremaining: 665ms\n",
            "441:\tlearn: 49.0299629\ttest: 64.7617876\tbest: 63.4882640 (69)\ttotal: 525ms\tremaining: 663ms\n",
            "442:\tlearn: 49.0284686\ttest: 64.7624282\tbest: 63.4882640 (69)\ttotal: 526ms\tremaining: 662ms\n",
            "443:\tlearn: 49.0277230\ttest: 64.7627645\tbest: 63.4882640 (69)\ttotal: 527ms\tremaining: 660ms\n",
            "444:\tlearn: 49.0274202\ttest: 64.7627953\tbest: 63.4882640 (69)\ttotal: 528ms\tremaining: 659ms\n",
            "445:\tlearn: 49.0220824\ttest: 64.7720356\tbest: 63.4882640 (69)\ttotal: 529ms\tremaining: 657ms\n",
            "446:\tlearn: 49.0196730\ttest: 64.7736548\tbest: 63.4882640 (69)\ttotal: 530ms\tremaining: 656ms\n",
            "447:\tlearn: 49.0142842\ttest: 64.7751007\tbest: 63.4882640 (69)\ttotal: 531ms\tremaining: 655ms\n",
            "448:\tlearn: 49.0068832\ttest: 64.7789010\tbest: 63.4882640 (69)\ttotal: 532ms\tremaining: 653ms\n",
            "449:\tlearn: 49.0024711\ttest: 64.7839957\tbest: 63.4882640 (69)\ttotal: 533ms\tremaining: 652ms\n",
            "450:\tlearn: 49.0017192\ttest: 64.7833275\tbest: 63.4882640 (69)\ttotal: 534ms\tremaining: 650ms\n",
            "451:\tlearn: 48.9942521\ttest: 64.7878746\tbest: 63.4882640 (69)\ttotal: 535ms\tremaining: 649ms\n",
            "452:\tlearn: 48.9870335\ttest: 64.7879662\tbest: 63.4882640 (69)\ttotal: 536ms\tremaining: 647ms\n",
            "453:\tlearn: 48.9837575\ttest: 64.7929082\tbest: 63.4882640 (69)\ttotal: 537ms\tremaining: 646ms\n",
            "454:\tlearn: 48.9751568\ttest: 64.8086439\tbest: 63.4882640 (69)\ttotal: 542ms\tremaining: 650ms\n",
            "455:\tlearn: 48.9744759\ttest: 64.8080861\tbest: 63.4882640 (69)\ttotal: 543ms\tremaining: 648ms\n",
            "456:\tlearn: 48.9643759\ttest: 64.8018166\tbest: 63.4882640 (69)\ttotal: 544ms\tremaining: 646ms\n",
            "457:\tlearn: 48.9637517\ttest: 64.8012497\tbest: 63.4882640 (69)\ttotal: 545ms\tremaining: 645ms\n",
            "458:\tlearn: 48.9577737\ttest: 64.7945036\tbest: 63.4882640 (69)\ttotal: 548ms\tremaining: 646ms\n",
            "459:\tlearn: 48.9494392\ttest: 64.8028488\tbest: 63.4882640 (69)\ttotal: 549ms\tremaining: 644ms\n",
            "460:\tlearn: 48.9449490\ttest: 64.8037046\tbest: 63.4882640 (69)\ttotal: 550ms\tremaining: 643ms\n",
            "461:\tlearn: 48.9442442\ttest: 64.8032853\tbest: 63.4882640 (69)\ttotal: 551ms\tremaining: 641ms\n",
            "462:\tlearn: 48.9435291\ttest: 64.8057012\tbest: 63.4882640 (69)\ttotal: 552ms\tremaining: 640ms\n",
            "463:\tlearn: 48.9412657\ttest: 64.8124794\tbest: 63.4882640 (69)\ttotal: 553ms\tremaining: 638ms\n",
            "464:\tlearn: 48.9332033\ttest: 64.8043965\tbest: 63.4882640 (69)\ttotal: 553ms\tremaining: 637ms\n",
            "465:\tlearn: 48.9328378\ttest: 64.8055383\tbest: 63.4882640 (69)\ttotal: 554ms\tremaining: 635ms\n",
            "466:\tlearn: 48.9316610\ttest: 64.8058061\tbest: 63.4882640 (69)\ttotal: 555ms\tremaining: 634ms\n",
            "467:\tlearn: 48.9272250\ttest: 64.8012577\tbest: 63.4882640 (69)\ttotal: 556ms\tremaining: 632ms\n",
            "468:\tlearn: 48.9241055\ttest: 64.8080949\tbest: 63.4882640 (69)\ttotal: 557ms\tremaining: 631ms\n",
            "469:\tlearn: 48.9165925\ttest: 64.8177640\tbest: 63.4882640 (69)\ttotal: 558ms\tremaining: 629ms\n",
            "470:\tlearn: 48.9146077\ttest: 64.8222932\tbest: 63.4882640 (69)\ttotal: 559ms\tremaining: 628ms\n",
            "471:\tlearn: 48.9106819\ttest: 64.8231553\tbest: 63.4882640 (69)\ttotal: 560ms\tremaining: 627ms\n",
            "472:\tlearn: 48.9076973\ttest: 64.8245458\tbest: 63.4882640 (69)\ttotal: 561ms\tremaining: 625ms\n",
            "473:\tlearn: 48.8999862\ttest: 64.8287296\tbest: 63.4882640 (69)\ttotal: 562ms\tremaining: 624ms\n",
            "474:\tlearn: 48.8965027\ttest: 64.8305933\tbest: 63.4882640 (69)\ttotal: 563ms\tremaining: 622ms\n",
            "475:\tlearn: 48.8949768\ttest: 64.8340271\tbest: 63.4882640 (69)\ttotal: 564ms\tremaining: 621ms\n",
            "476:\tlearn: 48.8888569\ttest: 64.8307763\tbest: 63.4882640 (69)\ttotal: 565ms\tremaining: 620ms\n",
            "477:\tlearn: 48.8830377\ttest: 64.8435849\tbest: 63.4882640 (69)\ttotal: 566ms\tremaining: 618ms\n",
            "478:\tlearn: 48.8738256\ttest: 64.8435477\tbest: 63.4882640 (69)\ttotal: 567ms\tremaining: 617ms\n",
            "479:\tlearn: 48.8719661\ttest: 64.8430954\tbest: 63.4882640 (69)\ttotal: 568ms\tremaining: 615ms\n",
            "480:\tlearn: 48.8718500\ttest: 64.8432194\tbest: 63.4882640 (69)\ttotal: 569ms\tremaining: 614ms\n",
            "481:\tlearn: 48.8681574\ttest: 64.8439703\tbest: 63.4882640 (69)\ttotal: 570ms\tremaining: 612ms\n",
            "482:\tlearn: 48.8627441\ttest: 64.8472240\tbest: 63.4882640 (69)\ttotal: 571ms\tremaining: 611ms\n",
            "483:\tlearn: 48.8605360\ttest: 64.8464150\tbest: 63.4882640 (69)\ttotal: 572ms\tremaining: 610ms\n",
            "484:\tlearn: 48.8544100\ttest: 64.8501273\tbest: 63.4882640 (69)\ttotal: 573ms\tremaining: 608ms\n",
            "485:\tlearn: 48.8470672\ttest: 64.8411390\tbest: 63.4882640 (69)\ttotal: 574ms\tremaining: 607ms\n",
            "486:\tlearn: 48.8395834\ttest: 64.8458822\tbest: 63.4882640 (69)\ttotal: 575ms\tremaining: 605ms\n",
            "487:\tlearn: 48.8367444\ttest: 64.8547027\tbest: 63.4882640 (69)\ttotal: 575ms\tremaining: 604ms\n",
            "488:\tlearn: 48.8336549\ttest: 64.8628725\tbest: 63.4882640 (69)\ttotal: 576ms\tremaining: 602ms\n",
            "489:\tlearn: 48.8303043\ttest: 64.8656635\tbest: 63.4882640 (69)\ttotal: 577ms\tremaining: 601ms\n",
            "490:\tlearn: 48.8237343\ttest: 64.8749873\tbest: 63.4882640 (69)\ttotal: 578ms\tremaining: 600ms\n",
            "491:\tlearn: 48.8188851\ttest: 64.8749732\tbest: 63.4882640 (69)\ttotal: 579ms\tremaining: 598ms\n",
            "492:\tlearn: 48.8156329\ttest: 64.8819077\tbest: 63.4882640 (69)\ttotal: 580ms\tremaining: 597ms\n",
            "493:\tlearn: 48.8154133\ttest: 64.8820839\tbest: 63.4882640 (69)\ttotal: 581ms\tremaining: 596ms\n",
            "494:\tlearn: 48.8078350\ttest: 64.8969223\tbest: 63.4882640 (69)\ttotal: 582ms\tremaining: 594ms\n",
            "495:\tlearn: 48.7997044\ttest: 64.8917181\tbest: 63.4882640 (69)\ttotal: 583ms\tremaining: 593ms\n",
            "496:\tlearn: 48.7990851\ttest: 64.8916118\tbest: 63.4882640 (69)\ttotal: 584ms\tremaining: 591ms\n",
            "497:\tlearn: 48.7983818\ttest: 64.8900250\tbest: 63.4882640 (69)\ttotal: 585ms\tremaining: 590ms\n",
            "498:\tlearn: 48.7963340\ttest: 64.8901065\tbest: 63.4882640 (69)\ttotal: 586ms\tremaining: 589ms\n",
            "499:\tlearn: 48.7920301\ttest: 64.8912681\tbest: 63.4882640 (69)\ttotal: 587ms\tremaining: 587ms\n",
            "500:\tlearn: 48.7862788\ttest: 64.8910656\tbest: 63.4882640 (69)\ttotal: 588ms\tremaining: 586ms\n",
            "501:\tlearn: 48.7823226\ttest: 64.8935994\tbest: 63.4882640 (69)\ttotal: 589ms\tremaining: 585ms\n",
            "502:\tlearn: 48.7765413\ttest: 64.8907579\tbest: 63.4882640 (69)\ttotal: 590ms\tremaining: 583ms\n",
            "503:\tlearn: 48.7748568\ttest: 64.8934477\tbest: 63.4882640 (69)\ttotal: 591ms\tremaining: 582ms\n",
            "504:\tlearn: 48.7678457\ttest: 64.9076565\tbest: 63.4882640 (69)\ttotal: 592ms\tremaining: 580ms\n",
            "505:\tlearn: 48.7617516\ttest: 64.9166041\tbest: 63.4882640 (69)\ttotal: 593ms\tremaining: 579ms\n",
            "506:\tlearn: 48.7578319\ttest: 64.9200462\tbest: 63.4882640 (69)\ttotal: 594ms\tremaining: 578ms\n",
            "507:\tlearn: 48.7530834\ttest: 64.9249724\tbest: 63.4882640 (69)\ttotal: 595ms\tremaining: 576ms\n",
            "508:\tlearn: 48.7510378\ttest: 64.9280779\tbest: 63.4882640 (69)\ttotal: 596ms\tremaining: 575ms\n",
            "509:\tlearn: 48.7504329\ttest: 64.9289346\tbest: 63.4882640 (69)\ttotal: 597ms\tremaining: 574ms\n",
            "510:\tlearn: 48.7496191\ttest: 64.9285564\tbest: 63.4882640 (69)\ttotal: 598ms\tremaining: 572ms\n",
            "511:\tlearn: 48.7437126\ttest: 64.9325440\tbest: 63.4882640 (69)\ttotal: 599ms\tremaining: 571ms\n",
            "512:\tlearn: 48.7387150\ttest: 64.9332371\tbest: 63.4882640 (69)\ttotal: 601ms\tremaining: 570ms\n",
            "513:\tlearn: 48.7329123\ttest: 64.9278943\tbest: 63.4882640 (69)\ttotal: 602ms\tremaining: 569ms\n",
            "514:\tlearn: 48.7294988\ttest: 64.9313700\tbest: 63.4882640 (69)\ttotal: 603ms\tremaining: 568ms\n",
            "515:\tlearn: 48.7240466\ttest: 64.9302955\tbest: 63.4882640 (69)\ttotal: 604ms\tremaining: 567ms\n",
            "516:\tlearn: 48.7231704\ttest: 64.9297866\tbest: 63.4882640 (69)\ttotal: 606ms\tremaining: 566ms\n",
            "517:\tlearn: 48.7227271\ttest: 64.9285022\tbest: 63.4882640 (69)\ttotal: 607ms\tremaining: 565ms\n",
            "518:\tlearn: 48.7200160\ttest: 64.9333864\tbest: 63.4882640 (69)\ttotal: 608ms\tremaining: 564ms\n",
            "519:\tlearn: 48.7150895\ttest: 64.9324714\tbest: 63.4882640 (69)\ttotal: 610ms\tremaining: 563ms\n",
            "520:\tlearn: 48.7112720\ttest: 64.9372724\tbest: 63.4882640 (69)\ttotal: 611ms\tremaining: 562ms\n",
            "521:\tlearn: 48.7094804\ttest: 64.9408063\tbest: 63.4882640 (69)\ttotal: 612ms\tremaining: 561ms\n",
            "522:\tlearn: 48.7091800\ttest: 64.9414360\tbest: 63.4882640 (69)\ttotal: 613ms\tremaining: 559ms\n",
            "523:\tlearn: 48.7037180\ttest: 64.9445653\tbest: 63.4882640 (69)\ttotal: 614ms\tremaining: 558ms\n",
            "524:\tlearn: 48.6986147\ttest: 64.9485270\tbest: 63.4882640 (69)\ttotal: 615ms\tremaining: 557ms\n",
            "525:\tlearn: 48.6906334\ttest: 64.9449394\tbest: 63.4882640 (69)\ttotal: 616ms\tremaining: 555ms\n",
            "526:\tlearn: 48.6881221\ttest: 64.9478438\tbest: 63.4882640 (69)\ttotal: 617ms\tremaining: 554ms\n",
            "527:\tlearn: 48.6836618\ttest: 64.9519993\tbest: 63.4882640 (69)\ttotal: 619ms\tremaining: 553ms\n",
            "528:\tlearn: 48.6834675\ttest: 64.9522101\tbest: 63.4882640 (69)\ttotal: 620ms\tremaining: 552ms\n",
            "529:\tlearn: 48.6764278\ttest: 64.9477522\tbest: 63.4882640 (69)\ttotal: 621ms\tremaining: 550ms\n",
            "530:\tlearn: 48.6745493\ttest: 64.9460501\tbest: 63.4882640 (69)\ttotal: 622ms\tremaining: 549ms\n",
            "531:\tlearn: 48.6684081\ttest: 64.9575001\tbest: 63.4882640 (69)\ttotal: 623ms\tremaining: 548ms\n",
            "532:\tlearn: 48.6616914\ttest: 64.9580112\tbest: 63.4882640 (69)\ttotal: 624ms\tremaining: 547ms\n",
            "533:\tlearn: 48.6570983\ttest: 64.9578229\tbest: 63.4882640 (69)\ttotal: 625ms\tremaining: 545ms\n",
            "534:\tlearn: 48.6542559\ttest: 64.9616597\tbest: 63.4882640 (69)\ttotal: 626ms\tremaining: 544ms\n",
            "535:\tlearn: 48.6516470\ttest: 64.9677593\tbest: 63.4882640 (69)\ttotal: 627ms\tremaining: 543ms\n",
            "536:\tlearn: 48.6475385\ttest: 64.9687101\tbest: 63.4882640 (69)\ttotal: 628ms\tremaining: 542ms\n",
            "537:\tlearn: 48.6449891\ttest: 64.9765466\tbest: 63.4882640 (69)\ttotal: 629ms\tremaining: 540ms\n",
            "538:\tlearn: 48.6393888\ttest: 64.9736573\tbest: 63.4882640 (69)\ttotal: 630ms\tremaining: 539ms\n",
            "539:\tlearn: 48.6350698\ttest: 64.9748776\tbest: 63.4882640 (69)\ttotal: 631ms\tremaining: 538ms\n",
            "540:\tlearn: 48.6326585\ttest: 64.9816150\tbest: 63.4882640 (69)\ttotal: 632ms\tremaining: 536ms\n",
            "541:\tlearn: 48.6291507\ttest: 64.9805393\tbest: 63.4882640 (69)\ttotal: 633ms\tremaining: 535ms\n",
            "542:\tlearn: 48.6268630\ttest: 64.9879575\tbest: 63.4882640 (69)\ttotal: 634ms\tremaining: 534ms\n",
            "543:\tlearn: 48.6235687\ttest: 64.9875451\tbest: 63.4882640 (69)\ttotal: 635ms\tremaining: 532ms\n",
            "544:\tlearn: 48.6218820\ttest: 64.9962095\tbest: 63.4882640 (69)\ttotal: 636ms\tremaining: 531ms\n",
            "545:\tlearn: 48.6173422\ttest: 64.9970590\tbest: 63.4882640 (69)\ttotal: 638ms\tremaining: 530ms\n",
            "546:\tlearn: 48.6170385\ttest: 64.9967756\tbest: 63.4882640 (69)\ttotal: 639ms\tremaining: 529ms\n",
            "547:\tlearn: 48.6117899\ttest: 65.0052868\tbest: 63.4882640 (69)\ttotal: 641ms\tremaining: 529ms\n",
            "548:\tlearn: 48.6056792\ttest: 65.0186493\tbest: 63.4882640 (69)\ttotal: 642ms\tremaining: 528ms\n",
            "549:\tlearn: 48.6013852\ttest: 65.0232164\tbest: 63.4882640 (69)\ttotal: 643ms\tremaining: 526ms\n",
            "550:\tlearn: 48.5968735\ttest: 65.0229594\tbest: 63.4882640 (69)\ttotal: 644ms\tremaining: 525ms\n",
            "551:\tlearn: 48.5923976\ttest: 65.0227869\tbest: 63.4882640 (69)\ttotal: 645ms\tremaining: 524ms\n",
            "552:\tlearn: 48.5904154\ttest: 65.0267858\tbest: 63.4882640 (69)\ttotal: 646ms\tremaining: 523ms\n",
            "553:\tlearn: 48.5885256\ttest: 65.0318731\tbest: 63.4882640 (69)\ttotal: 648ms\tremaining: 521ms\n",
            "554:\tlearn: 48.5864138\ttest: 65.0360170\tbest: 63.4882640 (69)\ttotal: 649ms\tremaining: 520ms\n",
            "555:\tlearn: 48.5815486\ttest: 65.0406841\tbest: 63.4882640 (69)\ttotal: 650ms\tremaining: 519ms\n",
            "556:\tlearn: 48.5779450\ttest: 65.0424712\tbest: 63.4882640 (69)\ttotal: 651ms\tremaining: 518ms\n",
            "557:\tlearn: 48.5728446\ttest: 65.0487378\tbest: 63.4882640 (69)\ttotal: 652ms\tremaining: 516ms\n",
            "558:\tlearn: 48.5684283\ttest: 65.0525486\tbest: 63.4882640 (69)\ttotal: 653ms\tremaining: 515ms\n",
            "559:\tlearn: 48.5667717\ttest: 65.0571667\tbest: 63.4882640 (69)\ttotal: 654ms\tremaining: 514ms\n",
            "560:\tlearn: 48.5637180\ttest: 65.0583432\tbest: 63.4882640 (69)\ttotal: 655ms\tremaining: 512ms\n",
            "561:\tlearn: 48.5605694\ttest: 65.0582025\tbest: 63.4882640 (69)\ttotal: 656ms\tremaining: 511ms\n",
            "562:\tlearn: 48.5568566\ttest: 65.0656922\tbest: 63.4882640 (69)\ttotal: 657ms\tremaining: 510ms\n",
            "563:\tlearn: 48.5526440\ttest: 65.0705011\tbest: 63.4882640 (69)\ttotal: 658ms\tremaining: 509ms\n",
            "564:\tlearn: 48.5484991\ttest: 65.0743466\tbest: 63.4882640 (69)\ttotal: 659ms\tremaining: 507ms\n",
            "565:\tlearn: 48.5470494\ttest: 65.0779814\tbest: 63.4882640 (69)\ttotal: 660ms\tremaining: 506ms\n",
            "566:\tlearn: 48.5446531\ttest: 65.0842789\tbest: 63.4882640 (69)\ttotal: 661ms\tremaining: 505ms\n",
            "567:\tlearn: 48.5408623\ttest: 65.0893554\tbest: 63.4882640 (69)\ttotal: 662ms\tremaining: 504ms\n",
            "568:\tlearn: 48.5363334\ttest: 65.0992930\tbest: 63.4882640 (69)\ttotal: 663ms\tremaining: 502ms\n",
            "569:\tlearn: 48.5327038\ttest: 65.1024093\tbest: 63.4882640 (69)\ttotal: 664ms\tremaining: 501ms\n",
            "570:\tlearn: 48.5305825\ttest: 65.1033332\tbest: 63.4882640 (69)\ttotal: 665ms\tremaining: 500ms\n",
            "571:\tlearn: 48.5243711\ttest: 65.0979978\tbest: 63.4882640 (69)\ttotal: 666ms\tremaining: 499ms\n",
            "572:\tlearn: 48.5199628\ttest: 65.1023583\tbest: 63.4882640 (69)\ttotal: 667ms\tremaining: 497ms\n",
            "573:\tlearn: 48.5163054\ttest: 65.1018999\tbest: 63.4882640 (69)\ttotal: 668ms\tremaining: 496ms\n",
            "574:\tlearn: 48.5134703\ttest: 65.1073418\tbest: 63.4882640 (69)\ttotal: 669ms\tremaining: 495ms\n",
            "575:\tlearn: 48.5097401\ttest: 65.1030689\tbest: 63.4882640 (69)\ttotal: 670ms\tremaining: 493ms\n",
            "576:\tlearn: 48.5055293\ttest: 65.1070370\tbest: 63.4882640 (69)\ttotal: 671ms\tremaining: 492ms\n",
            "577:\tlearn: 48.5027362\ttest: 65.1059168\tbest: 63.4882640 (69)\ttotal: 672ms\tremaining: 491ms\n",
            "578:\tlearn: 48.5006844\ttest: 65.1051055\tbest: 63.4882640 (69)\ttotal: 673ms\tremaining: 490ms\n",
            "579:\tlearn: 48.4990693\ttest: 65.1036908\tbest: 63.4882640 (69)\ttotal: 675ms\tremaining: 488ms\n",
            "580:\tlearn: 48.4981450\ttest: 65.1067264\tbest: 63.4882640 (69)\ttotal: 676ms\tremaining: 487ms\n",
            "581:\tlearn: 48.4949288\ttest: 65.1066354\tbest: 63.4882640 (69)\ttotal: 676ms\tremaining: 486ms\n",
            "582:\tlearn: 48.4905279\ttest: 65.1036780\tbest: 63.4882640 (69)\ttotal: 677ms\tremaining: 484ms\n",
            "583:\tlearn: 48.4872805\ttest: 65.1087566\tbest: 63.4882640 (69)\ttotal: 678ms\tremaining: 483ms\n",
            "584:\tlearn: 48.4867609\ttest: 65.1087836\tbest: 63.4882640 (69)\ttotal: 679ms\tremaining: 481ms\n",
            "585:\tlearn: 48.4849683\ttest: 65.1166375\tbest: 63.4882640 (69)\ttotal: 680ms\tremaining: 480ms\n",
            "586:\tlearn: 48.4817799\ttest: 65.1182886\tbest: 63.4882640 (69)\ttotal: 680ms\tremaining: 479ms\n",
            "587:\tlearn: 48.4770015\ttest: 65.1244179\tbest: 63.4882640 (69)\ttotal: 681ms\tremaining: 477ms\n",
            "588:\tlearn: 48.4725787\ttest: 65.1238646\tbest: 63.4882640 (69)\ttotal: 682ms\tremaining: 476ms\n",
            "589:\tlearn: 48.4723490\ttest: 65.1249864\tbest: 63.4882640 (69)\ttotal: 683ms\tremaining: 474ms\n",
            "590:\tlearn: 48.4709986\ttest: 65.1267395\tbest: 63.4882640 (69)\ttotal: 684ms\tremaining: 473ms\n",
            "591:\tlearn: 48.4696277\ttest: 65.1312982\tbest: 63.4882640 (69)\ttotal: 685ms\tremaining: 472ms\n",
            "592:\tlearn: 48.4681895\ttest: 65.1343332\tbest: 63.4882640 (69)\ttotal: 686ms\tremaining: 471ms\n",
            "593:\tlearn: 48.4640395\ttest: 65.1299977\tbest: 63.4882640 (69)\ttotal: 686ms\tremaining: 469ms\n",
            "594:\tlearn: 48.4614310\ttest: 65.1345175\tbest: 63.4882640 (69)\ttotal: 687ms\tremaining: 468ms\n",
            "595:\tlearn: 48.4583939\ttest: 65.1315538\tbest: 63.4882640 (69)\ttotal: 688ms\tremaining: 466ms\n",
            "596:\tlearn: 48.4568024\ttest: 65.1303908\tbest: 63.4882640 (69)\ttotal: 689ms\tremaining: 465ms\n",
            "597:\tlearn: 48.4547043\ttest: 65.1362361\tbest: 63.4882640 (69)\ttotal: 689ms\tremaining: 463ms\n",
            "598:\tlearn: 48.4530736\ttest: 65.1490572\tbest: 63.4882640 (69)\ttotal: 690ms\tremaining: 462ms\n",
            "599:\tlearn: 48.4509555\ttest: 65.1525911\tbest: 63.4882640 (69)\ttotal: 691ms\tremaining: 461ms\n",
            "600:\tlearn: 48.4465684\ttest: 65.1553573\tbest: 63.4882640 (69)\ttotal: 692ms\tremaining: 459ms\n",
            "601:\tlearn: 48.4450955\ttest: 65.1542311\tbest: 63.4882640 (69)\ttotal: 693ms\tremaining: 458ms\n",
            "602:\tlearn: 48.4402376\ttest: 65.1663774\tbest: 63.4882640 (69)\ttotal: 694ms\tremaining: 457ms\n",
            "603:\tlearn: 48.4373948\ttest: 65.1703632\tbest: 63.4882640 (69)\ttotal: 695ms\tremaining: 456ms\n",
            "604:\tlearn: 48.4316472\ttest: 65.1708559\tbest: 63.4882640 (69)\ttotal: 696ms\tremaining: 455ms\n",
            "605:\tlearn: 48.4298572\ttest: 65.1770860\tbest: 63.4882640 (69)\ttotal: 697ms\tremaining: 453ms\n",
            "606:\tlearn: 48.4284102\ttest: 65.1744054\tbest: 63.4882640 (69)\ttotal: 698ms\tremaining: 452ms\n",
            "607:\tlearn: 48.4242364\ttest: 65.1745859\tbest: 63.4882640 (69)\ttotal: 699ms\tremaining: 451ms\n",
            "608:\tlearn: 48.4238643\ttest: 65.1744577\tbest: 63.4882640 (69)\ttotal: 700ms\tremaining: 450ms\n",
            "609:\tlearn: 48.4210123\ttest: 65.1741310\tbest: 63.4882640 (69)\ttotal: 701ms\tremaining: 448ms\n",
            "610:\tlearn: 48.4170439\ttest: 65.1818053\tbest: 63.4882640 (69)\ttotal: 702ms\tremaining: 447ms\n",
            "611:\tlearn: 48.4139672\ttest: 65.1790522\tbest: 63.4882640 (69)\ttotal: 703ms\tremaining: 446ms\n",
            "612:\tlearn: 48.4137963\ttest: 65.1793870\tbest: 63.4882640 (69)\ttotal: 705ms\tremaining: 445ms\n",
            "613:\tlearn: 48.4085226\ttest: 65.1801778\tbest: 63.4882640 (69)\ttotal: 706ms\tremaining: 444ms\n",
            "614:\tlearn: 48.4053478\ttest: 65.1813422\tbest: 63.4882640 (69)\ttotal: 707ms\tremaining: 443ms\n",
            "615:\tlearn: 48.4006069\ttest: 65.1820344\tbest: 63.4882640 (69)\ttotal: 708ms\tremaining: 441ms\n",
            "616:\tlearn: 48.3979283\ttest: 65.1937139\tbest: 63.4882640 (69)\ttotal: 709ms\tremaining: 440ms\n",
            "617:\tlearn: 48.3936593\ttest: 65.1973139\tbest: 63.4882640 (69)\ttotal: 710ms\tremaining: 439ms\n",
            "618:\tlearn: 48.3912943\ttest: 65.2003831\tbest: 63.4882640 (69)\ttotal: 711ms\tremaining: 438ms\n",
            "619:\tlearn: 48.3876307\ttest: 65.2025111\tbest: 63.4882640 (69)\ttotal: 712ms\tremaining: 437ms\n",
            "620:\tlearn: 48.3841682\ttest: 65.1978375\tbest: 63.4882640 (69)\ttotal: 714ms\tremaining: 435ms\n",
            "621:\tlearn: 48.3801175\ttest: 65.1986127\tbest: 63.4882640 (69)\ttotal: 715ms\tremaining: 434ms\n",
            "622:\tlearn: 48.3790726\ttest: 65.2018520\tbest: 63.4882640 (69)\ttotal: 716ms\tremaining: 433ms\n",
            "623:\tlearn: 48.3744570\ttest: 65.1971471\tbest: 63.4882640 (69)\ttotal: 718ms\tremaining: 432ms\n",
            "624:\tlearn: 48.3719054\ttest: 65.1996993\tbest: 63.4882640 (69)\ttotal: 719ms\tremaining: 431ms\n",
            "625:\tlearn: 48.3704619\ttest: 65.2049983\tbest: 63.4882640 (69)\ttotal: 720ms\tremaining: 430ms\n",
            "626:\tlearn: 48.3653548\ttest: 65.2091955\tbest: 63.4882640 (69)\ttotal: 726ms\tremaining: 432ms\n",
            "627:\tlearn: 48.3606076\ttest: 65.2071895\tbest: 63.4882640 (69)\ttotal: 727ms\tremaining: 431ms\n",
            "628:\tlearn: 48.3597165\ttest: 65.2078026\tbest: 63.4882640 (69)\ttotal: 729ms\tremaining: 430ms\n",
            "629:\tlearn: 48.3553484\ttest: 65.2194205\tbest: 63.4882640 (69)\ttotal: 730ms\tremaining: 429ms\n",
            "630:\tlearn: 48.3541441\ttest: 65.2220920\tbest: 63.4882640 (69)\ttotal: 731ms\tremaining: 428ms\n",
            "631:\tlearn: 48.3506287\ttest: 65.2207143\tbest: 63.4882640 (69)\ttotal: 733ms\tremaining: 427ms\n",
            "632:\tlearn: 48.3477494\ttest: 65.2197821\tbest: 63.4882640 (69)\ttotal: 734ms\tremaining: 426ms\n",
            "633:\tlearn: 48.3438594\ttest: 65.2257216\tbest: 63.4882640 (69)\ttotal: 736ms\tremaining: 425ms\n",
            "634:\tlearn: 48.3391104\ttest: 65.2226731\tbest: 63.4882640 (69)\ttotal: 737ms\tremaining: 424ms\n",
            "635:\tlearn: 48.3349918\ttest: 65.2260376\tbest: 63.4882640 (69)\ttotal: 740ms\tremaining: 423ms\n",
            "636:\tlearn: 48.3346043\ttest: 65.2258438\tbest: 63.4882640 (69)\ttotal: 741ms\tremaining: 422ms\n",
            "637:\tlearn: 48.3314675\ttest: 65.2226543\tbest: 63.4882640 (69)\ttotal: 742ms\tremaining: 421ms\n",
            "638:\tlearn: 48.3280541\ttest: 65.2229959\tbest: 63.4882640 (69)\ttotal: 744ms\tremaining: 420ms\n",
            "639:\tlearn: 48.3238094\ttest: 65.2214678\tbest: 63.4882640 (69)\ttotal: 746ms\tremaining: 420ms\n",
            "640:\tlearn: 48.3199408\ttest: 65.2214466\tbest: 63.4882640 (69)\ttotal: 750ms\tremaining: 420ms\n",
            "641:\tlearn: 48.3165450\ttest: 65.2198404\tbest: 63.4882640 (69)\ttotal: 752ms\tremaining: 419ms\n",
            "642:\tlearn: 48.3125038\ttest: 65.2311631\tbest: 63.4882640 (69)\ttotal: 753ms\tremaining: 418ms\n",
            "643:\tlearn: 48.3120040\ttest: 65.2311004\tbest: 63.4882640 (69)\ttotal: 756ms\tremaining: 418ms\n",
            "644:\tlearn: 48.3104706\ttest: 65.2376836\tbest: 63.4882640 (69)\ttotal: 771ms\tremaining: 424ms\n",
            "645:\tlearn: 48.3069402\ttest: 65.2392704\tbest: 63.4882640 (69)\ttotal: 772ms\tremaining: 423ms\n",
            "646:\tlearn: 48.3048621\ttest: 65.2394206\tbest: 63.4882640 (69)\ttotal: 778ms\tremaining: 424ms\n",
            "647:\tlearn: 48.3040782\ttest: 65.2453830\tbest: 63.4882640 (69)\ttotal: 780ms\tremaining: 424ms\n",
            "648:\tlearn: 48.3007942\ttest: 65.2469515\tbest: 63.4882640 (69)\ttotal: 786ms\tremaining: 425ms\n",
            "649:\tlearn: 48.2980978\ttest: 65.2529595\tbest: 63.4882640 (69)\ttotal: 787ms\tremaining: 424ms\n",
            "650:\tlearn: 48.2956604\ttest: 65.2528919\tbest: 63.4882640 (69)\ttotal: 797ms\tremaining: 427ms\n",
            "651:\tlearn: 48.2928350\ttest: 65.2508363\tbest: 63.4882640 (69)\ttotal: 798ms\tremaining: 426ms\n",
            "652:\tlearn: 48.2906645\ttest: 65.2555058\tbest: 63.4882640 (69)\ttotal: 799ms\tremaining: 425ms\n",
            "653:\tlearn: 48.2885159\ttest: 65.2566846\tbest: 63.4882640 (69)\ttotal: 800ms\tremaining: 423ms\n",
            "654:\tlearn: 48.2854930\ttest: 65.2570604\tbest: 63.4882640 (69)\ttotal: 803ms\tremaining: 423ms\n",
            "655:\tlearn: 48.2850914\ttest: 65.2563229\tbest: 63.4882640 (69)\ttotal: 804ms\tremaining: 422ms\n",
            "656:\tlearn: 48.2824467\ttest: 65.2545994\tbest: 63.4882640 (69)\ttotal: 812ms\tremaining: 424ms\n",
            "657:\tlearn: 48.2804972\ttest: 65.2603735\tbest: 63.4882640 (69)\ttotal: 815ms\tremaining: 423ms\n",
            "658:\tlearn: 48.2801488\ttest: 65.2595886\tbest: 63.4882640 (69)\ttotal: 818ms\tremaining: 423ms\n",
            "659:\tlearn: 48.2789432\ttest: 65.2658438\tbest: 63.4882640 (69)\ttotal: 819ms\tremaining: 422ms\n",
            "660:\tlearn: 48.2770561\ttest: 65.2671522\tbest: 63.4882640 (69)\ttotal: 824ms\tremaining: 423ms\n",
            "661:\tlearn: 48.2744963\ttest: 65.2708058\tbest: 63.4882640 (69)\ttotal: 825ms\tremaining: 421ms\n",
            "662:\tlearn: 48.2730089\ttest: 65.2723316\tbest: 63.4882640 (69)\ttotal: 826ms\tremaining: 420ms\n",
            "663:\tlearn: 48.2713638\ttest: 65.2677084\tbest: 63.4882640 (69)\ttotal: 830ms\tremaining: 420ms\n",
            "664:\tlearn: 48.2701747\ttest: 65.2679620\tbest: 63.4882640 (69)\ttotal: 831ms\tremaining: 419ms\n",
            "665:\tlearn: 48.2678861\ttest: 65.2701240\tbest: 63.4882640 (69)\ttotal: 835ms\tremaining: 419ms\n",
            "666:\tlearn: 48.2650692\ttest: 65.2736821\tbest: 63.4882640 (69)\ttotal: 841ms\tremaining: 420ms\n",
            "667:\tlearn: 48.2615204\ttest: 65.2746998\tbest: 63.4882640 (69)\ttotal: 842ms\tremaining: 419ms\n",
            "668:\tlearn: 48.2606587\ttest: 65.2752369\tbest: 63.4882640 (69)\ttotal: 843ms\tremaining: 417ms\n",
            "669:\tlearn: 48.2574011\ttest: 65.2756873\tbest: 63.4882640 (69)\ttotal: 853ms\tremaining: 420ms\n",
            "670:\tlearn: 48.2544875\ttest: 65.2765711\tbest: 63.4882640 (69)\ttotal: 885ms\tremaining: 434ms\n",
            "671:\tlearn: 48.2471315\ttest: 65.2834511\tbest: 63.4882640 (69)\ttotal: 892ms\tremaining: 436ms\n",
            "672:\tlearn: 48.2462144\ttest: 65.2845738\tbest: 63.4882640 (69)\ttotal: 893ms\tremaining: 434ms\n",
            "673:\tlearn: 48.2454790\ttest: 65.2863394\tbest: 63.4882640 (69)\ttotal: 894ms\tremaining: 433ms\n",
            "674:\tlearn: 48.2448530\ttest: 65.2885004\tbest: 63.4882640 (69)\ttotal: 902ms\tremaining: 434ms\n",
            "675:\tlearn: 48.2439007\ttest: 65.2908478\tbest: 63.4882640 (69)\ttotal: 924ms\tremaining: 443ms\n",
            "676:\tlearn: 48.2419131\ttest: 65.2918004\tbest: 63.4882640 (69)\ttotal: 925ms\tremaining: 441ms\n",
            "677:\tlearn: 48.2409229\ttest: 65.2955455\tbest: 63.4882640 (69)\ttotal: 926ms\tremaining: 440ms\n",
            "678:\tlearn: 48.2370417\ttest: 65.2924625\tbest: 63.4882640 (69)\ttotal: 933ms\tremaining: 441ms\n",
            "679:\tlearn: 48.2366403\ttest: 65.2928278\tbest: 63.4882640 (69)\ttotal: 936ms\tremaining: 441ms\n",
            "680:\tlearn: 48.2343499\ttest: 65.2912061\tbest: 63.4882640 (69)\ttotal: 937ms\tremaining: 439ms\n",
            "681:\tlearn: 48.2311411\ttest: 65.2968359\tbest: 63.4882640 (69)\ttotal: 938ms\tremaining: 437ms\n",
            "682:\tlearn: 48.2307456\ttest: 65.2962375\tbest: 63.4882640 (69)\ttotal: 939ms\tremaining: 436ms\n",
            "683:\tlearn: 48.2293542\ttest: 65.3032493\tbest: 63.4882640 (69)\ttotal: 939ms\tremaining: 434ms\n",
            "684:\tlearn: 48.2278030\ttest: 65.3118984\tbest: 63.4882640 (69)\ttotal: 940ms\tremaining: 432ms\n",
            "685:\tlearn: 48.2277085\ttest: 65.3119156\tbest: 63.4882640 (69)\ttotal: 941ms\tremaining: 431ms\n",
            "686:\tlearn: 48.2244548\ttest: 65.3152323\tbest: 63.4882640 (69)\ttotal: 947ms\tremaining: 431ms\n",
            "687:\tlearn: 48.2211632\ttest: 65.3256547\tbest: 63.4882640 (69)\ttotal: 948ms\tremaining: 430ms\n",
            "688:\tlearn: 48.2205047\ttest: 65.3267000\tbest: 63.4882640 (69)\ttotal: 948ms\tremaining: 428ms\n",
            "689:\tlearn: 48.2171254\ttest: 65.3270618\tbest: 63.4882640 (69)\ttotal: 959ms\tremaining: 431ms\n",
            "690:\tlearn: 48.2136666\ttest: 65.3345098\tbest: 63.4882640 (69)\ttotal: 961ms\tremaining: 430ms\n",
            "691:\tlearn: 48.2109122\ttest: 65.3354536\tbest: 63.4882640 (69)\ttotal: 967ms\tremaining: 430ms\n",
            "692:\tlearn: 48.2079494\ttest: 65.3340445\tbest: 63.4882640 (69)\ttotal: 968ms\tremaining: 429ms\n",
            "693:\tlearn: 48.2056105\ttest: 65.3329849\tbest: 63.4882640 (69)\ttotal: 975ms\tremaining: 430ms\n",
            "694:\tlearn: 48.2037937\ttest: 65.3409503\tbest: 63.4882640 (69)\ttotal: 986ms\tremaining: 433ms\n",
            "695:\tlearn: 48.2014787\ttest: 65.3427070\tbest: 63.4882640 (69)\ttotal: 988ms\tremaining: 431ms\n",
            "696:\tlearn: 48.1985174\ttest: 65.3438891\tbest: 63.4882640 (69)\ttotal: 989ms\tremaining: 430ms\n",
            "697:\tlearn: 48.1981610\ttest: 65.3441123\tbest: 63.4882640 (69)\ttotal: 990ms\tremaining: 428ms\n",
            "698:\tlearn: 48.1973220\ttest: 65.3437412\tbest: 63.4882640 (69)\ttotal: 991ms\tremaining: 427ms\n",
            "699:\tlearn: 48.1970269\ttest: 65.3433392\tbest: 63.4882640 (69)\ttotal: 992ms\tremaining: 425ms\n",
            "700:\tlearn: 48.1944906\ttest: 65.3448217\tbest: 63.4882640 (69)\ttotal: 993ms\tremaining: 423ms\n",
            "701:\tlearn: 48.1918304\ttest: 65.3435071\tbest: 63.4882640 (69)\ttotal: 993ms\tremaining: 422ms\n",
            "702:\tlearn: 48.1901960\ttest: 65.3413762\tbest: 63.4882640 (69)\ttotal: 994ms\tremaining: 420ms\n",
            "703:\tlearn: 48.1898973\ttest: 65.3416925\tbest: 63.4882640 (69)\ttotal: 995ms\tremaining: 418ms\n",
            "704:\tlearn: 48.1896851\ttest: 65.3423190\tbest: 63.4882640 (69)\ttotal: 996ms\tremaining: 417ms\n",
            "705:\tlearn: 48.1858072\ttest: 65.3451946\tbest: 63.4882640 (69)\ttotal: 997ms\tremaining: 415ms\n",
            "706:\tlearn: 48.1856019\ttest: 65.3451020\tbest: 63.4882640 (69)\ttotal: 998ms\tremaining: 413ms\n",
            "707:\tlearn: 48.1848538\ttest: 65.3463144\tbest: 63.4882640 (69)\ttotal: 998ms\tremaining: 412ms\n",
            "708:\tlearn: 48.1818766\ttest: 65.3442692\tbest: 63.4882640 (69)\ttotal: 999ms\tremaining: 410ms\n",
            "709:\tlearn: 48.1790951\ttest: 65.3489462\tbest: 63.4882640 (69)\ttotal: 1000ms\tremaining: 408ms\n",
            "710:\tlearn: 48.1782801\ttest: 65.3524968\tbest: 63.4882640 (69)\ttotal: 1s\tremaining: 407ms\n",
            "711:\tlearn: 48.1782157\ttest: 65.3529165\tbest: 63.4882640 (69)\ttotal: 1s\tremaining: 405ms\n",
            "712:\tlearn: 48.1723524\ttest: 65.3542176\tbest: 63.4882640 (69)\ttotal: 1s\tremaining: 403ms\n",
            "713:\tlearn: 48.1715828\ttest: 65.3565501\tbest: 63.4882640 (69)\ttotal: 1s\tremaining: 402ms\n",
            "714:\tlearn: 48.1711446\ttest: 65.3564412\tbest: 63.4882640 (69)\ttotal: 1s\tremaining: 400ms\n",
            "715:\tlearn: 48.1692540\ttest: 65.3570391\tbest: 63.4882640 (69)\ttotal: 1s\tremaining: 399ms\n",
            "716:\tlearn: 48.1654229\ttest: 65.3612852\tbest: 63.4882640 (69)\ttotal: 1s\tremaining: 397ms\n",
            "717:\tlearn: 48.1623396\ttest: 65.3641457\tbest: 63.4882640 (69)\ttotal: 1.01s\tremaining: 395ms\n",
            "718:\tlearn: 48.1622596\ttest: 65.3641646\tbest: 63.4882640 (69)\ttotal: 1.01s\tremaining: 394ms\n",
            "719:\tlearn: 48.1595648\ttest: 65.3645061\tbest: 63.4882640 (69)\ttotal: 1.01s\tremaining: 392ms\n",
            "720:\tlearn: 48.1537403\ttest: 65.3685176\tbest: 63.4882640 (69)\ttotal: 1.01s\tremaining: 390ms\n",
            "721:\tlearn: 48.1526711\ttest: 65.3679031\tbest: 63.4882640 (69)\ttotal: 1.01s\tremaining: 389ms\n",
            "722:\tlearn: 48.1505335\ttest: 65.3685373\tbest: 63.4882640 (69)\ttotal: 1.01s\tremaining: 387ms\n",
            "723:\tlearn: 48.1491756\ttest: 65.3684663\tbest: 63.4882640 (69)\ttotal: 1.01s\tremaining: 386ms\n",
            "724:\tlearn: 48.1462944\ttest: 65.3740814\tbest: 63.4882640 (69)\ttotal: 1.01s\tremaining: 384ms\n",
            "725:\tlearn: 48.1459137\ttest: 65.3755052\tbest: 63.4882640 (69)\ttotal: 1.01s\tremaining: 382ms\n",
            "726:\tlearn: 48.1435067\ttest: 65.3721519\tbest: 63.4882640 (69)\ttotal: 1.01s\tremaining: 381ms\n",
            "727:\tlearn: 48.1427400\ttest: 65.3728912\tbest: 63.4882640 (69)\ttotal: 1.01s\tremaining: 379ms\n",
            "728:\tlearn: 48.1396964\ttest: 65.3739777\tbest: 63.4882640 (69)\ttotal: 1.01s\tremaining: 378ms\n",
            "729:\tlearn: 48.1377894\ttest: 65.3765371\tbest: 63.4882640 (69)\ttotal: 1.02s\tremaining: 376ms\n",
            "730:\tlearn: 48.1358023\ttest: 65.3802429\tbest: 63.4882640 (69)\ttotal: 1.02s\tremaining: 374ms\n",
            "731:\tlearn: 48.1321489\ttest: 65.3792899\tbest: 63.4882640 (69)\ttotal: 1.02s\tremaining: 373ms\n",
            "732:\tlearn: 48.1301309\ttest: 65.3823029\tbest: 63.4882640 (69)\ttotal: 1.02s\tremaining: 371ms\n",
            "733:\tlearn: 48.1286893\ttest: 65.3917034\tbest: 63.4882640 (69)\ttotal: 1.02s\tremaining: 370ms\n",
            "734:\tlearn: 48.1262423\ttest: 65.3926865\tbest: 63.4882640 (69)\ttotal: 1.02s\tremaining: 368ms\n",
            "735:\tlearn: 48.1254069\ttest: 65.3944310\tbest: 63.4882640 (69)\ttotal: 1.02s\tremaining: 366ms\n",
            "736:\tlearn: 48.1244878\ttest: 65.3939453\tbest: 63.4882640 (69)\ttotal: 1.02s\tremaining: 365ms\n",
            "737:\tlearn: 48.1236693\ttest: 65.3916145\tbest: 63.4882640 (69)\ttotal: 1.02s\tremaining: 363ms\n",
            "738:\tlearn: 48.1225646\ttest: 65.3971485\tbest: 63.4882640 (69)\ttotal: 1.02s\tremaining: 362ms\n",
            "739:\tlearn: 48.1217426\ttest: 65.3976594\tbest: 63.4882640 (69)\ttotal: 1.02s\tremaining: 360ms\n",
            "740:\tlearn: 48.1204936\ttest: 65.4004611\tbest: 63.4882640 (69)\ttotal: 1.02s\tremaining: 358ms\n",
            "741:\tlearn: 48.1194670\ttest: 65.4081983\tbest: 63.4882640 (69)\ttotal: 1.03s\tremaining: 357ms\n",
            "742:\tlearn: 48.1177653\ttest: 65.4156730\tbest: 63.4882640 (69)\ttotal: 1.03s\tremaining: 355ms\n",
            "743:\tlearn: 48.1165726\ttest: 65.4111919\tbest: 63.4882640 (69)\ttotal: 1.03s\tremaining: 354ms\n",
            "744:\tlearn: 48.1165039\ttest: 65.4111925\tbest: 63.4882640 (69)\ttotal: 1.03s\tremaining: 352ms\n",
            "745:\tlearn: 48.1144327\ttest: 65.4104634\tbest: 63.4882640 (69)\ttotal: 1.03s\tremaining: 351ms\n",
            "746:\tlearn: 48.1121856\ttest: 65.4104549\tbest: 63.4882640 (69)\ttotal: 1.03s\tremaining: 349ms\n",
            "747:\tlearn: 48.1106503\ttest: 65.4167816\tbest: 63.4882640 (69)\ttotal: 1.03s\tremaining: 347ms\n",
            "748:\tlearn: 48.1101558\ttest: 65.4181922\tbest: 63.4882640 (69)\ttotal: 1.03s\tremaining: 346ms\n",
            "749:\tlearn: 48.1098693\ttest: 65.4182272\tbest: 63.4882640 (69)\ttotal: 1.03s\tremaining: 344ms\n",
            "750:\tlearn: 48.1093982\ttest: 65.4177111\tbest: 63.4882640 (69)\ttotal: 1.03s\tremaining: 343ms\n",
            "751:\tlearn: 48.1093249\ttest: 65.4182353\tbest: 63.4882640 (69)\ttotal: 1.03s\tremaining: 341ms\n",
            "752:\tlearn: 48.1064507\ttest: 65.4214144\tbest: 63.4882640 (69)\ttotal: 1.03s\tremaining: 340ms\n",
            "753:\tlearn: 48.1057415\ttest: 65.4212420\tbest: 63.4882640 (69)\ttotal: 1.04s\tremaining: 338ms\n",
            "754:\tlearn: 48.1034977\ttest: 65.4280797\tbest: 63.4882640 (69)\ttotal: 1.04s\tremaining: 337ms\n",
            "755:\tlearn: 48.1032599\ttest: 65.4285353\tbest: 63.4882640 (69)\ttotal: 1.04s\tremaining: 335ms\n",
            "756:\tlearn: 48.1022343\ttest: 65.4337861\tbest: 63.4882640 (69)\ttotal: 1.04s\tremaining: 334ms\n",
            "757:\tlearn: 48.1005086\ttest: 65.4307966\tbest: 63.4882640 (69)\ttotal: 1.04s\tremaining: 332ms\n",
            "758:\tlearn: 48.0975154\ttest: 65.4279335\tbest: 63.4882640 (69)\ttotal: 1.04s\tremaining: 331ms\n",
            "759:\tlearn: 48.0967517\ttest: 65.4293698\tbest: 63.4882640 (69)\ttotal: 1.04s\tremaining: 329ms\n",
            "760:\tlearn: 48.0955881\ttest: 65.4288560\tbest: 63.4882640 (69)\ttotal: 1.04s\tremaining: 327ms\n",
            "761:\tlearn: 48.0948273\ttest: 65.4302124\tbest: 63.4882640 (69)\ttotal: 1.04s\tremaining: 326ms\n",
            "762:\tlearn: 48.0921635\ttest: 65.4306684\tbest: 63.4882640 (69)\ttotal: 1.04s\tremaining: 324ms\n",
            "763:\tlearn: 48.0899043\ttest: 65.4354420\tbest: 63.4882640 (69)\ttotal: 1.04s\tremaining: 323ms\n",
            "764:\tlearn: 48.0880981\ttest: 65.4369288\tbest: 63.4882640 (69)\ttotal: 1.04s\tremaining: 321ms\n",
            "765:\tlearn: 48.0880484\ttest: 65.4372517\tbest: 63.4882640 (69)\ttotal: 1.05s\tremaining: 320ms\n",
            "766:\tlearn: 48.0863148\ttest: 65.4376743\tbest: 63.4882640 (69)\ttotal: 1.05s\tremaining: 318ms\n",
            "767:\tlearn: 48.0819349\ttest: 65.4308758\tbest: 63.4882640 (69)\ttotal: 1.05s\tremaining: 317ms\n",
            "768:\tlearn: 48.0801344\ttest: 65.4308484\tbest: 63.4882640 (69)\ttotal: 1.05s\tremaining: 315ms\n",
            "769:\tlearn: 48.0751560\ttest: 65.4323723\tbest: 63.4882640 (69)\ttotal: 1.05s\tremaining: 314ms\n",
            "770:\tlearn: 48.0704479\ttest: 65.4368168\tbest: 63.4882640 (69)\ttotal: 1.05s\tremaining: 312ms\n",
            "771:\tlearn: 48.0683882\ttest: 65.4376000\tbest: 63.4882640 (69)\ttotal: 1.05s\tremaining: 311ms\n",
            "772:\tlearn: 48.0681556\ttest: 65.4376001\tbest: 63.4882640 (69)\ttotal: 1.05s\tremaining: 309ms\n",
            "773:\tlearn: 48.0655557\ttest: 65.4377278\tbest: 63.4882640 (69)\ttotal: 1.05s\tremaining: 308ms\n",
            "774:\tlearn: 48.0647733\ttest: 65.4430279\tbest: 63.4882640 (69)\ttotal: 1.05s\tremaining: 306ms\n",
            "775:\tlearn: 48.0635791\ttest: 65.4479275\tbest: 63.4882640 (69)\ttotal: 1.05s\tremaining: 304ms\n",
            "776:\tlearn: 48.0618837\ttest: 65.4497377\tbest: 63.4882640 (69)\ttotal: 1.05s\tremaining: 303ms\n",
            "777:\tlearn: 48.0591525\ttest: 65.4514500\tbest: 63.4882640 (69)\ttotal: 1.06s\tremaining: 301ms\n",
            "778:\tlearn: 48.0587544\ttest: 65.4534625\tbest: 63.4882640 (69)\ttotal: 1.06s\tremaining: 300ms\n",
            "779:\tlearn: 48.0577813\ttest: 65.4560704\tbest: 63.4882640 (69)\ttotal: 1.06s\tremaining: 298ms\n",
            "780:\tlearn: 48.0562590\ttest: 65.4585846\tbest: 63.4882640 (69)\ttotal: 1.06s\tremaining: 297ms\n",
            "781:\tlearn: 48.0554387\ttest: 65.4614341\tbest: 63.4882640 (69)\ttotal: 1.06s\tremaining: 295ms\n",
            "782:\tlearn: 48.0553313\ttest: 65.4617111\tbest: 63.4882640 (69)\ttotal: 1.06s\tremaining: 294ms\n",
            "783:\tlearn: 48.0546303\ttest: 65.4598542\tbest: 63.4882640 (69)\ttotal: 1.06s\tremaining: 292ms\n",
            "784:\tlearn: 48.0533598\ttest: 65.4653398\tbest: 63.4882640 (69)\ttotal: 1.06s\tremaining: 291ms\n",
            "785:\tlearn: 48.0532071\ttest: 65.4649508\tbest: 63.4882640 (69)\ttotal: 1.06s\tremaining: 289ms\n",
            "786:\tlearn: 48.0504644\ttest: 65.4684560\tbest: 63.4882640 (69)\ttotal: 1.06s\tremaining: 288ms\n",
            "787:\tlearn: 48.0497002\ttest: 65.4693403\tbest: 63.4882640 (69)\ttotal: 1.06s\tremaining: 286ms\n",
            "788:\tlearn: 48.0457443\ttest: 65.4696936\tbest: 63.4882640 (69)\ttotal: 1.06s\tremaining: 285ms\n",
            "789:\tlearn: 48.0447465\ttest: 65.4714973\tbest: 63.4882640 (69)\ttotal: 1.06s\tremaining: 283ms\n",
            "790:\tlearn: 48.0442333\ttest: 65.4718784\tbest: 63.4882640 (69)\ttotal: 1.07s\tremaining: 282ms\n",
            "791:\tlearn: 48.0422719\ttest: 65.4722420\tbest: 63.4882640 (69)\ttotal: 1.07s\tremaining: 281ms\n",
            "792:\tlearn: 48.0412694\ttest: 65.4740971\tbest: 63.4882640 (69)\ttotal: 1.07s\tremaining: 280ms\n",
            "793:\tlearn: 48.0388835\ttest: 65.4802940\tbest: 63.4882640 (69)\ttotal: 1.07s\tremaining: 279ms\n",
            "794:\tlearn: 48.0383386\ttest: 65.4808906\tbest: 63.4882640 (69)\ttotal: 1.07s\tremaining: 277ms\n",
            "795:\tlearn: 48.0356046\ttest: 65.4817670\tbest: 63.4882640 (69)\ttotal: 1.08s\tremaining: 276ms\n",
            "796:\tlearn: 48.0325598\ttest: 65.4832068\tbest: 63.4882640 (69)\ttotal: 1.08s\tremaining: 275ms\n",
            "797:\tlearn: 48.0289736\ttest: 65.4783426\tbest: 63.4882640 (69)\ttotal: 1.08s\tremaining: 274ms\n",
            "798:\tlearn: 48.0245558\ttest: 65.4801820\tbest: 63.4882640 (69)\ttotal: 1.08s\tremaining: 273ms\n",
            "799:\tlearn: 48.0205090\ttest: 65.4828217\tbest: 63.4882640 (69)\ttotal: 1.08s\tremaining: 271ms\n",
            "800:\tlearn: 48.0163017\ttest: 65.4775267\tbest: 63.4882640 (69)\ttotal: 1.09s\tremaining: 270ms\n",
            "801:\tlearn: 48.0161398\ttest: 65.4779193\tbest: 63.4882640 (69)\ttotal: 1.09s\tremaining: 269ms\n",
            "802:\tlearn: 48.0129865\ttest: 65.4769548\tbest: 63.4882640 (69)\ttotal: 1.09s\tremaining: 268ms\n",
            "803:\tlearn: 48.0129232\ttest: 65.4770480\tbest: 63.4882640 (69)\ttotal: 1.09s\tremaining: 266ms\n",
            "804:\tlearn: 48.0099169\ttest: 65.4781661\tbest: 63.4882640 (69)\ttotal: 1.09s\tremaining: 265ms\n",
            "805:\tlearn: 48.0084800\ttest: 65.4805068\tbest: 63.4882640 (69)\ttotal: 1.1s\tremaining: 264ms\n",
            "806:\tlearn: 48.0064495\ttest: 65.4865312\tbest: 63.4882640 (69)\ttotal: 1.1s\tremaining: 263ms\n",
            "807:\tlearn: 48.0036597\ttest: 65.4845529\tbest: 63.4882640 (69)\ttotal: 1.1s\tremaining: 261ms\n",
            "808:\tlearn: 48.0025079\ttest: 65.4909973\tbest: 63.4882640 (69)\ttotal: 1.1s\tremaining: 260ms\n",
            "809:\tlearn: 48.0024900\ttest: 65.4907988\tbest: 63.4882640 (69)\ttotal: 1.1s\tremaining: 259ms\n",
            "810:\tlearn: 48.0017266\ttest: 65.4905899\tbest: 63.4882640 (69)\ttotal: 1.11s\tremaining: 258ms\n",
            "811:\tlearn: 48.0000293\ttest: 65.4941112\tbest: 63.4882640 (69)\ttotal: 1.11s\tremaining: 257ms\n",
            "812:\tlearn: 47.9973146\ttest: 65.4930288\tbest: 63.4882640 (69)\ttotal: 1.11s\tremaining: 255ms\n",
            "813:\tlearn: 47.9947902\ttest: 65.4986386\tbest: 63.4882640 (69)\ttotal: 1.11s\tremaining: 254ms\n",
            "814:\tlearn: 47.9924149\ttest: 65.5092566\tbest: 63.4882640 (69)\ttotal: 1.11s\tremaining: 252ms\n",
            "815:\tlearn: 47.9917994\ttest: 65.5105250\tbest: 63.4882640 (69)\ttotal: 1.11s\tremaining: 251ms\n",
            "816:\tlearn: 47.9917777\ttest: 65.5103808\tbest: 63.4882640 (69)\ttotal: 1.11s\tremaining: 249ms\n",
            "817:\tlearn: 47.9886313\ttest: 65.5091863\tbest: 63.4882640 (69)\ttotal: 1.11s\tremaining: 248ms\n",
            "818:\tlearn: 47.9863776\ttest: 65.5082437\tbest: 63.4882640 (69)\ttotal: 1.11s\tremaining: 246ms\n",
            "819:\tlearn: 47.9852040\ttest: 65.5077611\tbest: 63.4882640 (69)\ttotal: 1.11s\tremaining: 245ms\n",
            "820:\tlearn: 47.9823186\ttest: 65.5094465\tbest: 63.4882640 (69)\ttotal: 1.12s\tremaining: 243ms\n",
            "821:\tlearn: 47.9819064\ttest: 65.5122594\tbest: 63.4882640 (69)\ttotal: 1.12s\tremaining: 242ms\n",
            "822:\tlearn: 47.9802252\ttest: 65.5181241\tbest: 63.4882640 (69)\ttotal: 1.12s\tremaining: 240ms\n",
            "823:\tlearn: 47.9773403\ttest: 65.5178511\tbest: 63.4882640 (69)\ttotal: 1.12s\tremaining: 239ms\n",
            "824:\tlearn: 47.9754533\ttest: 65.5146277\tbest: 63.4882640 (69)\ttotal: 1.12s\tremaining: 238ms\n",
            "825:\tlearn: 47.9744721\ttest: 65.5167076\tbest: 63.4882640 (69)\ttotal: 1.12s\tremaining: 236ms\n",
            "826:\tlearn: 47.9730226\ttest: 65.5207316\tbest: 63.4882640 (69)\ttotal: 1.12s\tremaining: 235ms\n",
            "827:\tlearn: 47.9727513\ttest: 65.5212168\tbest: 63.4882640 (69)\ttotal: 1.12s\tremaining: 233ms\n",
            "828:\tlearn: 47.9688099\ttest: 65.5248730\tbest: 63.4882640 (69)\ttotal: 1.12s\tremaining: 232ms\n",
            "829:\tlearn: 47.9664536\ttest: 65.5322860\tbest: 63.4882640 (69)\ttotal: 1.13s\tremaining: 230ms\n",
            "830:\tlearn: 47.9646637\ttest: 65.5296129\tbest: 63.4882640 (69)\ttotal: 1.13s\tremaining: 229ms\n",
            "831:\tlearn: 47.9635539\ttest: 65.5329664\tbest: 63.4882640 (69)\ttotal: 1.13s\tremaining: 228ms\n",
            "832:\tlearn: 47.9613436\ttest: 65.5432779\tbest: 63.4882640 (69)\ttotal: 1.13s\tremaining: 226ms\n",
            "833:\tlearn: 47.9600048\ttest: 65.5440964\tbest: 63.4882640 (69)\ttotal: 1.13s\tremaining: 225ms\n",
            "834:\tlearn: 47.9588694\ttest: 65.5488961\tbest: 63.4882640 (69)\ttotal: 1.13s\tremaining: 223ms\n",
            "835:\tlearn: 47.9582197\ttest: 65.5538233\tbest: 63.4882640 (69)\ttotal: 1.13s\tremaining: 222ms\n",
            "836:\tlearn: 47.9558159\ttest: 65.5510859\tbest: 63.4882640 (69)\ttotal: 1.13s\tremaining: 220ms\n",
            "837:\tlearn: 47.9529119\ttest: 65.5502931\tbest: 63.4882640 (69)\ttotal: 1.13s\tremaining: 219ms\n",
            "838:\tlearn: 47.9518122\ttest: 65.5495602\tbest: 63.4882640 (69)\ttotal: 1.13s\tremaining: 218ms\n",
            "839:\tlearn: 47.9504619\ttest: 65.5508018\tbest: 63.4882640 (69)\ttotal: 1.13s\tremaining: 216ms\n",
            "840:\tlearn: 47.9488065\ttest: 65.5498943\tbest: 63.4882640 (69)\ttotal: 1.14s\tremaining: 215ms\n",
            "841:\tlearn: 47.9446616\ttest: 65.5560414\tbest: 63.4882640 (69)\ttotal: 1.14s\tremaining: 213ms\n",
            "842:\tlearn: 47.9436496\ttest: 65.5554586\tbest: 63.4882640 (69)\ttotal: 1.14s\tremaining: 212ms\n",
            "843:\tlearn: 47.9414958\ttest: 65.5565820\tbest: 63.4882640 (69)\ttotal: 1.14s\tremaining: 211ms\n",
            "844:\tlearn: 47.9407174\ttest: 65.5562953\tbest: 63.4882640 (69)\ttotal: 1.14s\tremaining: 209ms\n",
            "845:\tlearn: 47.9388914\ttest: 65.5544865\tbest: 63.4882640 (69)\ttotal: 1.14s\tremaining: 208ms\n",
            "846:\tlearn: 47.9383619\ttest: 65.5555059\tbest: 63.4882640 (69)\ttotal: 1.14s\tremaining: 206ms\n",
            "847:\tlearn: 47.9376404\ttest: 65.5586497\tbest: 63.4882640 (69)\ttotal: 1.14s\tremaining: 205ms\n",
            "848:\tlearn: 47.9354071\ttest: 65.5556640\tbest: 63.4882640 (69)\ttotal: 1.14s\tremaining: 204ms\n",
            "849:\tlearn: 47.9351921\ttest: 65.5552483\tbest: 63.4882640 (69)\ttotal: 1.15s\tremaining: 202ms\n",
            "850:\tlearn: 47.9345590\ttest: 65.5556161\tbest: 63.4882640 (69)\ttotal: 1.15s\tremaining: 201ms\n",
            "851:\tlearn: 47.9338406\ttest: 65.5569020\tbest: 63.4882640 (69)\ttotal: 1.15s\tremaining: 199ms\n",
            "852:\tlearn: 47.9309180\ttest: 65.5550265\tbest: 63.4882640 (69)\ttotal: 1.15s\tremaining: 198ms\n",
            "853:\tlearn: 47.9296445\ttest: 65.5645787\tbest: 63.4882640 (69)\ttotal: 1.15s\tremaining: 197ms\n",
            "854:\tlearn: 47.9279923\ttest: 65.5719328\tbest: 63.4882640 (69)\ttotal: 1.15s\tremaining: 195ms\n",
            "855:\tlearn: 47.9260106\ttest: 65.5724329\tbest: 63.4882640 (69)\ttotal: 1.15s\tremaining: 194ms\n",
            "856:\tlearn: 47.9255472\ttest: 65.5718655\tbest: 63.4882640 (69)\ttotal: 1.15s\tremaining: 192ms\n",
            "857:\tlearn: 47.9226404\ttest: 65.5664912\tbest: 63.4882640 (69)\ttotal: 1.15s\tremaining: 191ms\n",
            "858:\tlearn: 47.9222342\ttest: 65.5664260\tbest: 63.4882640 (69)\ttotal: 1.16s\tremaining: 190ms\n",
            "859:\tlearn: 47.9191107\ttest: 65.5689246\tbest: 63.4882640 (69)\ttotal: 1.16s\tremaining: 188ms\n",
            "860:\tlearn: 47.9174145\ttest: 65.5652514\tbest: 63.4882640 (69)\ttotal: 1.16s\tremaining: 187ms\n",
            "861:\tlearn: 47.9151485\ttest: 65.5659232\tbest: 63.4882640 (69)\ttotal: 1.16s\tremaining: 186ms\n",
            "862:\tlearn: 47.9126189\ttest: 65.5644363\tbest: 63.4882640 (69)\ttotal: 1.16s\tremaining: 184ms\n",
            "863:\tlearn: 47.9117253\ttest: 65.5704109\tbest: 63.4882640 (69)\ttotal: 1.16s\tremaining: 183ms\n",
            "864:\tlearn: 47.9096259\ttest: 65.5731273\tbest: 63.4882640 (69)\ttotal: 1.16s\tremaining: 181ms\n",
            "865:\tlearn: 47.9084113\ttest: 65.5739553\tbest: 63.4882640 (69)\ttotal: 1.16s\tremaining: 180ms\n",
            "866:\tlearn: 47.9076226\ttest: 65.5787198\tbest: 63.4882640 (69)\ttotal: 1.16s\tremaining: 178ms\n",
            "867:\tlearn: 47.9072613\ttest: 65.5795925\tbest: 63.4882640 (69)\ttotal: 1.16s\tremaining: 177ms\n",
            "868:\tlearn: 47.9053246\ttest: 65.5802220\tbest: 63.4882640 (69)\ttotal: 1.16s\tremaining: 175ms\n",
            "869:\tlearn: 47.9040100\ttest: 65.5799436\tbest: 63.4882640 (69)\ttotal: 1.16s\tremaining: 174ms\n",
            "870:\tlearn: 47.9017450\ttest: 65.5782804\tbest: 63.4882640 (69)\ttotal: 1.17s\tremaining: 173ms\n",
            "871:\tlearn: 47.9009168\ttest: 65.5829290\tbest: 63.4882640 (69)\ttotal: 1.17s\tremaining: 171ms\n",
            "872:\tlearn: 47.8985949\ttest: 65.5859296\tbest: 63.4882640 (69)\ttotal: 1.17s\tremaining: 170ms\n",
            "873:\tlearn: 47.8969149\ttest: 65.5887650\tbest: 63.4882640 (69)\ttotal: 1.17s\tremaining: 168ms\n",
            "874:\tlearn: 47.8944213\ttest: 65.5927927\tbest: 63.4882640 (69)\ttotal: 1.17s\tremaining: 167ms\n",
            "875:\tlearn: 47.8911338\ttest: 65.5961412\tbest: 63.4882640 (69)\ttotal: 1.17s\tremaining: 166ms\n",
            "876:\tlearn: 47.8898873\ttest: 65.5985274\tbest: 63.4882640 (69)\ttotal: 1.17s\tremaining: 164ms\n",
            "877:\tlearn: 47.8882177\ttest: 65.5997019\tbest: 63.4882640 (69)\ttotal: 1.17s\tremaining: 163ms\n",
            "878:\tlearn: 47.8881822\ttest: 65.5995429\tbest: 63.4882640 (69)\ttotal: 1.17s\tremaining: 161ms\n",
            "879:\tlearn: 47.8863755\ttest: 65.6004878\tbest: 63.4882640 (69)\ttotal: 1.17s\tremaining: 160ms\n",
            "880:\tlearn: 47.8861880\ttest: 65.6020715\tbest: 63.4882640 (69)\ttotal: 1.17s\tremaining: 159ms\n",
            "881:\tlearn: 47.8859456\ttest: 65.6024913\tbest: 63.4882640 (69)\ttotal: 1.17s\tremaining: 157ms\n",
            "882:\tlearn: 47.8847385\ttest: 65.6058376\tbest: 63.4882640 (69)\ttotal: 1.18s\tremaining: 156ms\n",
            "883:\tlearn: 47.8826611\ttest: 65.6107903\tbest: 63.4882640 (69)\ttotal: 1.18s\tremaining: 154ms\n",
            "884:\tlearn: 47.8813946\ttest: 65.6125965\tbest: 63.4882640 (69)\ttotal: 1.18s\tremaining: 153ms\n",
            "885:\tlearn: 47.8800290\ttest: 65.6143122\tbest: 63.4882640 (69)\ttotal: 1.18s\tremaining: 152ms\n",
            "886:\tlearn: 47.8788761\ttest: 65.6171155\tbest: 63.4882640 (69)\ttotal: 1.18s\tremaining: 150ms\n",
            "887:\tlearn: 47.8784341\ttest: 65.6191997\tbest: 63.4882640 (69)\ttotal: 1.18s\tremaining: 149ms\n",
            "888:\tlearn: 47.8770225\ttest: 65.6222218\tbest: 63.4882640 (69)\ttotal: 1.18s\tremaining: 147ms\n",
            "889:\tlearn: 47.8759975\ttest: 65.6258460\tbest: 63.4882640 (69)\ttotal: 1.18s\tremaining: 146ms\n",
            "890:\tlearn: 47.8752034\ttest: 65.6256665\tbest: 63.4882640 (69)\ttotal: 1.18s\tremaining: 145ms\n",
            "891:\tlearn: 47.8751702\ttest: 65.6255073\tbest: 63.4882640 (69)\ttotal: 1.18s\tremaining: 143ms\n",
            "892:\tlearn: 47.8745578\ttest: 65.6269322\tbest: 63.4882640 (69)\ttotal: 1.19s\tremaining: 142ms\n",
            "893:\tlearn: 47.8741968\ttest: 65.6261047\tbest: 63.4882640 (69)\ttotal: 1.19s\tremaining: 141ms\n",
            "894:\tlearn: 47.8738806\ttest: 65.6264795\tbest: 63.4882640 (69)\ttotal: 1.19s\tremaining: 139ms\n",
            "895:\tlearn: 47.8738125\ttest: 65.6267661\tbest: 63.4882640 (69)\ttotal: 1.19s\tremaining: 138ms\n",
            "896:\tlearn: 47.8723721\ttest: 65.6282341\tbest: 63.4882640 (69)\ttotal: 1.19s\tremaining: 137ms\n",
            "897:\tlearn: 47.8718006\ttest: 65.6308327\tbest: 63.4882640 (69)\ttotal: 1.19s\tremaining: 135ms\n",
            "898:\tlearn: 47.8710144\ttest: 65.6318677\tbest: 63.4882640 (69)\ttotal: 1.19s\tremaining: 134ms\n",
            "899:\tlearn: 47.8689155\ttest: 65.6297447\tbest: 63.4882640 (69)\ttotal: 1.19s\tremaining: 133ms\n",
            "900:\tlearn: 47.8679561\ttest: 65.6274345\tbest: 63.4882640 (69)\ttotal: 1.19s\tremaining: 131ms\n",
            "901:\tlearn: 47.8677305\ttest: 65.6273113\tbest: 63.4882640 (69)\ttotal: 1.2s\tremaining: 130ms\n",
            "902:\tlearn: 47.8648500\ttest: 65.6249741\tbest: 63.4882640 (69)\ttotal: 1.2s\tremaining: 128ms\n",
            "903:\tlearn: 47.8648082\ttest: 65.6251817\tbest: 63.4882640 (69)\ttotal: 1.2s\tremaining: 127ms\n",
            "904:\tlearn: 47.8647662\ttest: 65.6249930\tbest: 63.4882640 (69)\ttotal: 1.2s\tremaining: 126ms\n",
            "905:\tlearn: 47.8645543\ttest: 65.6247684\tbest: 63.4882640 (69)\ttotal: 1.2s\tremaining: 124ms\n",
            "906:\tlearn: 47.8642773\ttest: 65.6258280\tbest: 63.4882640 (69)\ttotal: 1.2s\tremaining: 123ms\n",
            "907:\tlearn: 47.8637987\ttest: 65.6251331\tbest: 63.4882640 (69)\ttotal: 1.2s\tremaining: 122ms\n",
            "908:\tlearn: 47.8619550\ttest: 65.6251320\tbest: 63.4882640 (69)\ttotal: 1.2s\tremaining: 120ms\n",
            "909:\tlearn: 47.8607055\ttest: 65.6262729\tbest: 63.4882640 (69)\ttotal: 1.2s\tremaining: 119ms\n",
            "910:\tlearn: 47.8584700\ttest: 65.6286519\tbest: 63.4882640 (69)\ttotal: 1.2s\tremaining: 118ms\n",
            "911:\tlearn: 47.8566556\ttest: 65.6296162\tbest: 63.4882640 (69)\ttotal: 1.2s\tremaining: 116ms\n",
            "912:\tlearn: 47.8561545\ttest: 65.6280120\tbest: 63.4882640 (69)\ttotal: 1.21s\tremaining: 115ms\n",
            "913:\tlearn: 47.8538626\ttest: 65.6293982\tbest: 63.4882640 (69)\ttotal: 1.21s\tremaining: 114ms\n",
            "914:\tlearn: 47.8520086\ttest: 65.6326324\tbest: 63.4882640 (69)\ttotal: 1.21s\tremaining: 112ms\n",
            "915:\tlearn: 47.8491638\ttest: 65.6352566\tbest: 63.4882640 (69)\ttotal: 1.21s\tremaining: 111ms\n",
            "916:\tlearn: 47.8485000\ttest: 65.6416300\tbest: 63.4882640 (69)\ttotal: 1.21s\tremaining: 110ms\n",
            "917:\tlearn: 47.8461006\ttest: 65.6504170\tbest: 63.4882640 (69)\ttotal: 1.21s\tremaining: 108ms\n",
            "918:\tlearn: 47.8451775\ttest: 65.6540052\tbest: 63.4882640 (69)\ttotal: 1.21s\tremaining: 107ms\n",
            "919:\tlearn: 47.8438177\ttest: 65.6546053\tbest: 63.4882640 (69)\ttotal: 1.21s\tremaining: 105ms\n",
            "920:\tlearn: 47.8428614\ttest: 65.6579192\tbest: 63.4882640 (69)\ttotal: 1.21s\tremaining: 104ms\n",
            "921:\tlearn: 47.8427286\ttest: 65.6573119\tbest: 63.4882640 (69)\ttotal: 1.21s\tremaining: 103ms\n",
            "922:\tlearn: 47.8408975\ttest: 65.6579086\tbest: 63.4882640 (69)\ttotal: 1.22s\tremaining: 101ms\n",
            "923:\tlearn: 47.8389025\ttest: 65.6579726\tbest: 63.4882640 (69)\ttotal: 1.22s\tremaining: 100ms\n",
            "924:\tlearn: 47.8368861\ttest: 65.6655534\tbest: 63.4882640 (69)\ttotal: 1.22s\tremaining: 98.8ms\n",
            "925:\tlearn: 47.8365223\ttest: 65.6693901\tbest: 63.4882640 (69)\ttotal: 1.22s\tremaining: 97.5ms\n",
            "926:\tlearn: 47.8357243\ttest: 65.6733905\tbest: 63.4882640 (69)\ttotal: 1.22s\tremaining: 96.2ms\n",
            "927:\tlearn: 47.8353305\ttest: 65.6738999\tbest: 63.4882640 (69)\ttotal: 1.22s\tremaining: 94.8ms\n",
            "928:\tlearn: 47.8347998\ttest: 65.6773283\tbest: 63.4882640 (69)\ttotal: 1.22s\tremaining: 93.5ms\n",
            "929:\tlearn: 47.8328349\ttest: 65.6774147\tbest: 63.4882640 (69)\ttotal: 1.23s\tremaining: 92.5ms\n",
            "930:\tlearn: 47.8326596\ttest: 65.6750826\tbest: 63.4882640 (69)\ttotal: 1.24s\tremaining: 91.5ms\n",
            "931:\tlearn: 47.8312438\ttest: 65.6761862\tbest: 63.4882640 (69)\ttotal: 1.24s\tremaining: 90.3ms\n",
            "932:\tlearn: 47.8297080\ttest: 65.6783245\tbest: 63.4882640 (69)\ttotal: 1.24s\tremaining: 89ms\n",
            "933:\tlearn: 47.8296744\ttest: 65.6787486\tbest: 63.4882640 (69)\ttotal: 1.24s\tremaining: 87.7ms\n",
            "934:\tlearn: 47.8288615\ttest: 65.6851135\tbest: 63.4882640 (69)\ttotal: 1.24s\tremaining: 86.4ms\n",
            "935:\tlearn: 47.8288351\ttest: 65.6852798\tbest: 63.4882640 (69)\ttotal: 1.24s\tremaining: 85ms\n",
            "936:\tlearn: 47.8281551\ttest: 65.6868931\tbest: 63.4882640 (69)\ttotal: 1.24s\tremaining: 83.7ms\n",
            "937:\tlearn: 47.8268589\ttest: 65.6869733\tbest: 63.4882640 (69)\ttotal: 1.25s\tremaining: 82.3ms\n",
            "938:\tlearn: 47.8260011\ttest: 65.6919886\tbest: 63.4882640 (69)\ttotal: 1.25s\tremaining: 81ms\n",
            "939:\tlearn: 47.8249205\ttest: 65.6952322\tbest: 63.4882640 (69)\ttotal: 1.25s\tremaining: 79.6ms\n",
            "940:\tlearn: 47.8244798\ttest: 65.6961149\tbest: 63.4882640 (69)\ttotal: 1.25s\tremaining: 78.3ms\n",
            "941:\tlearn: 47.8234329\ttest: 65.6969169\tbest: 63.4882640 (69)\ttotal: 1.25s\tremaining: 76.9ms\n",
            "942:\tlearn: 47.8226259\ttest: 65.6961575\tbest: 63.4882640 (69)\ttotal: 1.25s\tremaining: 75.6ms\n",
            "943:\tlearn: 47.8195728\ttest: 65.6921716\tbest: 63.4882640 (69)\ttotal: 1.25s\tremaining: 74.2ms\n",
            "944:\tlearn: 47.8181105\ttest: 65.6931145\tbest: 63.4882640 (69)\ttotal: 1.25s\tremaining: 72.9ms\n",
            "945:\tlearn: 47.8169397\ttest: 65.6932678\tbest: 63.4882640 (69)\ttotal: 1.25s\tremaining: 71.5ms\n",
            "946:\tlearn: 47.8167751\ttest: 65.6929385\tbest: 63.4882640 (69)\ttotal: 1.25s\tremaining: 70.2ms\n",
            "947:\tlearn: 47.8158043\ttest: 65.6934056\tbest: 63.4882640 (69)\ttotal: 1.25s\tremaining: 68.8ms\n",
            "948:\tlearn: 47.8155100\ttest: 65.6951301\tbest: 63.4882640 (69)\ttotal: 1.26s\tremaining: 67.5ms\n",
            "949:\tlearn: 47.8138885\ttest: 65.6965242\tbest: 63.4882640 (69)\ttotal: 1.26s\tremaining: 66.2ms\n",
            "950:\tlearn: 47.8120536\ttest: 65.6974866\tbest: 63.4882640 (69)\ttotal: 1.26s\tremaining: 64.8ms\n",
            "951:\tlearn: 47.8099501\ttest: 65.7013005\tbest: 63.4882640 (69)\ttotal: 1.26s\tremaining: 63.5ms\n",
            "952:\tlearn: 47.8095078\ttest: 65.7031334\tbest: 63.4882640 (69)\ttotal: 1.26s\tremaining: 62.1ms\n",
            "953:\tlearn: 47.8085214\ttest: 65.7049477\tbest: 63.4882640 (69)\ttotal: 1.26s\tremaining: 60.8ms\n",
            "954:\tlearn: 47.8070480\ttest: 65.7077894\tbest: 63.4882640 (69)\ttotal: 1.26s\tremaining: 59.5ms\n",
            "955:\tlearn: 47.8062626\ttest: 65.7111365\tbest: 63.4882640 (69)\ttotal: 1.26s\tremaining: 58.1ms\n",
            "956:\tlearn: 47.8048234\ttest: 65.7129466\tbest: 63.4882640 (69)\ttotal: 1.26s\tremaining: 56.8ms\n",
            "957:\tlearn: 47.8046578\ttest: 65.7136671\tbest: 63.4882640 (69)\ttotal: 1.26s\tremaining: 55.5ms\n",
            "958:\tlearn: 47.8044653\ttest: 65.7139562\tbest: 63.4882640 (69)\ttotal: 1.27s\tremaining: 54.1ms\n",
            "959:\tlearn: 47.8028654\ttest: 65.7147293\tbest: 63.4882640 (69)\ttotal: 1.27s\tremaining: 52.8ms\n",
            "960:\tlearn: 47.8014821\ttest: 65.7215899\tbest: 63.4882640 (69)\ttotal: 1.27s\tremaining: 51.5ms\n",
            "961:\tlearn: 47.8000416\ttest: 65.7209598\tbest: 63.4882640 (69)\ttotal: 1.27s\tremaining: 50.1ms\n",
            "962:\tlearn: 47.7981985\ttest: 65.7182845\tbest: 63.4882640 (69)\ttotal: 1.27s\tremaining: 48.8ms\n",
            "963:\tlearn: 47.7977702\ttest: 65.7189836\tbest: 63.4882640 (69)\ttotal: 1.27s\tremaining: 47.5ms\n",
            "964:\tlearn: 47.7954400\ttest: 65.7229490\tbest: 63.4882640 (69)\ttotal: 1.27s\tremaining: 46.1ms\n",
            "965:\tlearn: 47.7942678\ttest: 65.7252240\tbest: 63.4882640 (69)\ttotal: 1.27s\tremaining: 44.8ms\n",
            "966:\tlearn: 47.7929839\ttest: 65.7267536\tbest: 63.4882640 (69)\ttotal: 1.27s\tremaining: 43.5ms\n",
            "967:\tlearn: 47.7924391\ttest: 65.7263257\tbest: 63.4882640 (69)\ttotal: 1.27s\tremaining: 42.2ms\n",
            "968:\tlearn: 47.7906946\ttest: 65.7297734\tbest: 63.4882640 (69)\ttotal: 1.28s\tremaining: 40.8ms\n",
            "969:\tlearn: 47.7886561\ttest: 65.7296566\tbest: 63.4882640 (69)\ttotal: 1.28s\tremaining: 39.5ms\n",
            "970:\tlearn: 47.7874898\ttest: 65.7326342\tbest: 63.4882640 (69)\ttotal: 1.28s\tremaining: 38.2ms\n",
            "971:\tlearn: 47.7855293\ttest: 65.7340317\tbest: 63.4882640 (69)\ttotal: 1.28s\tremaining: 36.8ms\n",
            "972:\tlearn: 47.7835685\ttest: 65.7369359\tbest: 63.4882640 (69)\ttotal: 1.28s\tremaining: 35.5ms\n",
            "973:\tlearn: 47.7835554\ttest: 65.7370490\tbest: 63.4882640 (69)\ttotal: 1.28s\tremaining: 34.2ms\n",
            "974:\tlearn: 47.7824243\ttest: 65.7366234\tbest: 63.4882640 (69)\ttotal: 1.28s\tremaining: 32.9ms\n",
            "975:\tlearn: 47.7809054\ttest: 65.7456321\tbest: 63.4882640 (69)\ttotal: 1.28s\tremaining: 31.5ms\n",
            "976:\tlearn: 47.7788608\ttest: 65.7453095\tbest: 63.4882640 (69)\ttotal: 1.28s\tremaining: 30.2ms\n",
            "977:\tlearn: 47.7770190\ttest: 65.7442919\tbest: 63.4882640 (69)\ttotal: 1.28s\tremaining: 28.9ms\n",
            "978:\tlearn: 47.7769677\ttest: 65.7448776\tbest: 63.4882640 (69)\ttotal: 1.28s\tremaining: 27.6ms\n",
            "979:\tlearn: 47.7766819\ttest: 65.7447234\tbest: 63.4882640 (69)\ttotal: 1.29s\tremaining: 26.3ms\n",
            "980:\tlearn: 47.7757649\ttest: 65.7443637\tbest: 63.4882640 (69)\ttotal: 1.29s\tremaining: 24.9ms\n",
            "981:\tlearn: 47.7756253\ttest: 65.7436675\tbest: 63.4882640 (69)\ttotal: 1.29s\tremaining: 23.6ms\n",
            "982:\tlearn: 47.7739269\ttest: 65.7427966\tbest: 63.4882640 (69)\ttotal: 1.29s\tremaining: 22.3ms\n",
            "983:\tlearn: 47.7717474\ttest: 65.7456254\tbest: 63.4882640 (69)\ttotal: 1.29s\tremaining: 21ms\n",
            "984:\tlearn: 47.7715596\ttest: 65.7455905\tbest: 63.4882640 (69)\ttotal: 1.29s\tremaining: 19.7ms\n",
            "985:\tlearn: 47.7715363\ttest: 65.7447071\tbest: 63.4882640 (69)\ttotal: 1.29s\tremaining: 18.4ms\n",
            "986:\tlearn: 47.7711145\ttest: 65.7444009\tbest: 63.4882640 (69)\ttotal: 1.29s\tremaining: 17ms\n",
            "987:\tlearn: 47.7709077\ttest: 65.7449226\tbest: 63.4882640 (69)\ttotal: 1.29s\tremaining: 15.7ms\n",
            "988:\tlearn: 47.7699557\ttest: 65.7507178\tbest: 63.4882640 (69)\ttotal: 1.29s\tremaining: 14.4ms\n",
            "989:\tlearn: 47.7682815\ttest: 65.7554105\tbest: 63.4882640 (69)\ttotal: 1.3s\tremaining: 13.1ms\n",
            "990:\tlearn: 47.7681849\ttest: 65.7561831\tbest: 63.4882640 (69)\ttotal: 1.3s\tremaining: 11.8ms\n",
            "991:\tlearn: 47.7681710\ttest: 65.7566478\tbest: 63.4882640 (69)\ttotal: 1.3s\tremaining: 10.5ms\n",
            "992:\tlearn: 47.7679889\ttest: 65.7569555\tbest: 63.4882640 (69)\ttotal: 1.3s\tremaining: 9.16ms\n",
            "993:\tlearn: 47.7660326\ttest: 65.7606999\tbest: 63.4882640 (69)\ttotal: 1.3s\tremaining: 7.85ms\n",
            "994:\tlearn: 47.7653407\ttest: 65.7599669\tbest: 63.4882640 (69)\ttotal: 1.3s\tremaining: 6.54ms\n",
            "995:\tlearn: 47.7650995\ttest: 65.7597597\tbest: 63.4882640 (69)\ttotal: 1.3s\tremaining: 5.23ms\n",
            "996:\tlearn: 47.7632123\ttest: 65.7607457\tbest: 63.4882640 (69)\ttotal: 1.3s\tremaining: 3.92ms\n",
            "997:\tlearn: 47.7624678\ttest: 65.7655327\tbest: 63.4882640 (69)\ttotal: 1.3s\tremaining: 2.61ms\n",
            "998:\tlearn: 47.7613091\ttest: 65.7649806\tbest: 63.4882640 (69)\ttotal: 1.3s\tremaining: 1.3ms\n",
            "999:\tlearn: 47.7612193\ttest: 65.7649906\tbest: 63.4882640 (69)\ttotal: 1.3s\tremaining: 0us\n",
            "\n",
            "bestTest = 63.488264\n",
            "bestIteration = 69\n",
            "\n",
            "Shrink model to first 70 iterations.\n"
          ]
        },
        {
          "output_type": "execute_result",
          "data": {
            "text/plain": [
              "<catboost.core.CatBoostRegressor at 0x7fd6da5c63d0>"
            ]
          },
          "metadata": {},
          "execution_count": 8
        }
      ]
    },
    {
      "cell_type": "code",
      "source": [
        "y_pred_catboost = reg_catm.predict(sc_X_test)"
      ],
      "metadata": {
        "id": "r0IC6IeWDRiY"
      },
      "execution_count": 9,
      "outputs": []
    },
    {
      "cell_type": "code",
      "source": [
        "X1=np.arange(0,len(Ytest))"
      ],
      "metadata": {
        "id": "59OZJWuAFnQT"
      },
      "execution_count": 10,
      "outputs": []
    },
    {
      "cell_type": "code",
      "source": [
        "# plot forecasts against actual outcomes\n",
        "fig, ax = plt.subplots(figsize = (10,7))\n",
        "ax.plot(Ytest,label = 'y_test')\n",
        "ax.plot(y_pred_catboost, color='red',label = 'y_pred')\n",
        "ax.legend()\n",
        "plt.ylabel('AQI Delhi',fontweight='bold')\n",
        "plt.xlabel('datapoints',fontweight='bold')\n",
        "plt.title('CAT Boost',fontweight='bold',fontsize=15)"
      ],
      "metadata": {
        "colab": {
          "base_uri": "https://localhost:8080/",
          "height": 478
        },
        "id": "nH6_jxiLLIwf",
        "outputId": "7093720b-31c1-4a94-f8d4-61d43d5a4f2a"
      },
      "execution_count": 11,
      "outputs": [
        {
          "output_type": "execute_result",
          "data": {
            "text/plain": [
              "Text(0.5, 1.0, 'CAT Boost')"
            ]
          },
          "metadata": {},
          "execution_count": 11
        },
        {
          "output_type": "display_data",
          "data": {
            "text/plain": [
              "<Figure size 720x504 with 1 Axes>"
            ],
            "image/png": "[encoded data removed]"
          },
          "metadata": {
            "needs_background": "light"
          }
        }
      ]
    },
    {
      "cell_type": "code",
      "source": [
        "from sklearn.metrics import explained_variance_score,mean_absolute_error,mean_squared_error,mean_absolute_percentage_error,median_absolute_error,r2_score\n",
        "\n",
        "print(\"R2 Score = \",r2_score(Ytest, y_pred_catboost))\n",
        "print(\"Variance Score = \",explained_variance_score(Ytest, y_pred_catboost))\n",
        "print(\"\\nMean Absolute Error (MAE) = \",mean_absolute_error(Ytest, y_pred_catboost))\n",
        "print(\"Mean Squared Error (MSE) = \",mean_squared_error(Ytest, y_pred_catboost))\n",
        "print(\"Root Mean Squared Error (RMSE) = \",mean_squared_error(Ytest, y_pred_catboost,squared=False))\n",
        "print(\"Mean Absolute Percentage Error (MAPE) = \",mean_absolute_percentage_error(Ytest, y_pred_catboost))\n",
        "print(\"Meadian Relative Absolute Error (MRAE) = \",median_absolute_error(Ytest, y_pred_catboost))"
      ],
      "metadata": {
        "colab": {
          "base_uri": "https://localhost:8080/"
        },
        "id": "tRWJvrtiMRkO",
        "outputId": "8a0072ac-cc66-4ca3-f201-ec3bc0ffe986"
      },
      "execution_count": 12,
      "outputs": [
        {
          "output_type": "stream",
          "name": "stdout",
          "text": [
            "R2 Score =  0.7167351908583527\n",
            "Variance Score =  0.8283919026385154\n",
            "\n",
            "Mean Absolute Error (MAE) =  51.989541785196714\n",
            "Mean Squared Error (MSE) =  4030.759665429428\n",
            "Root Mean Squared Error (RMSE) =  63.488263997603745\n",
            "Mean Absolute Percentage Error (MAPE) =  0.3242173101523997\n",
            "Meadian Relative Absolute Error (MRAE) =  46.36875620486444\n"
          ]
        }
      ]
    },
    {
      "cell_type": "code",
      "source": [
        "catboost_res=[r2_score(Ytest, y_pred_catboost),\n",
        "         explained_variance_score(Ytest, y_pred_catboost),\n",
        "         mean_absolute_error(Ytest, y_pred_catboost),\n",
        "         mean_absolute_percentage_error(Ytest, y_pred_catboost),\n",
        "         mean_squared_error(Ytest, y_pred_catboost,squared=False)]\n",
        "print(\"catboost_res =\",catboost_res)"
      ],
      "metadata": {
        "colab": {
          "base_uri": "https://localhost:8080/"
        },
        "id": "_e3ll1Ck5J0o",
        "outputId": "3e99aa8f-a378-42f9-aff9-cac731147677"
      },
      "execution_count": 13,
      "outputs": [
        {
          "output_type": "stream",
          "name": "stdout",
          "text": [
            "catboost_res = [0.7167351908583527, 0.8283919026385154, 51.989541785196714, 0.3242173101523997, 63.488263997603745]\n"
          ]
        }
      ]
    }
  ]
}